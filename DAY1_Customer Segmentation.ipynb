{
 "cells": [
  {
   "cell_type": "markdown",
   "metadata": {
    "id": "ZGqpltFeDOlM"
   },
   "source": [
    "# 고객 세분화 실습"
   ]
  },
  {
   "cell_type": "markdown",
   "metadata": {
    "id": "b5WJeaSGAXYl"
   },
   "source": [
    "## *1*. 환경 설정\n",
    "\n",
    "\n"
   ]
  },
  {
   "cell_type": "code",
   "execution_count": null,
   "metadata": {},
   "outputs": [],
   "source": [
    "# The save operation succeeded, but the notebook does not appear to be valid. The validation error was: 해결"
   ]
  },
  {
   "cell_type": "code",
   "execution_count": 3,
   "metadata": {},
   "outputs": [
    {
     "name": "stdout",
     "output_type": "stream",
     "text": [
      "Requirement already satisfied: nbformat in c:\\users\\miyoung\\anaconda3\\lib\\site-packages (5.7.0)\n",
      "Requirement already satisfied: fastjsonschema in c:\\users\\miyoung\\anaconda3\\lib\\site-packages (from nbformat) (2.15.1)\n",
      "Requirement already satisfied: traitlets>=5.1 in c:\\users\\miyoung\\anaconda3\\lib\\site-packages (from nbformat) (5.1.1)\n",
      "Requirement already satisfied: jupyter-core in c:\\users\\miyoung\\anaconda3\\lib\\site-packages (from nbformat) (4.9.2)\n",
      "Requirement already satisfied: jsonschema>=2.6 in c:\\users\\miyoung\\anaconda3\\lib\\site-packages (from nbformat) (4.4.0)\n",
      "Requirement already satisfied: pyrsistent!=0.17.0,!=0.17.1,!=0.17.2,>=0.14.0 in c:\\users\\miyoung\\anaconda3\\lib\\site-packages (from jsonschema>=2.6->nbformat) (0.18.0)\n",
      "Requirement already satisfied: attrs>=17.4.0 in c:\\users\\miyoung\\anaconda3\\lib\\site-packages (from jsonschema>=2.6->nbformat) (21.4.0)\n",
      "Requirement already satisfied: pywin32>=1.0 in c:\\users\\miyoung\\anaconda3\\lib\\site-packages (from jupyter-core->nbformat) (302)\n",
      "Requirement already satisfied: nbformat in c:\\users\\miyoung\\anaconda3\\lib\\site-packages (5.7.0)\n",
      "Requirement already satisfied: jupyter-core in c:\\users\\miyoung\\anaconda3\\lib\\site-packages (from nbformat) (4.9.2)\n",
      "Requirement already satisfied: traitlets>=5.1 in c:\\users\\miyoung\\anaconda3\\lib\\site-packages (from nbformat) (5.1.1)\n",
      "Requirement already satisfied: fastjsonschema in c:\\users\\miyoung\\anaconda3\\lib\\site-packages (from nbformat) (2.15.1)\n",
      "Requirement already satisfied: jsonschema>=2.6 in c:\\users\\miyoung\\anaconda3\\lib\\site-packages (from nbformat) (4.4.0)\n",
      "Requirement already satisfied: pyrsistent!=0.17.0,!=0.17.1,!=0.17.2,>=0.14.0 in c:\\users\\miyoung\\anaconda3\\lib\\site-packages (from jsonschema>=2.6->nbformat) (0.18.0)\n",
      "Requirement already satisfied: attrs>=17.4.0 in c:\\users\\miyoung\\anaconda3\\lib\\site-packages (from jsonschema>=2.6->nbformat) (21.4.0)\n",
      "Requirement already satisfied: pywin32>=1.0 in c:\\users\\miyoung\\anaconda3\\lib\\site-packages (from jupyter-core->nbformat) (302)\n"
     ]
    }
   ],
   "source": [
    "!pip install nbformat \n",
    "# 설치 시도 \n",
    "!pip install -U nbformat \n",
    "# 기설치시, update "
   ]
  },
  {
   "cell_type": "markdown",
   "metadata": {
    "id": "gKIXcmh0AXAB"
   },
   "source": [
    "### 1.1 분석에 필요한 library 호출 및 google drive 연결"
   ]
  },
  {
   "cell_type": "code",
   "execution_count": 4,
   "metadata": {
    "executionInfo": {
     "elapsed": 1185,
     "status": "ok",
     "timestamp": 1668148752301,
     "user": {
      "displayName": "강현욱",
      "userId": "07194546442434465172"
     },
     "user_tz": -540
    },
    "id": "hJ_9dSYcmqCc"
   },
   "outputs": [],
   "source": [
    "# 분석에 필요한 library 호출 \n",
    "import numpy as np\n",
    "import pandas as pd\n",
    "import matplotlib.pyplot as plt\n",
    "import seaborn as sns\n",
    "import datetime as dt"
   ]
  },
  {
   "cell_type": "markdown",
   "metadata": {
    "colab": {
     "base_uri": "https://localhost:8080/"
    },
    "executionInfo": {
     "elapsed": 32090,
     "status": "ok",
     "timestamp": 1668148784386,
     "user": {
      "displayName": "강현욱",
      "userId": "07194546442434465172"
     },
     "user_tz": -540
    },
    "id": "4YoqGXlMmr74",
    "outputId": "7a80f9eb-1f0c-40dd-a362-0af08e8db063"
   },
   "source": [
    "[구글로 할 경우]\n",
    "google drive 연결\n",
    "from google.colab import drive\n",
    "drive.mount('/content/drive')\n",
    "\n",
    "왼쪽 네비게이션바에서 \\drive\\Mydrive에 연결된 드라이브에서 data.csv 위치를 찾아서\n",
    "\"...\"을 클릭하여 경로복사 후  pd.read_csv의 경로에 붙여넣기"
   ]
  },
  {
   "cell_type": "markdown",
   "metadata": {
    "id": "ybiqxXw4A5Ru"
   },
   "source": [
    "## *2*. 데이터 불러오기\n"
   ]
  },
  {
   "cell_type": "markdown",
   "metadata": {
    "id": "KRqnk5XcBDms"
   },
   "source": [
    "### 2.1 데이터 불러오기 및 확인"
   ]
  },
  {
   "cell_type": "code",
   "execution_count": 5,
   "metadata": {
    "colab": {
     "base_uri": "https://localhost:8080/",
     "height": 0
    },
    "executionInfo": {
     "elapsed": 3413,
     "status": "ok",
     "timestamp": 1668148787792,
     "user": {
      "displayName": "강현욱",
      "userId": "07194546442434465172"
     },
     "user_tz": -540
    },
    "id": "cL71vyoUBC55",
    "outputId": "b77bcbc3-c3f9-4fe2-d525-78931a52efce"
   },
   "outputs": [
    {
     "data": {
      "text/html": [
       "<div>\n",
       "<style scoped>\n",
       "    .dataframe tbody tr th:only-of-type {\n",
       "        vertical-align: middle;\n",
       "    }\n",
       "\n",
       "    .dataframe tbody tr th {\n",
       "        vertical-align: top;\n",
       "    }\n",
       "\n",
       "    .dataframe thead th {\n",
       "        text-align: right;\n",
       "    }\n",
       "</style>\n",
       "<table border=\"1\" class=\"dataframe\">\n",
       "  <thead>\n",
       "    <tr style=\"text-align: right;\">\n",
       "      <th></th>\n",
       "      <th>InvoiceNo</th>\n",
       "      <th>StockCode</th>\n",
       "      <th>Description</th>\n",
       "      <th>Quantity</th>\n",
       "      <th>InvoiceDate</th>\n",
       "      <th>UnitPrice</th>\n",
       "      <th>CustomerID</th>\n",
       "      <th>Country</th>\n",
       "    </tr>\n",
       "  </thead>\n",
       "  <tbody>\n",
       "    <tr>\n",
       "      <th>0</th>\n",
       "      <td>536365</td>\n",
       "      <td>85123A</td>\n",
       "      <td>WHITE HANGING HEART T-LIGHT HOLDER</td>\n",
       "      <td>6</td>\n",
       "      <td>12/1/2010 8:26</td>\n",
       "      <td>2.55</td>\n",
       "      <td>17850.0</td>\n",
       "      <td>United Kingdom</td>\n",
       "    </tr>\n",
       "    <tr>\n",
       "      <th>1</th>\n",
       "      <td>536365</td>\n",
       "      <td>71053</td>\n",
       "      <td>WHITE METAL LANTERN</td>\n",
       "      <td>6</td>\n",
       "      <td>12/1/2010 8:26</td>\n",
       "      <td>3.39</td>\n",
       "      <td>17850.0</td>\n",
       "      <td>United Kingdom</td>\n",
       "    </tr>\n",
       "    <tr>\n",
       "      <th>2</th>\n",
       "      <td>536365</td>\n",
       "      <td>84406B</td>\n",
       "      <td>CREAM CUPID HEARTS COAT HANGER</td>\n",
       "      <td>8</td>\n",
       "      <td>12/1/2010 8:26</td>\n",
       "      <td>2.75</td>\n",
       "      <td>17850.0</td>\n",
       "      <td>United Kingdom</td>\n",
       "    </tr>\n",
       "    <tr>\n",
       "      <th>3</th>\n",
       "      <td>536365</td>\n",
       "      <td>84029G</td>\n",
       "      <td>KNITTED UNION FLAG HOT WATER BOTTLE</td>\n",
       "      <td>6</td>\n",
       "      <td>12/1/2010 8:26</td>\n",
       "      <td>3.39</td>\n",
       "      <td>17850.0</td>\n",
       "      <td>United Kingdom</td>\n",
       "    </tr>\n",
       "    <tr>\n",
       "      <th>4</th>\n",
       "      <td>536365</td>\n",
       "      <td>84029E</td>\n",
       "      <td>RED WOOLLY HOTTIE WHITE HEART.</td>\n",
       "      <td>6</td>\n",
       "      <td>12/1/2010 8:26</td>\n",
       "      <td>3.39</td>\n",
       "      <td>17850.0</td>\n",
       "      <td>United Kingdom</td>\n",
       "    </tr>\n",
       "  </tbody>\n",
       "</table>\n",
       "</div>"
      ],
      "text/plain": [
       "  InvoiceNo StockCode                          Description  Quantity  \\\n",
       "0    536365    85123A   WHITE HANGING HEART T-LIGHT HOLDER         6   \n",
       "1    536365     71053                  WHITE METAL LANTERN         6   \n",
       "2    536365    84406B       CREAM CUPID HEARTS COAT HANGER         8   \n",
       "3    536365    84029G  KNITTED UNION FLAG HOT WATER BOTTLE         6   \n",
       "4    536365    84029E       RED WOOLLY HOTTIE WHITE HEART.         6   \n",
       "\n",
       "      InvoiceDate  UnitPrice  CustomerID         Country  \n",
       "0  12/1/2010 8:26       2.55     17850.0  United Kingdom  \n",
       "1  12/1/2010 8:26       3.39     17850.0  United Kingdom  \n",
       "2  12/1/2010 8:26       2.75     17850.0  United Kingdom  \n",
       "3  12/1/2010 8:26       3.39     17850.0  United Kingdom  \n",
       "4  12/1/2010 8:26       3.39     17850.0  United Kingdom  "
      ]
     },
     "execution_count": 5,
     "metadata": {},
     "output_type": "execute_result"
    }
   ],
   "source": [
    "df_org = pd.read_csv('data.csv',encoding='latin') # 유럽데이터 -> latin\n",
    "df_org.head() #데이터 앞부분확인 "
   ]
  },
  {
   "cell_type": "code",
   "execution_count": 6,
   "metadata": {
    "colab": {
     "base_uri": "https://localhost:8080/",
     "height": 0
    },
    "executionInfo": {
     "elapsed": 7,
     "status": "ok",
     "timestamp": 1668148787793,
     "user": {
      "displayName": "강현욱",
      "userId": "07194546442434465172"
     },
     "user_tz": -540
    },
    "id": "0Li7zRFoAzMA",
    "outputId": "2c260fbe-8fe7-4411-d98c-96068fb8e33b"
   },
   "outputs": [
    {
     "data": {
      "text/html": [
       "<div>\n",
       "<style scoped>\n",
       "    .dataframe tbody tr th:only-of-type {\n",
       "        vertical-align: middle;\n",
       "    }\n",
       "\n",
       "    .dataframe tbody tr th {\n",
       "        vertical-align: top;\n",
       "    }\n",
       "\n",
       "    .dataframe thead th {\n",
       "        text-align: right;\n",
       "    }\n",
       "</style>\n",
       "<table border=\"1\" class=\"dataframe\">\n",
       "  <thead>\n",
       "    <tr style=\"text-align: right;\">\n",
       "      <th></th>\n",
       "      <th>InvoiceNo</th>\n",
       "      <th>StockCode</th>\n",
       "      <th>Description</th>\n",
       "      <th>Quantity</th>\n",
       "      <th>InvoiceDate</th>\n",
       "      <th>UnitPrice</th>\n",
       "      <th>CustomerID</th>\n",
       "      <th>Country</th>\n",
       "    </tr>\n",
       "  </thead>\n",
       "  <tbody>\n",
       "    <tr>\n",
       "      <th>541904</th>\n",
       "      <td>581587</td>\n",
       "      <td>22613</td>\n",
       "      <td>PACK OF 20 SPACEBOY NAPKINS</td>\n",
       "      <td>12</td>\n",
       "      <td>12/9/2011 12:50</td>\n",
       "      <td>0.85</td>\n",
       "      <td>12680.0</td>\n",
       "      <td>France</td>\n",
       "    </tr>\n",
       "    <tr>\n",
       "      <th>541905</th>\n",
       "      <td>581587</td>\n",
       "      <td>22899</td>\n",
       "      <td>CHILDREN'S APRON DOLLY GIRL</td>\n",
       "      <td>6</td>\n",
       "      <td>12/9/2011 12:50</td>\n",
       "      <td>2.10</td>\n",
       "      <td>12680.0</td>\n",
       "      <td>France</td>\n",
       "    </tr>\n",
       "    <tr>\n",
       "      <th>541906</th>\n",
       "      <td>581587</td>\n",
       "      <td>23254</td>\n",
       "      <td>CHILDRENS CUTLERY DOLLY GIRL</td>\n",
       "      <td>4</td>\n",
       "      <td>12/9/2011 12:50</td>\n",
       "      <td>4.15</td>\n",
       "      <td>12680.0</td>\n",
       "      <td>France</td>\n",
       "    </tr>\n",
       "    <tr>\n",
       "      <th>541907</th>\n",
       "      <td>581587</td>\n",
       "      <td>23255</td>\n",
       "      <td>CHILDRENS CUTLERY CIRCUS PARADE</td>\n",
       "      <td>4</td>\n",
       "      <td>12/9/2011 12:50</td>\n",
       "      <td>4.15</td>\n",
       "      <td>12680.0</td>\n",
       "      <td>France</td>\n",
       "    </tr>\n",
       "    <tr>\n",
       "      <th>541908</th>\n",
       "      <td>581587</td>\n",
       "      <td>22138</td>\n",
       "      <td>BAKING SET 9 PIECE RETROSPOT</td>\n",
       "      <td>3</td>\n",
       "      <td>12/9/2011 12:50</td>\n",
       "      <td>4.95</td>\n",
       "      <td>12680.0</td>\n",
       "      <td>France</td>\n",
       "    </tr>\n",
       "  </tbody>\n",
       "</table>\n",
       "</div>"
      ],
      "text/plain": [
       "       InvoiceNo StockCode                      Description  Quantity  \\\n",
       "541904    581587     22613      PACK OF 20 SPACEBOY NAPKINS        12   \n",
       "541905    581587     22899     CHILDREN'S APRON DOLLY GIRL          6   \n",
       "541906    581587     23254    CHILDRENS CUTLERY DOLLY GIRL          4   \n",
       "541907    581587     23255  CHILDRENS CUTLERY CIRCUS PARADE         4   \n",
       "541908    581587     22138    BAKING SET 9 PIECE RETROSPOT          3   \n",
       "\n",
       "            InvoiceDate  UnitPrice  CustomerID Country  \n",
       "541904  12/9/2011 12:50       0.85     12680.0  France  \n",
       "541905  12/9/2011 12:50       2.10     12680.0  France  \n",
       "541906  12/9/2011 12:50       4.15     12680.0  France  \n",
       "541907  12/9/2011 12:50       4.15     12680.0  France  \n",
       "541908  12/9/2011 12:50       4.95     12680.0  France  "
      ]
     },
     "execution_count": 6,
     "metadata": {},
     "output_type": "execute_result"
    }
   ],
   "source": [
    "df_org.tail() #데이터 뒷부분 확인 "
   ]
  },
  {
   "cell_type": "code",
   "execution_count": 7,
   "metadata": {
    "colab": {
     "base_uri": "https://localhost:8080/"
    },
    "executionInfo": {
     "elapsed": 569,
     "status": "ok",
     "timestamp": 1668148788357,
     "user": {
      "displayName": "강현욱",
      "userId": "07194546442434465172"
     },
     "user_tz": -540
    },
    "id": "E2VAPsGfmqCh",
    "outputId": "7f338e61-7695-4f81-efe8-e170dcb348c5"
   },
   "outputs": [
    {
     "name": "stdout",
     "output_type": "stream",
     "text": [
      "<class 'pandas.core.frame.DataFrame'>\n",
      "RangeIndex: 541909 entries, 0 to 541908\n",
      "Data columns (total 8 columns):\n",
      " #   Column       Non-Null Count   Dtype  \n",
      "---  ------       --------------   -----  \n",
      " 0   InvoiceNo    541909 non-null  object \n",
      " 1   StockCode    541909 non-null  object \n",
      " 2   Description  540455 non-null  object \n",
      " 3   Quantity     541909 non-null  int64  \n",
      " 4   InvoiceDate  541909 non-null  object \n",
      " 5   UnitPrice    541909 non-null  float64\n",
      " 6   CustomerID   406829 non-null  float64\n",
      " 7   Country      541909 non-null  object \n",
      "dtypes: float64(2), int64(1), object(5)\n",
      "memory usage: 33.1+ MB\n"
     ]
    }
   ],
   "source": [
    "df_org.info() # 데이터 타입 확인"
   ]
  },
  {
   "cell_type": "markdown",
   "metadata": {
    "id": "BW3UEMJJJvAh"
   },
   "source": [
    "### 2.2 데이터 형변"
   ]
  },
  {
   "cell_type": "code",
   "execution_count": 8,
   "metadata": {
    "executionInfo": {
     "elapsed": 8,
     "status": "ok",
     "timestamp": 1668148788358,
     "user": {
      "displayName": "강현욱",
      "userId": "07194546442434465172"
     },
     "user_tz": -540
    },
    "id": "WSxc8X12J8eh"
   },
   "outputs": [
    {
     "name": "stdout",
     "output_type": "stream",
     "text": [
      "<class 'pandas.core.frame.DataFrame'>\n",
      "RangeIndex: 541909 entries, 0 to 541908\n",
      "Data columns (total 8 columns):\n",
      " #   Column       Non-Null Count   Dtype         \n",
      "---  ------       --------------   -----         \n",
      " 0   InvoiceNo    541909 non-null  object        \n",
      " 1   StockCode    541909 non-null  object        \n",
      " 2   Description  540455 non-null  object        \n",
      " 3   Quantity     541909 non-null  int64         \n",
      " 4   InvoiceDate  541909 non-null  datetime64[ns]\n",
      " 5   UnitPrice    541909 non-null  float64       \n",
      " 6   CustomerID   406829 non-null  float64       \n",
      " 7   Country      541909 non-null  object        \n",
      "dtypes: datetime64[ns](1), float64(2), int64(1), object(4)\n",
      "memory usage: 33.1+ MB\n"
     ]
    }
   ],
   "source": [
    "# 문자열 변수를 datetime 으로 변환 (후반부에서...)\n",
    "# 특히, 날짜는 바꿔주는게 좋음\n",
    "df_org['InvoiceDate'] = pd.DatetimeIndex(df_org['InvoiceDate'])\n",
    "df_org.info()"
   ]
  },
  {
   "cell_type": "markdown",
   "metadata": {
    "id": "dgMEiWOfMlVn"
   },
   "source": [
    "## 3.NULL 값 처리\n",
    "### 3.1 NULL 값 확인"
   ]
  },
  {
   "cell_type": "code",
   "execution_count": 13,
   "metadata": {
    "colab": {
     "base_uri": "https://localhost:8080/"
    },
    "executionInfo": {
     "elapsed": 7,
     "status": "ok",
     "timestamp": 1668148788358,
     "user": {
      "displayName": "강현욱",
      "userId": "07194546442434465172"
     },
     "user_tz": -540
    },
    "id": "tLvcXM8_Mso5",
    "outputId": "84097c74-6e77-4786-bd2a-c4bcac9a99e2"
   },
   "outputs": [
    {
     "data": {
      "text/plain": [
       "InvoiceNo           0\n",
       "StockCode           0\n",
       "Description      1454\n",
       "Quantity            0\n",
       "InvoiceDate         0\n",
       "UnitPrice           0\n",
       "CustomerID     135080\n",
       "Country             0\n",
       "dtype: int64"
      ]
     },
     "execution_count": 13,
     "metadata": {},
     "output_type": "execute_result"
    }
   ],
   "source": [
    "# Null 값이 있는 전체 case 수 확인\n",
    "#한번 : 변수별\n",
    "df_org.isnull().sum()"
   ]
  },
  {
   "cell_type": "code",
   "execution_count": 14,
   "metadata": {},
   "outputs": [
    {
     "data": {
      "text/plain": [
       "136534"
      ]
     },
     "execution_count": 14,
     "metadata": {},
     "output_type": "execute_result"
    }
   ],
   "source": [
    "#두번 : 전체 데이터\n",
    "df_org.isnull().sum().sum()"
   ]
  },
  {
   "cell_type": "code",
   "execution_count": 18,
   "metadata": {
    "colab": {
     "base_uri": "https://localhost:8080/"
    },
    "executionInfo": {
     "elapsed": 315,
     "status": "ok",
     "timestamp": 1668148788667,
     "user": {
      "displayName": "강현욱",
      "userId": "07194546442434465172"
     },
     "user_tz": -540
    },
    "id": "zPFClJxKMxkw",
    "outputId": "d5a006b8-eea4-4128-adf4-4dc2f4f1cfcb"
   },
   "outputs": [
    {
     "data": {
      "text/plain": [
       "0.2519500506542611"
      ]
     },
     "execution_count": 18,
     "metadata": {},
     "output_type": "execute_result"
    }
   ],
   "source": [
    "# 전체 데이터 대비 Null 값의 비율(대략적)\n",
    "# df_org.shape : (541909, 8)\n",
    "# 전체 Null 의 개수 / 전체 데이터 개수\n",
    "df_org.isnull().sum().sum() / df_org.shape[0]"
   ]
  },
  {
   "cell_type": "markdown",
   "metadata": {
    "id": "-kjoK26NN06l"
   },
   "source": [
    "### 3.1 Question \n",
    "- CustomerID 가 Null인 경우가 정상일까? (비회원일까?, 해당 카테고리 사용가능여부 확인해서 삭제)\n",
    "- 만약 Null 인 경우가 정상이라면 분석에 사용할 수 있을까? "
   ]
  },
  {
   "cell_type": "code",
   "execution_count": 22,
   "metadata": {
    "colab": {
     "base_uri": "https://localhost:8080/",
     "height": 0
    },
    "executionInfo": {
     "elapsed": 6,
     "status": "ok",
     "timestamp": 1668148789038,
     "user": {
      "displayName": "강현욱",
      "userId": "07194546442434465172"
     },
     "user_tz": -540
    },
    "id": "J2DVhHbyPcd9",
    "outputId": "76eb8a76-461a-4633-ec3e-945647571351"
   },
   "outputs": [
    {
     "data": {
      "text/html": [
       "<div>\n",
       "<style scoped>\n",
       "    .dataframe tbody tr th:only-of-type {\n",
       "        vertical-align: middle;\n",
       "    }\n",
       "\n",
       "    .dataframe tbody tr th {\n",
       "        vertical-align: top;\n",
       "    }\n",
       "\n",
       "    .dataframe thead th {\n",
       "        text-align: right;\n",
       "    }\n",
       "</style>\n",
       "<table border=\"1\" class=\"dataframe\">\n",
       "  <thead>\n",
       "    <tr style=\"text-align: right;\">\n",
       "      <th></th>\n",
       "      <th>InvoiceNo</th>\n",
       "      <th>StockCode</th>\n",
       "      <th>Description</th>\n",
       "      <th>Quantity</th>\n",
       "      <th>InvoiceDate</th>\n",
       "      <th>UnitPrice</th>\n",
       "      <th>CustomerID</th>\n",
       "      <th>Country</th>\n",
       "    </tr>\n",
       "  </thead>\n",
       "  <tbody>\n",
       "    <tr>\n",
       "      <th>622</th>\n",
       "      <td>536414</td>\n",
       "      <td>22139</td>\n",
       "      <td>NaN</td>\n",
       "      <td>56</td>\n",
       "      <td>2010-12-01 11:52:00</td>\n",
       "      <td>0.00</td>\n",
       "      <td>NaN</td>\n",
       "      <td>United Kingdom</td>\n",
       "    </tr>\n",
       "    <tr>\n",
       "      <th>1443</th>\n",
       "      <td>536544</td>\n",
       "      <td>21773</td>\n",
       "      <td>DECORATIVE ROSE BATHROOM BOTTLE</td>\n",
       "      <td>1</td>\n",
       "      <td>2010-12-01 14:32:00</td>\n",
       "      <td>2.51</td>\n",
       "      <td>NaN</td>\n",
       "      <td>United Kingdom</td>\n",
       "    </tr>\n",
       "    <tr>\n",
       "      <th>1444</th>\n",
       "      <td>536544</td>\n",
       "      <td>21774</td>\n",
       "      <td>DECORATIVE CATS BATHROOM BOTTLE</td>\n",
       "      <td>2</td>\n",
       "      <td>2010-12-01 14:32:00</td>\n",
       "      <td>2.51</td>\n",
       "      <td>NaN</td>\n",
       "      <td>United Kingdom</td>\n",
       "    </tr>\n",
       "    <tr>\n",
       "      <th>1445</th>\n",
       "      <td>536544</td>\n",
       "      <td>21786</td>\n",
       "      <td>POLKADOT RAIN HAT</td>\n",
       "      <td>4</td>\n",
       "      <td>2010-12-01 14:32:00</td>\n",
       "      <td>0.85</td>\n",
       "      <td>NaN</td>\n",
       "      <td>United Kingdom</td>\n",
       "    </tr>\n",
       "    <tr>\n",
       "      <th>1446</th>\n",
       "      <td>536544</td>\n",
       "      <td>21787</td>\n",
       "      <td>RAIN PONCHO RETROSPOT</td>\n",
       "      <td>2</td>\n",
       "      <td>2010-12-01 14:32:00</td>\n",
       "      <td>1.66</td>\n",
       "      <td>NaN</td>\n",
       "      <td>United Kingdom</td>\n",
       "    </tr>\n",
       "    <tr>\n",
       "      <th>...</th>\n",
       "      <td>...</td>\n",
       "      <td>...</td>\n",
       "      <td>...</td>\n",
       "      <td>...</td>\n",
       "      <td>...</td>\n",
       "      <td>...</td>\n",
       "      <td>...</td>\n",
       "      <td>...</td>\n",
       "    </tr>\n",
       "    <tr>\n",
       "      <th>541536</th>\n",
       "      <td>581498</td>\n",
       "      <td>85099B</td>\n",
       "      <td>JUMBO BAG RED RETROSPOT</td>\n",
       "      <td>5</td>\n",
       "      <td>2011-12-09 10:26:00</td>\n",
       "      <td>4.13</td>\n",
       "      <td>NaN</td>\n",
       "      <td>United Kingdom</td>\n",
       "    </tr>\n",
       "    <tr>\n",
       "      <th>541537</th>\n",
       "      <td>581498</td>\n",
       "      <td>85099C</td>\n",
       "      <td>JUMBO  BAG BAROQUE BLACK WHITE</td>\n",
       "      <td>4</td>\n",
       "      <td>2011-12-09 10:26:00</td>\n",
       "      <td>4.13</td>\n",
       "      <td>NaN</td>\n",
       "      <td>United Kingdom</td>\n",
       "    </tr>\n",
       "    <tr>\n",
       "      <th>541538</th>\n",
       "      <td>581498</td>\n",
       "      <td>85150</td>\n",
       "      <td>LADIES &amp; GENTLEMEN METAL SIGN</td>\n",
       "      <td>1</td>\n",
       "      <td>2011-12-09 10:26:00</td>\n",
       "      <td>4.96</td>\n",
       "      <td>NaN</td>\n",
       "      <td>United Kingdom</td>\n",
       "    </tr>\n",
       "    <tr>\n",
       "      <th>541539</th>\n",
       "      <td>581498</td>\n",
       "      <td>85174</td>\n",
       "      <td>S/4 CACTI CANDLES</td>\n",
       "      <td>1</td>\n",
       "      <td>2011-12-09 10:26:00</td>\n",
       "      <td>10.79</td>\n",
       "      <td>NaN</td>\n",
       "      <td>United Kingdom</td>\n",
       "    </tr>\n",
       "    <tr>\n",
       "      <th>541540</th>\n",
       "      <td>581498</td>\n",
       "      <td>DOT</td>\n",
       "      <td>DOTCOM POSTAGE</td>\n",
       "      <td>1</td>\n",
       "      <td>2011-12-09 10:26:00</td>\n",
       "      <td>1714.17</td>\n",
       "      <td>NaN</td>\n",
       "      <td>United Kingdom</td>\n",
       "    </tr>\n",
       "  </tbody>\n",
       "</table>\n",
       "<p>135080 rows × 8 columns</p>\n",
       "</div>"
      ],
      "text/plain": [
       "       InvoiceNo StockCode                      Description  Quantity  \\\n",
       "622       536414     22139                              NaN        56   \n",
       "1443      536544     21773  DECORATIVE ROSE BATHROOM BOTTLE         1   \n",
       "1444      536544     21774  DECORATIVE CATS BATHROOM BOTTLE         2   \n",
       "1445      536544     21786               POLKADOT RAIN HAT          4   \n",
       "1446      536544     21787            RAIN PONCHO RETROSPOT         2   \n",
       "...          ...       ...                              ...       ...   \n",
       "541536    581498    85099B          JUMBO BAG RED RETROSPOT         5   \n",
       "541537    581498    85099C   JUMBO  BAG BAROQUE BLACK WHITE         4   \n",
       "541538    581498     85150    LADIES & GENTLEMEN METAL SIGN         1   \n",
       "541539    581498     85174                S/4 CACTI CANDLES         1   \n",
       "541540    581498       DOT                   DOTCOM POSTAGE         1   \n",
       "\n",
       "               InvoiceDate  UnitPrice  CustomerID         Country  \n",
       "622    2010-12-01 11:52:00       0.00         NaN  United Kingdom  \n",
       "1443   2010-12-01 14:32:00       2.51         NaN  United Kingdom  \n",
       "1444   2010-12-01 14:32:00       2.51         NaN  United Kingdom  \n",
       "1445   2010-12-01 14:32:00       0.85         NaN  United Kingdom  \n",
       "1446   2010-12-01 14:32:00       1.66         NaN  United Kingdom  \n",
       "...                    ...        ...         ...             ...  \n",
       "541536 2011-12-09 10:26:00       4.13         NaN  United Kingdom  \n",
       "541537 2011-12-09 10:26:00       4.13         NaN  United Kingdom  \n",
       "541538 2011-12-09 10:26:00       4.96         NaN  United Kingdom  \n",
       "541539 2011-12-09 10:26:00      10.79         NaN  United Kingdom  \n",
       "541540 2011-12-09 10:26:00    1714.17         NaN  United Kingdom  \n",
       "\n",
       "[135080 rows x 8 columns]"
      ]
     },
     "execution_count": 22,
     "metadata": {},
     "output_type": "execute_result"
    }
   ],
   "source": [
    "# CustomerID 가 Null 인 case  확인하기 \n",
    "df_org[df_org.CustomerID.isnull()]"
   ]
  },
  {
   "cell_type": "markdown",
   "metadata": {
    "id": "XwRV4nB5XwZr"
   },
   "source": [
    "### 3.2 NULL 값 처리 (삭제) 및 확인"
   ]
  },
  {
   "cell_type": "code",
   "execution_count": 23,
   "metadata": {
    "executionInfo": {
     "elapsed": 846,
     "status": "ok",
     "timestamp": 1668148789879,
     "user": {
      "displayName": "강현욱",
      "userId": "07194546442434465172"
     },
     "user_tz": -540
    },
    "id": "6GxNn-4SXz4c"
   },
   "outputs": [],
   "source": [
    "#NULL 값 삭제(행 기준)\n",
    "df_na_treat =  df_org.dropna(axis = 0)"
   ]
  },
  {
   "cell_type": "code",
   "execution_count": 24,
   "metadata": {
    "colab": {
     "base_uri": "https://localhost:8080/"
    },
    "executionInfo": {
     "elapsed": 578,
     "status": "ok",
     "timestamp": 1668148790452,
     "user": {
      "displayName": "강현욱",
      "userId": "07194546442434465172"
     },
     "user_tz": -540
    },
    "id": "C-8fYzxcMoLm",
    "outputId": "a87e013c-d3a5-4d1e-bd7c-a99c602fc10d"
   },
   "outputs": [
    {
     "data": {
      "text/plain": [
       "0"
      ]
     },
     "execution_count": 24,
     "metadata": {},
     "output_type": "execute_result"
    }
   ],
   "source": [
    "#NULL 값있는지 다시 확인\n",
    "df_na_treat.isnull().sum().sum()"
   ]
  },
  {
   "cell_type": "code",
   "execution_count": 25,
   "metadata": {
    "colab": {
     "base_uri": "https://localhost:8080/"
    },
    "executionInfo": {
     "elapsed": 23,
     "status": "ok",
     "timestamp": 1668148790455,
     "user": {
      "displayName": "강현욱",
      "userId": "07194546442434465172"
     },
     "user_tz": -540
    },
    "id": "_lwQHP75J6YF",
    "outputId": "c2ad7239-0b08-4831-e8dc-30888dbba71d"
   },
   "outputs": [
    {
     "data": {
      "text/plain": [
       "(406829, 8)"
      ]
     },
     "execution_count": 25,
     "metadata": {},
     "output_type": "execute_result"
    }
   ],
   "source": [
    "df_na_treat.shape"
   ]
  },
  {
   "cell_type": "markdown",
   "metadata": {
    "id": "u3tpZLaVY2lX"
   },
   "source": [
    "## *4*. 데이터탐색 및 이상치 제거 "
   ]
  },
  {
   "cell_type": "markdown",
   "metadata": {
    "id": "9yBZ0T4ZRAL3"
   },
   "source": [
    "### 4.1 이상치 확인 "
   ]
  },
  {
   "cell_type": "code",
   "execution_count": 29,
   "metadata": {
    "colab": {
     "base_uri": "https://localhost:8080/",
     "height": 0
    },
    "executionInfo": {
     "elapsed": 19,
     "status": "ok",
     "timestamp": 1668148790455,
     "user": {
      "displayName": "강현욱",
      "userId": "07194546442434465172"
     },
     "user_tz": -540
    },
    "id": "DGsqb8QFRFAu",
    "outputId": "b2393a6c-ecb0-4704-d913-da4bffdf8e39"
   },
   "outputs": [
    {
     "data": {
      "text/html": [
       "<div>\n",
       "<style scoped>\n",
       "    .dataframe tbody tr th:only-of-type {\n",
       "        vertical-align: middle;\n",
       "    }\n",
       "\n",
       "    .dataframe tbody tr th {\n",
       "        vertical-align: top;\n",
       "    }\n",
       "\n",
       "    .dataframe thead th {\n",
       "        text-align: right;\n",
       "    }\n",
       "</style>\n",
       "<table border=\"1\" class=\"dataframe\">\n",
       "  <thead>\n",
       "    <tr style=\"text-align: right;\">\n",
       "      <th></th>\n",
       "      <th>Quantity</th>\n",
       "      <th>UnitPrice</th>\n",
       "      <th>CustomerID</th>\n",
       "    </tr>\n",
       "  </thead>\n",
       "  <tbody>\n",
       "    <tr>\n",
       "      <th>count</th>\n",
       "      <td>406829.000000</td>\n",
       "      <td>406829.000000</td>\n",
       "      <td>406829.000000</td>\n",
       "    </tr>\n",
       "    <tr>\n",
       "      <th>mean</th>\n",
       "      <td>12.061303</td>\n",
       "      <td>3.460471</td>\n",
       "      <td>15287.690570</td>\n",
       "    </tr>\n",
       "    <tr>\n",
       "      <th>std</th>\n",
       "      <td>248.693370</td>\n",
       "      <td>69.315162</td>\n",
       "      <td>1713.600303</td>\n",
       "    </tr>\n",
       "    <tr>\n",
       "      <th>min</th>\n",
       "      <td>-80995.000000</td>\n",
       "      <td>0.000000</td>\n",
       "      <td>12346.000000</td>\n",
       "    </tr>\n",
       "    <tr>\n",
       "      <th>25%</th>\n",
       "      <td>2.000000</td>\n",
       "      <td>1.250000</td>\n",
       "      <td>13953.000000</td>\n",
       "    </tr>\n",
       "    <tr>\n",
       "      <th>50%</th>\n",
       "      <td>5.000000</td>\n",
       "      <td>1.950000</td>\n",
       "      <td>15152.000000</td>\n",
       "    </tr>\n",
       "    <tr>\n",
       "      <th>75%</th>\n",
       "      <td>12.000000</td>\n",
       "      <td>3.750000</td>\n",
       "      <td>16791.000000</td>\n",
       "    </tr>\n",
       "    <tr>\n",
       "      <th>max</th>\n",
       "      <td>80995.000000</td>\n",
       "      <td>38970.000000</td>\n",
       "      <td>18287.000000</td>\n",
       "    </tr>\n",
       "  </tbody>\n",
       "</table>\n",
       "</div>"
      ],
      "text/plain": [
       "            Quantity      UnitPrice     CustomerID\n",
       "count  406829.000000  406829.000000  406829.000000\n",
       "mean       12.061303       3.460471   15287.690570\n",
       "std       248.693370      69.315162    1713.600303\n",
       "min    -80995.000000       0.000000   12346.000000\n",
       "25%         2.000000       1.250000   13953.000000\n",
       "50%         5.000000       1.950000   15152.000000\n",
       "75%        12.000000       3.750000   16791.000000\n",
       "max     80995.000000   38970.000000   18287.000000"
      ]
     },
     "execution_count": 29,
     "metadata": {},
     "output_type": "execute_result"
    }
   ],
   "source": [
    "#연속형변수(숫자형) 관련 정보\n",
    "df_na_treat.describe()"
   ]
  },
  {
   "cell_type": "code",
   "execution_count": 30,
   "metadata": {
    "colab": {
     "base_uri": "https://localhost:8080/",
     "height": 0
    },
    "executionInfo": {
     "elapsed": 17,
     "status": "ok",
     "timestamp": 1668148790455,
     "user": {
      "displayName": "강현욱",
      "userId": "07194546442434465172"
     },
     "user_tz": -540
    },
    "id": "kZgAcdjNY2Ma",
    "outputId": "361a81df-13a9-4e73-82b4-0fd2f609b548"
   },
   "outputs": [
    {
     "data": {
      "text/html": [
       "<div>\n",
       "<style scoped>\n",
       "    .dataframe tbody tr th:only-of-type {\n",
       "        vertical-align: middle;\n",
       "    }\n",
       "\n",
       "    .dataframe tbody tr th {\n",
       "        vertical-align: top;\n",
       "    }\n",
       "\n",
       "    .dataframe thead th {\n",
       "        text-align: right;\n",
       "    }\n",
       "</style>\n",
       "<table border=\"1\" class=\"dataframe\">\n",
       "  <thead>\n",
       "    <tr style=\"text-align: right;\">\n",
       "      <th></th>\n",
       "      <th>InvoiceNo</th>\n",
       "      <th>StockCode</th>\n",
       "      <th>Description</th>\n",
       "      <th>Quantity</th>\n",
       "      <th>InvoiceDate</th>\n",
       "      <th>UnitPrice</th>\n",
       "      <th>CustomerID</th>\n",
       "      <th>Country</th>\n",
       "    </tr>\n",
       "  </thead>\n",
       "  <tbody>\n",
       "    <tr>\n",
       "      <th>540421</th>\n",
       "      <td>581483</td>\n",
       "      <td>23843</td>\n",
       "      <td>PAPER CRAFT , LITTLE BIRDIE</td>\n",
       "      <td>80995</td>\n",
       "      <td>2011-12-09 09:15:00</td>\n",
       "      <td>2.08</td>\n",
       "      <td>16446.0</td>\n",
       "      <td>United Kingdom</td>\n",
       "    </tr>\n",
       "    <tr>\n",
       "      <th>540422</th>\n",
       "      <td>C581484</td>\n",
       "      <td>23843</td>\n",
       "      <td>PAPER CRAFT , LITTLE BIRDIE</td>\n",
       "      <td>-80995</td>\n",
       "      <td>2011-12-09 09:27:00</td>\n",
       "      <td>2.08</td>\n",
       "      <td>16446.0</td>\n",
       "      <td>United Kingdom</td>\n",
       "    </tr>\n",
       "  </tbody>\n",
       "</table>\n",
       "</div>"
      ],
      "text/plain": [
       "       InvoiceNo StockCode                  Description  Quantity  \\\n",
       "540421    581483     23843  PAPER CRAFT , LITTLE BIRDIE     80995   \n",
       "540422   C581484     23843  PAPER CRAFT , LITTLE BIRDIE    -80995   \n",
       "\n",
       "               InvoiceDate  UnitPrice  CustomerID         Country  \n",
       "540421 2011-12-09 09:15:00       2.08     16446.0  United Kingdom  \n",
       "540422 2011-12-09 09:27:00       2.08     16446.0  United Kingdom  "
      ]
     },
     "execution_count": 30,
     "metadata": {},
     "output_type": "execute_result"
    }
   ],
   "source": [
    "# 이상치 케이스 확인(Quantity min값, max 값)\n",
    "df_na_treat[(df_na_treat.Quantity == -80995) | (df_na_treat.Quantity == 80995) ]"
   ]
  },
  {
   "cell_type": "code",
   "execution_count": 31,
   "metadata": {},
   "outputs": [],
   "source": [
    "#실무에서는 '구매'만 고려할 경우 많음 (이전 기록 트랙킹하기 어려울 수 있음)"
   ]
  },
  {
   "cell_type": "code",
   "execution_count": 32,
   "metadata": {
    "colab": {
     "base_uri": "https://localhost:8080/"
    },
    "executionInfo": {
     "elapsed": 17,
     "status": "ok",
     "timestamp": 1668148790456,
     "user": {
      "displayName": "강현욱",
      "userId": "07194546442434465172"
     },
     "user_tz": -540
    },
    "id": "GyBKECNEQ_6p",
    "outputId": "a84f61b1-7321-40f0-8b77-5b3a95417906"
   },
   "outputs": [
    {
     "data": {
      "text/plain": [
       "InvoiceNo      8905\n",
       "StockCode      8905\n",
       "Description    8905\n",
       "Quantity       8905\n",
       "InvoiceDate    8905\n",
       "UnitPrice      8905\n",
       "CustomerID     8905\n",
       "Country        8905\n",
       "dtype: int64"
      ]
     },
     "execution_count": 32,
     "metadata": {},
     "output_type": "execute_result"
    }
   ],
   "source": [
    "# Quantity 이상치 case 확인\n",
    "df_na_treat[df_na_treat.Quantity < 0 ].count()"
   ]
  },
  {
   "cell_type": "code",
   "execution_count": 33,
   "metadata": {
    "colab": {
     "base_uri": "https://localhost:8080/"
    },
    "executionInfo": {
     "elapsed": 14,
     "status": "ok",
     "timestamp": 1668148790456,
     "user": {
      "displayName": "강현욱",
      "userId": "07194546442434465172"
     },
     "user_tz": -540
    },
    "id": "aDZ2Db-WmqCi",
    "outputId": "be5d5f8d-a96e-41ef-f01c-05cba07f9895"
   },
   "outputs": [
    {
     "data": {
      "text/plain": [
       "False    397924\n",
       "True       8905\n",
       "Name: InvoiceNo, dtype: int64"
      ]
     },
     "execution_count": 33,
     "metadata": {},
     "output_type": "execute_result"
    }
   ],
   "source": [
    "# 음수값으로 시작하는 case는 InvocieNo 가 'C' 로 시작 하는 경우와 case 가 동일함 \n",
    "# value_counts() =  열에 있는 모든 고윳값(unique value) 의 개수 반환\n",
    "df_na_treat['InvoiceNo'].str.startswith(\"C\").value_counts()"
   ]
  },
  {
   "cell_type": "markdown",
   "metadata": {},
   "source": [
    "value counts 함수 참고 : https://zzinnam.tistory.com/entry/pandas-valuecounts-%ED%95%A8%EC%88%98"
   ]
  },
  {
   "cell_type": "code",
   "execution_count": 34,
   "metadata": {
    "colab": {
     "base_uri": "https://localhost:8080/"
    },
    "executionInfo": {
     "elapsed": 344,
     "status": "ok",
     "timestamp": 1668148790789,
     "user": {
      "displayName": "강현욱",
      "userId": "07194546442434465172"
     },
     "user_tz": -540
    },
    "id": "jAryQOflV8Hd",
    "outputId": "774c56f7-c7bd-44c5-baa4-7756d2cb682b"
   },
   "outputs": [
    {
     "data": {
      "text/plain": [
       "(8905, 8)"
      ]
     },
     "execution_count": 34,
     "metadata": {},
     "output_type": "execute_result"
    }
   ],
   "source": [
    "# 음수와 C 로 시작하는 변수 확인! (음수 OR 취소 = 환불임을 알게됨) \n",
    "df_na_treat[(df_na_treat.Quantity < 0) & (df_na_treat.InvoiceNo.str.startswith(\"C\"))].shape"
   ]
  },
  {
   "cell_type": "code",
   "execution_count": 35,
   "metadata": {
    "colab": {
     "base_uri": "https://localhost:8080/",
     "height": 0
    },
    "executionInfo": {
     "elapsed": 6,
     "status": "ok",
     "timestamp": 1668148790789,
     "user": {
      "displayName": "강현욱",
      "userId": "07194546442434465172"
     },
     "user_tz": -540
    },
    "id": "p45KSXrzaYgw",
    "outputId": "bbaf7af8-457f-47bf-8633-98788c14e7b7"
   },
   "outputs": [
    {
     "data": {
      "text/html": [
       "<div>\n",
       "<style scoped>\n",
       "    .dataframe tbody tr th:only-of-type {\n",
       "        vertical-align: middle;\n",
       "    }\n",
       "\n",
       "    .dataframe tbody tr th {\n",
       "        vertical-align: top;\n",
       "    }\n",
       "\n",
       "    .dataframe thead th {\n",
       "        text-align: right;\n",
       "    }\n",
       "</style>\n",
       "<table border=\"1\" class=\"dataframe\">\n",
       "  <thead>\n",
       "    <tr style=\"text-align: right;\">\n",
       "      <th></th>\n",
       "      <th>InvoiceNo</th>\n",
       "      <th>StockCode</th>\n",
       "      <th>Description</th>\n",
       "      <th>Quantity</th>\n",
       "      <th>InvoiceDate</th>\n",
       "      <th>UnitPrice</th>\n",
       "      <th>CustomerID</th>\n",
       "      <th>Country</th>\n",
       "    </tr>\n",
       "  </thead>\n",
       "  <tbody>\n",
       "    <tr>\n",
       "      <th>222681</th>\n",
       "      <td>C556445</td>\n",
       "      <td>M</td>\n",
       "      <td>Manual</td>\n",
       "      <td>-1</td>\n",
       "      <td>2011-06-10 15:31:00</td>\n",
       "      <td>38970.0</td>\n",
       "      <td>15098.0</td>\n",
       "      <td>United Kingdom</td>\n",
       "    </tr>\n",
       "  </tbody>\n",
       "</table>\n",
       "</div>"
      ],
      "text/plain": [
       "       InvoiceNo StockCode Description  Quantity         InvoiceDate  \\\n",
       "222681   C556445         M      Manual        -1 2011-06-10 15:31:00   \n",
       "\n",
       "        UnitPrice  CustomerID         Country  \n",
       "222681    38970.0     15098.0  United Kingdom  "
      ]
     },
     "execution_count": 35,
     "metadata": {},
     "output_type": "execute_result"
    }
   ],
   "source": [
    "# UnitPirce 가 가장 큰 값도 환불 case 임 \n",
    "df_na_treat[df_na_treat.UnitPrice == 38970]"
   ]
  },
  {
   "cell_type": "code",
   "execution_count": 36,
   "metadata": {
    "colab": {
     "base_uri": "https://localhost:8080/",
     "height": 0
    },
    "executionInfo": {
     "elapsed": 6,
     "status": "ok",
     "timestamp": 1668148790790,
     "user": {
      "displayName": "강현욱",
      "userId": "07194546442434465172"
     },
     "user_tz": -540
    },
    "id": "wjyfR2U2aYd3",
    "outputId": "52c8ca6c-2983-4284-fb14-fd2e6dd7542f"
   },
   "outputs": [
    {
     "data": {
      "text/html": [
       "<div>\n",
       "<style scoped>\n",
       "    .dataframe tbody tr th:only-of-type {\n",
       "        vertical-align: middle;\n",
       "    }\n",
       "\n",
       "    .dataframe tbody tr th {\n",
       "        vertical-align: top;\n",
       "    }\n",
       "\n",
       "    .dataframe thead th {\n",
       "        text-align: right;\n",
       "    }\n",
       "</style>\n",
       "<table border=\"1\" class=\"dataframe\">\n",
       "  <thead>\n",
       "    <tr style=\"text-align: right;\">\n",
       "      <th></th>\n",
       "      <th>InvoiceNo</th>\n",
       "      <th>StockCode</th>\n",
       "      <th>Description</th>\n",
       "      <th>Quantity</th>\n",
       "      <th>InvoiceDate</th>\n",
       "      <th>UnitPrice</th>\n",
       "      <th>CustomerID</th>\n",
       "      <th>Country</th>\n",
       "    </tr>\n",
       "  </thead>\n",
       "  <tbody>\n",
       "    <tr>\n",
       "      <th>9302</th>\n",
       "      <td>537197</td>\n",
       "      <td>22841</td>\n",
       "      <td>ROUND CAKE TIN VINTAGE GREEN</td>\n",
       "      <td>1</td>\n",
       "      <td>2010-12-05 14:02:00</td>\n",
       "      <td>0.0</td>\n",
       "      <td>12647.0</td>\n",
       "      <td>Germany</td>\n",
       "    </tr>\n",
       "    <tr>\n",
       "      <th>33576</th>\n",
       "      <td>539263</td>\n",
       "      <td>22580</td>\n",
       "      <td>ADVENT CALENDAR GINGHAM SACK</td>\n",
       "      <td>4</td>\n",
       "      <td>2010-12-16 14:36:00</td>\n",
       "      <td>0.0</td>\n",
       "      <td>16560.0</td>\n",
       "      <td>United Kingdom</td>\n",
       "    </tr>\n",
       "    <tr>\n",
       "      <th>40089</th>\n",
       "      <td>539722</td>\n",
       "      <td>22423</td>\n",
       "      <td>REGENCY CAKESTAND 3 TIER</td>\n",
       "      <td>10</td>\n",
       "      <td>2010-12-21 13:45:00</td>\n",
       "      <td>0.0</td>\n",
       "      <td>14911.0</td>\n",
       "      <td>EIRE</td>\n",
       "    </tr>\n",
       "    <tr>\n",
       "      <th>47068</th>\n",
       "      <td>540372</td>\n",
       "      <td>22090</td>\n",
       "      <td>PAPER BUNTING RETROSPOT</td>\n",
       "      <td>24</td>\n",
       "      <td>2011-01-06 16:41:00</td>\n",
       "      <td>0.0</td>\n",
       "      <td>13081.0</td>\n",
       "      <td>United Kingdom</td>\n",
       "    </tr>\n",
       "    <tr>\n",
       "      <th>47070</th>\n",
       "      <td>540372</td>\n",
       "      <td>22553</td>\n",
       "      <td>PLASTERS IN TIN SKULLS</td>\n",
       "      <td>24</td>\n",
       "      <td>2011-01-06 16:41:00</td>\n",
       "      <td>0.0</td>\n",
       "      <td>13081.0</td>\n",
       "      <td>United Kingdom</td>\n",
       "    </tr>\n",
       "    <tr>\n",
       "      <th>56674</th>\n",
       "      <td>541109</td>\n",
       "      <td>22168</td>\n",
       "      <td>ORGANISER WOOD ANTIQUE WHITE</td>\n",
       "      <td>1</td>\n",
       "      <td>2011-01-13 15:10:00</td>\n",
       "      <td>0.0</td>\n",
       "      <td>15107.0</td>\n",
       "      <td>United Kingdom</td>\n",
       "    </tr>\n",
       "    <tr>\n",
       "      <th>86789</th>\n",
       "      <td>543599</td>\n",
       "      <td>84535B</td>\n",
       "      <td>FAIRY CAKES NOTEBOOK A6 SIZE</td>\n",
       "      <td>16</td>\n",
       "      <td>2011-02-10 13:08:00</td>\n",
       "      <td>0.0</td>\n",
       "      <td>17560.0</td>\n",
       "      <td>United Kingdom</td>\n",
       "    </tr>\n",
       "    <tr>\n",
       "      <th>130188</th>\n",
       "      <td>547417</td>\n",
       "      <td>22062</td>\n",
       "      <td>CERAMIC BOWL WITH LOVE HEART DESIGN</td>\n",
       "      <td>36</td>\n",
       "      <td>2011-03-23 10:25:00</td>\n",
       "      <td>0.0</td>\n",
       "      <td>13239.0</td>\n",
       "      <td>United Kingdom</td>\n",
       "    </tr>\n",
       "    <tr>\n",
       "      <th>139453</th>\n",
       "      <td>548318</td>\n",
       "      <td>22055</td>\n",
       "      <td>MINI CAKE STAND  HANGING STRAWBERY</td>\n",
       "      <td>5</td>\n",
       "      <td>2011-03-30 12:45:00</td>\n",
       "      <td>0.0</td>\n",
       "      <td>13113.0</td>\n",
       "      <td>United Kingdom</td>\n",
       "    </tr>\n",
       "    <tr>\n",
       "      <th>145208</th>\n",
       "      <td>548871</td>\n",
       "      <td>22162</td>\n",
       "      <td>HEART GARLAND RUSTIC PADDED</td>\n",
       "      <td>2</td>\n",
       "      <td>2011-04-04 14:42:00</td>\n",
       "      <td>0.0</td>\n",
       "      <td>14410.0</td>\n",
       "      <td>United Kingdom</td>\n",
       "    </tr>\n",
       "  </tbody>\n",
       "</table>\n",
       "</div>"
      ],
      "text/plain": [
       "       InvoiceNo StockCode                          Description  Quantity  \\\n",
       "9302      537197     22841         ROUND CAKE TIN VINTAGE GREEN         1   \n",
       "33576     539263     22580         ADVENT CALENDAR GINGHAM SACK         4   \n",
       "40089     539722     22423             REGENCY CAKESTAND 3 TIER        10   \n",
       "47068     540372     22090              PAPER BUNTING RETROSPOT        24   \n",
       "47070     540372     22553               PLASTERS IN TIN SKULLS        24   \n",
       "56674     541109     22168        ORGANISER WOOD ANTIQUE WHITE          1   \n",
       "86789     543599    84535B         FAIRY CAKES NOTEBOOK A6 SIZE        16   \n",
       "130188    547417     22062  CERAMIC BOWL WITH LOVE HEART DESIGN        36   \n",
       "139453    548318     22055   MINI CAKE STAND  HANGING STRAWBERY         5   \n",
       "145208    548871     22162          HEART GARLAND RUSTIC PADDED         2   \n",
       "\n",
       "               InvoiceDate  UnitPrice  CustomerID         Country  \n",
       "9302   2010-12-05 14:02:00        0.0     12647.0         Germany  \n",
       "33576  2010-12-16 14:36:00        0.0     16560.0  United Kingdom  \n",
       "40089  2010-12-21 13:45:00        0.0     14911.0            EIRE  \n",
       "47068  2011-01-06 16:41:00        0.0     13081.0  United Kingdom  \n",
       "47070  2011-01-06 16:41:00        0.0     13081.0  United Kingdom  \n",
       "56674  2011-01-13 15:10:00        0.0     15107.0  United Kingdom  \n",
       "86789  2011-02-10 13:08:00        0.0     17560.0  United Kingdom  \n",
       "130188 2011-03-23 10:25:00        0.0     13239.0  United Kingdom  \n",
       "139453 2011-03-30 12:45:00        0.0     13113.0  United Kingdom  \n",
       "145208 2011-04-04 14:42:00        0.0     14410.0  United Kingdom  "
      ]
     },
     "execution_count": 36,
     "metadata": {},
     "output_type": "execute_result"
    }
   ],
   "source": [
    "# min- unitprice = 0 이기때문에 해당 값 찾기 \n",
    "df_na_treat[df_na_treat.UnitPrice == 0].head(10)"
   ]
  },
  {
   "cell_type": "markdown",
   "metadata": {
    "id": "9B6q9potb4oV"
   },
   "source": [
    "### 4.2 EDA(Exploratory Data Analysis)\n"
   ]
  },
  {
   "cell_type": "code",
   "execution_count": 37,
   "metadata": {
    "colab": {
     "base_uri": "https://localhost:8080/",
     "height": 300
    },
    "executionInfo": {
     "elapsed": 338,
     "status": "ok",
     "timestamp": 1668148791123,
     "user": {
      "displayName": "강현욱",
      "userId": "07194546442434465172"
     },
     "user_tz": -540
    },
    "id": "mHeqsQnP7eG_",
    "outputId": "9b921f90-1143-4a25-ccea-f526f7958c64"
   },
   "outputs": [
    {
     "data": {
      "text/html": [
       "<div>\n",
       "<style scoped>\n",
       "    .dataframe tbody tr th:only-of-type {\n",
       "        vertical-align: middle;\n",
       "    }\n",
       "\n",
       "    .dataframe tbody tr th {\n",
       "        vertical-align: top;\n",
       "    }\n",
       "\n",
       "    .dataframe thead th {\n",
       "        text-align: right;\n",
       "    }\n",
       "</style>\n",
       "<table border=\"1\" class=\"dataframe\">\n",
       "  <thead>\n",
       "    <tr style=\"text-align: right;\">\n",
       "      <th></th>\n",
       "      <th>Quantity</th>\n",
       "      <th>UnitPrice</th>\n",
       "      <th>CustomerID</th>\n",
       "    </tr>\n",
       "  </thead>\n",
       "  <tbody>\n",
       "    <tr>\n",
       "      <th>count</th>\n",
       "      <td>406829.000000</td>\n",
       "      <td>406829.000000</td>\n",
       "      <td>406829.000000</td>\n",
       "    </tr>\n",
       "    <tr>\n",
       "      <th>mean</th>\n",
       "      <td>12.061303</td>\n",
       "      <td>3.460471</td>\n",
       "      <td>15287.690570</td>\n",
       "    </tr>\n",
       "    <tr>\n",
       "      <th>std</th>\n",
       "      <td>248.693370</td>\n",
       "      <td>69.315162</td>\n",
       "      <td>1713.600303</td>\n",
       "    </tr>\n",
       "    <tr>\n",
       "      <th>min</th>\n",
       "      <td>-80995.000000</td>\n",
       "      <td>0.000000</td>\n",
       "      <td>12346.000000</td>\n",
       "    </tr>\n",
       "    <tr>\n",
       "      <th>25%</th>\n",
       "      <td>2.000000</td>\n",
       "      <td>1.250000</td>\n",
       "      <td>13953.000000</td>\n",
       "    </tr>\n",
       "    <tr>\n",
       "      <th>50%</th>\n",
       "      <td>5.000000</td>\n",
       "      <td>1.950000</td>\n",
       "      <td>15152.000000</td>\n",
       "    </tr>\n",
       "    <tr>\n",
       "      <th>75%</th>\n",
       "      <td>12.000000</td>\n",
       "      <td>3.750000</td>\n",
       "      <td>16791.000000</td>\n",
       "    </tr>\n",
       "    <tr>\n",
       "      <th>max</th>\n",
       "      <td>80995.000000</td>\n",
       "      <td>38970.000000</td>\n",
       "      <td>18287.000000</td>\n",
       "    </tr>\n",
       "  </tbody>\n",
       "</table>\n",
       "</div>"
      ],
      "text/plain": [
       "            Quantity      UnitPrice     CustomerID\n",
       "count  406829.000000  406829.000000  406829.000000\n",
       "mean       12.061303       3.460471   15287.690570\n",
       "std       248.693370      69.315162    1713.600303\n",
       "min    -80995.000000       0.000000   12346.000000\n",
       "25%         2.000000       1.250000   13953.000000\n",
       "50%         5.000000       1.950000   15152.000000\n",
       "75%        12.000000       3.750000   16791.000000\n",
       "max     80995.000000   38970.000000   18287.000000"
      ]
     },
     "execution_count": 37,
     "metadata": {},
     "output_type": "execute_result"
    }
   ],
   "source": [
    "# 연속형 변수의 대략적인 분포 확인 \n",
    "df_na_treat.describe()\n",
    "\n",
    "# 확인 필요한 부분 \n",
    "## 1. Quantity 음수와 매우 큰수가 있다. \n",
    "## 2. 가격의 max 값이 너무 크다 이상치일 가능성이 있다. \n"
   ]
  },
  {
   "cell_type": "markdown",
   "metadata": {},
   "source": [
    "Seaborn boxplot 참고 :  https://life-of-panda.tistory.com/108"
   ]
  },
  {
   "cell_type": "code",
   "execution_count": 40,
   "metadata": {
    "colab": {
     "base_uri": "https://localhost:8080/",
     "height": 335
    },
    "executionInfo": {
     "elapsed": 754,
     "status": "ok",
     "timestamp": 1668148791872,
     "user": {
      "displayName": "강현욱",
      "userId": "07194546442434465172"
     },
     "user_tz": -540
    },
    "id": "kzoNd88s5D-Z",
    "outputId": "6030a671-b66c-43b1-d688-b713e956701f"
   },
   "outputs": [
    {
     "data": {
      "image/png": "[encoded data removed]",
      "text/plain": [
       "<Figure size 432x288 with 1 Axes>"
      ]
     },
     "metadata": {
      "needs_background": "light"
     },
     "output_type": "display_data"
    }
   ],
   "source": [
    "# 한번에 구매하는 수량의 분포는 어떻게 되는가 ? \n",
    "sns.boxplot(x=df_na_treat['Quantity'])\n",
    "plt.xlim(-10,200)\n",
    "plt.show()\n"
   ]
  },
  {
   "cell_type": "code",
   "execution_count": 41,
   "metadata": {
    "colab": {
     "base_uri": "https://localhost:8080/"
    },
    "executionInfo": {
     "elapsed": 11,
     "status": "ok",
     "timestamp": 1668148791873,
     "user": {
      "displayName": "강현욱",
      "userId": "07194546442434465172"
     },
     "user_tz": -540
    },
    "id": "MmoeqEgRAbjV",
    "outputId": "9bfc6945-49ec-4b54-b4df-4ceb100aaf50"
   },
   "outputs": [
    {
     "data": {
      "text/plain": [
       "120"
      ]
     },
     "execution_count": 41,
     "metadata": {},
     "output_type": "execute_result"
    }
   ],
   "source": [
    "df_na_treat['Quantity'].quantile(q=0.99,  interpolation='nearest')"
   ]
  },
  {
   "cell_type": "code",
   "execution_count": 42,
   "metadata": {
    "colab": {
     "base_uri": "https://localhost:8080/",
     "height": 335
    },
    "executionInfo": {
     "elapsed": 0,
     "status": "ok",
     "timestamp": 1668148816838,
     "user": {
      "displayName": "강현욱",
      "userId": "07194546442434465172"
     },
     "user_tz": -540
    },
    "id": "nQzI8aKg_0vz",
    "outputId": "57ec32e3-d808-401d-96ce-723c38a25d27"
   },
   "outputs": [
    {
     "data": {
      "image/png": "[encoded data removed]",
      "text/plain": [
       "<Figure size 360x360 with 1 Axes>"
      ]
     },
     "metadata": {
      "needs_background": "light"
     },
     "output_type": "display_data"
    }
   ],
   "source": [
    "#분포 확인하기\n",
    "sns.displot(df_na_treat['Quantity'], bins = 10000)\n",
    "plt.xlim(-10,150)\n",
    "plt.show()"
   ]
  },
  {
   "cell_type": "markdown",
   "metadata": {
    "id": "CcDE0F334-A0"
   },
   "source": [
    "#### UnitPrice"
   ]
  },
  {
   "cell_type": "code",
   "execution_count": 43,
   "metadata": {
    "colab": {
     "base_uri": "https://localhost:8080/",
     "height": 0
    },
    "executionInfo": {
     "elapsed": 0,
     "status": "ok",
     "timestamp": 1668148816850,
     "user": {
      "displayName": "강현욱",
      "userId": "07194546442434465172"
     },
     "user_tz": -540
    },
    "id": "4Ra9GwWWaYaz",
    "outputId": "a982c9df-1bf9-4405-a413-2b96d6d129c8"
   },
   "outputs": [
    {
     "data": {
      "text/plain": [
       "<AxesSubplot:xlabel='UnitPrice'>"
      ]
     },
     "execution_count": 43,
     "metadata": {},
     "output_type": "execute_result"
    },
    {
     "data": {
      "image/png": "[encoded data removed]",
      "text/plain": [
       "<Figure size 432x288 with 1 Axes>"
      ]
     },
     "metadata": {
      "needs_background": "light"
     },
     "output_type": "display_data"
    }
   ],
   "source": [
    "#sns.boxplot(df_na_treat['UnitPrice'])\n",
    "sns.boxplot(x = df_na_treat['UnitPrice'])"
   ]
  },
  {
   "cell_type": "code",
   "execution_count": 44,
   "metadata": {
    "colab": {
     "base_uri": "https://localhost:8080/",
     "height": 0
    },
    "executionInfo": {
     "elapsed": 0,
     "status": "ok",
     "timestamp": 1668148816852,
     "user": {
      "displayName": "강현욱",
      "userId": "07194546442434465172"
     },
     "user_tz": -540
    },
    "id": "mYv3O-00aYR4",
    "outputId": "3fe0971c-9e87-4473-92e9-0585474c37e5"
   },
   "outputs": [
    {
     "data": {
      "text/plain": [
       "(-10.0, 100.0)"
      ]
     },
     "execution_count": 44,
     "metadata": {},
     "output_type": "execute_result"
    },
    {
     "data": {
      "image/png": "[encoded data removed]",
      "text/plain": [
       "<Figure size 432x288 with 1 Axes>"
      ]
     },
     "metadata": {
      "needs_background": "light"
     },
     "output_type": "display_data"
    }
   ],
   "source": [
    "sns.boxplot(x= df_na_treat['UnitPrice'])\n",
    "plt.xlim(-10,100)"
   ]
  },
  {
   "cell_type": "code",
   "execution_count": 46,
   "metadata": {
    "colab": {
     "base_uri": "https://localhost:8080/",
     "height": 0
    },
    "executionInfo": {
     "elapsed": 8867,
     "status": "ok",
     "timestamp": 1668148825589,
     "user": {
      "displayName": "강현욱",
      "userId": "07194546442434465172"
     },
     "user_tz": -540
    },
    "id": "qEZ8KJisb6S4",
    "outputId": "2f556efc-61b2-4fa4-d0e5-fec91c6d04e5"
   },
   "outputs": [
    {
     "data": {
      "image/png": "[encoded data removed]",
      "text/plain": [
       "<Figure size 432x288 with 1 Axes>"
      ]
     },
     "metadata": {
      "needs_background": "light"
     },
     "output_type": "display_data"
    }
   ],
   "source": [
    "sns.distplot(x = df_na_treat['UnitPrice'], hist = True, kde = False, rug = False, bins =10000)\n",
    "plt.xlim(0,50)\n",
    "plt.show()"
   ]
  },
  {
   "cell_type": "code",
   "execution_count": 47,
   "metadata": {
    "id": "xCuUkAaraYOE"
   },
   "outputs": [
    {
     "data": {
      "text/html": [
       "<div>\n",
       "<style scoped>\n",
       "    .dataframe tbody tr th:only-of-type {\n",
       "        vertical-align: middle;\n",
       "    }\n",
       "\n",
       "    .dataframe tbody tr th {\n",
       "        vertical-align: top;\n",
       "    }\n",
       "\n",
       "    .dataframe thead th {\n",
       "        text-align: right;\n",
       "    }\n",
       "</style>\n",
       "<table border=\"1\" class=\"dataframe\">\n",
       "  <thead>\n",
       "    <tr style=\"text-align: right;\">\n",
       "      <th></th>\n",
       "      <th>InvoiceNo</th>\n",
       "      <th>StockCode</th>\n",
       "      <th>Description</th>\n",
       "      <th>Quantity</th>\n",
       "      <th>InvoiceDate</th>\n",
       "      <th>UnitPrice</th>\n",
       "      <th>CustomerID</th>\n",
       "      <th>Country</th>\n",
       "    </tr>\n",
       "  </thead>\n",
       "  <tbody>\n",
       "    <tr>\n",
       "      <th>45622</th>\n",
       "      <td>C540271</td>\n",
       "      <td>M</td>\n",
       "      <td>Manual</td>\n",
       "      <td>-1</td>\n",
       "      <td>2011-01-06 11:51:00</td>\n",
       "      <td>1126.00</td>\n",
       "      <td>12503.0</td>\n",
       "      <td>Spain</td>\n",
       "    </tr>\n",
       "    <tr>\n",
       "      <th>73446</th>\n",
       "      <td>C542348</td>\n",
       "      <td>M</td>\n",
       "      <td>Manual</td>\n",
       "      <td>-1</td>\n",
       "      <td>2011-01-27 12:09:00</td>\n",
       "      <td>1715.85</td>\n",
       "      <td>12539.0</td>\n",
       "      <td>Spain</td>\n",
       "    </tr>\n",
       "    <tr>\n",
       "      <th>117052</th>\n",
       "      <td>C546325</td>\n",
       "      <td>M</td>\n",
       "      <td>Manual</td>\n",
       "      <td>-1</td>\n",
       "      <td>2011-03-11 10:15:00</td>\n",
       "      <td>1687.17</td>\n",
       "      <td>14911.0</td>\n",
       "      <td>EIRE</td>\n",
       "    </tr>\n",
       "    <tr>\n",
       "      <th>117053</th>\n",
       "      <td>C546327</td>\n",
       "      <td>M</td>\n",
       "      <td>Manual</td>\n",
       "      <td>-1</td>\n",
       "      <td>2011-03-11 10:18:00</td>\n",
       "      <td>1687.17</td>\n",
       "      <td>14911.0</td>\n",
       "      <td>EIRE</td>\n",
       "    </tr>\n",
       "    <tr>\n",
       "      <th>117054</th>\n",
       "      <td>546328</td>\n",
       "      <td>M</td>\n",
       "      <td>Manual</td>\n",
       "      <td>1</td>\n",
       "      <td>2011-03-11 10:19:00</td>\n",
       "      <td>1687.17</td>\n",
       "      <td>14911.0</td>\n",
       "      <td>EIRE</td>\n",
       "    </tr>\n",
       "    <tr>\n",
       "      <th>117055</th>\n",
       "      <td>546329</td>\n",
       "      <td>M</td>\n",
       "      <td>Manual</td>\n",
       "      <td>1</td>\n",
       "      <td>2011-03-11 10:22:00</td>\n",
       "      <td>1687.17</td>\n",
       "      <td>14911.0</td>\n",
       "      <td>EIRE</td>\n",
       "    </tr>\n",
       "    <tr>\n",
       "      <th>144826</th>\n",
       "      <td>548813</td>\n",
       "      <td>M</td>\n",
       "      <td>Manual</td>\n",
       "      <td>1</td>\n",
       "      <td>2011-04-04 13:03:00</td>\n",
       "      <td>2382.92</td>\n",
       "      <td>12744.0</td>\n",
       "      <td>Singapore</td>\n",
       "    </tr>\n",
       "    <tr>\n",
       "      <th>144828</th>\n",
       "      <td>548813</td>\n",
       "      <td>M</td>\n",
       "      <td>Manual</td>\n",
       "      <td>1</td>\n",
       "      <td>2011-04-04 13:03:00</td>\n",
       "      <td>1252.95</td>\n",
       "      <td>12744.0</td>\n",
       "      <td>Singapore</td>\n",
       "    </tr>\n",
       "    <tr>\n",
       "      <th>144829</th>\n",
       "      <td>548820</td>\n",
       "      <td>M</td>\n",
       "      <td>Manual</td>\n",
       "      <td>1</td>\n",
       "      <td>2011-04-04 13:04:00</td>\n",
       "      <td>2053.07</td>\n",
       "      <td>12744.0</td>\n",
       "      <td>Singapore</td>\n",
       "    </tr>\n",
       "    <tr>\n",
       "      <th>144831</th>\n",
       "      <td>C548830</td>\n",
       "      <td>M</td>\n",
       "      <td>Manual</td>\n",
       "      <td>-1</td>\n",
       "      <td>2011-04-04 13:08:00</td>\n",
       "      <td>2382.92</td>\n",
       "      <td>12744.0</td>\n",
       "      <td>Singapore</td>\n",
       "    </tr>\n",
       "    <tr>\n",
       "      <th>144833</th>\n",
       "      <td>C548830</td>\n",
       "      <td>M</td>\n",
       "      <td>Manual</td>\n",
       "      <td>-1</td>\n",
       "      <td>2011-04-04 13:08:00</td>\n",
       "      <td>1252.95</td>\n",
       "      <td>12744.0</td>\n",
       "      <td>Singapore</td>\n",
       "    </tr>\n",
       "    <tr>\n",
       "      <th>144834</th>\n",
       "      <td>C548834</td>\n",
       "      <td>M</td>\n",
       "      <td>Manual</td>\n",
       "      <td>-1</td>\n",
       "      <td>2011-04-04 13:09:00</td>\n",
       "      <td>2053.07</td>\n",
       "      <td>12744.0</td>\n",
       "      <td>Singapore</td>\n",
       "    </tr>\n",
       "    <tr>\n",
       "      <th>145831</th>\n",
       "      <td>548913</td>\n",
       "      <td>M</td>\n",
       "      <td>Manual</td>\n",
       "      <td>1</td>\n",
       "      <td>2011-04-05 09:45:00</td>\n",
       "      <td>1136.30</td>\n",
       "      <td>12669.0</td>\n",
       "      <td>France</td>\n",
       "    </tr>\n",
       "    <tr>\n",
       "      <th>145832</th>\n",
       "      <td>C548914</td>\n",
       "      <td>M</td>\n",
       "      <td>Manual</td>\n",
       "      <td>-1</td>\n",
       "      <td>2011-04-05 09:46:00</td>\n",
       "      <td>1136.30</td>\n",
       "      <td>12669.0</td>\n",
       "      <td>France</td>\n",
       "    </tr>\n",
       "    <tr>\n",
       "      <th>150591</th>\n",
       "      <td>C549452</td>\n",
       "      <td>D</td>\n",
       "      <td>Discount</td>\n",
       "      <td>-1</td>\n",
       "      <td>2011-04-08 14:17:00</td>\n",
       "      <td>1867.86</td>\n",
       "      <td>17940.0</td>\n",
       "      <td>United Kingdom</td>\n",
       "    </tr>\n",
       "    <tr>\n",
       "      <th>150615</th>\n",
       "      <td>549468</td>\n",
       "      <td>M</td>\n",
       "      <td>Manual</td>\n",
       "      <td>1</td>\n",
       "      <td>2011-04-08 14:27:00</td>\n",
       "      <td>1867.86</td>\n",
       "      <td>17940.0</td>\n",
       "      <td>United Kingdom</td>\n",
       "    </tr>\n",
       "    <tr>\n",
       "      <th>173277</th>\n",
       "      <td>C551685</td>\n",
       "      <td>POST</td>\n",
       "      <td>POSTAGE</td>\n",
       "      <td>-1</td>\n",
       "      <td>2011-05-03 12:51:00</td>\n",
       "      <td>8142.75</td>\n",
       "      <td>16029.0</td>\n",
       "      <td>United Kingdom</td>\n",
       "    </tr>\n",
       "    <tr>\n",
       "      <th>173382</th>\n",
       "      <td>551697</td>\n",
       "      <td>POST</td>\n",
       "      <td>POSTAGE</td>\n",
       "      <td>1</td>\n",
       "      <td>2011-05-03 13:46:00</td>\n",
       "      <td>8142.75</td>\n",
       "      <td>16029.0</td>\n",
       "      <td>United Kingdom</td>\n",
       "    </tr>\n",
       "    <tr>\n",
       "      <th>173391</th>\n",
       "      <td>C551699</td>\n",
       "      <td>M</td>\n",
       "      <td>Manual</td>\n",
       "      <td>-1</td>\n",
       "      <td>2011-05-03 14:12:00</td>\n",
       "      <td>6930.00</td>\n",
       "      <td>16029.0</td>\n",
       "      <td>United Kingdom</td>\n",
       "    </tr>\n",
       "    <tr>\n",
       "      <th>200744</th>\n",
       "      <td>C554154</td>\n",
       "      <td>M</td>\n",
       "      <td>Manual</td>\n",
       "      <td>-1</td>\n",
       "      <td>2011-05-23 11:24:00</td>\n",
       "      <td>1241.98</td>\n",
       "      <td>12757.0</td>\n",
       "      <td>Portugal</td>\n",
       "    </tr>\n",
       "    <tr>\n",
       "      <th>200745</th>\n",
       "      <td>554155</td>\n",
       "      <td>M</td>\n",
       "      <td>Manual</td>\n",
       "      <td>1</td>\n",
       "      <td>2011-05-23 11:26:00</td>\n",
       "      <td>1241.98</td>\n",
       "      <td>12757.0</td>\n",
       "      <td>Portugal</td>\n",
       "    </tr>\n",
       "    <tr>\n",
       "      <th>201553</th>\n",
       "      <td>554301</td>\n",
       "      <td>M</td>\n",
       "      <td>Manual</td>\n",
       "      <td>1</td>\n",
       "      <td>2011-05-23 14:46:00</td>\n",
       "      <td>1241.98</td>\n",
       "      <td>12757.0</td>\n",
       "      <td>Portugal</td>\n",
       "    </tr>\n",
       "    <tr>\n",
       "      <th>201554</th>\n",
       "      <td>C554302</td>\n",
       "      <td>M</td>\n",
       "      <td>Manual</td>\n",
       "      <td>-1</td>\n",
       "      <td>2011-05-23 14:50:00</td>\n",
       "      <td>1241.98</td>\n",
       "      <td>12757.0</td>\n",
       "      <td>Portugal</td>\n",
       "    </tr>\n",
       "    <tr>\n",
       "      <th>222681</th>\n",
       "      <td>C556445</td>\n",
       "      <td>M</td>\n",
       "      <td>Manual</td>\n",
       "      <td>-1</td>\n",
       "      <td>2011-06-10 15:31:00</td>\n",
       "      <td>38970.00</td>\n",
       "      <td>15098.0</td>\n",
       "      <td>United Kingdom</td>\n",
       "    </tr>\n",
       "    <tr>\n",
       "      <th>268027</th>\n",
       "      <td>C560372</td>\n",
       "      <td>M</td>\n",
       "      <td>Manual</td>\n",
       "      <td>-1</td>\n",
       "      <td>2011-07-18 12:26:00</td>\n",
       "      <td>4287.63</td>\n",
       "      <td>17448.0</td>\n",
       "      <td>United Kingdom</td>\n",
       "    </tr>\n",
       "    <tr>\n",
       "      <th>268431</th>\n",
       "      <td>C560420</td>\n",
       "      <td>M</td>\n",
       "      <td>Manual</td>\n",
       "      <td>-1</td>\n",
       "      <td>2011-07-18 15:11:00</td>\n",
       "      <td>1592.49</td>\n",
       "      <td>15369.0</td>\n",
       "      <td>United Kingdom</td>\n",
       "    </tr>\n",
       "    <tr>\n",
       "      <th>271151</th>\n",
       "      <td>C560647</td>\n",
       "      <td>M</td>\n",
       "      <td>Manual</td>\n",
       "      <td>-1</td>\n",
       "      <td>2011-07-20 11:31:00</td>\n",
       "      <td>3060.60</td>\n",
       "      <td>18102.0</td>\n",
       "      <td>United Kingdom</td>\n",
       "    </tr>\n",
       "    <tr>\n",
       "      <th>293842</th>\n",
       "      <td>C562647</td>\n",
       "      <td>M</td>\n",
       "      <td>Manual</td>\n",
       "      <td>-1</td>\n",
       "      <td>2011-08-08 12:56:00</td>\n",
       "      <td>3155.95</td>\n",
       "      <td>15502.0</td>\n",
       "      <td>United Kingdom</td>\n",
       "    </tr>\n",
       "    <tr>\n",
       "      <th>297369</th>\n",
       "      <td>C562938</td>\n",
       "      <td>M</td>\n",
       "      <td>Manual</td>\n",
       "      <td>-1</td>\n",
       "      <td>2011-08-10 17:14:00</td>\n",
       "      <td>1121.18</td>\n",
       "      <td>14156.0</td>\n",
       "      <td>EIRE</td>\n",
       "    </tr>\n",
       "    <tr>\n",
       "      <th>297438</th>\n",
       "      <td>562946</td>\n",
       "      <td>M</td>\n",
       "      <td>Manual</td>\n",
       "      <td>1</td>\n",
       "      <td>2011-08-11 09:38:00</td>\n",
       "      <td>2500.00</td>\n",
       "      <td>15581.0</td>\n",
       "      <td>United Kingdom</td>\n",
       "    </tr>\n",
       "    <tr>\n",
       "      <th>342996</th>\n",
       "      <td>C566925</td>\n",
       "      <td>M</td>\n",
       "      <td>Manual</td>\n",
       "      <td>-1</td>\n",
       "      <td>2011-09-15 15:18:00</td>\n",
       "      <td>1829.84</td>\n",
       "      <td>12748.0</td>\n",
       "      <td>United Kingdom</td>\n",
       "    </tr>\n",
       "    <tr>\n",
       "      <th>343000</th>\n",
       "      <td>566927</td>\n",
       "      <td>M</td>\n",
       "      <td>Manual</td>\n",
       "      <td>1</td>\n",
       "      <td>2011-09-15 15:20:00</td>\n",
       "      <td>2033.10</td>\n",
       "      <td>17846.0</td>\n",
       "      <td>United Kingdom</td>\n",
       "    </tr>\n",
       "    <tr>\n",
       "      <th>374542</th>\n",
       "      <td>569382</td>\n",
       "      <td>M</td>\n",
       "      <td>Manual</td>\n",
       "      <td>1</td>\n",
       "      <td>2011-10-03 16:44:00</td>\n",
       "      <td>3155.95</td>\n",
       "      <td>15502.0</td>\n",
       "      <td>United Kingdom</td>\n",
       "    </tr>\n",
       "    <tr>\n",
       "      <th>406404</th>\n",
       "      <td>C571750</td>\n",
       "      <td>M</td>\n",
       "      <td>Manual</td>\n",
       "      <td>-1</td>\n",
       "      <td>2011-10-19 11:16:00</td>\n",
       "      <td>3949.32</td>\n",
       "      <td>12744.0</td>\n",
       "      <td>Singapore</td>\n",
       "    </tr>\n",
       "    <tr>\n",
       "      <th>406405</th>\n",
       "      <td>C571750</td>\n",
       "      <td>M</td>\n",
       "      <td>Manual</td>\n",
       "      <td>-1</td>\n",
       "      <td>2011-10-19 11:16:00</td>\n",
       "      <td>2118.74</td>\n",
       "      <td>12744.0</td>\n",
       "      <td>Singapore</td>\n",
       "    </tr>\n",
       "    <tr>\n",
       "      <th>406406</th>\n",
       "      <td>571751</td>\n",
       "      <td>M</td>\n",
       "      <td>Manual</td>\n",
       "      <td>1</td>\n",
       "      <td>2011-10-19 11:18:00</td>\n",
       "      <td>3949.32</td>\n",
       "      <td>12744.0</td>\n",
       "      <td>Singapore</td>\n",
       "    </tr>\n",
       "    <tr>\n",
       "      <th>406407</th>\n",
       "      <td>571751</td>\n",
       "      <td>M</td>\n",
       "      <td>Manual</td>\n",
       "      <td>1</td>\n",
       "      <td>2011-10-19 11:18:00</td>\n",
       "      <td>2118.74</td>\n",
       "      <td>12744.0</td>\n",
       "      <td>Singapore</td>\n",
       "    </tr>\n",
       "    <tr>\n",
       "      <th>422351</th>\n",
       "      <td>573077</td>\n",
       "      <td>M</td>\n",
       "      <td>Manual</td>\n",
       "      <td>1</td>\n",
       "      <td>2011-10-27 14:13:00</td>\n",
       "      <td>4161.06</td>\n",
       "      <td>12536.0</td>\n",
       "      <td>France</td>\n",
       "    </tr>\n",
       "    <tr>\n",
       "      <th>422375</th>\n",
       "      <td>C573079</td>\n",
       "      <td>M</td>\n",
       "      <td>Manual</td>\n",
       "      <td>-2</td>\n",
       "      <td>2011-10-27 14:15:00</td>\n",
       "      <td>4161.06</td>\n",
       "      <td>12536.0</td>\n",
       "      <td>France</td>\n",
       "    </tr>\n",
       "    <tr>\n",
       "      <th>422376</th>\n",
       "      <td>573080</td>\n",
       "      <td>M</td>\n",
       "      <td>Manual</td>\n",
       "      <td>1</td>\n",
       "      <td>2011-10-27 14:20:00</td>\n",
       "      <td>4161.06</td>\n",
       "      <td>12536.0</td>\n",
       "      <td>France</td>\n",
       "    </tr>\n",
       "    <tr>\n",
       "      <th>467436</th>\n",
       "      <td>576339</td>\n",
       "      <td>DOT</td>\n",
       "      <td>DOTCOM POSTAGE</td>\n",
       "      <td>1</td>\n",
       "      <td>2011-11-14 15:27:00</td>\n",
       "      <td>1500.36</td>\n",
       "      <td>14096.0</td>\n",
       "      <td>United Kingdom</td>\n",
       "    </tr>\n",
       "    <tr>\n",
       "      <th>467437</th>\n",
       "      <td>C576338</td>\n",
       "      <td>CRUK</td>\n",
       "      <td>CRUK Commission</td>\n",
       "      <td>-1</td>\n",
       "      <td>2011-11-14 15:27:00</td>\n",
       "      <td>1038.75</td>\n",
       "      <td>14096.0</td>\n",
       "      <td>United Kingdom</td>\n",
       "    </tr>\n",
       "    <tr>\n",
       "      <th>494728</th>\n",
       "      <td>578270</td>\n",
       "      <td>DOT</td>\n",
       "      <td>DOTCOM POSTAGE</td>\n",
       "      <td>1</td>\n",
       "      <td>2011-11-23 13:39:00</td>\n",
       "      <td>1270.06</td>\n",
       "      <td>14096.0</td>\n",
       "      <td>United Kingdom</td>\n",
       "    </tr>\n",
       "    <tr>\n",
       "      <th>508459</th>\n",
       "      <td>579196</td>\n",
       "      <td>DOT</td>\n",
       "      <td>DOTCOM POSTAGE</td>\n",
       "      <td>1</td>\n",
       "      <td>2011-11-28 15:54:00</td>\n",
       "      <td>1526.76</td>\n",
       "      <td>14096.0</td>\n",
       "      <td>United Kingdom</td>\n",
       "    </tr>\n",
       "    <tr>\n",
       "      <th>528082</th>\n",
       "      <td>580727</td>\n",
       "      <td>DOT</td>\n",
       "      <td>DOTCOM POSTAGE</td>\n",
       "      <td>1</td>\n",
       "      <td>2011-12-05 17:17:00</td>\n",
       "      <td>1599.26</td>\n",
       "      <td>14096.0</td>\n",
       "      <td>United Kingdom</td>\n",
       "    </tr>\n",
       "    <tr>\n",
       "      <th>528087</th>\n",
       "      <td>C580726</td>\n",
       "      <td>CRUK</td>\n",
       "      <td>CRUK Commission</td>\n",
       "      <td>-1</td>\n",
       "      <td>2011-12-05 17:17:00</td>\n",
       "      <td>1100.44</td>\n",
       "      <td>14096.0</td>\n",
       "      <td>United Kingdom</td>\n",
       "    </tr>\n",
       "  </tbody>\n",
       "</table>\n",
       "</div>"
      ],
      "text/plain": [
       "       InvoiceNo StockCode      Description  Quantity         InvoiceDate  \\\n",
       "45622    C540271         M           Manual        -1 2011-01-06 11:51:00   \n",
       "73446    C542348         M           Manual        -1 2011-01-27 12:09:00   \n",
       "117052   C546325         M           Manual        -1 2011-03-11 10:15:00   \n",
       "117053   C546327         M           Manual        -1 2011-03-11 10:18:00   \n",
       "117054    546328         M           Manual         1 2011-03-11 10:19:00   \n",
       "117055    546329         M           Manual         1 2011-03-11 10:22:00   \n",
       "144826    548813         M           Manual         1 2011-04-04 13:03:00   \n",
       "144828    548813         M           Manual         1 2011-04-04 13:03:00   \n",
       "144829    548820         M           Manual         1 2011-04-04 13:04:00   \n",
       "144831   C548830         M           Manual        -1 2011-04-04 13:08:00   \n",
       "144833   C548830         M           Manual        -1 2011-04-04 13:08:00   \n",
       "144834   C548834         M           Manual        -1 2011-04-04 13:09:00   \n",
       "145831    548913         M           Manual         1 2011-04-05 09:45:00   \n",
       "145832   C548914         M           Manual        -1 2011-04-05 09:46:00   \n",
       "150591   C549452         D         Discount        -1 2011-04-08 14:17:00   \n",
       "150615    549468         M           Manual         1 2011-04-08 14:27:00   \n",
       "173277   C551685      POST          POSTAGE        -1 2011-05-03 12:51:00   \n",
       "173382    551697      POST          POSTAGE         1 2011-05-03 13:46:00   \n",
       "173391   C551699         M           Manual        -1 2011-05-03 14:12:00   \n",
       "200744   C554154         M           Manual        -1 2011-05-23 11:24:00   \n",
       "200745    554155         M           Manual         1 2011-05-23 11:26:00   \n",
       "201553    554301         M           Manual         1 2011-05-23 14:46:00   \n",
       "201554   C554302         M           Manual        -1 2011-05-23 14:50:00   \n",
       "222681   C556445         M           Manual        -1 2011-06-10 15:31:00   \n",
       "268027   C560372         M           Manual        -1 2011-07-18 12:26:00   \n",
       "268431   C560420         M           Manual        -1 2011-07-18 15:11:00   \n",
       "271151   C560647         M           Manual        -1 2011-07-20 11:31:00   \n",
       "293842   C562647         M           Manual        -1 2011-08-08 12:56:00   \n",
       "297369   C562938         M           Manual        -1 2011-08-10 17:14:00   \n",
       "297438    562946         M           Manual         1 2011-08-11 09:38:00   \n",
       "342996   C566925         M           Manual        -1 2011-09-15 15:18:00   \n",
       "343000    566927         M           Manual         1 2011-09-15 15:20:00   \n",
       "374542    569382         M           Manual         1 2011-10-03 16:44:00   \n",
       "406404   C571750         M           Manual        -1 2011-10-19 11:16:00   \n",
       "406405   C571750         M           Manual        -1 2011-10-19 11:16:00   \n",
       "406406    571751         M           Manual         1 2011-10-19 11:18:00   \n",
       "406407    571751         M           Manual         1 2011-10-19 11:18:00   \n",
       "422351    573077         M           Manual         1 2011-10-27 14:13:00   \n",
       "422375   C573079         M           Manual        -2 2011-10-27 14:15:00   \n",
       "422376    573080         M           Manual         1 2011-10-27 14:20:00   \n",
       "467436    576339       DOT   DOTCOM POSTAGE         1 2011-11-14 15:27:00   \n",
       "467437   C576338      CRUK  CRUK Commission        -1 2011-11-14 15:27:00   \n",
       "494728    578270       DOT   DOTCOM POSTAGE         1 2011-11-23 13:39:00   \n",
       "508459    579196       DOT   DOTCOM POSTAGE         1 2011-11-28 15:54:00   \n",
       "528082    580727       DOT   DOTCOM POSTAGE         1 2011-12-05 17:17:00   \n",
       "528087   C580726      CRUK  CRUK Commission        -1 2011-12-05 17:17:00   \n",
       "\n",
       "        UnitPrice  CustomerID         Country  \n",
       "45622     1126.00     12503.0           Spain  \n",
       "73446     1715.85     12539.0           Spain  \n",
       "117052    1687.17     14911.0            EIRE  \n",
       "117053    1687.17     14911.0            EIRE  \n",
       "117054    1687.17     14911.0            EIRE  \n",
       "117055    1687.17     14911.0            EIRE  \n",
       "144826    2382.92     12744.0       Singapore  \n",
       "144828    1252.95     12744.0       Singapore  \n",
       "144829    2053.07     12744.0       Singapore  \n",
       "144831    2382.92     12744.0       Singapore  \n",
       "144833    1252.95     12744.0       Singapore  \n",
       "144834    2053.07     12744.0       Singapore  \n",
       "145831    1136.30     12669.0          France  \n",
       "145832    1136.30     12669.0          France  \n",
       "150591    1867.86     17940.0  United Kingdom  \n",
       "150615    1867.86     17940.0  United Kingdom  \n",
       "173277    8142.75     16029.0  United Kingdom  \n",
       "173382    8142.75     16029.0  United Kingdom  \n",
       "173391    6930.00     16029.0  United Kingdom  \n",
       "200744    1241.98     12757.0        Portugal  \n",
       "200745    1241.98     12757.0        Portugal  \n",
       "201553    1241.98     12757.0        Portugal  \n",
       "201554    1241.98     12757.0        Portugal  \n",
       "222681   38970.00     15098.0  United Kingdom  \n",
       "268027    4287.63     17448.0  United Kingdom  \n",
       "268431    1592.49     15369.0  United Kingdom  \n",
       "271151    3060.60     18102.0  United Kingdom  \n",
       "293842    3155.95     15502.0  United Kingdom  \n",
       "297369    1121.18     14156.0            EIRE  \n",
       "297438    2500.00     15581.0  United Kingdom  \n",
       "342996    1829.84     12748.0  United Kingdom  \n",
       "343000    2033.10     17846.0  United Kingdom  \n",
       "374542    3155.95     15502.0  United Kingdom  \n",
       "406404    3949.32     12744.0       Singapore  \n",
       "406405    2118.74     12744.0       Singapore  \n",
       "406406    3949.32     12744.0       Singapore  \n",
       "406407    2118.74     12744.0       Singapore  \n",
       "422351    4161.06     12536.0          France  \n",
       "422375    4161.06     12536.0          France  \n",
       "422376    4161.06     12536.0          France  \n",
       "467436    1500.36     14096.0  United Kingdom  \n",
       "467437    1038.75     14096.0  United Kingdom  \n",
       "494728    1270.06     14096.0  United Kingdom  \n",
       "508459    1526.76     14096.0  United Kingdom  \n",
       "528082    1599.26     14096.0  United Kingdom  \n",
       "528087    1100.44     14096.0  United Kingdom  "
      ]
     },
     "execution_count": 47,
     "metadata": {},
     "output_type": "execute_result"
    }
   ],
   "source": [
    "#  어떤 데이터인지 case 확인 \n",
    "df_na_treat[df_na_treat.UnitPrice >= 1000]"
   ]
  },
  {
   "cell_type": "code",
   "execution_count": 48,
   "metadata": {
    "id": "Ls7AqEILlK4Z"
   },
   "outputs": [
    {
     "data": {
      "text/plain": [
       "(46, 8)"
      ]
     },
     "execution_count": 48,
     "metadata": {},
     "output_type": "execute_result"
    }
   ],
   "source": [
    "# 값이 1000 이상인 case 갯수 확인\n",
    "df_na_treat[df_na_treat.UnitPrice >= 1000].shape"
   ]
  },
  {
   "cell_type": "markdown",
   "metadata": {
    "id": "-e2R7IEaE4Fh"
   },
   "source": [
    "#### InvoiceDate"
   ]
  },
  {
   "cell_type": "code",
   "execution_count": 49,
   "metadata": {
    "colab": {
     "base_uri": "https://localhost:8080/"
    },
    "executionInfo": {
     "elapsed": 108281,
     "status": "ok",
     "timestamp": 1668148933869,
     "user": {
      "displayName": "강현욱",
      "userId": "07194546442434465172"
     },
     "user_tz": -540
    },
    "id": "v82ZmMmtE_JO",
    "outputId": "b7a11474-4731-4e92-efd5-7a181e691f76"
   },
   "outputs": [
    {
     "name": "stdout",
     "output_type": "stream",
     "text": [
      "2010-12-01 08:26:00\n",
      "2011-12-09 12:50:00\n",
      "2011-11-06    3434\n",
      "2011-12-05    3398\n",
      "2011-11-23    3332\n",
      "2011-11-10    3194\n",
      "2011-11-20    3112\n",
      "2011-11-17    3034\n",
      "2011-11-14    2964\n",
      "2011-10-30    2907\n",
      "2011-10-06    2870\n",
      "2011-11-22    2862\n",
      "2011-11-28    2789\n",
      "2011-10-10    2783\n",
      "2011-11-16    2772\n",
      "2011-11-13    2757\n",
      "2011-11-29    2736\n",
      "2010-12-05    2724\n",
      "2011-12-06    2654\n",
      "2011-12-08    2599\n",
      "2011-11-04    2571\n",
      "2011-09-22    2505\n",
      "Freq: D, Name: InvoiceDate, dtype: int64\n"
     ]
    }
   ],
   "source": [
    "#첫 구매일, 마지막 구매일, 일자별로 어디에 분포가 많이 되어있는지 확인\n",
    "print(pd.DatetimeIndex(df_na_treat['InvoiceDate']).min())\n",
    "print(pd.DatetimeIndex(df_na_treat['InvoiceDate']).max())\n",
    "print(pd.DatetimeIndex(df_na_treat['InvoiceDate']).to_period('D').value_counts().head(20))"
   ]
  },
  {
   "cell_type": "code",
   "execution_count": 50,
   "metadata": {
    "id": "gR-ZLtNfjlAz"
   },
   "outputs": [
    {
     "data": {
      "text/plain": [
       "2011-11    65598\n",
       "2011-10    50695\n",
       "2011-09    40822\n",
       "2011-05    28908\n",
       "2011-06    27836\n",
       "2011-03    27822\n",
       "2011-08    27662\n",
       "2011-07    27502\n",
       "2010-12    26850\n",
       "2011-04    23198\n",
       "2011-01    21912\n",
       "2011-02    20363\n",
       "2011-12    17661\n",
       "Freq: M, Name: InvoiceDate, dtype: int64"
      ]
     },
     "execution_count": 50,
     "metadata": {},
     "output_type": "execute_result"
    }
   ],
   "source": [
    "# 월별 판매량 확인\n",
    "pd.DatetimeIndex(df_na_treat['InvoiceDate']).to_period('M').value_counts()"
   ]
  },
  {
   "cell_type": "code",
   "execution_count": 51,
   "metadata": {
    "id": "6QLqAoUIFqv9"
   },
   "outputs": [
    {
     "data": {
      "text/plain": [
       "United Kingdom          361878\n",
       "Germany                   9495\n",
       "France                    8491\n",
       "EIRE                      7485\n",
       "Spain                     2533\n",
       "Netherlands               2371\n",
       "Belgium                   2069\n",
       "Switzerland               1877\n",
       "Portugal                  1480\n",
       "Australia                 1259\n",
       "Norway                    1086\n",
       "Italy                      803\n",
       "Channel Islands            758\n",
       "Finland                    695\n",
       "Cyprus                     622\n",
       "Sweden                     462\n",
       "Austria                    401\n",
       "Denmark                    389\n",
       "Japan                      358\n",
       "Poland                     341\n",
       "USA                        291\n",
       "Israel                     250\n",
       "Unspecified                244\n",
       "Singapore                  229\n",
       "Iceland                    182\n",
       "Canada                     151\n",
       "Greece                     146\n",
       "Malta                      127\n",
       "United Arab Emirates        68\n",
       "European Community          61\n",
       "RSA                         58\n",
       "Lebanon                     45\n",
       "Lithuania                   35\n",
       "Brazil                      32\n",
       "Czech Republic              30\n",
       "Bahrain                     17\n",
       "Saudi Arabia                10\n",
       "Name: Country, dtype: int64"
      ]
     },
     "execution_count": 51,
     "metadata": {},
     "output_type": "execute_result"
    }
   ],
   "source": [
    "# 나라별 판매량 확인\n",
    "df_na_treat['Country'].value_counts()\n",
    "# df_na_treat['Country'].value_counts().sum()"
   ]
  },
  {
   "cell_type": "markdown",
   "metadata": {
    "id": "yBrHb9Mi4r6x"
   },
   "source": [
    "#### InvoiceDate"
   ]
  },
  {
   "cell_type": "code",
   "execution_count": 52,
   "metadata": {
    "id": "Lky4wkC_4rZG"
   },
   "outputs": [
    {
     "data": {
      "text/html": [
       "<div>\n",
       "<style scoped>\n",
       "    .dataframe tbody tr th:only-of-type {\n",
       "        vertical-align: middle;\n",
       "    }\n",
       "\n",
       "    .dataframe tbody tr th {\n",
       "        vertical-align: top;\n",
       "    }\n",
       "\n",
       "    .dataframe thead th {\n",
       "        text-align: right;\n",
       "    }\n",
       "</style>\n",
       "<table border=\"1\" class=\"dataframe\">\n",
       "  <thead>\n",
       "    <tr style=\"text-align: right;\">\n",
       "      <th></th>\n",
       "      <th>InvoiceNo</th>\n",
       "      <th>StockCode</th>\n",
       "      <th>Description</th>\n",
       "      <th>Quantity</th>\n",
       "      <th>InvoiceDate</th>\n",
       "      <th>UnitPrice</th>\n",
       "      <th>CustomerID</th>\n",
       "      <th>Country</th>\n",
       "    </tr>\n",
       "  </thead>\n",
       "  <tbody>\n",
       "    <tr>\n",
       "      <th>0</th>\n",
       "      <td>536365</td>\n",
       "      <td>85123A</td>\n",
       "      <td>WHITE HANGING HEART T-LIGHT HOLDER</td>\n",
       "      <td>6</td>\n",
       "      <td>2010-12-01 08:26:00</td>\n",
       "      <td>2.55</td>\n",
       "      <td>17850.0</td>\n",
       "      <td>United Kingdom</td>\n",
       "    </tr>\n",
       "    <tr>\n",
       "      <th>1</th>\n",
       "      <td>536365</td>\n",
       "      <td>71053</td>\n",
       "      <td>WHITE METAL LANTERN</td>\n",
       "      <td>6</td>\n",
       "      <td>2010-12-01 08:26:00</td>\n",
       "      <td>3.39</td>\n",
       "      <td>17850.0</td>\n",
       "      <td>United Kingdom</td>\n",
       "    </tr>\n",
       "    <tr>\n",
       "      <th>2</th>\n",
       "      <td>536365</td>\n",
       "      <td>84406B</td>\n",
       "      <td>CREAM CUPID HEARTS COAT HANGER</td>\n",
       "      <td>8</td>\n",
       "      <td>2010-12-01 08:26:00</td>\n",
       "      <td>2.75</td>\n",
       "      <td>17850.0</td>\n",
       "      <td>United Kingdom</td>\n",
       "    </tr>\n",
       "    <tr>\n",
       "      <th>3</th>\n",
       "      <td>536365</td>\n",
       "      <td>84029G</td>\n",
       "      <td>KNITTED UNION FLAG HOT WATER BOTTLE</td>\n",
       "      <td>6</td>\n",
       "      <td>2010-12-01 08:26:00</td>\n",
       "      <td>3.39</td>\n",
       "      <td>17850.0</td>\n",
       "      <td>United Kingdom</td>\n",
       "    </tr>\n",
       "    <tr>\n",
       "      <th>4</th>\n",
       "      <td>536365</td>\n",
       "      <td>84029E</td>\n",
       "      <td>RED WOOLLY HOTTIE WHITE HEART.</td>\n",
       "      <td>6</td>\n",
       "      <td>2010-12-01 08:26:00</td>\n",
       "      <td>3.39</td>\n",
       "      <td>17850.0</td>\n",
       "      <td>United Kingdom</td>\n",
       "    </tr>\n",
       "    <tr>\n",
       "      <th>...</th>\n",
       "      <td>...</td>\n",
       "      <td>...</td>\n",
       "      <td>...</td>\n",
       "      <td>...</td>\n",
       "      <td>...</td>\n",
       "      <td>...</td>\n",
       "      <td>...</td>\n",
       "      <td>...</td>\n",
       "    </tr>\n",
       "    <tr>\n",
       "      <th>541904</th>\n",
       "      <td>581587</td>\n",
       "      <td>22613</td>\n",
       "      <td>PACK OF 20 SPACEBOY NAPKINS</td>\n",
       "      <td>12</td>\n",
       "      <td>2011-12-09 12:50:00</td>\n",
       "      <td>0.85</td>\n",
       "      <td>12680.0</td>\n",
       "      <td>France</td>\n",
       "    </tr>\n",
       "    <tr>\n",
       "      <th>541905</th>\n",
       "      <td>581587</td>\n",
       "      <td>22899</td>\n",
       "      <td>CHILDREN'S APRON DOLLY GIRL</td>\n",
       "      <td>6</td>\n",
       "      <td>2011-12-09 12:50:00</td>\n",
       "      <td>2.10</td>\n",
       "      <td>12680.0</td>\n",
       "      <td>France</td>\n",
       "    </tr>\n",
       "    <tr>\n",
       "      <th>541906</th>\n",
       "      <td>581587</td>\n",
       "      <td>23254</td>\n",
       "      <td>CHILDRENS CUTLERY DOLLY GIRL</td>\n",
       "      <td>4</td>\n",
       "      <td>2011-12-09 12:50:00</td>\n",
       "      <td>4.15</td>\n",
       "      <td>12680.0</td>\n",
       "      <td>France</td>\n",
       "    </tr>\n",
       "    <tr>\n",
       "      <th>541907</th>\n",
       "      <td>581587</td>\n",
       "      <td>23255</td>\n",
       "      <td>CHILDRENS CUTLERY CIRCUS PARADE</td>\n",
       "      <td>4</td>\n",
       "      <td>2011-12-09 12:50:00</td>\n",
       "      <td>4.15</td>\n",
       "      <td>12680.0</td>\n",
       "      <td>France</td>\n",
       "    </tr>\n",
       "    <tr>\n",
       "      <th>541908</th>\n",
       "      <td>581587</td>\n",
       "      <td>22138</td>\n",
       "      <td>BAKING SET 9 PIECE RETROSPOT</td>\n",
       "      <td>3</td>\n",
       "      <td>2011-12-09 12:50:00</td>\n",
       "      <td>4.95</td>\n",
       "      <td>12680.0</td>\n",
       "      <td>France</td>\n",
       "    </tr>\n",
       "  </tbody>\n",
       "</table>\n",
       "<p>406829 rows × 8 columns</p>\n",
       "</div>"
      ],
      "text/plain": [
       "       InvoiceNo StockCode                          Description  Quantity  \\\n",
       "0         536365    85123A   WHITE HANGING HEART T-LIGHT HOLDER         6   \n",
       "1         536365     71053                  WHITE METAL LANTERN         6   \n",
       "2         536365    84406B       CREAM CUPID HEARTS COAT HANGER         8   \n",
       "3         536365    84029G  KNITTED UNION FLAG HOT WATER BOTTLE         6   \n",
       "4         536365    84029E       RED WOOLLY HOTTIE WHITE HEART.         6   \n",
       "...          ...       ...                                  ...       ...   \n",
       "541904    581587     22613          PACK OF 20 SPACEBOY NAPKINS        12   \n",
       "541905    581587     22899         CHILDREN'S APRON DOLLY GIRL          6   \n",
       "541906    581587     23254        CHILDRENS CUTLERY DOLLY GIRL          4   \n",
       "541907    581587     23255      CHILDRENS CUTLERY CIRCUS PARADE         4   \n",
       "541908    581587     22138        BAKING SET 9 PIECE RETROSPOT          3   \n",
       "\n",
       "               InvoiceDate  UnitPrice  CustomerID         Country  \n",
       "0      2010-12-01 08:26:00       2.55     17850.0  United Kingdom  \n",
       "1      2010-12-01 08:26:00       3.39     17850.0  United Kingdom  \n",
       "2      2010-12-01 08:26:00       2.75     17850.0  United Kingdom  \n",
       "3      2010-12-01 08:26:00       3.39     17850.0  United Kingdom  \n",
       "4      2010-12-01 08:26:00       3.39     17850.0  United Kingdom  \n",
       "...                    ...        ...         ...             ...  \n",
       "541904 2011-12-09 12:50:00       0.85     12680.0          France  \n",
       "541905 2011-12-09 12:50:00       2.10     12680.0          France  \n",
       "541906 2011-12-09 12:50:00       4.15     12680.0          France  \n",
       "541907 2011-12-09 12:50:00       4.15     12680.0          France  \n",
       "541908 2011-12-09 12:50:00       4.95     12680.0          France  \n",
       "\n",
       "[406829 rows x 8 columns]"
      ]
     },
     "execution_count": 52,
     "metadata": {},
     "output_type": "execute_result"
    }
   ],
   "source": [
    "df_na_treat"
   ]
  },
  {
   "cell_type": "code",
   "execution_count": 59,
   "metadata": {
    "id": "8Fe0XnaPlLCF"
   },
   "outputs": [
    {
     "data": {
      "text/plain": [
       "StockCode  Description                       \n",
       "85123A     WHITE HANGING HEART T-LIGHT HOLDER    2070\n",
       "22423      REGENCY CAKESTAND 3 TIER              1905\n",
       "85099B     JUMBO BAG RED RETROSPOT               1662\n",
       "84879      ASSORTED COLOUR BIRD ORNAMENT         1418\n",
       "47566      PARTY BUNTING                         1416\n",
       "20725      LUNCH BAG RED RETROSPOT               1358\n",
       "22720      SET OF 3 CAKE TINS PANTRY DESIGN      1232\n",
       "POST       POSTAGE                               1196\n",
       "20727      LUNCH BAG  BLACK SKULL.               1126\n",
       "21212      PACK OF 72 RETROSPOT CAKE CASES       1080\n",
       "dtype: int64"
      ]
     },
     "execution_count": 59,
     "metadata": {},
     "output_type": "execute_result"
    }
   ],
   "source": [
    "df_na_treat.groupby(['StockCode','Description']).size().sort_values(ascending=False).head(10)\n",
    "#groupby.size() or groupby.count() : 그룹별 데이터 수 확인"
   ]
  },
  {
   "cell_type": "markdown",
   "metadata": {},
   "source": [
    "참고자료 : https://datascienceschool.net/01%20python/04.07%20%ED%94%BC%EB%B4%87%ED%85%8C%EC%9D%B4%EB%B8%94%EA%B3%BC%20%EA%B7%B8%EB%A3%B9%EB%B6%84%EC%84%9D.html"
   ]
  },
  {
   "cell_type": "code",
   "execution_count": 62,
   "metadata": {
    "colab": {
     "base_uri": "https://localhost:8080/"
    },
    "executionInfo": {
     "elapsed": 1227,
     "status": "ok",
     "timestamp": 1668148970661,
     "user": {
      "displayName": "강현욱",
      "userId": "07194546442434465172"
     },
     "user_tz": -540
    },
    "id": "Libv1Z5oOSnL",
    "outputId": "44544608-2e30-4ff0-a897-5191e70abd70"
   },
   "outputs": [
    {
     "data": {
      "text/plain": [
       "5225"
      ]
     },
     "execution_count": 62,
     "metadata": {},
     "output_type": "execute_result"
    }
   ],
   "source": [
    "#데이터 중복 여부 개수 확인\n",
    "df_na_treat.duplicated().sum()"
   ]
  },
  {
   "cell_type": "markdown",
   "metadata": {
    "id": "c_rxfnk2KVXR"
   },
   "source": [
    "### 4.3 데이터 cleansing\n",
    " 1. 환불 제거 \n",
    " 2. 무료구매인건 제거  \n",
    " 3. CustomerId NULL 제거 \n",
    " 4. 중복 데이터 제거"
   ]
  },
  {
   "cell_type": "code",
   "execution_count": 63,
   "metadata": {
    "id": "dQxxetU8MxqR"
   },
   "outputs": [
    {
     "data": {
      "text/plain": [
       "(392692, 8)"
      ]
     },
     "execution_count": 63,
     "metadata": {},
     "output_type": "execute_result"
    }
   ],
   "source": [
    "df_outlier_treat = df_na_treat[(df_na_treat.Quantity > 0) & (df_na_treat.UnitPrice != 0) & (~df_na_treat.CustomerID.isnull())]\n",
    "df_outlier_treat = df_outlier_treat[~df_outlier_treat.duplicated()]\n",
    "df_outlier_treat.shape"
   ]
  },
  {
   "cell_type": "code",
   "execution_count": 42,
   "metadata": {
    "colab": {
     "base_uri": "https://localhost:8080/",
     "height": 0
    },
    "executionInfo": {
     "elapsed": 7,
     "status": "ok",
     "timestamp": 1668148970662,
     "user": {
      "displayName": "강현욱",
      "userId": "07194546442434465172"
     },
     "user_tz": -540
    },
    "id": "an1WF8oV1UME",
    "outputId": "e519d9eb-e7dc-4d43-e3a4-9272e28ca68e"
   },
   "outputs": [
    {
     "data": {
      "text/html": [
       "<div>\n",
       "<style scoped>\n",
       "    .dataframe tbody tr th:only-of-type {\n",
       "        vertical-align: middle;\n",
       "    }\n",
       "\n",
       "    .dataframe tbody tr th {\n",
       "        vertical-align: top;\n",
       "    }\n",
       "\n",
       "    .dataframe thead th {\n",
       "        text-align: right;\n",
       "    }\n",
       "</style>\n",
       "<table border=\"1\" class=\"dataframe\">\n",
       "  <thead>\n",
       "    <tr style=\"text-align: right;\">\n",
       "      <th></th>\n",
       "      <th>InvoiceNo</th>\n",
       "      <th>StockCode</th>\n",
       "      <th>Description</th>\n",
       "      <th>Quantity</th>\n",
       "      <th>InvoiceDate</th>\n",
       "      <th>UnitPrice</th>\n",
       "      <th>CustomerID</th>\n",
       "      <th>Country</th>\n",
       "    </tr>\n",
       "  </thead>\n",
       "  <tbody>\n",
       "    <tr>\n",
       "      <th>0</th>\n",
       "      <td>536365</td>\n",
       "      <td>85123A</td>\n",
       "      <td>WHITE HANGING HEART T-LIGHT HOLDER</td>\n",
       "      <td>6</td>\n",
       "      <td>12/1/2010 8:26</td>\n",
       "      <td>2.55</td>\n",
       "      <td>17850.0</td>\n",
       "      <td>United Kingdom</td>\n",
       "    </tr>\n",
       "    <tr>\n",
       "      <th>1</th>\n",
       "      <td>536365</td>\n",
       "      <td>71053</td>\n",
       "      <td>WHITE METAL LANTERN</td>\n",
       "      <td>6</td>\n",
       "      <td>12/1/2010 8:26</td>\n",
       "      <td>3.39</td>\n",
       "      <td>17850.0</td>\n",
       "      <td>United Kingdom</td>\n",
       "    </tr>\n",
       "    <tr>\n",
       "      <th>2</th>\n",
       "      <td>536365</td>\n",
       "      <td>84406B</td>\n",
       "      <td>CREAM CUPID HEARTS COAT HANGER</td>\n",
       "      <td>8</td>\n",
       "      <td>12/1/2010 8:26</td>\n",
       "      <td>2.75</td>\n",
       "      <td>17850.0</td>\n",
       "      <td>United Kingdom</td>\n",
       "    </tr>\n",
       "    <tr>\n",
       "      <th>3</th>\n",
       "      <td>536365</td>\n",
       "      <td>84029G</td>\n",
       "      <td>KNITTED UNION FLAG HOT WATER BOTTLE</td>\n",
       "      <td>6</td>\n",
       "      <td>12/1/2010 8:26</td>\n",
       "      <td>3.39</td>\n",
       "      <td>17850.0</td>\n",
       "      <td>United Kingdom</td>\n",
       "    </tr>\n",
       "    <tr>\n",
       "      <th>4</th>\n",
       "      <td>536365</td>\n",
       "      <td>84029E</td>\n",
       "      <td>RED WOOLLY HOTTIE WHITE HEART.</td>\n",
       "      <td>6</td>\n",
       "      <td>12/1/2010 8:26</td>\n",
       "      <td>3.39</td>\n",
       "      <td>17850.0</td>\n",
       "      <td>United Kingdom</td>\n",
       "    </tr>\n",
       "    <tr>\n",
       "      <th>...</th>\n",
       "      <td>...</td>\n",
       "      <td>...</td>\n",
       "      <td>...</td>\n",
       "      <td>...</td>\n",
       "      <td>...</td>\n",
       "      <td>...</td>\n",
       "      <td>...</td>\n",
       "      <td>...</td>\n",
       "    </tr>\n",
       "    <tr>\n",
       "      <th>541904</th>\n",
       "      <td>581587</td>\n",
       "      <td>22613</td>\n",
       "      <td>PACK OF 20 SPACEBOY NAPKINS</td>\n",
       "      <td>12</td>\n",
       "      <td>12/9/2011 12:50</td>\n",
       "      <td>0.85</td>\n",
       "      <td>12680.0</td>\n",
       "      <td>France</td>\n",
       "    </tr>\n",
       "    <tr>\n",
       "      <th>541905</th>\n",
       "      <td>581587</td>\n",
       "      <td>22899</td>\n",
       "      <td>CHILDREN'S APRON DOLLY GIRL</td>\n",
       "      <td>6</td>\n",
       "      <td>12/9/2011 12:50</td>\n",
       "      <td>2.10</td>\n",
       "      <td>12680.0</td>\n",
       "      <td>France</td>\n",
       "    </tr>\n",
       "    <tr>\n",
       "      <th>541906</th>\n",
       "      <td>581587</td>\n",
       "      <td>23254</td>\n",
       "      <td>CHILDRENS CUTLERY DOLLY GIRL</td>\n",
       "      <td>4</td>\n",
       "      <td>12/9/2011 12:50</td>\n",
       "      <td>4.15</td>\n",
       "      <td>12680.0</td>\n",
       "      <td>France</td>\n",
       "    </tr>\n",
       "    <tr>\n",
       "      <th>541907</th>\n",
       "      <td>581587</td>\n",
       "      <td>23255</td>\n",
       "      <td>CHILDRENS CUTLERY CIRCUS PARADE</td>\n",
       "      <td>4</td>\n",
       "      <td>12/9/2011 12:50</td>\n",
       "      <td>4.15</td>\n",
       "      <td>12680.0</td>\n",
       "      <td>France</td>\n",
       "    </tr>\n",
       "    <tr>\n",
       "      <th>541908</th>\n",
       "      <td>581587</td>\n",
       "      <td>22138</td>\n",
       "      <td>BAKING SET 9 PIECE RETROSPOT</td>\n",
       "      <td>3</td>\n",
       "      <td>12/9/2011 12:50</td>\n",
       "      <td>4.95</td>\n",
       "      <td>12680.0</td>\n",
       "      <td>France</td>\n",
       "    </tr>\n",
       "  </tbody>\n",
       "</table>\n",
       "<p>392692 rows × 8 columns</p>\n",
       "</div>"
      ],
      "text/plain": [
       "       InvoiceNo StockCode                          Description  Quantity  \\\n",
       "0         536365    85123A   WHITE HANGING HEART T-LIGHT HOLDER         6   \n",
       "1         536365     71053                  WHITE METAL LANTERN         6   \n",
       "2         536365    84406B       CREAM CUPID HEARTS COAT HANGER         8   \n",
       "3         536365    84029G  KNITTED UNION FLAG HOT WATER BOTTLE         6   \n",
       "4         536365    84029E       RED WOOLLY HOTTIE WHITE HEART.         6   \n",
       "...          ...       ...                                  ...       ...   \n",
       "541904    581587     22613          PACK OF 20 SPACEBOY NAPKINS        12   \n",
       "541905    581587     22899         CHILDREN'S APRON DOLLY GIRL          6   \n",
       "541906    581587     23254        CHILDRENS CUTLERY DOLLY GIRL          4   \n",
       "541907    581587     23255      CHILDRENS CUTLERY CIRCUS PARADE         4   \n",
       "541908    581587     22138        BAKING SET 9 PIECE RETROSPOT          3   \n",
       "\n",
       "            InvoiceDate  UnitPrice  CustomerID         Country  \n",
       "0        12/1/2010 8:26       2.55     17850.0  United Kingdom  \n",
       "1        12/1/2010 8:26       3.39     17850.0  United Kingdom  \n",
       "2        12/1/2010 8:26       2.75     17850.0  United Kingdom  \n",
       "3        12/1/2010 8:26       3.39     17850.0  United Kingdom  \n",
       "4        12/1/2010 8:26       3.39     17850.0  United Kingdom  \n",
       "...                 ...        ...         ...             ...  \n",
       "541904  12/9/2011 12:50       0.85     12680.0          France  \n",
       "541905  12/9/2011 12:50       2.10     12680.0          France  \n",
       "541906  12/9/2011 12:50       4.15     12680.0          France  \n",
       "541907  12/9/2011 12:50       4.15     12680.0          France  \n",
       "541908  12/9/2011 12:50       4.95     12680.0          France  \n",
       "\n",
       "[392692 rows x 8 columns]"
      ]
     },
     "execution_count": 42,
     "metadata": {},
     "output_type": "execute_result"
    }
   ],
   "source": [
    "df_outlier_treat"
   ]
  },
  {
   "cell_type": "markdown",
   "metadata": {},
   "source": [
    "데이터 클렌징 완료 -> 본격적인 고객 세분화 시작!"
   ]
  },
  {
   "cell_type": "markdown",
   "metadata": {
    "id": "Lp8TwfsRPPlg"
   },
   "source": [
    "# *5*. 유저단위 스코어링을 위해 데이터 요약 \n",
    "\n"
   ]
  },
  {
   "cell_type": "markdown",
   "metadata": {
    "id": "792ZwpXjvstT"
   },
   "source": [
    "### 5.1 Frequecy(구매 건수)생성\n"
   ]
  },
  {
   "cell_type": "code",
   "execution_count": 66,
   "metadata": {
    "colab": {
     "base_uri": "https://localhost:8080/",
     "height": 455
    },
    "executionInfo": {
     "elapsed": 6,
     "status": "ok",
     "timestamp": 1668148970662,
     "user": {
      "displayName": "강현욱",
      "userId": "07194546442434465172"
     },
     "user_tz": -540
    },
    "id": "9Y-NzLjh2j9j",
    "outputId": "cfc53f92-6215-4bbf-fcc6-59bdcc0c3f2b"
   },
   "outputs": [
    {
     "data": {
      "text/html": [
       "<div>\n",
       "<style scoped>\n",
       "    .dataframe tbody tr th:only-of-type {\n",
       "        vertical-align: middle;\n",
       "    }\n",
       "\n",
       "    .dataframe tbody tr th {\n",
       "        vertical-align: top;\n",
       "    }\n",
       "\n",
       "    .dataframe thead th {\n",
       "        text-align: right;\n",
       "    }\n",
       "</style>\n",
       "<table border=\"1\" class=\"dataframe\">\n",
       "  <thead>\n",
       "    <tr style=\"text-align: right;\">\n",
       "      <th></th>\n",
       "      <th></th>\n",
       "      <th>0</th>\n",
       "    </tr>\n",
       "    <tr>\n",
       "      <th>CustomerID</th>\n",
       "      <th>InvoiceNo</th>\n",
       "      <th></th>\n",
       "    </tr>\n",
       "  </thead>\n",
       "  <tbody>\n",
       "    <tr>\n",
       "      <th>12346.0</th>\n",
       "      <th>541431</th>\n",
       "      <td>1</td>\n",
       "    </tr>\n",
       "    <tr>\n",
       "      <th rowspan=\"4\" valign=\"top\">12347.0</th>\n",
       "      <th>537626</th>\n",
       "      <td>31</td>\n",
       "    </tr>\n",
       "    <tr>\n",
       "      <th>542237</th>\n",
       "      <td>29</td>\n",
       "    </tr>\n",
       "    <tr>\n",
       "      <th>549222</th>\n",
       "      <td>24</td>\n",
       "    </tr>\n",
       "    <tr>\n",
       "      <th>556201</th>\n",
       "      <td>18</td>\n",
       "    </tr>\n",
       "    <tr>\n",
       "      <th>...</th>\n",
       "      <th>...</th>\n",
       "      <td>...</td>\n",
       "    </tr>\n",
       "    <tr>\n",
       "      <th rowspan=\"2\" valign=\"top\">18283.0</th>\n",
       "      <th>579673</th>\n",
       "      <td>50</td>\n",
       "    </tr>\n",
       "    <tr>\n",
       "      <th>580872</th>\n",
       "      <td>50</td>\n",
       "    </tr>\n",
       "    <tr>\n",
       "      <th rowspan=\"3\" valign=\"top\">18287.0</th>\n",
       "      <th>554065</th>\n",
       "      <td>29</td>\n",
       "    </tr>\n",
       "    <tr>\n",
       "      <th>570715</th>\n",
       "      <td>38</td>\n",
       "    </tr>\n",
       "    <tr>\n",
       "      <th>573167</th>\n",
       "      <td>3</td>\n",
       "    </tr>\n",
       "  </tbody>\n",
       "</table>\n",
       "<p>18532 rows × 1 columns</p>\n",
       "</div>"
      ],
      "text/plain": [
       "                       0\n",
       "CustomerID InvoiceNo    \n",
       "12346.0    541431      1\n",
       "12347.0    537626     31\n",
       "           542237     29\n",
       "           549222     24\n",
       "           556201     18\n",
       "...                   ..\n",
       "18283.0    579673     50\n",
       "           580872     50\n",
       "18287.0    554065     29\n",
       "           570715     38\n",
       "           573167      3\n",
       "\n",
       "[18532 rows x 1 columns]"
      ]
     },
     "execution_count": 66,
     "metadata": {},
     "output_type": "execute_result"
    }
   ],
   "source": [
    "#유저별 invoiceNo 개수 확인\n",
    "df_outlier_treat.groupby(['CustomerID','InvoiceNo']).size().to_frame()\n",
    "#to.from() = 프레임화 하기"
   ]
  },
  {
   "cell_type": "code",
   "execution_count": 68,
   "metadata": {
    "colab": {
     "base_uri": "https://localhost:8080/"
    },
    "executionInfo": {
     "elapsed": 6,
     "status": "ok",
     "timestamp": 1668148970662,
     "user": {
      "displayName": "강현욱",
      "userId": "07194546442434465172"
     },
     "user_tz": -540
    },
    "id": "FRZGq_mY123j",
    "outputId": "3e1dc01a-0500-4520-85ef-d553b4bbd4d7"
   },
   "outputs": [
    {
     "data": {
      "text/plain": [
       "CustomerID\n",
       "12346.0     1\n",
       "12347.0     7\n",
       "12348.0     4\n",
       "12349.0     1\n",
       "12350.0     1\n",
       "           ..\n",
       "18280.0     1\n",
       "18281.0     1\n",
       "18282.0     2\n",
       "18283.0    16\n",
       "18287.0     3\n",
       "Name: InvoiceNo, Length: 4338, dtype: int64"
      ]
     },
     "execution_count": 68,
     "metadata": {},
     "output_type": "execute_result"
    }
   ],
   "source": [
    "# frequecy(구매 건수)계산을 위해 CustomerId, InvoiceNo 별로 요약\n",
    "temp_frequecy = df_outlier_treat.groupby(['CustomerID']).InvoiceNo.nunique()\n",
    "temp_frequecy"
   ]
  },
  {
   "cell_type": "code",
   "execution_count": 69,
   "metadata": {
    "colab": {
     "base_uri": "https://localhost:8080/",
     "height": 356
    },
    "executionInfo": {
     "elapsed": 3,
     "status": "ok",
     "timestamp": 1668148970662,
     "user": {
      "displayName": "강현욱",
      "userId": "07194546442434465172"
     },
     "user_tz": -540
    },
    "id": "UzlQoXit9ecz",
    "outputId": "3f1c02b4-b3ce-4aa7-fe7c-6e726e3c6526"
   },
   "outputs": [
    {
     "data": {
      "text/plain": [
       "<seaborn.axisgrid.FacetGrid at 0x1712fd8a0d0>"
      ]
     },
     "execution_count": 69,
     "metadata": {},
     "output_type": "execute_result"
    },
    {
     "data": {
      "image/png": "[encoded data removed]",
      "text/plain": [
       "<Figure size 360x360 with 1 Axes>"
      ]
     },
     "metadata": {
      "needs_background": "light"
     },
     "output_type": "display_data"
    }
   ],
   "source": [
    "sns.displot(temp_frequecy)"
   ]
  },
  {
   "cell_type": "code",
   "execution_count": 70,
   "metadata": {
    "colab": {
     "base_uri": "https://localhost:8080/",
     "height": 424
    },
    "executionInfo": {
     "elapsed": 2,
     "status": "ok",
     "timestamp": 1668148970662,
     "user": {
      "displayName": "강현욱",
      "userId": "07194546442434465172"
     },
     "user_tz": -540
    },
    "id": "LKC4fUZi59YT",
    "outputId": "319a70c1-39e7-4fb9-c9a1-c0716342581e"
   },
   "outputs": [
    {
     "data": {
      "text/html": [
       "<div>\n",
       "<style scoped>\n",
       "    .dataframe tbody tr th:only-of-type {\n",
       "        vertical-align: middle;\n",
       "    }\n",
       "\n",
       "    .dataframe tbody tr th {\n",
       "        vertical-align: top;\n",
       "    }\n",
       "\n",
       "    .dataframe thead th {\n",
       "        text-align: right;\n",
       "    }\n",
       "</style>\n",
       "<table border=\"1\" class=\"dataframe\">\n",
       "  <thead>\n",
       "    <tr style=\"text-align: right;\">\n",
       "      <th></th>\n",
       "      <th>CustomerID</th>\n",
       "      <th>frequecy</th>\n",
       "    </tr>\n",
       "  </thead>\n",
       "  <tbody>\n",
       "    <tr>\n",
       "      <th>0</th>\n",
       "      <td>12346.0</td>\n",
       "      <td>1</td>\n",
       "    </tr>\n",
       "    <tr>\n",
       "      <th>1</th>\n",
       "      <td>12347.0</td>\n",
       "      <td>7</td>\n",
       "    </tr>\n",
       "    <tr>\n",
       "      <th>2</th>\n",
       "      <td>12348.0</td>\n",
       "      <td>4</td>\n",
       "    </tr>\n",
       "    <tr>\n",
       "      <th>3</th>\n",
       "      <td>12349.0</td>\n",
       "      <td>1</td>\n",
       "    </tr>\n",
       "    <tr>\n",
       "      <th>4</th>\n",
       "      <td>12350.0</td>\n",
       "      <td>1</td>\n",
       "    </tr>\n",
       "    <tr>\n",
       "      <th>...</th>\n",
       "      <td>...</td>\n",
       "      <td>...</td>\n",
       "    </tr>\n",
       "    <tr>\n",
       "      <th>4333</th>\n",
       "      <td>18280.0</td>\n",
       "      <td>1</td>\n",
       "    </tr>\n",
       "    <tr>\n",
       "      <th>4334</th>\n",
       "      <td>18281.0</td>\n",
       "      <td>1</td>\n",
       "    </tr>\n",
       "    <tr>\n",
       "      <th>4335</th>\n",
       "      <td>18282.0</td>\n",
       "      <td>2</td>\n",
       "    </tr>\n",
       "    <tr>\n",
       "      <th>4336</th>\n",
       "      <td>18283.0</td>\n",
       "      <td>16</td>\n",
       "    </tr>\n",
       "    <tr>\n",
       "      <th>4337</th>\n",
       "      <td>18287.0</td>\n",
       "      <td>3</td>\n",
       "    </tr>\n",
       "  </tbody>\n",
       "</table>\n",
       "<p>4338 rows × 2 columns</p>\n",
       "</div>"
      ],
      "text/plain": [
       "      CustomerID  frequecy\n",
       "0        12346.0         1\n",
       "1        12347.0         7\n",
       "2        12348.0         4\n",
       "3        12349.0         1\n",
       "4        12350.0         1\n",
       "...          ...       ...\n",
       "4333     18280.0         1\n",
       "4334     18281.0         1\n",
       "4335     18282.0         2\n",
       "4336     18283.0        16\n",
       "4337     18287.0         3\n",
       "\n",
       "[4338 rows x 2 columns]"
      ]
     },
     "execution_count": 70,
     "metadata": {},
     "output_type": "execute_result"
    }
   ],
   "source": [
    "temp_frequecy.to_frame()\n",
    "df_frequecy = temp_frequecy.reset_index().rename(columns = {'index' :'CustomerID'})\n",
    "df_frequecy.columns = ['CustomerID','frequecy']\n",
    "df_frequecy"
   ]
  },
  {
   "cell_type": "markdown",
   "metadata": {
    "id": "4ZD-CMu7SWt_"
   },
   "source": [
    "## 5.2 Moneytery(유저별 구매금액) 생성\n"
   ]
  },
  {
   "cell_type": "code",
   "execution_count": 71,
   "metadata": {
    "colab": {
     "base_uri": "https://localhost:8080/",
     "height": 353
    },
    "executionInfo": {
     "elapsed": 337,
     "status": "ok",
     "timestamp": 1668148970997,
     "user": {
      "displayName": "강현욱",
      "userId": "07194546442434465172"
     },
     "user_tz": -540
    },
    "id": "PhiogDfNSVyp",
    "outputId": "5acb47f2-c23a-4980-d42d-ccd150bb3b40"
   },
   "outputs": [
    {
     "data": {
      "text/plain": [
       "<seaborn.axisgrid.FacetGrid at 0x1712dfd1af0>"
      ]
     },
     "execution_count": 71,
     "metadata": {},
     "output_type": "execute_result"
    },
    {
     "data": {
      "image/png": "[encoded data removed]",
      "text/plain": [
       "<Figure size 360x360 with 1 Axes>"
      ]
     },
     "metadata": {
      "needs_background": "light"
     },
     "output_type": "display_data"
    }
   ],
   "source": [
    "temp = df_outlier_treat[['CustomerID','Quantity','UnitPrice']].copy()\n",
    "temp['monitery'] = temp['Quantity'] * temp['UnitPrice']\n",
    "temp_monitery = temp.groupby(['CustomerID']).monitery.sum()\n",
    "temp_monitery.head()\n",
    "sns.displot(temp_monitery)"
   ]
  },
  {
   "cell_type": "code",
   "execution_count": 72,
   "metadata": {
    "colab": {
     "base_uri": "https://localhost:8080/",
     "height": 424
    },
    "executionInfo": {
     "elapsed": 2,
     "status": "ok",
     "timestamp": 1668148970998,
     "user": {
      "displayName": "강현욱",
      "userId": "07194546442434465172"
     },
     "user_tz": -540
    },
    "id": "GuKf3vnb7oAp",
    "outputId": "5abc74a2-afe1-4658-85b3-7b33275b5bec"
   },
   "outputs": [
    {
     "data": {
      "text/html": [
       "<div>\n",
       "<style scoped>\n",
       "    .dataframe tbody tr th:only-of-type {\n",
       "        vertical-align: middle;\n",
       "    }\n",
       "\n",
       "    .dataframe tbody tr th {\n",
       "        vertical-align: top;\n",
       "    }\n",
       "\n",
       "    .dataframe thead th {\n",
       "        text-align: right;\n",
       "    }\n",
       "</style>\n",
       "<table border=\"1\" class=\"dataframe\">\n",
       "  <thead>\n",
       "    <tr style=\"text-align: right;\">\n",
       "      <th></th>\n",
       "      <th>CustomerID</th>\n",
       "      <th>monitery</th>\n",
       "    </tr>\n",
       "  </thead>\n",
       "  <tbody>\n",
       "    <tr>\n",
       "      <th>0</th>\n",
       "      <td>12346.0</td>\n",
       "      <td>77183.60</td>\n",
       "    </tr>\n",
       "    <tr>\n",
       "      <th>1</th>\n",
       "      <td>12347.0</td>\n",
       "      <td>4310.00</td>\n",
       "    </tr>\n",
       "    <tr>\n",
       "      <th>2</th>\n",
       "      <td>12348.0</td>\n",
       "      <td>1797.24</td>\n",
       "    </tr>\n",
       "    <tr>\n",
       "      <th>3</th>\n",
       "      <td>12349.0</td>\n",
       "      <td>1757.55</td>\n",
       "    </tr>\n",
       "    <tr>\n",
       "      <th>4</th>\n",
       "      <td>12350.0</td>\n",
       "      <td>334.40</td>\n",
       "    </tr>\n",
       "    <tr>\n",
       "      <th>...</th>\n",
       "      <td>...</td>\n",
       "      <td>...</td>\n",
       "    </tr>\n",
       "    <tr>\n",
       "      <th>4333</th>\n",
       "      <td>18280.0</td>\n",
       "      <td>180.60</td>\n",
       "    </tr>\n",
       "    <tr>\n",
       "      <th>4334</th>\n",
       "      <td>18281.0</td>\n",
       "      <td>80.82</td>\n",
       "    </tr>\n",
       "    <tr>\n",
       "      <th>4335</th>\n",
       "      <td>18282.0</td>\n",
       "      <td>178.05</td>\n",
       "    </tr>\n",
       "    <tr>\n",
       "      <th>4336</th>\n",
       "      <td>18283.0</td>\n",
       "      <td>2045.53</td>\n",
       "    </tr>\n",
       "    <tr>\n",
       "      <th>4337</th>\n",
       "      <td>18287.0</td>\n",
       "      <td>1837.28</td>\n",
       "    </tr>\n",
       "  </tbody>\n",
       "</table>\n",
       "<p>4338 rows × 2 columns</p>\n",
       "</div>"
      ],
      "text/plain": [
       "      CustomerID  monitery\n",
       "0        12346.0  77183.60\n",
       "1        12347.0   4310.00\n",
       "2        12348.0   1797.24\n",
       "3        12349.0   1757.55\n",
       "4        12350.0    334.40\n",
       "...          ...       ...\n",
       "4333     18280.0    180.60\n",
       "4334     18281.0     80.82\n",
       "4335     18282.0    178.05\n",
       "4336     18283.0   2045.53\n",
       "4337     18287.0   1837.28\n",
       "\n",
       "[4338 rows x 2 columns]"
      ]
     },
     "execution_count": 72,
     "metadata": {},
     "output_type": "execute_result"
    }
   ],
   "source": [
    "df_monitery = temp_monitery.to_frame()\n",
    "df_monitery = df_monitery.reset_index().rename(columns = {'index' :'CustomerID'})\n",
    "df_monitery"
   ]
  },
  {
   "cell_type": "markdown",
   "metadata": {
    "id": "Eh2zVPnUcsqM"
   },
   "source": [
    "## 5.3 Recency (유저별 최근 거래) 생성\n",
    " - 오늘을 2011-12-10일 로 가정  "
   ]
  },
  {
   "cell_type": "code",
   "execution_count": 73,
   "metadata": {
    "colab": {
     "base_uri": "https://localhost:8080/"
    },
    "executionInfo": {
     "elapsed": 2030,
     "status": "ok",
     "timestamp": 1668148973027,
     "user": {
      "displayName": "강현욱",
      "userId": "07194546442434465172"
     },
     "user_tz": -540
    },
    "id": "V9CrqyZRcyxd",
    "outputId": "e2a98438-b850-49a3-b6fd-ed97a87b11db"
   },
   "outputs": [
    {
     "data": {
      "text/plain": [
       "CustomerID\n",
       "12346.0    325\n",
       "12347.0      2\n",
       "12348.0     75\n",
       "12349.0     18\n",
       "12350.0    310\n",
       "          ... \n",
       "18280.0    277\n",
       "18281.0    180\n",
       "18282.0      7\n",
       "18283.0      3\n",
       "18287.0     42\n",
       "Name: diff_days, Length: 4338, dtype: int64"
      ]
     },
     "execution_count": 73,
     "metadata": {},
     "output_type": "execute_result"
    }
   ],
   "source": [
    "temp2 = df_outlier_treat[['CustomerID','InvoiceDate']].copy()\n",
    "temp2['today'] =\"2011-12-10\"\n",
    "\n",
    "temp2['diff_days'] = (pd.to_datetime(temp2['today']) - pd.to_datetime(temp2['InvoiceDate'])).dt.days\n",
    "recency = temp2.groupby('CustomerID').diff_days.min()\n",
    "recency"
   ]
  },
  {
   "cell_type": "code",
   "execution_count": 74,
   "metadata": {
    "colab": {
     "base_uri": "https://localhost:8080/",
     "height": 424
    },
    "executionInfo": {
     "elapsed": 7,
     "status": "ok",
     "timestamp": 1668148973028,
     "user": {
      "displayName": "강현욱",
      "userId": "07194546442434465172"
     },
     "user_tz": -540
    },
    "id": "49cOGyGjwSVY",
    "outputId": "5b7c715b-b34d-42ae-bd14-df9641e8acb1"
   },
   "outputs": [
    {
     "data": {
      "text/html": [
       "<div>\n",
       "<style scoped>\n",
       "    .dataframe tbody tr th:only-of-type {\n",
       "        vertical-align: middle;\n",
       "    }\n",
       "\n",
       "    .dataframe tbody tr th {\n",
       "        vertical-align: top;\n",
       "    }\n",
       "\n",
       "    .dataframe thead th {\n",
       "        text-align: right;\n",
       "    }\n",
       "</style>\n",
       "<table border=\"1\" class=\"dataframe\">\n",
       "  <thead>\n",
       "    <tr style=\"text-align: right;\">\n",
       "      <th></th>\n",
       "      <th>CustomerID</th>\n",
       "      <th>recency</th>\n",
       "    </tr>\n",
       "  </thead>\n",
       "  <tbody>\n",
       "    <tr>\n",
       "      <th>0</th>\n",
       "      <td>12346.0</td>\n",
       "      <td>325</td>\n",
       "    </tr>\n",
       "    <tr>\n",
       "      <th>1</th>\n",
       "      <td>12347.0</td>\n",
       "      <td>2</td>\n",
       "    </tr>\n",
       "    <tr>\n",
       "      <th>2</th>\n",
       "      <td>12348.0</td>\n",
       "      <td>75</td>\n",
       "    </tr>\n",
       "    <tr>\n",
       "      <th>3</th>\n",
       "      <td>12349.0</td>\n",
       "      <td>18</td>\n",
       "    </tr>\n",
       "    <tr>\n",
       "      <th>4</th>\n",
       "      <td>12350.0</td>\n",
       "      <td>310</td>\n",
       "    </tr>\n",
       "    <tr>\n",
       "      <th>...</th>\n",
       "      <td>...</td>\n",
       "      <td>...</td>\n",
       "    </tr>\n",
       "    <tr>\n",
       "      <th>4333</th>\n",
       "      <td>18280.0</td>\n",
       "      <td>277</td>\n",
       "    </tr>\n",
       "    <tr>\n",
       "      <th>4334</th>\n",
       "      <td>18281.0</td>\n",
       "      <td>180</td>\n",
       "    </tr>\n",
       "    <tr>\n",
       "      <th>4335</th>\n",
       "      <td>18282.0</td>\n",
       "      <td>7</td>\n",
       "    </tr>\n",
       "    <tr>\n",
       "      <th>4336</th>\n",
       "      <td>18283.0</td>\n",
       "      <td>3</td>\n",
       "    </tr>\n",
       "    <tr>\n",
       "      <th>4337</th>\n",
       "      <td>18287.0</td>\n",
       "      <td>42</td>\n",
       "    </tr>\n",
       "  </tbody>\n",
       "</table>\n",
       "<p>4338 rows × 2 columns</p>\n",
       "</div>"
      ],
      "text/plain": [
       "      CustomerID  recency\n",
       "0        12346.0      325\n",
       "1        12347.0        2\n",
       "2        12348.0       75\n",
       "3        12349.0       18\n",
       "4        12350.0      310\n",
       "...          ...      ...\n",
       "4333     18280.0      277\n",
       "4334     18281.0      180\n",
       "4335     18282.0        7\n",
       "4336     18283.0        3\n",
       "4337     18287.0       42\n",
       "\n",
       "[4338 rows x 2 columns]"
      ]
     },
     "execution_count": 74,
     "metadata": {},
     "output_type": "execute_result"
    }
   ],
   "source": [
    "df_recency = recency.to_frame()\n",
    "df_recency = df_recency.reset_index().rename(columns = {'index' :'CustomerID', 'diff_days' :'recency'})\n",
    "df_recency"
   ]
  },
  {
   "cell_type": "code",
   "execution_count": 75,
   "metadata": {
    "executionInfo": {
     "elapsed": 6,
     "status": "ok",
     "timestamp": 1668148973028,
     "user": {
      "displayName": "강현욱",
      "userId": "07194546442434465172"
     },
     "user_tz": -540
    },
    "id": "rILSoe5wuIBt"
   },
   "outputs": [],
   "source": [
    "rfm = pd.merge(df_frequecy, df_recency, how = 'inner', on ='CustomerID')"
   ]
  },
  {
   "cell_type": "markdown",
   "metadata": {
    "id": "66QrEk8exBAZ"
   },
   "source": [
    "## 5.4 RFM 스코어 생성"
   ]
  },
  {
   "cell_type": "code",
   "execution_count": 76,
   "metadata": {
    "colab": {
     "base_uri": "https://localhost:8080/",
     "height": 424
    },
    "executionInfo": {
     "elapsed": 6,
     "status": "ok",
     "timestamp": 1668148973028,
     "user": {
      "displayName": "강현욱",
      "userId": "07194546442434465172"
     },
     "user_tz": -540
    },
    "id": "mJfNsHnY9M70",
    "outputId": "6d34a437-6228-4d66-999e-0410236db342"
   },
   "outputs": [
    {
     "data": {
      "text/html": [
       "<div>\n",
       "<style scoped>\n",
       "    .dataframe tbody tr th:only-of-type {\n",
       "        vertical-align: middle;\n",
       "    }\n",
       "\n",
       "    .dataframe tbody tr th {\n",
       "        vertical-align: top;\n",
       "    }\n",
       "\n",
       "    .dataframe thead th {\n",
       "        text-align: right;\n",
       "    }\n",
       "</style>\n",
       "<table border=\"1\" class=\"dataframe\">\n",
       "  <thead>\n",
       "    <tr style=\"text-align: right;\">\n",
       "      <th></th>\n",
       "      <th>CustomerID</th>\n",
       "      <th>frequecy</th>\n",
       "      <th>recency</th>\n",
       "      <th>monitery</th>\n",
       "    </tr>\n",
       "  </thead>\n",
       "  <tbody>\n",
       "    <tr>\n",
       "      <th>0</th>\n",
       "      <td>12346.0</td>\n",
       "      <td>1</td>\n",
       "      <td>325</td>\n",
       "      <td>77183.60</td>\n",
       "    </tr>\n",
       "    <tr>\n",
       "      <th>1</th>\n",
       "      <td>12347.0</td>\n",
       "      <td>7</td>\n",
       "      <td>2</td>\n",
       "      <td>4310.00</td>\n",
       "    </tr>\n",
       "    <tr>\n",
       "      <th>2</th>\n",
       "      <td>12348.0</td>\n",
       "      <td>4</td>\n",
       "      <td>75</td>\n",
       "      <td>1797.24</td>\n",
       "    </tr>\n",
       "    <tr>\n",
       "      <th>3</th>\n",
       "      <td>12349.0</td>\n",
       "      <td>1</td>\n",
       "      <td>18</td>\n",
       "      <td>1757.55</td>\n",
       "    </tr>\n",
       "    <tr>\n",
       "      <th>4</th>\n",
       "      <td>12350.0</td>\n",
       "      <td>1</td>\n",
       "      <td>310</td>\n",
       "      <td>334.40</td>\n",
       "    </tr>\n",
       "    <tr>\n",
       "      <th>...</th>\n",
       "      <td>...</td>\n",
       "      <td>...</td>\n",
       "      <td>...</td>\n",
       "      <td>...</td>\n",
       "    </tr>\n",
       "    <tr>\n",
       "      <th>4333</th>\n",
       "      <td>18280.0</td>\n",
       "      <td>1</td>\n",
       "      <td>277</td>\n",
       "      <td>180.60</td>\n",
       "    </tr>\n",
       "    <tr>\n",
       "      <th>4334</th>\n",
       "      <td>18281.0</td>\n",
       "      <td>1</td>\n",
       "      <td>180</td>\n",
       "      <td>80.82</td>\n",
       "    </tr>\n",
       "    <tr>\n",
       "      <th>4335</th>\n",
       "      <td>18282.0</td>\n",
       "      <td>2</td>\n",
       "      <td>7</td>\n",
       "      <td>178.05</td>\n",
       "    </tr>\n",
       "    <tr>\n",
       "      <th>4336</th>\n",
       "      <td>18283.0</td>\n",
       "      <td>16</td>\n",
       "      <td>3</td>\n",
       "      <td>2045.53</td>\n",
       "    </tr>\n",
       "    <tr>\n",
       "      <th>4337</th>\n",
       "      <td>18287.0</td>\n",
       "      <td>3</td>\n",
       "      <td>42</td>\n",
       "      <td>1837.28</td>\n",
       "    </tr>\n",
       "  </tbody>\n",
       "</table>\n",
       "<p>4338 rows × 4 columns</p>\n",
       "</div>"
      ],
      "text/plain": [
       "      CustomerID  frequecy  recency  monitery\n",
       "0        12346.0         1      325  77183.60\n",
       "1        12347.0         7        2   4310.00\n",
       "2        12348.0         4       75   1797.24\n",
       "3        12349.0         1       18   1757.55\n",
       "4        12350.0         1      310    334.40\n",
       "...          ...       ...      ...       ...\n",
       "4333     18280.0         1      277    180.60\n",
       "4334     18281.0         1      180     80.82\n",
       "4335     18282.0         2        7    178.05\n",
       "4336     18283.0        16        3   2045.53\n",
       "4337     18287.0         3       42   1837.28\n",
       "\n",
       "[4338 rows x 4 columns]"
      ]
     },
     "execution_count": 76,
     "metadata": {},
     "output_type": "execute_result"
    }
   ],
   "source": [
    "# R,F,M 데이터 통합\n",
    "RFM_data = pd.merge(rfm, df_monitery, how ='inner', on= 'CustomerID')\n",
    "RFM_data"
   ]
  },
  {
   "cell_type": "code",
   "execution_count": 78,
   "metadata": {
    "colab": {
     "base_uri": "https://localhost:8080/",
     "height": 363
    },
    "executionInfo": {
     "elapsed": 6,
     "status": "ok",
     "timestamp": 1668148973028,
     "user": {
      "displayName": "강현욱",
      "userId": "07194546442434465172"
     },
     "user_tz": -540
    },
    "id": "tj2c36FCBUGd",
    "outputId": "187fe874-cb31-49ba-845d-f9e2ad3e2711"
   },
   "outputs": [
    {
     "data": {
      "text/html": [
       "<div>\n",
       "<style scoped>\n",
       "    .dataframe tbody tr th:only-of-type {\n",
       "        vertical-align: middle;\n",
       "    }\n",
       "\n",
       "    .dataframe tbody tr th {\n",
       "        vertical-align: top;\n",
       "    }\n",
       "\n",
       "    .dataframe thead th {\n",
       "        text-align: right;\n",
       "    }\n",
       "</style>\n",
       "<table border=\"1\" class=\"dataframe\">\n",
       "  <thead>\n",
       "    <tr style=\"text-align: right;\">\n",
       "      <th></th>\n",
       "      <th>CustomerID</th>\n",
       "      <th>frequecy</th>\n",
       "      <th>recency</th>\n",
       "      <th>monitery</th>\n",
       "      <th>fre_score</th>\n",
       "      <th>rec_score</th>\n",
       "      <th>mon_score</th>\n",
       "      <th>total_score</th>\n",
       "    </tr>\n",
       "  </thead>\n",
       "  <tbody>\n",
       "    <tr>\n",
       "      <th>0</th>\n",
       "      <td>12346.0</td>\n",
       "      <td>1</td>\n",
       "      <td>325</td>\n",
       "      <td>77183.60</td>\n",
       "      <td>1</td>\n",
       "      <td>1</td>\n",
       "      <td>4</td>\n",
       "      <td>6</td>\n",
       "    </tr>\n",
       "    <tr>\n",
       "      <th>1</th>\n",
       "      <td>12347.0</td>\n",
       "      <td>7</td>\n",
       "      <td>2</td>\n",
       "      <td>4310.00</td>\n",
       "      <td>3</td>\n",
       "      <td>4</td>\n",
       "      <td>4</td>\n",
       "      <td>11</td>\n",
       "    </tr>\n",
       "    <tr>\n",
       "      <th>2</th>\n",
       "      <td>12348.0</td>\n",
       "      <td>4</td>\n",
       "      <td>75</td>\n",
       "      <td>1797.24</td>\n",
       "      <td>2</td>\n",
       "      <td>2</td>\n",
       "      <td>4</td>\n",
       "      <td>8</td>\n",
       "    </tr>\n",
       "    <tr>\n",
       "      <th>3</th>\n",
       "      <td>12349.0</td>\n",
       "      <td>1</td>\n",
       "      <td>18</td>\n",
       "      <td>1757.55</td>\n",
       "      <td>1</td>\n",
       "      <td>3</td>\n",
       "      <td>4</td>\n",
       "      <td>8</td>\n",
       "    </tr>\n",
       "    <tr>\n",
       "      <th>4</th>\n",
       "      <td>12350.0</td>\n",
       "      <td>1</td>\n",
       "      <td>310</td>\n",
       "      <td>334.40</td>\n",
       "      <td>1</td>\n",
       "      <td>1</td>\n",
       "      <td>2</td>\n",
       "      <td>4</td>\n",
       "    </tr>\n",
       "    <tr>\n",
       "      <th>5</th>\n",
       "      <td>12352.0</td>\n",
       "      <td>8</td>\n",
       "      <td>36</td>\n",
       "      <td>2506.04</td>\n",
       "      <td>3</td>\n",
       "      <td>3</td>\n",
       "      <td>4</td>\n",
       "      <td>10</td>\n",
       "    </tr>\n",
       "    <tr>\n",
       "      <th>6</th>\n",
       "      <td>12353.0</td>\n",
       "      <td>1</td>\n",
       "      <td>204</td>\n",
       "      <td>89.00</td>\n",
       "      <td>1</td>\n",
       "      <td>1</td>\n",
       "      <td>1</td>\n",
       "      <td>3</td>\n",
       "    </tr>\n",
       "    <tr>\n",
       "      <th>7</th>\n",
       "      <td>12354.0</td>\n",
       "      <td>1</td>\n",
       "      <td>232</td>\n",
       "      <td>1079.40</td>\n",
       "      <td>1</td>\n",
       "      <td>1</td>\n",
       "      <td>3</td>\n",
       "      <td>5</td>\n",
       "    </tr>\n",
       "    <tr>\n",
       "      <th>8</th>\n",
       "      <td>12355.0</td>\n",
       "      <td>1</td>\n",
       "      <td>214</td>\n",
       "      <td>459.40</td>\n",
       "      <td>1</td>\n",
       "      <td>1</td>\n",
       "      <td>2</td>\n",
       "      <td>4</td>\n",
       "    </tr>\n",
       "    <tr>\n",
       "      <th>9</th>\n",
       "      <td>12356.0</td>\n",
       "      <td>3</td>\n",
       "      <td>22</td>\n",
       "      <td>2811.43</td>\n",
       "      <td>2</td>\n",
       "      <td>3</td>\n",
       "      <td>4</td>\n",
       "      <td>9</td>\n",
       "    </tr>\n",
       "  </tbody>\n",
       "</table>\n",
       "</div>"
      ],
      "text/plain": [
       "   CustomerID  frequecy  recency  monitery fre_score rec_score mon_score  \\\n",
       "0     12346.0         1      325  77183.60         1         1         4   \n",
       "1     12347.0         7        2   4310.00         3         4         4   \n",
       "2     12348.0         4       75   1797.24         2         2         4   \n",
       "3     12349.0         1       18   1757.55         1         3         4   \n",
       "4     12350.0         1      310    334.40         1         1         2   \n",
       "5     12352.0         8       36   2506.04         3         3         4   \n",
       "6     12353.0         1      204     89.00         1         1         1   \n",
       "7     12354.0         1      232   1079.40         1         1         3   \n",
       "8     12355.0         1      214    459.40         1         1         2   \n",
       "9     12356.0         3       22   2811.43         2         3         4   \n",
       "\n",
       "   total_score  \n",
       "0            6  \n",
       "1           11  \n",
       "2            8  \n",
       "3            8  \n",
       "4            4  \n",
       "5           10  \n",
       "6            3  \n",
       "7            5  \n",
       "8            4  \n",
       "9            9  "
      ]
     },
     "execution_count": 78,
     "metadata": {},
     "output_type": "execute_result"
    }
   ],
   "source": [
    "# 각 분위수별 값 설정 및 total 스코어 생성\n",
    "\n",
    "#RFM_data['fre_score'] = pd.qcut(RFM_data['frequecy'],4, labels =[1,2,3,4])\n",
    "## 값이 중복이 많아서 동일한 값들을 하나의 구간으로 나눌수 없는 문제가 발생 \n",
    "## 이를 해결하기 위해 구간이 나눠질 수 없는 구간은 제거(drop) 하는 옵션 사용 \n",
    "## 구간이 하나 줄어 들면서 labels 값도 3개로 사용 \n",
    "\n",
    "RFM_data['fre_score'] = pd.qcut(RFM_data['frequecy'],4, labels =[1,2,3],duplicates ='drop')\n",
    "RFM_data['rec_score'] = pd.qcut(RFM_data['recency'] ,4, labels =[4,3,2,1]) # 최근성은 값이 낮을 수록 높은 점수를 받도록 순서를 바꿈\n",
    "RFM_data['mon_score'] = pd.qcut(RFM_data['monitery'],4, labels =[1,2,3,4])\n",
    "RFM_data['total_score'] = RFM_data['fre_score'].astype(int) + RFM_data['rec_score'].astype(int) + RFM_data['mon_score'].astype(int)\n",
    "RFM_data.head(10)"
   ]
  },
  {
   "cell_type": "code",
   "execution_count": 79,
   "metadata": {
    "colab": {
     "base_uri": "https://localhost:8080/",
     "height": 286
    },
    "executionInfo": {
     "elapsed": 6,
     "status": "ok",
     "timestamp": 1668148973028,
     "user": {
      "displayName": "강현욱",
      "userId": "07194546442434465172"
     },
     "user_tz": -540
    },
    "id": "lnjxntmhJlRv",
    "outputId": "08bf179f-dc98-4689-d069-8711e0ee6abb"
   },
   "outputs": [
    {
     "data": {
      "text/plain": [
       "<AxesSubplot:>"
      ]
     },
     "execution_count": 79,
     "metadata": {},
     "output_type": "execute_result"
    },
    {
     "data": {
      "image/png": "[encoded data removed]",
      "text/plain": [
       "<Figure size 432x288 with 1 Axes>"
      ]
     },
     "metadata": {
      "needs_background": "light"
     },
     "output_type": "display_data"
    }
   ],
   "source": [
    "# 데이터 분포 시각화\n",
    "RFM_data['total_score'].value_counts().sort_index().plot(kind='bar')"
   ]
  },
  {
   "cell_type": "markdown",
   "metadata": {
    "id": "Ng3xSFIVzLUx"
   },
   "source": [
    "## 5.5 RFM 축약"
   ]
  },
  {
   "cell_type": "code",
   "execution_count": 59,
   "metadata": {
    "colab": {
     "base_uri": "https://localhost:8080/",
     "height": 487
    },
    "executionInfo": {
     "elapsed": 816,
     "status": "ok",
     "timestamp": 1668148973842,
     "user": {
      "displayName": "강현욱",
      "userId": "07194546442434465172"
     },
     "user_tz": -540
    },
    "id": "Id5b_US8_CAE",
    "outputId": "48b13453-ab7a-48d3-e30d-649f9c3be4cf"
   },
   "outputs": [
    {
     "data": {
      "image/png": "[encoded data removed]",
      "text/plain": [
       "<Figure size 576x576 with 2 Axes>"
      ]
     },
     "metadata": {
      "needs_background": "light"
     },
     "output_type": "display_data"
    }
   ],
   "source": [
    "#  RFM 점수 상관분석\n",
    "plt.figure(figsize =(8,8))\n",
    "sns.heatmap(data = RFM_data[['frequecy','recency','monitery']].corr(),annot= True,\n",
    "            fmt ='.1%', linewidths =.5, cmap='Blues')\n",
    "plt.show()\n",
    "## M(구매금액) 과 F(구매횟수) 점수의 상관관계가 42.5% 로 상대적으로 구매횟수와 구매 금액이 양의 상관관계가 있음을 알수 있음\n",
    "## R(최근성)은 M(구매금액) 과 F(구매횟수) 점수와 음의 상관관계로 나타남. \n",
    "## 최근성을 제외 (1년으로 고정을 한다는 가정)하고 M과 F의 점수만 사용하여 FM 모형으로 축약  "
   ]
  },
  {
   "cell_type": "code",
   "execution_count": 80,
   "metadata": {
    "colab": {
     "base_uri": "https://localhost:8080/",
     "height": 206
    },
    "executionInfo": {
     "elapsed": 5,
     "status": "ok",
     "timestamp": 1668148973843,
     "user": {
      "displayName": "강현욱",
      "userId": "07194546442434465172"
     },
     "user_tz": -540
    },
    "id": "ICtHAWXbRO3A",
    "outputId": "268bd206-15c6-40cb-c973-0f5a942512e7"
   },
   "outputs": [
    {
     "data": {
      "text/html": [
       "<div>\n",
       "<style scoped>\n",
       "    .dataframe tbody tr th:only-of-type {\n",
       "        vertical-align: middle;\n",
       "    }\n",
       "\n",
       "    .dataframe tbody tr th {\n",
       "        vertical-align: top;\n",
       "    }\n",
       "\n",
       "    .dataframe thead tr th {\n",
       "        text-align: left;\n",
       "    }\n",
       "\n",
       "    .dataframe thead tr:last-of-type th {\n",
       "        text-align: right;\n",
       "    }\n",
       "</style>\n",
       "<table border=\"1\" class=\"dataframe\">\n",
       "  <thead>\n",
       "    <tr>\n",
       "      <th></th>\n",
       "      <th colspan=\"4\" halign=\"left\">0</th>\n",
       "    </tr>\n",
       "    <tr>\n",
       "      <th>mon_score</th>\n",
       "      <th>1</th>\n",
       "      <th>2</th>\n",
       "      <th>3</th>\n",
       "      <th>4</th>\n",
       "    </tr>\n",
       "    <tr>\n",
       "      <th>fre_score</th>\n",
       "      <th></th>\n",
       "      <th></th>\n",
       "      <th></th>\n",
       "      <th></th>\n",
       "    </tr>\n",
       "  </thead>\n",
       "  <tbody>\n",
       "    <tr>\n",
       "      <th>1</th>\n",
       "      <td>0.240433</td>\n",
       "      <td>0.193868</td>\n",
       "      <td>0.085523</td>\n",
       "      <td>0.016828</td>\n",
       "    </tr>\n",
       "    <tr>\n",
       "      <th>2</th>\n",
       "      <td>0.009221</td>\n",
       "      <td>0.054633</td>\n",
       "      <td>0.131627</td>\n",
       "      <td>0.066851</td>\n",
       "    </tr>\n",
       "    <tr>\n",
       "      <th>3</th>\n",
       "      <td>0.000461</td>\n",
       "      <td>0.001383</td>\n",
       "      <td>0.032734</td>\n",
       "      <td>0.166436</td>\n",
       "    </tr>\n",
       "  </tbody>\n",
       "</table>\n",
       "</div>"
      ],
      "text/plain": [
       "                  0                              \n",
       "mon_score         1         2         3         4\n",
       "fre_score                                        \n",
       "1          0.240433  0.193868  0.085523  0.016828\n",
       "2          0.009221  0.054633  0.131627  0.066851\n",
       "3          0.000461  0.001383  0.032734  0.166436"
      ]
     },
     "execution_count": 80,
     "metadata": {},
     "output_type": "execute_result"
    }
   ],
   "source": [
    "# FM 모형의 분포 확인 \n",
    "df_count_pivot = RFM_data[['fre_score', 'mon_score']].value_counts(sort= False,normalize=True).sort_index().to_frame().unstack()\n",
    "df_count_pivot"
   ]
  },
  {
   "cell_type": "code",
   "execution_count": 81,
   "metadata": {
    "colab": {
     "base_uri": "https://localhost:8080/",
     "height": 298
    },
    "executionInfo": {
     "elapsed": 4,
     "status": "ok",
     "timestamp": 1668148973843,
     "user": {
      "displayName": "강현욱",
      "userId": "07194546442434465172"
     },
     "user_tz": -540
    },
    "id": "VfVwo87JKFVA",
    "outputId": "6f9f5e40-09d0-4d3b-c4c7-562a152ad6fa"
   },
   "outputs": [
    {
     "data": {
      "text/plain": [
       "<AxesSubplot:xlabel='None-mon_score', ylabel='fre_score'>"
      ]
     },
     "execution_count": 81,
     "metadata": {},
     "output_type": "execute_result"
    },
    {
     "data": {
      "image/png": "[encoded data removed]",
      "text/plain": [
       "<Figure size 432x288 with 2 Axes>"
      ]
     },
     "metadata": {
      "needs_background": "light"
     },
     "output_type": "display_data"
    }
   ],
   "source": [
    "# FM 모형의 분포 시각화\n",
    "sns.heatmap(df_count_pivot, annot= True, fmt ='.1%', linewidths =.5, cmap='Blues')"
   ]
  },
  {
   "cell_type": "code",
   "execution_count": 82,
   "metadata": {
    "colab": {
     "base_uri": "https://localhost:8080/",
     "height": 224
    },
    "executionInfo": {
     "elapsed": 2,
     "status": "ok",
     "timestamp": 1668148973843,
     "user": {
      "displayName": "강현욱",
      "userId": "07194546442434465172"
     },
     "user_tz": -540
    },
    "id": "q3pM4zE7mqCi",
    "outputId": "0132870b-efef-420f-eb45-d5e2900dbb1d"
   },
   "outputs": [
    {
     "name": "stdout",
     "output_type": "stream",
     "text": [
      "(4338, 8)\n"
     ]
    },
    {
     "data": {
      "text/html": [
       "<div>\n",
       "<style scoped>\n",
       "    .dataframe tbody tr th:only-of-type {\n",
       "        vertical-align: middle;\n",
       "    }\n",
       "\n",
       "    .dataframe tbody tr th {\n",
       "        vertical-align: top;\n",
       "    }\n",
       "\n",
       "    .dataframe thead th {\n",
       "        text-align: right;\n",
       "    }\n",
       "</style>\n",
       "<table border=\"1\" class=\"dataframe\">\n",
       "  <thead>\n",
       "    <tr style=\"text-align: right;\">\n",
       "      <th></th>\n",
       "      <th>CustomerID</th>\n",
       "      <th>frequecy</th>\n",
       "      <th>recency</th>\n",
       "      <th>monitery</th>\n",
       "      <th>fre_score</th>\n",
       "      <th>rec_score</th>\n",
       "      <th>mon_score</th>\n",
       "      <th>total_score</th>\n",
       "    </tr>\n",
       "  </thead>\n",
       "  <tbody>\n",
       "    <tr>\n",
       "      <th>0</th>\n",
       "      <td>12346.0</td>\n",
       "      <td>1</td>\n",
       "      <td>325</td>\n",
       "      <td>77183.60</td>\n",
       "      <td>1</td>\n",
       "      <td>1</td>\n",
       "      <td>4</td>\n",
       "      <td>6</td>\n",
       "    </tr>\n",
       "    <tr>\n",
       "      <th>1</th>\n",
       "      <td>12347.0</td>\n",
       "      <td>7</td>\n",
       "      <td>2</td>\n",
       "      <td>4310.00</td>\n",
       "      <td>3</td>\n",
       "      <td>4</td>\n",
       "      <td>4</td>\n",
       "      <td>11</td>\n",
       "    </tr>\n",
       "    <tr>\n",
       "      <th>2</th>\n",
       "      <td>12348.0</td>\n",
       "      <td>4</td>\n",
       "      <td>75</td>\n",
       "      <td>1797.24</td>\n",
       "      <td>2</td>\n",
       "      <td>2</td>\n",
       "      <td>4</td>\n",
       "      <td>8</td>\n",
       "    </tr>\n",
       "    <tr>\n",
       "      <th>3</th>\n",
       "      <td>12349.0</td>\n",
       "      <td>1</td>\n",
       "      <td>18</td>\n",
       "      <td>1757.55</td>\n",
       "      <td>1</td>\n",
       "      <td>3</td>\n",
       "      <td>4</td>\n",
       "      <td>8</td>\n",
       "    </tr>\n",
       "    <tr>\n",
       "      <th>4</th>\n",
       "      <td>12350.0</td>\n",
       "      <td>1</td>\n",
       "      <td>310</td>\n",
       "      <td>334.40</td>\n",
       "      <td>1</td>\n",
       "      <td>1</td>\n",
       "      <td>2</td>\n",
       "      <td>4</td>\n",
       "    </tr>\n",
       "  </tbody>\n",
       "</table>\n",
       "</div>"
      ],
      "text/plain": [
       "   CustomerID  frequecy  recency  monitery fre_score rec_score mon_score  \\\n",
       "0     12346.0         1      325  77183.60         1         1         4   \n",
       "1     12347.0         7        2   4310.00         3         4         4   \n",
       "2     12348.0         4       75   1797.24         2         2         4   \n",
       "3     12349.0         1       18   1757.55         1         3         4   \n",
       "4     12350.0         1      310    334.40         1         1         2   \n",
       "\n",
       "   total_score  \n",
       "0            6  \n",
       "1           11  \n",
       "2            8  \n",
       "3            8  \n",
       "4            4  "
      ]
     },
     "execution_count": 82,
     "metadata": {},
     "output_type": "execute_result"
    }
   ],
   "source": [
    "# 전체 데이터 수 확인\n",
    "print(RFM_data.shape)\n",
    "##  유저 4338명에 대해  8개 변수 생성\n",
    "RFM_data.head()"
   ]
  },
  {
   "cell_type": "code",
   "execution_count": 83,
   "metadata": {
    "colab": {
     "base_uri": "https://localhost:8080/",
     "height": 206
    },
    "executionInfo": {
     "elapsed": 1,
     "status": "ok",
     "timestamp": 1668148973843,
     "user": {
      "displayName": "강현욱",
      "userId": "07194546442434465172"
     },
     "user_tz": -540
    },
    "id": "x702FMW1iL5H",
    "outputId": "291187ca-3160-4b08-9651-b3e3708b77d0"
   },
   "outputs": [
    {
     "data": {
      "text/html": [
       "<div>\n",
       "<style scoped>\n",
       "    .dataframe tbody tr th:only-of-type {\n",
       "        vertical-align: middle;\n",
       "    }\n",
       "\n",
       "    .dataframe tbody tr th {\n",
       "        vertical-align: top;\n",
       "    }\n",
       "\n",
       "    .dataframe thead th {\n",
       "        text-align: right;\n",
       "    }\n",
       "</style>\n",
       "<table border=\"1\" class=\"dataframe\">\n",
       "  <thead>\n",
       "    <tr style=\"text-align: right;\">\n",
       "      <th></th>\n",
       "      <th>CustomerID</th>\n",
       "      <th>frequecy</th>\n",
       "      <th>monitery</th>\n",
       "      <th>fre_score</th>\n",
       "      <th>mon_score</th>\n",
       "      <th>fm_score</th>\n",
       "      <th>create_date</th>\n",
       "    </tr>\n",
       "  </thead>\n",
       "  <tbody>\n",
       "    <tr>\n",
       "      <th>0</th>\n",
       "      <td>12346.0</td>\n",
       "      <td>1</td>\n",
       "      <td>77183.60</td>\n",
       "      <td>1</td>\n",
       "      <td>4</td>\n",
       "      <td>5</td>\n",
       "      <td>2012-01-01</td>\n",
       "    </tr>\n",
       "    <tr>\n",
       "      <th>1</th>\n",
       "      <td>12347.0</td>\n",
       "      <td>7</td>\n",
       "      <td>4310.00</td>\n",
       "      <td>3</td>\n",
       "      <td>4</td>\n",
       "      <td>7</td>\n",
       "      <td>2012-01-01</td>\n",
       "    </tr>\n",
       "    <tr>\n",
       "      <th>2</th>\n",
       "      <td>12348.0</td>\n",
       "      <td>4</td>\n",
       "      <td>1797.24</td>\n",
       "      <td>2</td>\n",
       "      <td>4</td>\n",
       "      <td>6</td>\n",
       "      <td>2012-01-01</td>\n",
       "    </tr>\n",
       "    <tr>\n",
       "      <th>3</th>\n",
       "      <td>12349.0</td>\n",
       "      <td>1</td>\n",
       "      <td>1757.55</td>\n",
       "      <td>1</td>\n",
       "      <td>4</td>\n",
       "      <td>5</td>\n",
       "      <td>2012-01-01</td>\n",
       "    </tr>\n",
       "    <tr>\n",
       "      <th>4</th>\n",
       "      <td>12350.0</td>\n",
       "      <td>1</td>\n",
       "      <td>334.40</td>\n",
       "      <td>1</td>\n",
       "      <td>2</td>\n",
       "      <td>3</td>\n",
       "      <td>2012-01-01</td>\n",
       "    </tr>\n",
       "  </tbody>\n",
       "</table>\n",
       "</div>"
      ],
      "text/plain": [
       "   CustomerID  frequecy  monitery  fre_score  mon_score  fm_score create_date\n",
       "0     12346.0         1  77183.60          1          4         5  2012-01-01\n",
       "1     12347.0         7   4310.00          3          4         7  2012-01-01\n",
       "2     12348.0         4   1797.24          2          4         6  2012-01-01\n",
       "3     12349.0         1   1757.55          1          4         5  2012-01-01\n",
       "4     12350.0         1    334.40          1          2         3  2012-01-01"
      ]
     },
     "execution_count": 83,
     "metadata": {},
     "output_type": "execute_result"
    }
   ],
   "source": [
    "# FM 스코어만 적용 하여 해당월 저장 \n",
    "FM_score = RFM_data[['CustomerID', 'frequecy', 'monitery', 'fre_score', 'mon_score']].copy()\n",
    "FM_score['fre_score'] =FM_score['fre_score'].astype(int)\n",
    "FM_score['mon_score'] =FM_score['mon_score'].astype(int)\n",
    "FM_score['fm_score']= FM_score['fre_score'] + FM_score['mon_score']\n",
    "FM_score['create_date'] =  '2012-01-01'  # 2011년 12월 기준 score 로 2012년 사용 목적 저장 \n",
    "FM_score.head()"
   ]
  },
  {
   "cell_type": "markdown",
   "metadata": {
    "id": "cgg4WBx2hw8O"
   },
   "source": [
    "# *6*.심화 적용 (직접 해보기)\n"
   ]
  },
  {
   "cell_type": "markdown",
   "metadata": {
    "id": "yak__o6pCUsP"
   },
   "source": [
    "## 6.1 구간을 분위수를 보고 cut-off 정의하기 \n",
    "\n",
    "### 분위 수 사용시 장단점 \n",
    "- 분위수를 사용하면 매번 RFM 구간별 동일 유저수가 들어가기 때문에 유저수는 동일하게됨 \n",
    "- 매번 기준이 달라지기 때문에 (크게 변하지는 않지만) 혼란이 될 수 있음 \n",
    "- 그렇기 때문에 분위수를 참고하여 cut-off 값을 정의해주는것이 필요함 \n",
    "- cut-off 값을 정의해 사용하면 각 그룹의 비율이 매번 어떻게 변하는 것인지 확인할 수 있음 \n",
    "\n",
    "\n"
   ]
  },
  {
   "cell_type": "code",
   "execution_count": 55,
   "metadata": {
    "colab": {
     "base_uri": "https://localhost:8080/",
     "height": 300
    },
    "executionInfo": {
     "elapsed": 2,
     "status": "ok",
     "timestamp": 1668148973844,
     "user": {
      "displayName": "강현욱",
      "userId": "07194546442434465172"
     },
     "user_tz": -540
    },
    "id": "GiAk9mKVZNoW",
    "outputId": "08132312-6875-4b16-a183-0adb876a3ba4"
   },
   "outputs": [
    {
     "data": {
      "text/html": [
       "\n",
       "  <div id=\"df-d0cefe7b-618f-4985-89d9-33f1de0e3a3f\">\n",
       "    <div class=\"colab-df-container\">\n",
       "      <div>\n",
       "<style scoped>\n",
       "    .dataframe tbody tr th:only-of-type {\n",
       "        vertical-align: middle;\n",
       "    }\n",
       "\n",
       "    .dataframe tbody tr th {\n",
       "        vertical-align: top;\n",
       "    }\n",
       "\n",
       "    .dataframe thead th {\n",
       "        text-align: right;\n",
       "    }\n",
       "</style>\n",
       "<table border=\"1\" class=\"dataframe\">\n",
       "  <thead>\n",
       "    <tr style=\"text-align: right;\">\n",
       "      <th></th>\n",
       "      <th>CustomerID</th>\n",
       "      <th>frequecy</th>\n",
       "      <th>recency</th>\n",
       "      <th>monitery</th>\n",
       "      <th>total_score</th>\n",
       "    </tr>\n",
       "  </thead>\n",
       "  <tbody>\n",
       "    <tr>\n",
       "      <th>count</th>\n",
       "      <td>4338.000000</td>\n",
       "      <td>4338.000000</td>\n",
       "      <td>4338.000000</td>\n",
       "      <td>4338.000000</td>\n",
       "      <td>4338.000000</td>\n",
       "    </tr>\n",
       "    <tr>\n",
       "      <th>mean</th>\n",
       "      <td>15300.408022</td>\n",
       "      <td>4.272015</td>\n",
       "      <td>92.059474</td>\n",
       "      <td>2048.688081</td>\n",
       "      <td>6.670124</td>\n",
       "    </tr>\n",
       "    <tr>\n",
       "      <th>std</th>\n",
       "      <td>1721.808492</td>\n",
       "      <td>7.697998</td>\n",
       "      <td>100.012264</td>\n",
       "      <td>8985.230220</td>\n",
       "      <td>2.543010</td>\n",
       "    </tr>\n",
       "    <tr>\n",
       "      <th>min</th>\n",
       "      <td>12346.000000</td>\n",
       "      <td>1.000000</td>\n",
       "      <td>0.000000</td>\n",
       "      <td>3.750000</td>\n",
       "      <td>3.000000</td>\n",
       "    </tr>\n",
       "    <tr>\n",
       "      <th>25%</th>\n",
       "      <td>13813.250000</td>\n",
       "      <td>1.000000</td>\n",
       "      <td>17.000000</td>\n",
       "      <td>306.482500</td>\n",
       "      <td>4.000000</td>\n",
       "    </tr>\n",
       "    <tr>\n",
       "      <th>50%</th>\n",
       "      <td>15299.500000</td>\n",
       "      <td>2.000000</td>\n",
       "      <td>50.000000</td>\n",
       "      <td>668.570000</td>\n",
       "      <td>6.000000</td>\n",
       "    </tr>\n",
       "    <tr>\n",
       "      <th>75%</th>\n",
       "      <td>16778.750000</td>\n",
       "      <td>5.000000</td>\n",
       "      <td>141.750000</td>\n",
       "      <td>1660.597500</td>\n",
       "      <td>9.000000</td>\n",
       "    </tr>\n",
       "    <tr>\n",
       "      <th>max</th>\n",
       "      <td>18287.000000</td>\n",
       "      <td>209.000000</td>\n",
       "      <td>373.000000</td>\n",
       "      <td>280206.020000</td>\n",
       "      <td>11.000000</td>\n",
       "    </tr>\n",
       "  </tbody>\n",
       "</table>\n",
       "</div>\n",
       "      <button class=\"colab-df-convert\" onclick=\"convertToInteractive('df-d0cefe7b-618f-4985-89d9-33f1de0e3a3f')\"\n",
       "              title=\"Convert this dataframe to an interactive table.\"\n",
       "              style=\"display:none;\">\n",
       "        \n",
       "  <svg xmlns=\"http://www.w3.org/2000/svg\" height=\"24px\"viewBox=\"0 0 24 24\"\n",
       "       width=\"24px\">\n",
       "    <path d=\"M0 0h24v24H0V0z\" fill=\"none\"/>\n",
       "    <path d=\"M18.56 5.44l.94 2.06.94-2.06 2.06-.94-2.06-.94-.94-2.06-.94 2.06-2.06.94zm-11 1L8.5 8.5l.94-2.06 2.06-.94-2.06-.94L8.5 2.5l-.94 2.06-2.06.94zm10 10l.94 2.06.94-2.06 2.06-.94-2.06-.94-.94-2.06-.94 2.06-2.06.94z\"/><path d=\"M17.41 7.96l-1.37-1.37c-.4-.4-.92-.59-1.43-.59-.52 0-1.04.2-1.43.59L10.3 9.45l-7.72 7.72c-.78.78-.78 2.05 0 2.83L4 21.41c.39.39.9.59 1.41.59.51 0 1.02-.2 1.41-.59l7.78-7.78 2.81-2.81c.8-.78.8-2.07 0-2.86zM5.41 20L4 18.59l7.72-7.72 1.47 1.35L5.41 20z\"/>\n",
       "  </svg>\n",
       "      </button>\n",
       "      \n",
       "  <style>\n",
       "    .colab-df-container {\n",
       "      display:flex;\n",
       "      flex-wrap:wrap;\n",
       "      gap: 12px;\n",
       "    }\n",
       "\n",
       "    .colab-df-convert {\n",
       "      background-color: #E8F0FE;\n",
       "      border: none;\n",
       "      border-radius: 50%;\n",
       "      cursor: pointer;\n",
       "      display: none;\n",
       "      fill: #1967D2;\n",
       "      height: 32px;\n",
       "      padding: 0 0 0 0;\n",
       "      width: 32px;\n",
       "    }\n",
       "\n",
       "    .colab-df-convert:hover {\n",
       "      background-color: #E2EBFA;\n",
       "      box-shadow: 0px 1px 2px rgba(60, 64, 67, 0.3), 0px 1px 3px 1px rgba(60, 64, 67, 0.15);\n",
       "      fill: #174EA6;\n",
       "    }\n",
       "\n",
       "    [theme=dark] .colab-df-convert {\n",
       "      background-color: #3B4455;\n",
       "      fill: #D2E3FC;\n",
       "    }\n",
       "\n",
       "    [theme=dark] .colab-df-convert:hover {\n",
       "      background-color: #434B5C;\n",
       "      box-shadow: 0px 1px 3px 1px rgba(0, 0, 0, 0.15);\n",
       "      filter: drop-shadow(0px 1px 2px rgba(0, 0, 0, 0.3));\n",
       "      fill: #FFFFFF;\n",
       "    }\n",
       "  </style>\n",
       "\n",
       "      <script>\n",
       "        const buttonEl =\n",
       "          document.querySelector('#df-d0cefe7b-618f-4985-89d9-33f1de0e3a3f button.colab-df-convert');\n",
       "        buttonEl.style.display =\n",
       "          google.colab.kernel.accessAllowed ? 'block' : 'none';\n",
       "\n",
       "        async function convertToInteractive(key) {\n",
       "          const element = document.querySelector('#df-d0cefe7b-618f-4985-89d9-33f1de0e3a3f');\n",
       "          const dataTable =\n",
       "            await google.colab.kernel.invokeFunction('convertToInteractive',\n",
       "                                                     [key], {});\n",
       "          if (!dataTable) return;\n",
       "\n",
       "          const docLinkHtml = 'Like what you see? Visit the ' +\n",
       "            '<a target=\"_blank\" href=https://colab.research.google.com/notebooks/data_table.ipynb>data table notebook</a>'\n",
       "            + ' to learn more about interactive tables.';\n",
       "          element.innerHTML = '';\n",
       "          dataTable['output_type'] = 'display_data';\n",
       "          await google.colab.output.renderOutput(dataTable, element);\n",
       "          const docLink = document.createElement('div');\n",
       "          docLink.innerHTML = docLinkHtml;\n",
       "          element.appendChild(docLink);\n",
       "        }\n",
       "      </script>\n",
       "    </div>\n",
       "  </div>\n",
       "  "
      ],
      "text/plain": [
       "         CustomerID     frequecy      recency       monitery  total_score\n",
       "count   4338.000000  4338.000000  4338.000000    4338.000000  4338.000000\n",
       "mean   15300.408022     4.272015    92.059474    2048.688081     6.670124\n",
       "std     1721.808492     7.697998   100.012264    8985.230220     2.543010\n",
       "min    12346.000000     1.000000     0.000000       3.750000     3.000000\n",
       "25%    13813.250000     1.000000    17.000000     306.482500     4.000000\n",
       "50%    15299.500000     2.000000    50.000000     668.570000     6.000000\n",
       "75%    16778.750000     5.000000   141.750000    1660.597500     9.000000\n",
       "max    18287.000000   209.000000   373.000000  280206.020000    11.000000"
      ]
     },
     "execution_count": 55,
     "metadata": {},
     "output_type": "execute_result"
    }
   ],
   "source": [
    "# 구간별 최대 최소값 확인하기 \n",
    "# 1. 분위수부터 보고 \n",
    "\n",
    "RFM_data.describe()"
   ]
  },
  {
   "cell_type": "code",
   "execution_count": 56,
   "metadata": {
    "colab": {
     "base_uri": "https://localhost:8080/"
    },
    "executionInfo": {
     "elapsed": 1,
     "status": "ok",
     "timestamp": 1668148973849,
     "user": {
      "displayName": "강현욱",
      "userId": "07194546442434465172"
     },
     "user_tz": -540
    },
    "id": "Ndhob7hQnBeg",
    "outputId": "c808497b-f44f-4999-ec25-27980631c2f6"
   },
   "outputs": [
    {
     "name": "stdout",
     "output_type": "stream",
     "text": [
      "           min  max  count\n",
      "rec_score                 \n",
      "4            0   17   1103\n",
      "3           18   50   1073\n",
      "2           51  141   1077\n",
      "1          142  373   1085\n",
      "           min  max  count\n",
      "fre_score                 \n",
      "1            1    2   2328\n",
      "2            3    5   1138\n",
      "3            6  209    872\n",
      "               min        max  count\n",
      "mon_score                           \n",
      "1             3.75     306.46   1085\n",
      "2           306.55     668.56   1084\n",
      "3           668.58    1659.75   1084\n",
      "4          1660.88  280206.02   1085\n",
      "           min  max  count\n",
      "rec_score                 \n",
      "4            0   17   1103\n",
      "3           18   50   1073\n",
      "2           51  141   1077\n",
      "1          142  373   1085\n",
      "           min  max  count\n",
      "fre_score                 \n",
      "1            1    2   2328\n",
      "2            3    5   1138\n",
      "3            6  209    872\n",
      "               min        max  count\n",
      "mon_score                           \n",
      "1             3.75     306.46   1085\n",
      "2           306.55     668.56   1084\n",
      "3           668.58    1659.75   1084\n",
      "4          1660.88  280206.02   1085\n"
     ]
    }
   ],
   "source": [
    "# 구간별 최대 최소값 확인하기 \n",
    "# 2. 각 구간별 유저수 확인  \n",
    "\n",
    "print(RFM_data.groupby('rec_score').recency.agg(['min', 'max', 'count']))\n",
    "print(RFM_data.groupby('fre_score').frequecy.agg(['min', 'max', 'count']))\n",
    "print(RFM_data.groupby('mon_score').monitery.agg(['min', 'max', 'count']))\n"
   ]
  },
  {
   "cell_type": "markdown",
   "metadata": {
    "id": "4MYA2teNv7IL"
   },
   "source": [
    "\n",
    "### 구간별 값을 설정 \n",
    "#### res_score는 \n",
    "- 4점 : 2주일 이내 (1~14일까지)\n",
    "- 3점 : 2개월 이내 (15~60일까지)\n",
    "- 2점 : 6개월 이내 (61~ 180일까지)\n",
    "- 1점 : 6개월 초과 (181~ ) \n",
    "\n",
    "#### fre_score는 \n",
    "- 1점 : 1번 구매 \n",
    "- 2점 : 2번 구매  \n",
    "- 3점 : 3~5번 구매\n",
    "- 4점 : 6번 이상\n",
    "\n",
    "#### mon_score는 \n",
    "- 4점 : 2000 초과\n",
    "- 3점 : 2000 이하   \n",
    "- 2점 : 600 이하\n",
    "- 1점 : 300 이하 \n",
    "\n"
   ]
  },
  {
   "cell_type": "code",
   "execution_count": 78,
   "metadata": {
    "colab": {
     "base_uri": "https://localhost:8080/",
     "height": 270
    },
    "executionInfo": {
     "elapsed": 293,
     "status": "ok",
     "timestamp": 1668151632686,
     "user": {
      "displayName": "강현욱",
      "userId": "07194546442434465172"
     },
     "user_tz": -540
    },
    "id": "CRkTs4JxZwnA",
    "outputId": "b1337c62-5f6f-40a5-f349-5411b7f836cb"
   },
   "outputs": [
    {
     "data": {
      "text/html": [
       "\n",
       "  <div id=\"df-cb44b7a5-59c8-4a09-9c17-d525fcfc2366\">\n",
       "    <div class=\"colab-df-container\">\n",
       "      <div>\n",
       "<style scoped>\n",
       "    .dataframe tbody tr th:only-of-type {\n",
       "        vertical-align: middle;\n",
       "    }\n",
       "\n",
       "    .dataframe tbody tr th {\n",
       "        vertical-align: top;\n",
       "    }\n",
       "\n",
       "    .dataframe thead th {\n",
       "        text-align: right;\n",
       "    }\n",
       "</style>\n",
       "<table border=\"1\" class=\"dataframe\">\n",
       "  <thead>\n",
       "    <tr style=\"text-align: right;\">\n",
       "      <th></th>\n",
       "      <th>CustomerID</th>\n",
       "      <th>frequecy</th>\n",
       "      <th>recency</th>\n",
       "      <th>monitery</th>\n",
       "      <th>fre_score</th>\n",
       "      <th>rec_score</th>\n",
       "      <th>mon_score</th>\n",
       "      <th>total_score</th>\n",
       "      <th>rec_test</th>\n",
       "      <th>adj_rec_score</th>\n",
       "      <th>adj_fre_score</th>\n",
       "      <th>adj_mon_score</th>\n",
       "      <th>adj_total_score</th>\n",
       "    </tr>\n",
       "  </thead>\n",
       "  <tbody>\n",
       "    <tr>\n",
       "      <th>0</th>\n",
       "      <td>12346.0</td>\n",
       "      <td>1</td>\n",
       "      <td>325</td>\n",
       "      <td>77183.60</td>\n",
       "      <td>1</td>\n",
       "      <td>1</td>\n",
       "      <td>4</td>\n",
       "      <td>6</td>\n",
       "      <td>1</td>\n",
       "      <td>1</td>\n",
       "      <td>1</td>\n",
       "      <td>4</td>\n",
       "      <td>6</td>\n",
       "    </tr>\n",
       "    <tr>\n",
       "      <th>1</th>\n",
       "      <td>12347.0</td>\n",
       "      <td>7</td>\n",
       "      <td>2</td>\n",
       "      <td>4310.00</td>\n",
       "      <td>3</td>\n",
       "      <td>4</td>\n",
       "      <td>4</td>\n",
       "      <td>11</td>\n",
       "      <td>4</td>\n",
       "      <td>4</td>\n",
       "      <td>4</td>\n",
       "      <td>4</td>\n",
       "      <td>12</td>\n",
       "    </tr>\n",
       "    <tr>\n",
       "      <th>2</th>\n",
       "      <td>12348.0</td>\n",
       "      <td>4</td>\n",
       "      <td>75</td>\n",
       "      <td>1797.24</td>\n",
       "      <td>2</td>\n",
       "      <td>2</td>\n",
       "      <td>4</td>\n",
       "      <td>8</td>\n",
       "      <td>2</td>\n",
       "      <td>2</td>\n",
       "      <td>3</td>\n",
       "      <td>3</td>\n",
       "      <td>8</td>\n",
       "    </tr>\n",
       "    <tr>\n",
       "      <th>3</th>\n",
       "      <td>12349.0</td>\n",
       "      <td>1</td>\n",
       "      <td>18</td>\n",
       "      <td>1757.55</td>\n",
       "      <td>1</td>\n",
       "      <td>3</td>\n",
       "      <td>4</td>\n",
       "      <td>8</td>\n",
       "      <td>3</td>\n",
       "      <td>3</td>\n",
       "      <td>1</td>\n",
       "      <td>3</td>\n",
       "      <td>7</td>\n",
       "    </tr>\n",
       "    <tr>\n",
       "      <th>4</th>\n",
       "      <td>12350.0</td>\n",
       "      <td>1</td>\n",
       "      <td>310</td>\n",
       "      <td>334.40</td>\n",
       "      <td>1</td>\n",
       "      <td>1</td>\n",
       "      <td>2</td>\n",
       "      <td>4</td>\n",
       "      <td>1</td>\n",
       "      <td>1</td>\n",
       "      <td>1</td>\n",
       "      <td>2</td>\n",
       "      <td>4</td>\n",
       "    </tr>\n",
       "  </tbody>\n",
       "</table>\n",
       "</div>\n",
       "      <button class=\"colab-df-convert\" onclick=\"convertToInteractive('df-cb44b7a5-59c8-4a09-9c17-d525fcfc2366')\"\n",
       "              title=\"Convert this dataframe to an interactive table.\"\n",
       "              style=\"display:none;\">\n",
       "        \n",
       "  <svg xmlns=\"http://www.w3.org/2000/svg\" height=\"24px\"viewBox=\"0 0 24 24\"\n",
       "       width=\"24px\">\n",
       "    <path d=\"M0 0h24v24H0V0z\" fill=\"none\"/>\n",
       "    <path d=\"M18.56 5.44l.94 2.06.94-2.06 2.06-.94-2.06-.94-.94-2.06-.94 2.06-2.06.94zm-11 1L8.5 8.5l.94-2.06 2.06-.94-2.06-.94L8.5 2.5l-.94 2.06-2.06.94zm10 10l.94 2.06.94-2.06 2.06-.94-2.06-.94-.94-2.06-.94 2.06-2.06.94z\"/><path d=\"M17.41 7.96l-1.37-1.37c-.4-.4-.92-.59-1.43-.59-.52 0-1.04.2-1.43.59L10.3 9.45l-7.72 7.72c-.78.78-.78 2.05 0 2.83L4 21.41c.39.39.9.59 1.41.59.51 0 1.02-.2 1.41-.59l7.78-7.78 2.81-2.81c.8-.78.8-2.07 0-2.86zM5.41 20L4 18.59l7.72-7.72 1.47 1.35L5.41 20z\"/>\n",
       "  </svg>\n",
       "      </button>\n",
       "      \n",
       "  <style>\n",
       "    .colab-df-container {\n",
       "      display:flex;\n",
       "      flex-wrap:wrap;\n",
       "      gap: 12px;\n",
       "    }\n",
       "\n",
       "    .colab-df-convert {\n",
       "      background-color: #E8F0FE;\n",
       "      border: none;\n",
       "      border-radius: 50%;\n",
       "      cursor: pointer;\n",
       "      display: none;\n",
       "      fill: #1967D2;\n",
       "      height: 32px;\n",
       "      padding: 0 0 0 0;\n",
       "      width: 32px;\n",
       "    }\n",
       "\n",
       "    .colab-df-convert:hover {\n",
       "      background-color: #E2EBFA;\n",
       "      box-shadow: 0px 1px 2px rgba(60, 64, 67, 0.3), 0px 1px 3px 1px rgba(60, 64, 67, 0.15);\n",
       "      fill: #174EA6;\n",
       "    }\n",
       "\n",
       "    [theme=dark] .colab-df-convert {\n",
       "      background-color: #3B4455;\n",
       "      fill: #D2E3FC;\n",
       "    }\n",
       "\n",
       "    [theme=dark] .colab-df-convert:hover {\n",
       "      background-color: #434B5C;\n",
       "      box-shadow: 0px 1px 3px 1px rgba(0, 0, 0, 0.15);\n",
       "      filter: drop-shadow(0px 1px 2px rgba(0, 0, 0, 0.3));\n",
       "      fill: #FFFFFF;\n",
       "    }\n",
       "  </style>\n",
       "\n",
       "      <script>\n",
       "        const buttonEl =\n",
       "          document.querySelector('#df-cb44b7a5-59c8-4a09-9c17-d525fcfc2366 button.colab-df-convert');\n",
       "        buttonEl.style.display =\n",
       "          google.colab.kernel.accessAllowed ? 'block' : 'none';\n",
       "\n",
       "        async function convertToInteractive(key) {\n",
       "          const element = document.querySelector('#df-cb44b7a5-59c8-4a09-9c17-d525fcfc2366');\n",
       "          const dataTable =\n",
       "            await google.colab.kernel.invokeFunction('convertToInteractive',\n",
       "                                                     [key], {});\n",
       "          if (!dataTable) return;\n",
       "\n",
       "          const docLinkHtml = 'Like what you see? Visit the ' +\n",
       "            '<a target=\"_blank\" href=https://colab.research.google.com/notebooks/data_table.ipynb>data table notebook</a>'\n",
       "            + ' to learn more about interactive tables.';\n",
       "          element.innerHTML = '';\n",
       "          dataTable['output_type'] = 'display_data';\n",
       "          await google.colab.output.renderOutput(dataTable, element);\n",
       "          const docLink = document.createElement('div');\n",
       "          docLink.innerHTML = docLinkHtml;\n",
       "          element.appendChild(docLink);\n",
       "        }\n",
       "      </script>\n",
       "    </div>\n",
       "  </div>\n",
       "  "
      ],
      "text/plain": [
       "   CustomerID  frequecy  recency  monitery fre_score  rec_score mon_score  \\\n",
       "0     12346.0         1      325  77183.60         1          1         4   \n",
       "1     12347.0         7        2   4310.00         3          4         4   \n",
       "2     12348.0         4       75   1797.24         2          2         4   \n",
       "3     12349.0         1       18   1757.55         1          3         4   \n",
       "4     12350.0         1      310    334.40         1          1         2   \n",
       "\n",
       "   total_score rec_test  adj_rec_score  adj_fre_score  adj_mon_score  \\\n",
       "0            6        1              1              1              4   \n",
       "1           11        4              4              4              4   \n",
       "2            8        2              2              3              3   \n",
       "3            8        3              3              1              3   \n",
       "4            4        1              1              1              2   \n",
       "\n",
       "   adj_total_score  \n",
       "0                6  \n",
       "1               12  \n",
       "2                8  \n",
       "3                7  \n",
       "4                4  "
      ]
     },
     "execution_count": 78,
     "metadata": {},
     "output_type": "execute_result"
    }
   ],
   "source": [
    "# 구간화 방법 1\n",
    "RFM_data['adj_rec_score'] = RFM_data['recency'].apply(lambda x: 4 if x < 15 else (3 if x < 61 else (2 if x < 181 else (1 if x > 181 else 0))))\n",
    "RFM_data['adj_fre_score'] = RFM_data['frequecy'].apply(lambda x: 1 if x <= 1 else (2 if x <= 2 else (3 if x <= 5 else (4 if x > 5 else 0))))\n",
    "RFM_data['adj_mon_score'] = RFM_data['monitery'].apply(lambda x: 1 if x <= 300 else (2 if x <= 600 else (3 if x <= 2000 else (4 if x > 2000 else 0))))\n",
    "RFM_data['adj_total_score'] = RFM_data['adj_rec_score'] + RFM_data['adj_fre_score'] + RFM_data['adj_mon_score']\n",
    "RFM_data.head()"
   ]
  },
  {
   "cell_type": "code",
   "execution_count": 72,
   "metadata": {
    "colab": {
     "base_uri": "https://localhost:8080/"
    },
    "executionInfo": {
     "elapsed": 356,
     "status": "ok",
     "timestamp": 1668150032027,
     "user": {
      "displayName": "강현욱",
      "userId": "07194546442434465172"
     },
     "user_tz": -540
    },
    "id": "SyoW3WBfZw1l",
    "outputId": "bd2df9aa-af9f-4a14-ead8-f43eb9d35115"
   },
   "outputs": [
    {
     "data": {
      "text/plain": [
       "['150이상 160미만', '160이상 170미만', '170이상 180미만', '180이상 190미만', '190이상 200미만']"
      ]
     },
     "execution_count": 72,
     "metadata": {},
     "output_type": "execute_result"
    }
   ],
   "source": [
    "# 구간화 방법 2 \n",
    "# bins =[0,15,61,181,400]\n",
    "# RFM_data['rec_score'] = pd.cut(RFM_data['recency'],bins,right= False,labels= [4,3,2,1])\n"
   ]
  },
  {
   "cell_type": "code",
   "execution_count": 79,
   "metadata": {
    "colab": {
     "base_uri": "https://localhost:8080/",
     "height": 286
    },
    "executionInfo": {
     "elapsed": 884,
     "status": "ok",
     "timestamp": 1668151672142,
     "user": {
      "displayName": "강현욱",
      "userId": "07194546442434465172"
     },
     "user_tz": -540
    },
    "id": "RLn2HpJXlmGi",
    "outputId": "d4af1a4c-e65d-4e34-cf40-66aa359b4017"
   },
   "outputs": [
    {
     "data": {
      "text/plain": [
       "<matplotlib.axes._subplots.AxesSubplot at 0x7f19ec71e650>"
      ]
     },
     "execution_count": 79,
     "metadata": {},
     "output_type": "execute_result"
    },
    {
     "data": {
      "image/png": "[encoded data removed]",
      "text/plain": [
       "<Figure size 432x288 with 1 Axes>"
      ]
     },
     "metadata": {
      "needs_background": "light"
     },
     "output_type": "display_data"
    }
   ],
   "source": [
    "# 데이터 분포 시각화\n",
    "RFM_data['adj_total_score'].value_counts().sort_index().plot(kind='bar')"
   ]
  },
  {
   "cell_type": "code",
   "execution_count": 80,
   "metadata": {
    "colab": {
     "base_uri": "https://localhost:8080/",
     "height": 298
    },
    "executionInfo": {
     "elapsed": 1908,
     "status": "ok",
     "timestamp": 1668152417586,
     "user": {
      "displayName": "강현욱",
      "userId": "07194546442434465172"
     },
     "user_tz": -540
    },
    "id": "fxCpZJ0woSFu",
    "outputId": "6a78146f-ac98-492d-f5ea-8ee4fb454058"
   },
   "outputs": [
    {
     "data": {
      "text/plain": [
       "<matplotlib.axes._subplots.AxesSubplot at 0x7f19ec565f90>"
      ]
     },
     "execution_count": 80,
     "metadata": {},
     "output_type": "execute_result"
    },
    {
     "data": {
      "image/png": "[encoded data removed]",
      "text/plain": [
       "<Figure size 432x288 with 2 Axes>"
      ]
     },
     "metadata": {
      "needs_background": "light"
     },
     "output_type": "display_data"
    }
   ],
   "source": [
    "df_adj_count_pivot = RFM_data[['adj_fre_score', 'adj_mon_score']].value_counts(sort= False,normalize=True).sort_index().to_frame().unstack()\n",
    "sns.heatmap(df_adj_count_pivot, annot= True, fmt ='.1%', linewidths =.5, cmap='Blues')"
   ]
  },
  {
   "cell_type": "markdown",
   "metadata": {
    "id": "IEgyH5yr_DYT"
   },
   "source": [
    "## 6.2 구간 통합 \n",
    "### F와 M 스코어의 조합이 너무 많습다는 지적이 나왔습니다. \n",
    "### 유사한 주변의 그룹을 통합하여 5단계로 줄이고자 합니다. 최소 비율 5% 이상으로 유지하도록 구성하도록 python 스크립트를 완성해보시오.\n",
    "- 참고 :\n",
    "\n",
    " ![그림1.png](data:image/png;base64,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)\n",
    "- 결과를 FM_score 데이터 프레임의 df_fm_com에 저장해 보시오\n",
    "\n"
   ]
  },
  {
   "cell_type": "code",
   "execution_count": 123,
   "metadata": {
    "executionInfo": {
     "elapsed": 348,
     "status": "ok",
     "timestamp": 1668165039551,
     "user": {
      "displayName": "강현욱",
      "userId": "07194546442434465172"
     },
     "user_tz": -540
    },
    "id": "alrXwZFsLVMm"
   },
   "outputs": [],
   "source": [
    "RFM_data['FM_seg'] = np.nan\n",
    "RFM_data.loc[(RFM_data['adj_fre_score'] >= 3) & (RFM_data['adj_mon_score'] >= 3),'FM_seg'] = \"B\"\n",
    "RFM_data.loc[(RFM_data['adj_fre_score'] == 4) & (RFM_data['adj_mon_score'] == 4),'FM_seg'] = \"A\"\n",
    "RFM_data.loc[(RFM_data['adj_fre_score'] <= 2) & (RFM_data['adj_mon_score'] <= 2),'FM_seg'] = \"D\"\n",
    "RFM_data.loc[(RFM_data['adj_fre_score'] == 1) & (RFM_data['adj_mon_score'] == 1),'FM_seg'] = \"E\"\n",
    "RFM_data.loc[RFM_data['FM_seg'].isnull(),'FM_seg'] = \"C\""
   ]
  },
  {
   "cell_type": "code",
   "execution_count": 125,
   "metadata": {
    "colab": {
     "base_uri": "https://localhost:8080/"
    },
    "executionInfo": {
     "elapsed": 342,
     "status": "ok",
     "timestamp": 1668165100212,
     "user": {
      "displayName": "강현욱",
      "userId": "07194546442434465172"
     },
     "user_tz": -540
    },
    "id": "xXe15TMnYbQ_",
    "outputId": "c13471a6-1e53-45b6-fc7c-d5532090de34"
   },
   "outputs": [
    {
     "data": {
      "text/plain": [
       "B    1138\n",
       "D     952\n",
       "E     826\n",
       "C     771\n",
       "A     651\n",
       "Name: FM_seg, dtype: int64"
      ]
     },
     "execution_count": 125,
     "metadata": {},
     "output_type": "execute_result"
    }
   ],
   "source": [
    "RFM_data.FM_seg.value_counts()"
   ]
  },
  {
   "cell_type": "code",
   "execution_count": 135,
   "metadata": {
    "colab": {
     "base_uri": "https://localhost:8080/",
     "height": 488
    },
    "executionInfo": {
     "elapsed": 514,
     "status": "ok",
     "timestamp": 1668165404121,
     "user": {
      "displayName": "강현욱",
      "userId": "07194546442434465172"
     },
     "user_tz": -540
    },
    "id": "sXIYSJ4GV2h2",
    "outputId": "34304fdc-55f6-42e4-c8a9-80fa9f2afc82"
   },
   "outputs": [
    {
     "data": {
      "text/html": [
       "\n",
       "  <div id=\"df-f0de0144-3553-4e17-bbc1-dc46fbc140b0\">\n",
       "    <div class=\"colab-df-container\">\n",
       "      <div>\n",
       "<style scoped>\n",
       "    .dataframe tbody tr th:only-of-type {\n",
       "        vertical-align: middle;\n",
       "    }\n",
       "\n",
       "    .dataframe tbody tr th {\n",
       "        vertical-align: top;\n",
       "    }\n",
       "\n",
       "    .dataframe thead th {\n",
       "        text-align: right;\n",
       "    }\n",
       "</style>\n",
       "<table border=\"1\" class=\"dataframe\">\n",
       "  <thead>\n",
       "    <tr style=\"text-align: right;\">\n",
       "      <th></th>\n",
       "      <th>CustomerID</th>\n",
       "      <th>frequecy</th>\n",
       "      <th>recency</th>\n",
       "      <th>monitery</th>\n",
       "      <th>fre_score</th>\n",
       "      <th>rec_score</th>\n",
       "      <th>mon_score</th>\n",
       "      <th>total_score</th>\n",
       "      <th>rec_test</th>\n",
       "      <th>adj_rec_score</th>\n",
       "      <th>adj_fre_score</th>\n",
       "      <th>adj_mon_score</th>\n",
       "      <th>adj_total_score</th>\n",
       "      <th>FM_seg</th>\n",
       "    </tr>\n",
       "  </thead>\n",
       "  <tbody>\n",
       "    <tr>\n",
       "      <th>6</th>\n",
       "      <td>12353.0</td>\n",
       "      <td>1</td>\n",
       "      <td>204</td>\n",
       "      <td>89.00</td>\n",
       "      <td>1</td>\n",
       "      <td>1</td>\n",
       "      <td>1</td>\n",
       "      <td>3</td>\n",
       "      <td>1</td>\n",
       "      <td>1</td>\n",
       "      <td>1</td>\n",
       "      <td>1</td>\n",
       "      <td>3</td>\n",
       "      <td>E</td>\n",
       "    </tr>\n",
       "    <tr>\n",
       "      <th>14</th>\n",
       "      <td>12361.0</td>\n",
       "      <td>1</td>\n",
       "      <td>287</td>\n",
       "      <td>189.90</td>\n",
       "      <td>1</td>\n",
       "      <td>1</td>\n",
       "      <td>1</td>\n",
       "      <td>3</td>\n",
       "      <td>1</td>\n",
       "      <td>1</td>\n",
       "      <td>1</td>\n",
       "      <td>1</td>\n",
       "      <td>3</td>\n",
       "      <td>E</td>\n",
       "    </tr>\n",
       "    <tr>\n",
       "      <th>19</th>\n",
       "      <td>12367.0</td>\n",
       "      <td>1</td>\n",
       "      <td>4</td>\n",
       "      <td>168.90</td>\n",
       "      <td>1</td>\n",
       "      <td>4</td>\n",
       "      <td>1</td>\n",
       "      <td>6</td>\n",
       "      <td>4</td>\n",
       "      <td>4</td>\n",
       "      <td>1</td>\n",
       "      <td>1</td>\n",
       "      <td>6</td>\n",
       "      <td>E</td>\n",
       "    </tr>\n",
       "    <tr>\n",
       "      <th>43</th>\n",
       "      <td>12401.0</td>\n",
       "      <td>1</td>\n",
       "      <td>303</td>\n",
       "      <td>84.30</td>\n",
       "      <td>1</td>\n",
       "      <td>1</td>\n",
       "      <td>1</td>\n",
       "      <td>3</td>\n",
       "      <td>1</td>\n",
       "      <td>1</td>\n",
       "      <td>1</td>\n",
       "      <td>1</td>\n",
       "      <td>3</td>\n",
       "      <td>E</td>\n",
       "    </tr>\n",
       "    <tr>\n",
       "      <th>44</th>\n",
       "      <td>12402.0</td>\n",
       "      <td>1</td>\n",
       "      <td>323</td>\n",
       "      <td>225.60</td>\n",
       "      <td>1</td>\n",
       "      <td>1</td>\n",
       "      <td>1</td>\n",
       "      <td>3</td>\n",
       "      <td>1</td>\n",
       "      <td>1</td>\n",
       "      <td>1</td>\n",
       "      <td>1</td>\n",
       "      <td>3</td>\n",
       "      <td>E</td>\n",
       "    </tr>\n",
       "    <tr>\n",
       "      <th>...</th>\n",
       "      <td>...</td>\n",
       "      <td>...</td>\n",
       "      <td>...</td>\n",
       "      <td>...</td>\n",
       "      <td>...</td>\n",
       "      <td>...</td>\n",
       "      <td>...</td>\n",
       "      <td>...</td>\n",
       "      <td>...</td>\n",
       "      <td>...</td>\n",
       "      <td>...</td>\n",
       "      <td>...</td>\n",
       "      <td>...</td>\n",
       "      <td>...</td>\n",
       "    </tr>\n",
       "    <tr>\n",
       "      <th>4329</th>\n",
       "      <td>18274.0</td>\n",
       "      <td>1</td>\n",
       "      <td>30</td>\n",
       "      <td>175.92</td>\n",
       "      <td>1</td>\n",
       "      <td>3</td>\n",
       "      <td>1</td>\n",
       "      <td>5</td>\n",
       "      <td>3</td>\n",
       "      <td>3</td>\n",
       "      <td>1</td>\n",
       "      <td>1</td>\n",
       "      <td>5</td>\n",
       "      <td>E</td>\n",
       "    </tr>\n",
       "    <tr>\n",
       "      <th>4331</th>\n",
       "      <td>18277.0</td>\n",
       "      <td>1</td>\n",
       "      <td>58</td>\n",
       "      <td>110.38</td>\n",
       "      <td>1</td>\n",
       "      <td>3</td>\n",
       "      <td>1</td>\n",
       "      <td>4</td>\n",
       "      <td>3</td>\n",
       "      <td>3</td>\n",
       "      <td>1</td>\n",
       "      <td>1</td>\n",
       "      <td>5</td>\n",
       "      <td>E</td>\n",
       "    </tr>\n",
       "    <tr>\n",
       "      <th>4332</th>\n",
       "      <td>18278.0</td>\n",
       "      <td>1</td>\n",
       "      <td>73</td>\n",
       "      <td>173.90</td>\n",
       "      <td>1</td>\n",
       "      <td>2</td>\n",
       "      <td>1</td>\n",
       "      <td>4</td>\n",
       "      <td>2</td>\n",
       "      <td>2</td>\n",
       "      <td>1</td>\n",
       "      <td>1</td>\n",
       "      <td>4</td>\n",
       "      <td>E</td>\n",
       "    </tr>\n",
       "    <tr>\n",
       "      <th>4333</th>\n",
       "      <td>18280.0</td>\n",
       "      <td>1</td>\n",
       "      <td>277</td>\n",
       "      <td>180.60</td>\n",
       "      <td>1</td>\n",
       "      <td>1</td>\n",
       "      <td>1</td>\n",
       "      <td>3</td>\n",
       "      <td>1</td>\n",
       "      <td>1</td>\n",
       "      <td>1</td>\n",
       "      <td>1</td>\n",
       "      <td>3</td>\n",
       "      <td>E</td>\n",
       "    </tr>\n",
       "    <tr>\n",
       "      <th>4334</th>\n",
       "      <td>18281.0</td>\n",
       "      <td>1</td>\n",
       "      <td>180</td>\n",
       "      <td>80.82</td>\n",
       "      <td>1</td>\n",
       "      <td>2</td>\n",
       "      <td>1</td>\n",
       "      <td>3</td>\n",
       "      <td>2</td>\n",
       "      <td>2</td>\n",
       "      <td>1</td>\n",
       "      <td>1</td>\n",
       "      <td>4</td>\n",
       "      <td>E</td>\n",
       "    </tr>\n",
       "  </tbody>\n",
       "</table>\n",
       "<p>826 rows × 14 columns</p>\n",
       "</div>\n",
       "      <button class=\"colab-df-convert\" onclick=\"convertToInteractive('df-f0de0144-3553-4e17-bbc1-dc46fbc140b0')\"\n",
       "              title=\"Convert this dataframe to an interactive table.\"\n",
       "              style=\"display:none;\">\n",
       "        \n",
       "  <svg xmlns=\"http://www.w3.org/2000/svg\" height=\"24px\"viewBox=\"0 0 24 24\"\n",
       "       width=\"24px\">\n",
       "    <path d=\"M0 0h24v24H0V0z\" fill=\"none\"/>\n",
       "    <path d=\"M18.56 5.44l.94 2.06.94-2.06 2.06-.94-2.06-.94-.94-2.06-.94 2.06-2.06.94zm-11 1L8.5 8.5l.94-2.06 2.06-.94-2.06-.94L8.5 2.5l-.94 2.06-2.06.94zm10 10l.94 2.06.94-2.06 2.06-.94-2.06-.94-.94-2.06-.94 2.06-2.06.94z\"/><path d=\"M17.41 7.96l-1.37-1.37c-.4-.4-.92-.59-1.43-.59-.52 0-1.04.2-1.43.59L10.3 9.45l-7.72 7.72c-.78.78-.78 2.05 0 2.83L4 21.41c.39.39.9.59 1.41.59.51 0 1.02-.2 1.41-.59l7.78-7.78 2.81-2.81c.8-.78.8-2.07 0-2.86zM5.41 20L4 18.59l7.72-7.72 1.47 1.35L5.41 20z\"/>\n",
       "  </svg>\n",
       "      </button>\n",
       "      \n",
       "  <style>\n",
       "    .colab-df-container {\n",
       "      display:flex;\n",
       "      flex-wrap:wrap;\n",
       "      gap: 12px;\n",
       "    }\n",
       "\n",
       "    .colab-df-convert {\n",
       "      background-color: #E8F0FE;\n",
       "      border: none;\n",
       "      border-radius: 50%;\n",
       "      cursor: pointer;\n",
       "      display: none;\n",
       "      fill: #1967D2;\n",
       "      height: 32px;\n",
       "      padding: 0 0 0 0;\n",
       "      width: 32px;\n",
       "    }\n",
       "\n",
       "    .colab-df-convert:hover {\n",
       "      background-color: #E2EBFA;\n",
       "      box-shadow: 0px 1px 2px rgba(60, 64, 67, 0.3), 0px 1px 3px 1px rgba(60, 64, 67, 0.15);\n",
       "      fill: #174EA6;\n",
       "    }\n",
       "\n",
       "    [theme=dark] .colab-df-convert {\n",
       "      background-color: #3B4455;\n",
       "      fill: #D2E3FC;\n",
       "    }\n",
       "\n",
       "    [theme=dark] .colab-df-convert:hover {\n",
       "      background-color: #434B5C;\n",
       "      box-shadow: 0px 1px 3px 1px rgba(0, 0, 0, 0.15);\n",
       "      filter: drop-shadow(0px 1px 2px rgba(0, 0, 0, 0.3));\n",
       "      fill: #FFFFFF;\n",
       "    }\n",
       "  </style>\n",
       "\n",
       "      <script>\n",
       "        const buttonEl =\n",
       "          document.querySelector('#df-f0de0144-3553-4e17-bbc1-dc46fbc140b0 button.colab-df-convert');\n",
       "        buttonEl.style.display =\n",
       "          google.colab.kernel.accessAllowed ? 'block' : 'none';\n",
       "\n",
       "        async function convertToInteractive(key) {\n",
       "          const element = document.querySelector('#df-f0de0144-3553-4e17-bbc1-dc46fbc140b0');\n",
       "          const dataTable =\n",
       "            await google.colab.kernel.invokeFunction('convertToInteractive',\n",
       "                                                     [key], {});\n",
       "          if (!dataTable) return;\n",
       "\n",
       "          const docLinkHtml = 'Like what you see? Visit the ' +\n",
       "            '<a target=\"_blank\" href=https://colab.research.google.com/notebooks/data_table.ipynb>data table notebook</a>'\n",
       "            + ' to learn more about interactive tables.';\n",
       "          element.innerHTML = '';\n",
       "          dataTable['output_type'] = 'display_data';\n",
       "          await google.colab.output.renderOutput(dataTable, element);\n",
       "          const docLink = document.createElement('div');\n",
       "          docLink.innerHTML = docLinkHtml;\n",
       "          element.appendChild(docLink);\n",
       "        }\n",
       "      </script>\n",
       "    </div>\n",
       "  </div>\n",
       "  "
      ],
      "text/plain": [
       "      CustomerID  frequecy  recency  monitery fre_score  rec_score mon_score  \\\n",
       "6        12353.0         1      204     89.00         1          1         1   \n",
       "14       12361.0         1      287    189.90         1          1         1   \n",
       "19       12367.0         1        4    168.90         1          4         1   \n",
       "43       12401.0         1      303     84.30         1          1         1   \n",
       "44       12402.0         1      323    225.60         1          1         1   \n",
       "...          ...       ...      ...       ...       ...        ...       ...   \n",
       "4329     18274.0         1       30    175.92         1          3         1   \n",
       "4331     18277.0         1       58    110.38         1          3         1   \n",
       "4332     18278.0         1       73    173.90         1          2         1   \n",
       "4333     18280.0         1      277    180.60         1          1         1   \n",
       "4334     18281.0         1      180     80.82         1          2         1   \n",
       "\n",
       "      total_score rec_test  adj_rec_score  adj_fre_score  adj_mon_score  \\\n",
       "6               3        1              1              1              1   \n",
       "14              3        1              1              1              1   \n",
       "19              6        4              4              1              1   \n",
       "43              3        1              1              1              1   \n",
       "44              3        1              1              1              1   \n",
       "...           ...      ...            ...            ...            ...   \n",
       "4329            5        3              3              1              1   \n",
       "4331            4        3              3              1              1   \n",
       "4332            4        2              2              1              1   \n",
       "4333            3        1              1              1              1   \n",
       "4334            3        2              2              1              1   \n",
       "\n",
       "      adj_total_score FM_seg  \n",
       "6                   3      E  \n",
       "14                  3      E  \n",
       "19                  6      E  \n",
       "43                  3      E  \n",
       "44                  3      E  \n",
       "...               ...    ...  \n",
       "4329                5      E  \n",
       "4331                5      E  \n",
       "4332                4      E  \n",
       "4333                3      E  \n",
       "4334                4      E  \n",
       "\n",
       "[826 rows x 14 columns]"
      ]
     },
     "execution_count": 135,
     "metadata": {},
     "output_type": "execute_result"
    }
   ],
   "source": [
    "RFM_data[RFM_data['FM_seg']== \"E\"]"
   ]
  }
 ],
 "metadata": {
  "colab": {
   "collapsed_sections": [
    "b5WJeaSGAXYl",
    "gKIXcmh0AXAB",
    "KRqnk5XcBDms",
    "-kjoK26NN06l",
    "9yBZ0T4ZRAL3",
    "CcDE0F334-A0",
    "c_rxfnk2KVXR"
   ],
   "provenance": [
    {
     "file_id": "19RMcT0jWQmsg03xw2OKUdRKa1TdjWfmQ",
     "timestamp": 1660922377102
    }
   ]
  },
  "kernelspec": {
   "display_name": "Python 3 (ipykernel)",
   "language": "python",
   "name": "python3"
  },
  "language_info": {
   "codemirror_mode": {
    "name": "ipython",
    "version": 3
   },
   "file_extension": ".py",
   "mimetype": "text/x-python",
   "name": "python",
   "nbconvert_exporter": "python",
   "pygments_lexer": "ipython3",
   "version": "3.9.12"
  }
 },
 "nbformat": 4,
 "nbformat_minor": 1
}
