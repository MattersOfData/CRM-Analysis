{
 "cells": [
  {
   "cell_type": "markdown",
   "metadata": {
    "id": "ZGqpltFeDOlM"
   },
   "source": [
    "# 고객 취향 군집화 실습"
   ]
  },
  {
   "cell_type": "markdown",
   "metadata": {
    "id": "0z_thYXJXDu8"
   },
   "source": [
    "## **1. 환경 설정**"
   ]
  },
  {
   "cell_type": "markdown",
   "metadata": {
    "id": "Hlvl84p6XDcZ"
   },
   "source": [
    "### 1.1 분석에 필요한 library 호출"
   ]
  },
  {
   "cell_type": "code",
   "execution_count": 1,
   "metadata": {
    "id": "hJ_9dSYcmqCc"
   },
   "outputs": [],
   "source": [
    "import numpy as np\n",
    "import pandas as pd\n",
    "import matplotlib.pyplot as plt\n",
    "import seaborn as sns\n",
    "import datetime as dt\n",
    "from sklearn.cluster import KMeans"
   ]
  },
  {
   "cell_type": "markdown",
   "metadata": {
    "colab": {
     "base_uri": "https://localhost:8080/"
    },
    "executionInfo": {
     "elapsed": 36538,
     "status": "ok",
     "timestamp": 1660978773520,
     "user": {
      "displayName": "강현욱",
      "userId": "07194546442434465172"
     },
     "user_tz": -540
    },
    "id": "4YoqGXlMmr74",
    "outputId": "416e03b7-5229-472c-ed82-d7c3440dd4ed"
   },
   "source": [
    "google drive 연결\n",
    "from google.colab import drive\n",
    "drive.mount('/content/drive')"
   ]
  },
  {
   "cell_type": "markdown",
   "metadata": {
    "id": "x0HxhzZ-Dsbw"
   },
   "source": [
    "## **2. 데이터 불러오기**"
   ]
  },
  {
   "cell_type": "markdown",
   "metadata": {
    "id": "lxcskqGOXdte"
   },
   "source": [
    "### 2.1 데이터 불러오기 및 확인"
   ]
  },
  {
   "cell_type": "code",
   "execution_count": 2,
   "metadata": {
    "colab": {
     "base_uri": "https://localhost:8080/",
     "height": 206
    },
    "executionInfo": {
     "elapsed": 117270,
     "status": "ok",
     "timestamp": 1660978988281,
     "user": {
      "displayName": "강현욱",
      "userId": "07194546442434465172"
     },
     "user_tz": -540
    },
    "id": "9ONEriVUmqCg",
    "outputId": "8c67603d-a20e-4808-fb31-dc830e59b1d0"
   },
   "outputs": [
    {
     "data": {
      "text/html": [
       "<div>\n",
       "<style scoped>\n",
       "    .dataframe tbody tr th:only-of-type {\n",
       "        vertical-align: middle;\n",
       "    }\n",
       "\n",
       "    .dataframe tbody tr th {\n",
       "        vertical-align: top;\n",
       "    }\n",
       "\n",
       "    .dataframe thead th {\n",
       "        text-align: right;\n",
       "    }\n",
       "</style>\n",
       "<table border=\"1\" class=\"dataframe\">\n",
       "  <thead>\n",
       "    <tr style=\"text-align: right;\">\n",
       "      <th></th>\n",
       "      <th>event_time</th>\n",
       "      <th>event_type</th>\n",
       "      <th>product_id</th>\n",
       "      <th>category_id</th>\n",
       "      <th>category_code</th>\n",
       "      <th>brand</th>\n",
       "      <th>price</th>\n",
       "      <th>user_id</th>\n",
       "      <th>user_session</th>\n",
       "    </tr>\n",
       "  </thead>\n",
       "  <tbody>\n",
       "    <tr>\n",
       "      <th>0</th>\n",
       "      <td>2019-10-01 00:02:14 UTC</td>\n",
       "      <td>purchase</td>\n",
       "      <td>1004856</td>\n",
       "      <td>2053013555631882655</td>\n",
       "      <td>electronics.smartphone</td>\n",
       "      <td>samsung</td>\n",
       "      <td>130.76</td>\n",
       "      <td>543272936</td>\n",
       "      <td>8187d148-3c41-46d4-b0c0-9c08cd9dc564</td>\n",
       "    </tr>\n",
       "    <tr>\n",
       "      <th>1</th>\n",
       "      <td>2019-10-01 00:04:37 UTC</td>\n",
       "      <td>purchase</td>\n",
       "      <td>1002532</td>\n",
       "      <td>2053013555631882655</td>\n",
       "      <td>electronics.smartphone</td>\n",
       "      <td>apple</td>\n",
       "      <td>642.69</td>\n",
       "      <td>551377651</td>\n",
       "      <td>3c80f0d6-e9ec-4181-8c5c-837a30be2d68</td>\n",
       "    </tr>\n",
       "    <tr>\n",
       "      <th>2</th>\n",
       "      <td>2019-10-01 00:06:02 UTC</td>\n",
       "      <td>purchase</td>\n",
       "      <td>5100816</td>\n",
       "      <td>2053013553375346967</td>\n",
       "      <td>NaN</td>\n",
       "      <td>xiaomi</td>\n",
       "      <td>29.51</td>\n",
       "      <td>514591159</td>\n",
       "      <td>0e5dfc4b-2a55-43e6-8c05-97e1f07fbb56</td>\n",
       "    </tr>\n",
       "    <tr>\n",
       "      <th>3</th>\n",
       "      <td>2019-10-01 00:07:07 UTC</td>\n",
       "      <td>purchase</td>\n",
       "      <td>13800054</td>\n",
       "      <td>2053013557418656265</td>\n",
       "      <td>furniture.bathroom.toilet</td>\n",
       "      <td>santeri</td>\n",
       "      <td>54.42</td>\n",
       "      <td>555332717</td>\n",
       "      <td>1dea3ee2-2ded-42e8-8e7a-4e2ad6ae942f</td>\n",
       "    </tr>\n",
       "    <tr>\n",
       "      <th>4</th>\n",
       "      <td>2019-10-01 00:09:26 UTC</td>\n",
       "      <td>purchase</td>\n",
       "      <td>4804055</td>\n",
       "      <td>2053013554658804075</td>\n",
       "      <td>electronics.audio.headphone</td>\n",
       "      <td>apple</td>\n",
       "      <td>189.91</td>\n",
       "      <td>524601178</td>\n",
       "      <td>2af9b570-0942-4dcd-8f25-4d84fba82553</td>\n",
       "    </tr>\n",
       "  </tbody>\n",
       "</table>\n",
       "</div>"
      ],
      "text/plain": [
       "                event_time event_type  product_id          category_id  \\\n",
       "0  2019-10-01 00:02:14 UTC   purchase     1004856  2053013555631882655   \n",
       "1  2019-10-01 00:04:37 UTC   purchase     1002532  2053013555631882655   \n",
       "2  2019-10-01 00:06:02 UTC   purchase     5100816  2053013553375346967   \n",
       "3  2019-10-01 00:07:07 UTC   purchase    13800054  2053013557418656265   \n",
       "4  2019-10-01 00:09:26 UTC   purchase     4804055  2053013554658804075   \n",
       "\n",
       "                 category_code    brand   price    user_id  \\\n",
       "0       electronics.smartphone  samsung  130.76  543272936   \n",
       "1       electronics.smartphone    apple  642.69  551377651   \n",
       "2                          NaN   xiaomi   29.51  514591159   \n",
       "3    furniture.bathroom.toilet  santeri   54.42  555332717   \n",
       "4  electronics.audio.headphone    apple  189.91  524601178   \n",
       "\n",
       "                           user_session  \n",
       "0  8187d148-3c41-46d4-b0c0-9c08cd9dc564  \n",
       "1  3c80f0d6-e9ec-4181-8c5c-837a30be2d68  \n",
       "2  0e5dfc4b-2a55-43e6-8c05-97e1f07fbb56  \n",
       "3  1dea3ee2-2ded-42e8-8e7a-4e2ad6ae942f  \n",
       "4  2af9b570-0942-4dcd-8f25-4d84fba82553  "
      ]
     },
     "execution_count": 2,
     "metadata": {},
     "output_type": "execute_result"
    }
   ],
   "source": [
    "df_org = pd.read_csv('2019-Oct_purchase.csv')\n",
    "df_org.head()"
   ]
  },
  {
   "cell_type": "markdown",
   "metadata": {},
   "source": [
    "category_code : 대분류.중분류.소분류"
   ]
  },
  {
   "cell_type": "code",
   "execution_count": 3,
   "metadata": {
    "colab": {
     "base_uri": "https://localhost:8080/",
     "height": 206
    },
    "executionInfo": {
     "elapsed": 15,
     "status": "ok",
     "timestamp": 1660919568362,
     "user": {
      "displayName": "강현욱",
      "userId": "07194546442434465172"
     },
     "user_tz": -540
    },
    "id": "-BzWqSRZGpgK",
    "outputId": "721017a6-8f7e-48d3-d448-53210f75210d",
    "scrolled": true
   },
   "outputs": [
    {
     "data": {
      "text/html": [
       "<div>\n",
       "<style scoped>\n",
       "    .dataframe tbody tr th:only-of-type {\n",
       "        vertical-align: middle;\n",
       "    }\n",
       "\n",
       "    .dataframe tbody tr th {\n",
       "        vertical-align: top;\n",
       "    }\n",
       "\n",
       "    .dataframe thead th {\n",
       "        text-align: right;\n",
       "    }\n",
       "</style>\n",
       "<table border=\"1\" class=\"dataframe\">\n",
       "  <thead>\n",
       "    <tr style=\"text-align: right;\">\n",
       "      <th></th>\n",
       "      <th>event_time</th>\n",
       "      <th>event_type</th>\n",
       "      <th>product_id</th>\n",
       "      <th>category_id</th>\n",
       "      <th>category_code</th>\n",
       "      <th>brand</th>\n",
       "      <th>price</th>\n",
       "      <th>user_id</th>\n",
       "      <th>user_session</th>\n",
       "    </tr>\n",
       "  </thead>\n",
       "  <tbody>\n",
       "    <tr>\n",
       "      <th>742844</th>\n",
       "      <td>2019-10-31 23:55:13 UTC</td>\n",
       "      <td>purchase</td>\n",
       "      <td>26402784</td>\n",
       "      <td>2053013563651392361</td>\n",
       "      <td>NaN</td>\n",
       "      <td>NaN</td>\n",
       "      <td>102.45</td>\n",
       "      <td>516604399</td>\n",
       "      <td>a98bd433-57ac-42d0-ba81-e18b135a7a16</td>\n",
       "    </tr>\n",
       "    <tr>\n",
       "      <th>742845</th>\n",
       "      <td>2019-10-31 23:55:21 UTC</td>\n",
       "      <td>purchase</td>\n",
       "      <td>47500017</td>\n",
       "      <td>2110937143172923797</td>\n",
       "      <td>construction.tools.light</td>\n",
       "      <td>puckator</td>\n",
       "      <td>20.59</td>\n",
       "      <td>514622109</td>\n",
       "      <td>5724116e-365b-4ac1-9d03-b8d66e1ccc7c</td>\n",
       "    </tr>\n",
       "    <tr>\n",
       "      <th>742846</th>\n",
       "      <td>2019-10-31 23:56:03 UTC</td>\n",
       "      <td>purchase</td>\n",
       "      <td>1003306</td>\n",
       "      <td>2053013555631882655</td>\n",
       "      <td>electronics.smartphone</td>\n",
       "      <td>apple</td>\n",
       "      <td>577.89</td>\n",
       "      <td>512717356</td>\n",
       "      <td>f35ac37c-9573-4e30-b3d9-c09bb0b95a2b</td>\n",
       "    </tr>\n",
       "    <tr>\n",
       "      <th>742847</th>\n",
       "      <td>2019-10-31 23:56:53 UTC</td>\n",
       "      <td>purchase</td>\n",
       "      <td>1004240</td>\n",
       "      <td>2053013555631882655</td>\n",
       "      <td>electronics.smartphone</td>\n",
       "      <td>apple</td>\n",
       "      <td>1054.60</td>\n",
       "      <td>533892594</td>\n",
       "      <td>3a5a3b01-2ab1-4a1d-a202-30d336e0057b</td>\n",
       "    </tr>\n",
       "    <tr>\n",
       "      <th>742848</th>\n",
       "      <td>2019-10-31 23:59:16 UTC</td>\n",
       "      <td>purchase</td>\n",
       "      <td>4804056</td>\n",
       "      <td>2053013554658804075</td>\n",
       "      <td>electronics.audio.headphone</td>\n",
       "      <td>apple</td>\n",
       "      <td>160.57</td>\n",
       "      <td>544501248</td>\n",
       "      <td>e330d051-37ad-4dc3-b1ee-ff16a28b7998</td>\n",
       "    </tr>\n",
       "  </tbody>\n",
       "</table>\n",
       "</div>"
      ],
      "text/plain": [
       "                     event_time event_type  product_id          category_id  \\\n",
       "742844  2019-10-31 23:55:13 UTC   purchase    26402784  2053013563651392361   \n",
       "742845  2019-10-31 23:55:21 UTC   purchase    47500017  2110937143172923797   \n",
       "742846  2019-10-31 23:56:03 UTC   purchase     1003306  2053013555631882655   \n",
       "742847  2019-10-31 23:56:53 UTC   purchase     1004240  2053013555631882655   \n",
       "742848  2019-10-31 23:59:16 UTC   purchase     4804056  2053013554658804075   \n",
       "\n",
       "                      category_code     brand    price    user_id  \\\n",
       "742844                          NaN       NaN   102.45  516604399   \n",
       "742845     construction.tools.light  puckator    20.59  514622109   \n",
       "742846       electronics.smartphone     apple   577.89  512717356   \n",
       "742847       electronics.smartphone     apple  1054.60  533892594   \n",
       "742848  electronics.audio.headphone     apple   160.57  544501248   \n",
       "\n",
       "                                user_session  \n",
       "742844  a98bd433-57ac-42d0-ba81-e18b135a7a16  \n",
       "742845  5724116e-365b-4ac1-9d03-b8d66e1ccc7c  \n",
       "742846  f35ac37c-9573-4e30-b3d9-c09bb0b95a2b  \n",
       "742847  3a5a3b01-2ab1-4a1d-a202-30d336e0057b  \n",
       "742848  e330d051-37ad-4dc3-b1ee-ff16a28b7998  "
      ]
     },
     "execution_count": 3,
     "metadata": {},
     "output_type": "execute_result"
    }
   ],
   "source": [
    "df_org.tail()"
   ]
  },
  {
   "cell_type": "code",
   "execution_count": 4,
   "metadata": {
    "colab": {
     "base_uri": "https://localhost:8080/"
    },
    "executionInfo": {
     "elapsed": 14,
     "status": "ok",
     "timestamp": 1660919568363,
     "user": {
      "displayName": "강현욱",
      "userId": "07194546442434465172"
     },
     "user_tz": -540
    },
    "id": "E2VAPsGfmqCh",
    "outputId": "f5217f5e-905f-4d37-b73b-c1075477431d"
   },
   "outputs": [
    {
     "name": "stdout",
     "output_type": "stream",
     "text": [
      "<class 'pandas.core.frame.DataFrame'>\n",
      "RangeIndex: 742849 entries, 0 to 742848\n",
      "Data columns (total 9 columns):\n",
      " #   Column         Non-Null Count   Dtype  \n",
      "---  ------         --------------   -----  \n",
      " 0   event_time     742849 non-null  object \n",
      " 1   event_type     742849 non-null  object \n",
      " 2   product_id     742849 non-null  int64  \n",
      " 3   category_id    742849 non-null  int64  \n",
      " 4   category_code  569424 non-null  object \n",
      " 5   brand          684544 non-null  object \n",
      " 6   price          742849 non-null  float64\n",
      " 7   user_id        742849 non-null  int64  \n",
      " 8   user_session   742849 non-null  object \n",
      "dtypes: float64(1), int64(3), object(5)\n",
      "memory usage: 51.0+ MB\n"
     ]
    }
   ],
   "source": [
    "df_org.info()"
   ]
  },
  {
   "cell_type": "markdown",
   "metadata": {
    "id": "BW3UEMJJJvAh"
   },
   "source": [
    "### 2.2 필요한 분석에 데이터 확인 및 선택\n",
    "\n",
    "\n"
   ]
  },
  {
   "cell_type": "code",
   "execution_count": 5,
   "metadata": {
    "colab": {
     "base_uri": "https://localhost:8080/"
    },
    "executionInfo": {
     "elapsed": 386,
     "status": "ok",
     "timestamp": 1660919571595,
     "user": {
      "displayName": "강현욱",
      "userId": "07194546442434465172"
     },
     "user_tz": -540
    },
    "id": "WSxc8X12J8eh",
    "outputId": "a926e1db-8a78-4e94-ac49-652cb2f8874e"
   },
   "outputs": [
    {
     "data": {
      "text/plain": [
       "purchase    742849\n",
       "Name: event_type, dtype: int64"
      ]
     },
     "execution_count": 5,
     "metadata": {},
     "output_type": "execute_result"
    }
   ],
   "source": [
    "# event_type 별 값 확인 (원래 데이터는 view, cart,purchase로 이루워짐, 해당 데이터는 sampling 데이터라서 purchase 만 있음)\n",
    "df_org['event_type'].value_counts()"
   ]
  },
  {
   "cell_type": "code",
   "execution_count": 6,
   "metadata": {
    "id": "bAzsZ9QQxQev"
   },
   "outputs": [],
   "source": [
    "# 데이터 용량이 너무커서 필요한 구매 데이터만 사용하기로함\n",
    "df_org = df_org[df_org.event_type ==\"purchase\"]"
   ]
  },
  {
   "cell_type": "markdown",
   "metadata": {
    "id": "dgMEiWOfMlVn"
   },
   "source": [
    "## **3. NULL 값 처리**"
   ]
  },
  {
   "cell_type": "markdown",
   "metadata": {
    "id": "yYsaVoKBvkaq"
   },
   "source": [
    "### 3.1 NULL 값 확인"
   ]
  },
  {
   "cell_type": "code",
   "execution_count": 9,
   "metadata": {
    "colab": {
     "base_uri": "https://localhost:8080/"
    },
    "executionInfo": {
     "elapsed": 1095,
     "status": "ok",
     "timestamp": 1660979806841,
     "user": {
      "displayName": "강현욱",
      "userId": "07194546442434465172"
     },
     "user_tz": -540
    },
    "id": "tLvcXM8_Mso5",
    "outputId": "62fc4a9c-5549-41da-eba1-4c4ba3aec32d"
   },
   "outputs": [
    {
     "name": "stdout",
     "output_type": "stream",
     "text": [
      "231730\n"
     ]
    }
   ],
   "source": [
    "# Null 값이 있는 전체 case 수 확인\n",
    "print(df_org.isnull().sum().sum())"
   ]
  },
  {
   "cell_type": "code",
   "execution_count": 11,
   "metadata": {},
   "outputs": [
    {
     "data": {
      "text/plain": [
       "(742849, 9)"
      ]
     },
     "execution_count": 11,
     "metadata": {},
     "output_type": "execute_result"
    }
   ],
   "source": [
    "# df_org의 데이터 확인 (전체데이터 수, 변수의 개수)\n",
    "df_org.shape"
   ]
  },
  {
   "cell_type": "code",
   "execution_count": 10,
   "metadata": {
    "colab": {
     "base_uri": "https://localhost:8080/"
    },
    "executionInfo": {
     "elapsed": 8,
     "status": "ok",
     "timestamp": 1660919575447,
     "user": {
      "displayName": "강현욱",
      "userId": "07194546442434465172"
     },
     "user_tz": -540
    },
    "id": "zPFClJxKMxkw",
    "outputId": "648fef44-882b-40ef-fcf3-775a4be3225e"
   },
   "outputs": [
    {
     "data": {
      "text/plain": [
       "0.3119476501953964"
      ]
     },
     "execution_count": 10,
     "metadata": {},
     "output_type": "execute_result"
    }
   ],
   "source": [
    "# Null 값의 비율\n",
    "df_org.isnull().sum().sum() / df_org.shape[0]"
   ]
  },
  {
   "cell_type": "code",
   "execution_count": 12,
   "metadata": {
    "colab": {
     "base_uri": "https://localhost:8080/"
    },
    "executionInfo": {
     "elapsed": 407,
     "status": "ok",
     "timestamp": 1660919575852,
     "user": {
      "displayName": "강현욱",
      "userId": "07194546442434465172"
     },
     "user_tz": -540
    },
    "id": "Hw6ssfpNNMJ1",
    "outputId": "ca1cea25-880c-4fc3-fa97-2c9c75c83a58"
   },
   "outputs": [
    {
     "data": {
      "text/plain": [
       "event_time            0\n",
       "event_type            0\n",
       "product_id            0\n",
       "category_id           0\n",
       "category_code    173425\n",
       "brand             58305\n",
       "price                 0\n",
       "user_id               0\n",
       "user_session          0\n",
       "dtype: int64"
      ]
     },
     "execution_count": 12,
     "metadata": {},
     "output_type": "execute_result"
    }
   ],
   "source": [
    "# Null 값이 있는 변수 확인 (null 값이 있는 컬럼이 2개 존재)\n",
    "\n",
    "df_org.isnull().sum()"
   ]
  },
  {
   "cell_type": "code",
   "execution_count": 13,
   "metadata": {
    "colab": {
     "base_uri": "https://localhost:8080/",
     "height": 423
    },
    "executionInfo": {
     "elapsed": 582,
     "status": "ok",
     "timestamp": 1660919576427,
     "user": {
      "displayName": "강현욱",
      "userId": "07194546442434465172"
     },
     "user_tz": -540
    },
    "id": "QaP_fC3m2K4F",
    "outputId": "fd3953ee-2fd9-4a42-bd68-e1d78db31aad"
   },
   "outputs": [
    {
     "data": {
      "text/html": [
       "<div>\n",
       "<style scoped>\n",
       "    .dataframe tbody tr th:only-of-type {\n",
       "        vertical-align: middle;\n",
       "    }\n",
       "\n",
       "    .dataframe tbody tr th {\n",
       "        vertical-align: top;\n",
       "    }\n",
       "\n",
       "    .dataframe thead th {\n",
       "        text-align: right;\n",
       "    }\n",
       "</style>\n",
       "<table border=\"1\" class=\"dataframe\">\n",
       "  <thead>\n",
       "    <tr style=\"text-align: right;\">\n",
       "      <th></th>\n",
       "      <th>event_time</th>\n",
       "      <th>event_type</th>\n",
       "      <th>product_id</th>\n",
       "      <th>category_id</th>\n",
       "      <th>category_code</th>\n",
       "      <th>brand</th>\n",
       "      <th>price</th>\n",
       "      <th>user_id</th>\n",
       "      <th>user_session</th>\n",
       "    </tr>\n",
       "  </thead>\n",
       "  <tbody>\n",
       "    <tr>\n",
       "      <th>13</th>\n",
       "      <td>2019-10-01 02:19:59 UTC</td>\n",
       "      <td>purchase</td>\n",
       "      <td>28100119</td>\n",
       "      <td>2053013564918072245</td>\n",
       "      <td>NaN</td>\n",
       "      <td>NaN</td>\n",
       "      <td>153.16</td>\n",
       "      <td>517953667</td>\n",
       "      <td>7954f58c-158d-402d-9820-c502a5eea86d</td>\n",
       "    </tr>\n",
       "    <tr>\n",
       "      <th>17</th>\n",
       "      <td>2019-10-01 02:20:28 UTC</td>\n",
       "      <td>purchase</td>\n",
       "      <td>26601440</td>\n",
       "      <td>2053013563517174627</td>\n",
       "      <td>NaN</td>\n",
       "      <td>NaN</td>\n",
       "      <td>91.12</td>\n",
       "      <td>554101070</td>\n",
       "      <td>5a29c401-c05b-4dcf-b9e6-78324875dfd4</td>\n",
       "    </tr>\n",
       "    <tr>\n",
       "      <th>21</th>\n",
       "      <td>2019-10-01 02:21:45 UTC</td>\n",
       "      <td>purchase</td>\n",
       "      <td>28100000</td>\n",
       "      <td>2053013564918072245</td>\n",
       "      <td>NaN</td>\n",
       "      <td>NaN</td>\n",
       "      <td>60.49</td>\n",
       "      <td>517953667</td>\n",
       "      <td>7954f58c-158d-402d-9820-c502a5eea86d</td>\n",
       "    </tr>\n",
       "    <tr>\n",
       "      <th>43</th>\n",
       "      <td>2019-10-01 02:26:02 UTC</td>\n",
       "      <td>purchase</td>\n",
       "      <td>34800175</td>\n",
       "      <td>2062461754293617058</td>\n",
       "      <td>NaN</td>\n",
       "      <td>NaN</td>\n",
       "      <td>33.46</td>\n",
       "      <td>512594464</td>\n",
       "      <td>f18609cf-7cab-47cf-aaf8-8622202722bd</td>\n",
       "    </tr>\n",
       "    <tr>\n",
       "      <th>67</th>\n",
       "      <td>2019-10-01 02:30:49 UTC</td>\n",
       "      <td>purchase</td>\n",
       "      <td>26012158</td>\n",
       "      <td>2053013562837697343</td>\n",
       "      <td>NaN</td>\n",
       "      <td>NaN</td>\n",
       "      <td>14.16</td>\n",
       "      <td>518446593</td>\n",
       "      <td>c0c4d86a-bf3c-4453-acfc-e69bd981d605</td>\n",
       "    </tr>\n",
       "    <tr>\n",
       "      <th>...</th>\n",
       "      <td>...</td>\n",
       "      <td>...</td>\n",
       "      <td>...</td>\n",
       "      <td>...</td>\n",
       "      <td>...</td>\n",
       "      <td>...</td>\n",
       "      <td>...</td>\n",
       "      <td>...</td>\n",
       "      <td>...</td>\n",
       "    </tr>\n",
       "    <tr>\n",
       "      <th>742827</th>\n",
       "      <td>2019-10-31 23:45:46 UTC</td>\n",
       "      <td>purchase</td>\n",
       "      <td>26500442</td>\n",
       "      <td>2053013563550729061</td>\n",
       "      <td>NaN</td>\n",
       "      <td>NaN</td>\n",
       "      <td>115.58</td>\n",
       "      <td>513911691</td>\n",
       "      <td>e6e67023-2258-4341-bd66-a9500d7da596</td>\n",
       "    </tr>\n",
       "    <tr>\n",
       "      <th>742840</th>\n",
       "      <td>2019-10-31 23:51:02 UTC</td>\n",
       "      <td>purchase</td>\n",
       "      <td>15600016</td>\n",
       "      <td>2053013559767466645</td>\n",
       "      <td>NaN</td>\n",
       "      <td>NaN</td>\n",
       "      <td>419.55</td>\n",
       "      <td>542728394</td>\n",
       "      <td>e62b779b-d70e-4468-8f35-4bcf6879e471</td>\n",
       "    </tr>\n",
       "    <tr>\n",
       "      <th>742841</th>\n",
       "      <td>2019-10-31 23:53:18 UTC</td>\n",
       "      <td>purchase</td>\n",
       "      <td>15600016</td>\n",
       "      <td>2053013559767466645</td>\n",
       "      <td>NaN</td>\n",
       "      <td>NaN</td>\n",
       "      <td>419.55</td>\n",
       "      <td>542728394</td>\n",
       "      <td>e62b779b-d70e-4468-8f35-4bcf6879e471</td>\n",
       "    </tr>\n",
       "    <tr>\n",
       "      <th>742843</th>\n",
       "      <td>2019-10-31 23:54:33 UTC</td>\n",
       "      <td>purchase</td>\n",
       "      <td>26205284</td>\n",
       "      <td>2053013563693335403</td>\n",
       "      <td>NaN</td>\n",
       "      <td>NaN</td>\n",
       "      <td>143.89</td>\n",
       "      <td>513040838</td>\n",
       "      <td>639dc99e-72cd-433d-ad90-24c78d71418f</td>\n",
       "    </tr>\n",
       "    <tr>\n",
       "      <th>742844</th>\n",
       "      <td>2019-10-31 23:55:13 UTC</td>\n",
       "      <td>purchase</td>\n",
       "      <td>26402784</td>\n",
       "      <td>2053013563651392361</td>\n",
       "      <td>NaN</td>\n",
       "      <td>NaN</td>\n",
       "      <td>102.45</td>\n",
       "      <td>516604399</td>\n",
       "      <td>a98bd433-57ac-42d0-ba81-e18b135a7a16</td>\n",
       "    </tr>\n",
       "  </tbody>\n",
       "</table>\n",
       "<p>38388 rows × 9 columns</p>\n",
       "</div>"
      ],
      "text/plain": [
       "                     event_time event_type  product_id          category_id  \\\n",
       "13      2019-10-01 02:19:59 UTC   purchase    28100119  2053013564918072245   \n",
       "17      2019-10-01 02:20:28 UTC   purchase    26601440  2053013563517174627   \n",
       "21      2019-10-01 02:21:45 UTC   purchase    28100000  2053013564918072245   \n",
       "43      2019-10-01 02:26:02 UTC   purchase    34800175  2062461754293617058   \n",
       "67      2019-10-01 02:30:49 UTC   purchase    26012158  2053013562837697343   \n",
       "...                         ...        ...         ...                  ...   \n",
       "742827  2019-10-31 23:45:46 UTC   purchase    26500442  2053013563550729061   \n",
       "742840  2019-10-31 23:51:02 UTC   purchase    15600016  2053013559767466645   \n",
       "742841  2019-10-31 23:53:18 UTC   purchase    15600016  2053013559767466645   \n",
       "742843  2019-10-31 23:54:33 UTC   purchase    26205284  2053013563693335403   \n",
       "742844  2019-10-31 23:55:13 UTC   purchase    26402784  2053013563651392361   \n",
       "\n",
       "       category_code brand   price    user_id  \\\n",
       "13               NaN   NaN  153.16  517953667   \n",
       "17               NaN   NaN   91.12  554101070   \n",
       "21               NaN   NaN   60.49  517953667   \n",
       "43               NaN   NaN   33.46  512594464   \n",
       "67               NaN   NaN   14.16  518446593   \n",
       "...              ...   ...     ...        ...   \n",
       "742827           NaN   NaN  115.58  513911691   \n",
       "742840           NaN   NaN  419.55  542728394   \n",
       "742841           NaN   NaN  419.55  542728394   \n",
       "742843           NaN   NaN  143.89  513040838   \n",
       "742844           NaN   NaN  102.45  516604399   \n",
       "\n",
       "                                user_session  \n",
       "13      7954f58c-158d-402d-9820-c502a5eea86d  \n",
       "17      5a29c401-c05b-4dcf-b9e6-78324875dfd4  \n",
       "21      7954f58c-158d-402d-9820-c502a5eea86d  \n",
       "43      f18609cf-7cab-47cf-aaf8-8622202722bd  \n",
       "67      c0c4d86a-bf3c-4453-acfc-e69bd981d605  \n",
       "...                                      ...  \n",
       "742827  e6e67023-2258-4341-bd66-a9500d7da596  \n",
       "742840  e62b779b-d70e-4468-8f35-4bcf6879e471  \n",
       "742841  e62b779b-d70e-4468-8f35-4bcf6879e471  \n",
       "742843  639dc99e-72cd-433d-ad90-24c78d71418f  \n",
       "742844  a98bd433-57ac-42d0-ba81-e18b135a7a16  \n",
       "\n",
       "[38388 rows x 9 columns]"
      ]
     },
     "execution_count": 13,
     "metadata": {},
     "output_type": "execute_result"
    }
   ],
   "source": [
    "# 둘다 null 값인 항목확인 (38,388 건) : 두 정보 모두 없는 경우는 어떤 제품 구매했는지 확인 불가\n",
    "df_org[(df_org.category_code.isnull()) & (df_org.brand.isnull())]"
   ]
  },
  {
   "cell_type": "code",
   "execution_count": 14,
   "metadata": {
    "colab": {
     "base_uri": "https://localhost:8080/",
     "height": 423
    },
    "executionInfo": {
     "elapsed": 7,
     "status": "ok",
     "timestamp": 1660919576428,
     "user": {
      "displayName": "강현욱",
      "userId": "07194546442434465172"
     },
     "user_tz": -540
    },
    "id": "JaIeErnt41vq",
    "outputId": "5939fbcd-15a7-4414-88b3-152418b82f94"
   },
   "outputs": [
    {
     "data": {
      "text/html": [
       "<div>\n",
       "<style scoped>\n",
       "    .dataframe tbody tr th:only-of-type {\n",
       "        vertical-align: middle;\n",
       "    }\n",
       "\n",
       "    .dataframe tbody tr th {\n",
       "        vertical-align: top;\n",
       "    }\n",
       "\n",
       "    .dataframe thead th {\n",
       "        text-align: right;\n",
       "    }\n",
       "</style>\n",
       "<table border=\"1\" class=\"dataframe\">\n",
       "  <thead>\n",
       "    <tr style=\"text-align: right;\">\n",
       "      <th></th>\n",
       "      <th>event_time</th>\n",
       "      <th>event_type</th>\n",
       "      <th>product_id</th>\n",
       "      <th>category_id</th>\n",
       "      <th>category_code</th>\n",
       "      <th>brand</th>\n",
       "      <th>price</th>\n",
       "      <th>user_id</th>\n",
       "      <th>user_session</th>\n",
       "    </tr>\n",
       "  </thead>\n",
       "  <tbody>\n",
       "    <tr>\n",
       "      <th>13</th>\n",
       "      <td>2019-10-01 02:19:59 UTC</td>\n",
       "      <td>purchase</td>\n",
       "      <td>28100119</td>\n",
       "      <td>2053013564918072245</td>\n",
       "      <td>NaN</td>\n",
       "      <td>NaN</td>\n",
       "      <td>153.16</td>\n",
       "      <td>517953667</td>\n",
       "      <td>7954f58c-158d-402d-9820-c502a5eea86d</td>\n",
       "    </tr>\n",
       "    <tr>\n",
       "      <th>17</th>\n",
       "      <td>2019-10-01 02:20:28 UTC</td>\n",
       "      <td>purchase</td>\n",
       "      <td>26601440</td>\n",
       "      <td>2053013563517174627</td>\n",
       "      <td>NaN</td>\n",
       "      <td>NaN</td>\n",
       "      <td>91.12</td>\n",
       "      <td>554101070</td>\n",
       "      <td>5a29c401-c05b-4dcf-b9e6-78324875dfd4</td>\n",
       "    </tr>\n",
       "    <tr>\n",
       "      <th>21</th>\n",
       "      <td>2019-10-01 02:21:45 UTC</td>\n",
       "      <td>purchase</td>\n",
       "      <td>28100000</td>\n",
       "      <td>2053013564918072245</td>\n",
       "      <td>NaN</td>\n",
       "      <td>NaN</td>\n",
       "      <td>60.49</td>\n",
       "      <td>517953667</td>\n",
       "      <td>7954f58c-158d-402d-9820-c502a5eea86d</td>\n",
       "    </tr>\n",
       "    <tr>\n",
       "      <th>29</th>\n",
       "      <td>2019-10-01 02:23:03 UTC</td>\n",
       "      <td>purchase</td>\n",
       "      <td>19100075</td>\n",
       "      <td>2053013556227473861</td>\n",
       "      <td>construction.tools.saw</td>\n",
       "      <td>NaN</td>\n",
       "      <td>120.47</td>\n",
       "      <td>513484630</td>\n",
       "      <td>92bc0a54-4dab-4748-9a39-edbb4c760254</td>\n",
       "    </tr>\n",
       "    <tr>\n",
       "      <th>43</th>\n",
       "      <td>2019-10-01 02:26:02 UTC</td>\n",
       "      <td>purchase</td>\n",
       "      <td>34800175</td>\n",
       "      <td>2062461754293617058</td>\n",
       "      <td>NaN</td>\n",
       "      <td>NaN</td>\n",
       "      <td>33.46</td>\n",
       "      <td>512594464</td>\n",
       "      <td>f18609cf-7cab-47cf-aaf8-8622202722bd</td>\n",
       "    </tr>\n",
       "    <tr>\n",
       "      <th>...</th>\n",
       "      <td>...</td>\n",
       "      <td>...</td>\n",
       "      <td>...</td>\n",
       "      <td>...</td>\n",
       "      <td>...</td>\n",
       "      <td>...</td>\n",
       "      <td>...</td>\n",
       "      <td>...</td>\n",
       "      <td>...</td>\n",
       "    </tr>\n",
       "    <tr>\n",
       "      <th>742827</th>\n",
       "      <td>2019-10-31 23:45:46 UTC</td>\n",
       "      <td>purchase</td>\n",
       "      <td>26500442</td>\n",
       "      <td>2053013563550729061</td>\n",
       "      <td>NaN</td>\n",
       "      <td>NaN</td>\n",
       "      <td>115.58</td>\n",
       "      <td>513911691</td>\n",
       "      <td>e6e67023-2258-4341-bd66-a9500d7da596</td>\n",
       "    </tr>\n",
       "    <tr>\n",
       "      <th>742840</th>\n",
       "      <td>2019-10-31 23:51:02 UTC</td>\n",
       "      <td>purchase</td>\n",
       "      <td>15600016</td>\n",
       "      <td>2053013559767466645</td>\n",
       "      <td>NaN</td>\n",
       "      <td>NaN</td>\n",
       "      <td>419.55</td>\n",
       "      <td>542728394</td>\n",
       "      <td>e62b779b-d70e-4468-8f35-4bcf6879e471</td>\n",
       "    </tr>\n",
       "    <tr>\n",
       "      <th>742841</th>\n",
       "      <td>2019-10-31 23:53:18 UTC</td>\n",
       "      <td>purchase</td>\n",
       "      <td>15600016</td>\n",
       "      <td>2053013559767466645</td>\n",
       "      <td>NaN</td>\n",
       "      <td>NaN</td>\n",
       "      <td>419.55</td>\n",
       "      <td>542728394</td>\n",
       "      <td>e62b779b-d70e-4468-8f35-4bcf6879e471</td>\n",
       "    </tr>\n",
       "    <tr>\n",
       "      <th>742843</th>\n",
       "      <td>2019-10-31 23:54:33 UTC</td>\n",
       "      <td>purchase</td>\n",
       "      <td>26205284</td>\n",
       "      <td>2053013563693335403</td>\n",
       "      <td>NaN</td>\n",
       "      <td>NaN</td>\n",
       "      <td>143.89</td>\n",
       "      <td>513040838</td>\n",
       "      <td>639dc99e-72cd-433d-ad90-24c78d71418f</td>\n",
       "    </tr>\n",
       "    <tr>\n",
       "      <th>742844</th>\n",
       "      <td>2019-10-31 23:55:13 UTC</td>\n",
       "      <td>purchase</td>\n",
       "      <td>26402784</td>\n",
       "      <td>2053013563651392361</td>\n",
       "      <td>NaN</td>\n",
       "      <td>NaN</td>\n",
       "      <td>102.45</td>\n",
       "      <td>516604399</td>\n",
       "      <td>a98bd433-57ac-42d0-ba81-e18b135a7a16</td>\n",
       "    </tr>\n",
       "  </tbody>\n",
       "</table>\n",
       "<p>58305 rows × 9 columns</p>\n",
       "</div>"
      ],
      "text/plain": [
       "                     event_time event_type  product_id          category_id  \\\n",
       "13      2019-10-01 02:19:59 UTC   purchase    28100119  2053013564918072245   \n",
       "17      2019-10-01 02:20:28 UTC   purchase    26601440  2053013563517174627   \n",
       "21      2019-10-01 02:21:45 UTC   purchase    28100000  2053013564918072245   \n",
       "29      2019-10-01 02:23:03 UTC   purchase    19100075  2053013556227473861   \n",
       "43      2019-10-01 02:26:02 UTC   purchase    34800175  2062461754293617058   \n",
       "...                         ...        ...         ...                  ...   \n",
       "742827  2019-10-31 23:45:46 UTC   purchase    26500442  2053013563550729061   \n",
       "742840  2019-10-31 23:51:02 UTC   purchase    15600016  2053013559767466645   \n",
       "742841  2019-10-31 23:53:18 UTC   purchase    15600016  2053013559767466645   \n",
       "742843  2019-10-31 23:54:33 UTC   purchase    26205284  2053013563693335403   \n",
       "742844  2019-10-31 23:55:13 UTC   purchase    26402784  2053013563651392361   \n",
       "\n",
       "                 category_code brand   price    user_id  \\\n",
       "13                         NaN   NaN  153.16  517953667   \n",
       "17                         NaN   NaN   91.12  554101070   \n",
       "21                         NaN   NaN   60.49  517953667   \n",
       "29      construction.tools.saw   NaN  120.47  513484630   \n",
       "43                         NaN   NaN   33.46  512594464   \n",
       "...                        ...   ...     ...        ...   \n",
       "742827                     NaN   NaN  115.58  513911691   \n",
       "742840                     NaN   NaN  419.55  542728394   \n",
       "742841                     NaN   NaN  419.55  542728394   \n",
       "742843                     NaN   NaN  143.89  513040838   \n",
       "742844                     NaN   NaN  102.45  516604399   \n",
       "\n",
       "                                user_session  \n",
       "13      7954f58c-158d-402d-9820-c502a5eea86d  \n",
       "17      5a29c401-c05b-4dcf-b9e6-78324875dfd4  \n",
       "21      7954f58c-158d-402d-9820-c502a5eea86d  \n",
       "29      92bc0a54-4dab-4748-9a39-edbb4c760254  \n",
       "43      f18609cf-7cab-47cf-aaf8-8622202722bd  \n",
       "...                                      ...  \n",
       "742827  e6e67023-2258-4341-bd66-a9500d7da596  \n",
       "742840  e62b779b-d70e-4468-8f35-4bcf6879e471  \n",
       "742841  e62b779b-d70e-4468-8f35-4bcf6879e471  \n",
       "742843  639dc99e-72cd-433d-ad90-24c78d71418f  \n",
       "742844  a98bd433-57ac-42d0-ba81-e18b135a7a16  \n",
       "\n",
       "[58305 rows x 9 columns]"
      ]
     },
     "execution_count": 14,
     "metadata": {},
     "output_type": "execute_result"
    }
   ],
   "source": [
    "# brand 값이 null 값인 건 확인 \n",
    "df_org[df_org.brand.isnull()]\n",
    "# 활용 가능할까? 어떤 제품을 구매했는지 모르더라도 카테고리 정보만 알수 있다면 활용할 수 있을것으로 판단됨. 단, 이번 실습에서는 제외 "
   ]
  },
  {
   "cell_type": "markdown",
   "metadata": {
    "id": "XwRV4nB5XwZr"
   },
   "source": [
    "\n",
    "### 3.2 NULL 값 처리 (삭제) 및 확인"
   ]
  },
  {
   "cell_type": "markdown",
   "metadata": {
    "id": "F2ErxNrJBVeY"
   },
   "source": [
    "이후 브랜드명과 category 값을 기준으로 군집을 생성하고 확인하려고 함. 그렇기 때문에 두 값중 하나라도 null 값인 것은 삭제 "
   ]
  },
  {
   "cell_type": "code",
   "execution_count": 16,
   "metadata": {
    "id": "6GxNn-4SXz4c"
   },
   "outputs": [],
   "source": [
    "#Null 값 제거 (행 기준)\n",
    "df_na_treat =  df_org.dropna(axis = 0)"
   ]
  },
  {
   "cell_type": "code",
   "execution_count": 17,
   "metadata": {
    "colab": {
     "base_uri": "https://localhost:8080/"
    },
    "executionInfo": {
     "elapsed": 11,
     "status": "ok",
     "timestamp": 1660980014757,
     "user": {
      "displayName": "강현욱",
      "userId": "07194546442434465172"
     },
     "user_tz": -540
    },
    "id": "C-8fYzxcMoLm",
    "outputId": "d8d9b9a5-61be-46dd-d962-75c3e85fa5f4"
   },
   "outputs": [
    {
     "data": {
      "text/plain": [
       "0"
      ]
     },
     "execution_count": 17,
     "metadata": {},
     "output_type": "execute_result"
    }
   ],
   "source": [
    "#Null 값 제거 되었는지 확인\n",
    "df_na_treat.isnull().sum().sum()"
   ]
  },
  {
   "cell_type": "markdown",
   "metadata": {
    "id": "k0iSogZUA3Tk"
   },
   "source": [
    "## **4. 데이터탐색 및 이상치 제거**"
   ]
  },
  {
   "cell_type": "markdown",
   "metadata": {
    "id": "kxNzTv4OBLcY"
   },
   "source": [
    "### 4.1 전체 데이터 확인 "
   ]
  },
  {
   "cell_type": "code",
   "execution_count": 18,
   "metadata": {
    "colab": {
     "base_uri": "https://localhost:8080/"
    },
    "executionInfo": {
     "elapsed": 12,
     "status": "ok",
     "timestamp": 1660919576812,
     "user": {
      "displayName": "강현욱",
      "userId": "07194546442434465172"
     },
     "user_tz": -540
    },
    "id": "_lwQHP75J6YF",
    "outputId": "e90406e9-a533-4264-aee1-5b8f814a046e"
   },
   "outputs": [
    {
     "data": {
      "text/plain": [
       "(549507, 9)"
      ]
     },
     "execution_count": 18,
     "metadata": {},
     "output_type": "execute_result"
    }
   ],
   "source": [
    "# df_na_treat 전체 데이터 확인 (전체데이터 수, 변수의 개수)\n",
    "df_na_treat.shape"
   ]
  },
  {
   "cell_type": "code",
   "execution_count": 19,
   "metadata": {
    "colab": {
     "base_uri": "https://localhost:8080/",
     "height": 300
    },
    "executionInfo": {
     "elapsed": 541,
     "status": "ok",
     "timestamp": 1660919577349,
     "user": {
      "displayName": "강현욱",
      "userId": "07194546442434465172"
     },
     "user_tz": -540
    },
    "id": "88V5cKLOENYw",
    "outputId": "0b95e599-2187-40d6-b928-74a0d0572e72"
   },
   "outputs": [
    {
     "data": {
      "text/html": [
       "<div>\n",
       "<style scoped>\n",
       "    .dataframe tbody tr th:only-of-type {\n",
       "        vertical-align: middle;\n",
       "    }\n",
       "\n",
       "    .dataframe tbody tr th {\n",
       "        vertical-align: top;\n",
       "    }\n",
       "\n",
       "    .dataframe thead th {\n",
       "        text-align: right;\n",
       "    }\n",
       "</style>\n",
       "<table border=\"1\" class=\"dataframe\">\n",
       "  <thead>\n",
       "    <tr style=\"text-align: right;\">\n",
       "      <th></th>\n",
       "      <th>product_id</th>\n",
       "      <th>category_id</th>\n",
       "      <th>price</th>\n",
       "      <th>user_id</th>\n",
       "    </tr>\n",
       "  </thead>\n",
       "  <tbody>\n",
       "    <tr>\n",
       "      <th>count</th>\n",
       "      <td>5.495070e+05</td>\n",
       "      <td>5.495070e+05</td>\n",
       "      <td>549507.000000</td>\n",
       "      <td>5.495070e+05</td>\n",
       "    </tr>\n",
       "    <tr>\n",
       "      <th>mean</th>\n",
       "      <td>3.054594e+06</td>\n",
       "      <td>2.054518e+18</td>\n",
       "      <td>371.001168</td>\n",
       "      <td>5.363179e+08</td>\n",
       "    </tr>\n",
       "    <tr>\n",
       "      <th>std</th>\n",
       "      <td>5.111423e+06</td>\n",
       "      <td>1.258658e+16</td>\n",
       "      <td>370.971646</td>\n",
       "      <td>1.832481e+07</td>\n",
       "    </tr>\n",
       "    <tr>\n",
       "      <th>min</th>\n",
       "      <td>1.000978e+06</td>\n",
       "      <td>2.053014e+18</td>\n",
       "      <td>0.880000</td>\n",
       "      <td>3.031604e+08</td>\n",
       "    </tr>\n",
       "    <tr>\n",
       "      <th>25%</th>\n",
       "      <td>1.004767e+06</td>\n",
       "      <td>2.053014e+18</td>\n",
       "      <td>131.530000</td>\n",
       "      <td>5.171431e+08</td>\n",
       "    </tr>\n",
       "    <tr>\n",
       "      <th>50%</th>\n",
       "      <td>1.005100e+06</td>\n",
       "      <td>2.053014e+18</td>\n",
       "      <td>230.880000</td>\n",
       "      <td>5.365788e+08</td>\n",
       "    </tr>\n",
       "    <tr>\n",
       "      <th>75%</th>\n",
       "      <td>3.600937e+06</td>\n",
       "      <td>2.053014e+18</td>\n",
       "      <td>462.440000</td>\n",
       "      <td>5.545513e+08</td>\n",
       "    </tr>\n",
       "    <tr>\n",
       "      <th>max</th>\n",
       "      <td>6.050000e+07</td>\n",
       "      <td>2.173217e+18</td>\n",
       "      <td>2574.040000</td>\n",
       "      <td>5.662783e+08</td>\n",
       "    </tr>\n",
       "  </tbody>\n",
       "</table>\n",
       "</div>"
      ],
      "text/plain": [
       "         product_id   category_id          price       user_id\n",
       "count  5.495070e+05  5.495070e+05  549507.000000  5.495070e+05\n",
       "mean   3.054594e+06  2.054518e+18     371.001168  5.363179e+08\n",
       "std    5.111423e+06  1.258658e+16     370.971646  1.832481e+07\n",
       "min    1.000978e+06  2.053014e+18       0.880000  3.031604e+08\n",
       "25%    1.004767e+06  2.053014e+18     131.530000  5.171431e+08\n",
       "50%    1.005100e+06  2.053014e+18     230.880000  5.365788e+08\n",
       "75%    3.600937e+06  2.053014e+18     462.440000  5.545513e+08\n",
       "max    6.050000e+07  2.173217e+18    2574.040000  5.662783e+08"
      ]
     },
     "execution_count": 19,
     "metadata": {},
     "output_type": "execute_result"
    }
   ],
   "source": [
    "# 연속형 변수의 분포 확인 \n",
    "df_na_treat.describe()\n",
    "# price를 제외한 나머지는 의미가 없음 "
   ]
  },
  {
   "cell_type": "code",
   "execution_count": 20,
   "metadata": {
    "colab": {
     "base_uri": "https://localhost:8080/"
    },
    "executionInfo": {
     "elapsed": 20,
     "status": "ok",
     "timestamp": 1660919577350,
     "user": {
      "displayName": "강현욱",
      "userId": "07194546442434465172"
     },
     "user_tz": -540
    },
    "id": "Ek2RuL_X8xn8",
    "outputId": "b0d41324-8f1d-44a7-cb95-709251ecc6a9"
   },
   "outputs": [
    {
     "name": "stdout",
     "output_type": "stream",
     "text": [
      "<class 'pandas.core.frame.DataFrame'>\n",
      "Int64Index: 549507 entries, 0 to 742848\n",
      "Data columns (total 9 columns):\n",
      " #   Column         Non-Null Count   Dtype  \n",
      "---  ------         --------------   -----  \n",
      " 0   event_time     549507 non-null  object \n",
      " 1   event_type     549507 non-null  object \n",
      " 2   product_id     549507 non-null  int64  \n",
      " 3   category_id    549507 non-null  int64  \n",
      " 4   category_code  549507 non-null  object \n",
      " 5   brand          549507 non-null  object \n",
      " 6   price          549507 non-null  float64\n",
      " 7   user_id        549507 non-null  int64  \n",
      " 8   user_session   549507 non-null  object \n",
      "dtypes: float64(1), int64(3), object(5)\n",
      "memory usage: 41.9+ MB\n"
     ]
    }
   ],
   "source": [
    "# 변수 type 확인\n",
    "df_na_treat.info()"
   ]
  },
  {
   "cell_type": "markdown",
   "metadata": {
    "id": "OnAyF_WfA0ot"
   },
   "source": [
    "### 4.2 카테고리 데이터 데이터 확인 및 파생"
   ]
  },
  {
   "cell_type": "code",
   "execution_count": 21,
   "metadata": {
    "colab": {
     "base_uri": "https://localhost:8080/"
    },
    "executionInfo": {
     "elapsed": 10,
     "status": "ok",
     "timestamp": 1660919577350,
     "user": {
      "displayName": "강현욱",
      "userId": "07194546442434465172"
     },
     "user_tz": -540
    },
    "id": "aHIdZm2kEaEz",
    "outputId": "987fd946-9609-482c-fb9e-019c0752c1ea"
   },
   "outputs": [
    {
     "data": {
      "text/plain": [
       "electronics.smartphone         0.614323\n",
       "electronics.audio.headphone    0.055393\n",
       "electronics.video.tv           0.039213\n",
       "electronics.clocks             0.030294\n",
       "appliances.kitchen.washer      0.029224\n",
       "                                 ...   \n",
       "apparel.skirt                  0.000005\n",
       "apparel.jeans                  0.000005\n",
       "apparel.shorts                 0.000004\n",
       "apparel.jumper                 0.000004\n",
       "apparel.jacket                 0.000002\n",
       "Name: category_code, Length: 120, dtype: float64"
      ]
     },
     "execution_count": 21,
     "metadata": {},
     "output_type": "execute_result"
    }
   ],
   "source": [
    "# 카테고리 정보확인(어떤카테고리가 많이 판매되는지)(고유값 확인 : value_counts())\n",
    "df_na_treat.category_code.value_counts(normalize =True) # normalize : 전체 1 기준 각 카테고리의 비율\n",
    "# smartphone 카테고리가 커서 의미 없기때문에, 브랜드까지 나누어서 봐야겠구나! 파악가능\n"
   ]
  },
  {
   "cell_type": "code",
   "execution_count": 22,
   "metadata": {
    "colab": {
     "base_uri": "https://localhost:8080/",
     "height": 923
    },
    "executionInfo": {
     "elapsed": 2253,
     "status": "ok",
     "timestamp": 1660980299604,
     "user": {
      "displayName": "강현욱",
      "userId": "07194546442434465172"
     },
     "user_tz": -540
    },
    "id": "NaZDXkhqrHKE",
    "outputId": "ad4bdf17-b954-4eda-8df7-93c228469f5c"
   },
   "outputs": [
    {
     "name": "stderr",
     "output_type": "stream",
     "text": [
      "C:\\Users\\Miyoung\\AppData\\Local\\Temp\\ipykernel_6856\\3417100406.py:2: SettingWithCopyWarning: \n",
      "A value is trying to be set on a copy of a slice from a DataFrame.\n",
      "Try using .loc[row_indexer,col_indexer] = value instead\n",
      "\n",
      "See the caveats in the documentation: https://pandas.pydata.org/pandas-docs/stable/user_guide/indexing.html#returning-a-view-versus-a-copy\n",
      "  df_na_treat[['ctgr_lv1','ctgr_lv2','ctgr_lv3','ctgr_lv4']] = df_na_treat['category_code'].str.split('.',expand= True)\n",
      "C:\\Users\\Miyoung\\AppData\\Local\\Temp\\ipykernel_6856\\3417100406.py:2: SettingWithCopyWarning: \n",
      "A value is trying to be set on a copy of a slice from a DataFrame.\n",
      "Try using .loc[row_indexer,col_indexer] = value instead\n",
      "\n",
      "See the caveats in the documentation: https://pandas.pydata.org/pandas-docs/stable/user_guide/indexing.html#returning-a-view-versus-a-copy\n",
      "  df_na_treat[['ctgr_lv1','ctgr_lv2','ctgr_lv3','ctgr_lv4']] = df_na_treat['category_code'].str.split('.',expand= True)\n",
      "C:\\Users\\Miyoung\\AppData\\Local\\Temp\\ipykernel_6856\\3417100406.py:2: SettingWithCopyWarning: \n",
      "A value is trying to be set on a copy of a slice from a DataFrame.\n",
      "Try using .loc[row_indexer,col_indexer] = value instead\n",
      "\n",
      "See the caveats in the documentation: https://pandas.pydata.org/pandas-docs/stable/user_guide/indexing.html#returning-a-view-versus-a-copy\n",
      "  df_na_treat[['ctgr_lv1','ctgr_lv2','ctgr_lv3','ctgr_lv4']] = df_na_treat['category_code'].str.split('.',expand= True)\n",
      "C:\\Users\\Miyoung\\AppData\\Local\\Temp\\ipykernel_6856\\3417100406.py:2: SettingWithCopyWarning: \n",
      "A value is trying to be set on a copy of a slice from a DataFrame.\n",
      "Try using .loc[row_indexer,col_indexer] = value instead\n",
      "\n",
      "See the caveats in the documentation: https://pandas.pydata.org/pandas-docs/stable/user_guide/indexing.html#returning-a-view-versus-a-copy\n",
      "  df_na_treat[['ctgr_lv1','ctgr_lv2','ctgr_lv3','ctgr_lv4']] = df_na_treat['category_code'].str.split('.',expand= True)\n"
     ]
    },
    {
     "data": {
      "text/html": [
       "<div>\n",
       "<style scoped>\n",
       "    .dataframe tbody tr th:only-of-type {\n",
       "        vertical-align: middle;\n",
       "    }\n",
       "\n",
       "    .dataframe tbody tr th {\n",
       "        vertical-align: top;\n",
       "    }\n",
       "\n",
       "    .dataframe thead th {\n",
       "        text-align: right;\n",
       "    }\n",
       "</style>\n",
       "<table border=\"1\" class=\"dataframe\">\n",
       "  <thead>\n",
       "    <tr style=\"text-align: right;\">\n",
       "      <th></th>\n",
       "      <th>event_time</th>\n",
       "      <th>event_type</th>\n",
       "      <th>product_id</th>\n",
       "      <th>category_id</th>\n",
       "      <th>category_code</th>\n",
       "      <th>brand</th>\n",
       "      <th>price</th>\n",
       "      <th>user_id</th>\n",
       "      <th>user_session</th>\n",
       "      <th>ctgr_lv1</th>\n",
       "      <th>ctgr_lv2</th>\n",
       "      <th>ctgr_lv3</th>\n",
       "      <th>ctgr_lv4</th>\n",
       "    </tr>\n",
       "  </thead>\n",
       "  <tbody>\n",
       "    <tr>\n",
       "      <th>0</th>\n",
       "      <td>2019-10-01 00:02:14 UTC</td>\n",
       "      <td>purchase</td>\n",
       "      <td>1004856</td>\n",
       "      <td>2053013555631882655</td>\n",
       "      <td>electronics.smartphone</td>\n",
       "      <td>samsung</td>\n",
       "      <td>130.76</td>\n",
       "      <td>543272936</td>\n",
       "      <td>8187d148-3c41-46d4-b0c0-9c08cd9dc564</td>\n",
       "      <td>electronics</td>\n",
       "      <td>smartphone</td>\n",
       "      <td>None</td>\n",
       "      <td>None</td>\n",
       "    </tr>\n",
       "    <tr>\n",
       "      <th>1</th>\n",
       "      <td>2019-10-01 00:04:37 UTC</td>\n",
       "      <td>purchase</td>\n",
       "      <td>1002532</td>\n",
       "      <td>2053013555631882655</td>\n",
       "      <td>electronics.smartphone</td>\n",
       "      <td>apple</td>\n",
       "      <td>642.69</td>\n",
       "      <td>551377651</td>\n",
       "      <td>3c80f0d6-e9ec-4181-8c5c-837a30be2d68</td>\n",
       "      <td>electronics</td>\n",
       "      <td>smartphone</td>\n",
       "      <td>None</td>\n",
       "      <td>None</td>\n",
       "    </tr>\n",
       "    <tr>\n",
       "      <th>3</th>\n",
       "      <td>2019-10-01 00:07:07 UTC</td>\n",
       "      <td>purchase</td>\n",
       "      <td>13800054</td>\n",
       "      <td>2053013557418656265</td>\n",
       "      <td>furniture.bathroom.toilet</td>\n",
       "      <td>santeri</td>\n",
       "      <td>54.42</td>\n",
       "      <td>555332717</td>\n",
       "      <td>1dea3ee2-2ded-42e8-8e7a-4e2ad6ae942f</td>\n",
       "      <td>furniture</td>\n",
       "      <td>bathroom</td>\n",
       "      <td>toilet</td>\n",
       "      <td>None</td>\n",
       "    </tr>\n",
       "    <tr>\n",
       "      <th>4</th>\n",
       "      <td>2019-10-01 00:09:26 UTC</td>\n",
       "      <td>purchase</td>\n",
       "      <td>4804055</td>\n",
       "      <td>2053013554658804075</td>\n",
       "      <td>electronics.audio.headphone</td>\n",
       "      <td>apple</td>\n",
       "      <td>189.91</td>\n",
       "      <td>524601178</td>\n",
       "      <td>2af9b570-0942-4dcd-8f25-4d84fba82553</td>\n",
       "      <td>electronics</td>\n",
       "      <td>audio</td>\n",
       "      <td>headphone</td>\n",
       "      <td>None</td>\n",
       "    </tr>\n",
       "    <tr>\n",
       "      <th>5</th>\n",
       "      <td>2019-10-01 00:09:54 UTC</td>\n",
       "      <td>purchase</td>\n",
       "      <td>4804056</td>\n",
       "      <td>2053013554658804075</td>\n",
       "      <td>electronics.audio.headphone</td>\n",
       "      <td>apple</td>\n",
       "      <td>161.98</td>\n",
       "      <td>551377651</td>\n",
       "      <td>3c80f0d6-e9ec-4181-8c5c-837a30be2d68</td>\n",
       "      <td>electronics</td>\n",
       "      <td>audio</td>\n",
       "      <td>headphone</td>\n",
       "      <td>None</td>\n",
       "    </tr>\n",
       "    <tr>\n",
       "      <th>...</th>\n",
       "      <td>...</td>\n",
       "      <td>...</td>\n",
       "      <td>...</td>\n",
       "      <td>...</td>\n",
       "      <td>...</td>\n",
       "      <td>...</td>\n",
       "      <td>...</td>\n",
       "      <td>...</td>\n",
       "      <td>...</td>\n",
       "      <td>...</td>\n",
       "      <td>...</td>\n",
       "      <td>...</td>\n",
       "      <td>...</td>\n",
       "    </tr>\n",
       "    <tr>\n",
       "      <th>742842</th>\n",
       "      <td>2019-10-31 23:53:53 UTC</td>\n",
       "      <td>purchase</td>\n",
       "      <td>1004767</td>\n",
       "      <td>2053013555631882655</td>\n",
       "      <td>electronics.smartphone</td>\n",
       "      <td>samsung</td>\n",
       "      <td>242.63</td>\n",
       "      <td>542774966</td>\n",
       "      <td>957dc70c-31d3-42b7-aef0-2d2827c35251</td>\n",
       "      <td>electronics</td>\n",
       "      <td>smartphone</td>\n",
       "      <td>None</td>\n",
       "      <td>None</td>\n",
       "    </tr>\n",
       "    <tr>\n",
       "      <th>742845</th>\n",
       "      <td>2019-10-31 23:55:21 UTC</td>\n",
       "      <td>purchase</td>\n",
       "      <td>47500017</td>\n",
       "      <td>2110937143172923797</td>\n",
       "      <td>construction.tools.light</td>\n",
       "      <td>puckator</td>\n",
       "      <td>20.59</td>\n",
       "      <td>514622109</td>\n",
       "      <td>5724116e-365b-4ac1-9d03-b8d66e1ccc7c</td>\n",
       "      <td>construction</td>\n",
       "      <td>tools</td>\n",
       "      <td>light</td>\n",
       "      <td>None</td>\n",
       "    </tr>\n",
       "    <tr>\n",
       "      <th>742846</th>\n",
       "      <td>2019-10-31 23:56:03 UTC</td>\n",
       "      <td>purchase</td>\n",
       "      <td>1003306</td>\n",
       "      <td>2053013555631882655</td>\n",
       "      <td>electronics.smartphone</td>\n",
       "      <td>apple</td>\n",
       "      <td>577.89</td>\n",
       "      <td>512717356</td>\n",
       "      <td>f35ac37c-9573-4e30-b3d9-c09bb0b95a2b</td>\n",
       "      <td>electronics</td>\n",
       "      <td>smartphone</td>\n",
       "      <td>None</td>\n",
       "      <td>None</td>\n",
       "    </tr>\n",
       "    <tr>\n",
       "      <th>742847</th>\n",
       "      <td>2019-10-31 23:56:53 UTC</td>\n",
       "      <td>purchase</td>\n",
       "      <td>1004240</td>\n",
       "      <td>2053013555631882655</td>\n",
       "      <td>electronics.smartphone</td>\n",
       "      <td>apple</td>\n",
       "      <td>1054.60</td>\n",
       "      <td>533892594</td>\n",
       "      <td>3a5a3b01-2ab1-4a1d-a202-30d336e0057b</td>\n",
       "      <td>electronics</td>\n",
       "      <td>smartphone</td>\n",
       "      <td>None</td>\n",
       "      <td>None</td>\n",
       "    </tr>\n",
       "    <tr>\n",
       "      <th>742848</th>\n",
       "      <td>2019-10-31 23:59:16 UTC</td>\n",
       "      <td>purchase</td>\n",
       "      <td>4804056</td>\n",
       "      <td>2053013554658804075</td>\n",
       "      <td>electronics.audio.headphone</td>\n",
       "      <td>apple</td>\n",
       "      <td>160.57</td>\n",
       "      <td>544501248</td>\n",
       "      <td>e330d051-37ad-4dc3-b1ee-ff16a28b7998</td>\n",
       "      <td>electronics</td>\n",
       "      <td>audio</td>\n",
       "      <td>headphone</td>\n",
       "      <td>None</td>\n",
       "    </tr>\n",
       "  </tbody>\n",
       "</table>\n",
       "<p>549507 rows × 13 columns</p>\n",
       "</div>"
      ],
      "text/plain": [
       "                     event_time event_type  product_id          category_id  \\\n",
       "0       2019-10-01 00:02:14 UTC   purchase     1004856  2053013555631882655   \n",
       "1       2019-10-01 00:04:37 UTC   purchase     1002532  2053013555631882655   \n",
       "3       2019-10-01 00:07:07 UTC   purchase    13800054  2053013557418656265   \n",
       "4       2019-10-01 00:09:26 UTC   purchase     4804055  2053013554658804075   \n",
       "5       2019-10-01 00:09:54 UTC   purchase     4804056  2053013554658804075   \n",
       "...                         ...        ...         ...                  ...   \n",
       "742842  2019-10-31 23:53:53 UTC   purchase     1004767  2053013555631882655   \n",
       "742845  2019-10-31 23:55:21 UTC   purchase    47500017  2110937143172923797   \n",
       "742846  2019-10-31 23:56:03 UTC   purchase     1003306  2053013555631882655   \n",
       "742847  2019-10-31 23:56:53 UTC   purchase     1004240  2053013555631882655   \n",
       "742848  2019-10-31 23:59:16 UTC   purchase     4804056  2053013554658804075   \n",
       "\n",
       "                      category_code     brand    price    user_id  \\\n",
       "0            electronics.smartphone   samsung   130.76  543272936   \n",
       "1            electronics.smartphone     apple   642.69  551377651   \n",
       "3         furniture.bathroom.toilet   santeri    54.42  555332717   \n",
       "4       electronics.audio.headphone     apple   189.91  524601178   \n",
       "5       electronics.audio.headphone     apple   161.98  551377651   \n",
       "...                             ...       ...      ...        ...   \n",
       "742842       electronics.smartphone   samsung   242.63  542774966   \n",
       "742845     construction.tools.light  puckator    20.59  514622109   \n",
       "742846       electronics.smartphone     apple   577.89  512717356   \n",
       "742847       electronics.smartphone     apple  1054.60  533892594   \n",
       "742848  electronics.audio.headphone     apple   160.57  544501248   \n",
       "\n",
       "                                user_session      ctgr_lv1    ctgr_lv2  \\\n",
       "0       8187d148-3c41-46d4-b0c0-9c08cd9dc564   electronics  smartphone   \n",
       "1       3c80f0d6-e9ec-4181-8c5c-837a30be2d68   electronics  smartphone   \n",
       "3       1dea3ee2-2ded-42e8-8e7a-4e2ad6ae942f     furniture    bathroom   \n",
       "4       2af9b570-0942-4dcd-8f25-4d84fba82553   electronics       audio   \n",
       "5       3c80f0d6-e9ec-4181-8c5c-837a30be2d68   electronics       audio   \n",
       "...                                      ...           ...         ...   \n",
       "742842  957dc70c-31d3-42b7-aef0-2d2827c35251   electronics  smartphone   \n",
       "742845  5724116e-365b-4ac1-9d03-b8d66e1ccc7c  construction       tools   \n",
       "742846  f35ac37c-9573-4e30-b3d9-c09bb0b95a2b   electronics  smartphone   \n",
       "742847  3a5a3b01-2ab1-4a1d-a202-30d336e0057b   electronics  smartphone   \n",
       "742848  e330d051-37ad-4dc3-b1ee-ff16a28b7998   electronics       audio   \n",
       "\n",
       "         ctgr_lv3 ctgr_lv4  \n",
       "0            None     None  \n",
       "1            None     None  \n",
       "3          toilet     None  \n",
       "4       headphone     None  \n",
       "5       headphone     None  \n",
       "...           ...      ...  \n",
       "742842       None     None  \n",
       "742845      light     None  \n",
       "742846       None     None  \n",
       "742847       None     None  \n",
       "742848  headphone     None  \n",
       "\n",
       "[549507 rows x 13 columns]"
      ]
     },
     "execution_count": 22,
     "metadata": {},
     "output_type": "execute_result"
    }
   ],
   "source": [
    "# 카테고리 파싱 (카테고리 단위별로 변수화)\n",
    "## 카테고리 텍스트로 들어오고 있으나 값이 \".\"을 기준으로 구분되어있기에 파싱 필요!\n",
    "df_na_treat[['ctgr_lv1','ctgr_lv2','ctgr_lv3','ctgr_lv4']] = df_na_treat['category_code'].str.split('.',expand= True)\n",
    "df_na_treat"
   ]
  },
  {
   "cell_type": "code",
   "execution_count": 23,
   "metadata": {
    "colab": {
     "base_uri": "https://localhost:8080/",
     "height": 457
    },
    "executionInfo": {
     "elapsed": 10,
     "status": "ok",
     "timestamp": 1660919579453,
     "user": {
      "displayName": "강현욱",
      "userId": "07194546442434465172"
     },
     "user_tz": -540
    },
    "id": "PcoZl6cc-40P",
    "outputId": "9e19b419-0488-4263-90e1-b7aaca96ef3c"
   },
   "outputs": [
    {
     "data": {
      "text/html": [
       "<div>\n",
       "<style scoped>\n",
       "    .dataframe tbody tr th:only-of-type {\n",
       "        vertical-align: middle;\n",
       "    }\n",
       "\n",
       "    .dataframe tbody tr th {\n",
       "        vertical-align: top;\n",
       "    }\n",
       "\n",
       "    .dataframe thead th {\n",
       "        text-align: right;\n",
       "    }\n",
       "</style>\n",
       "<table border=\"1\" class=\"dataframe\">\n",
       "  <thead>\n",
       "    <tr style=\"text-align: right;\">\n",
       "      <th></th>\n",
       "      <th>ctgr_lv1</th>\n",
       "      <th>ctgr_lv1</th>\n",
       "    </tr>\n",
       "  </thead>\n",
       "  <tbody>\n",
       "    <tr>\n",
       "      <th>electronics</th>\n",
       "      <td>420361</td>\n",
       "      <td>0.764978</td>\n",
       "    </tr>\n",
       "    <tr>\n",
       "      <th>appliances</th>\n",
       "      <td>71231</td>\n",
       "      <td>0.129627</td>\n",
       "    </tr>\n",
       "    <tr>\n",
       "      <th>computers</th>\n",
       "      <td>27151</td>\n",
       "      <td>0.049410</td>\n",
       "    </tr>\n",
       "    <tr>\n",
       "      <th>auto</th>\n",
       "      <td>7869</td>\n",
       "      <td>0.014320</td>\n",
       "    </tr>\n",
       "    <tr>\n",
       "      <th>apparel</th>\n",
       "      <td>6152</td>\n",
       "      <td>0.011195</td>\n",
       "    </tr>\n",
       "    <tr>\n",
       "      <th>construction</th>\n",
       "      <td>5439</td>\n",
       "      <td>0.009898</td>\n",
       "    </tr>\n",
       "    <tr>\n",
       "      <th>kids</th>\n",
       "      <td>4529</td>\n",
       "      <td>0.008242</td>\n",
       "    </tr>\n",
       "    <tr>\n",
       "      <th>furniture</th>\n",
       "      <td>3828</td>\n",
       "      <td>0.006966</td>\n",
       "    </tr>\n",
       "    <tr>\n",
       "      <th>accessories</th>\n",
       "      <td>1432</td>\n",
       "      <td>0.002606</td>\n",
       "    </tr>\n",
       "    <tr>\n",
       "      <th>sport</th>\n",
       "      <td>1029</td>\n",
       "      <td>0.001873</td>\n",
       "    </tr>\n",
       "    <tr>\n",
       "      <th>medicine</th>\n",
       "      <td>304</td>\n",
       "      <td>0.000553</td>\n",
       "    </tr>\n",
       "    <tr>\n",
       "      <th>stationery</th>\n",
       "      <td>115</td>\n",
       "      <td>0.000209</td>\n",
       "    </tr>\n",
       "    <tr>\n",
       "      <th>country_yard</th>\n",
       "      <td>67</td>\n",
       "      <td>0.000122</td>\n",
       "    </tr>\n",
       "  </tbody>\n",
       "</table>\n",
       "</div>"
      ],
      "text/plain": [
       "              ctgr_lv1  ctgr_lv1\n",
       "electronics     420361  0.764978\n",
       "appliances       71231  0.129627\n",
       "computers        27151  0.049410\n",
       "auto              7869  0.014320\n",
       "apparel           6152  0.011195\n",
       "construction      5439  0.009898\n",
       "kids              4529  0.008242\n",
       "furniture         3828  0.006966\n",
       "accessories       1432  0.002606\n",
       "sport             1029  0.001873\n",
       "medicine           304  0.000553\n",
       "stationery         115  0.000209\n",
       "country_yard        67  0.000122"
      ]
     },
     "execution_count": 23,
     "metadata": {},
     "output_type": "execute_result"
    }
   ],
   "source": [
    "# 대카테고리 값과 비율 확인\n",
    "pd.concat([df_na_treat['ctgr_lv1'].value_counts(),df_na_treat['ctgr_lv1'].value_counts(normalize =True) ], axis = 1)\n",
    "#normalize =  True : 비율\n",
    "#axis = 1 : 행기준으로 나열\n",
    "\n",
    "## 전자제품과 생활가전이 전체 약 90% 를 차지함"
   ]
  },
  {
   "cell_type": "code",
   "execution_count": 24,
   "metadata": {
    "colab": {
     "base_uri": "https://localhost:8080/",
     "height": 300
    },
    "executionInfo": {
     "elapsed": 712,
     "status": "ok",
     "timestamp": 1660919580157,
     "user": {
      "displayName": "강현욱",
      "userId": "07194546442434465172"
     },
     "user_tz": -540
    },
    "id": "ENep5FCXlrG3",
    "outputId": "6206e462-d667-44ff-9386-f69c1a42cbcc"
   },
   "outputs": [
    {
     "data": {
      "text/html": [
       "<div>\n",
       "<style scoped>\n",
       "    .dataframe tbody tr th:only-of-type {\n",
       "        vertical-align: middle;\n",
       "    }\n",
       "\n",
       "    .dataframe tbody tr th {\n",
       "        vertical-align: top;\n",
       "    }\n",
       "\n",
       "    .dataframe thead th {\n",
       "        text-align: right;\n",
       "    }\n",
       "</style>\n",
       "<table border=\"1\" class=\"dataframe\">\n",
       "  <thead>\n",
       "    <tr style=\"text-align: right;\">\n",
       "      <th></th>\n",
       "      <th>0</th>\n",
       "      <th>1</th>\n",
       "    </tr>\n",
       "    <tr>\n",
       "      <th>ctgr_lv2</th>\n",
       "      <th></th>\n",
       "      <th></th>\n",
       "    </tr>\n",
       "  </thead>\n",
       "  <tbody>\n",
       "    <tr>\n",
       "      <th>smartphone</th>\n",
       "      <td>337575</td>\n",
       "      <td>0.803060</td>\n",
       "    </tr>\n",
       "    <tr>\n",
       "      <th>audio</th>\n",
       "      <td>34653</td>\n",
       "      <td>0.082436</td>\n",
       "    </tr>\n",
       "    <tr>\n",
       "      <th>video</th>\n",
       "      <td>21630</td>\n",
       "      <td>0.051456</td>\n",
       "    </tr>\n",
       "    <tr>\n",
       "      <th>clocks</th>\n",
       "      <td>16647</td>\n",
       "      <td>0.039602</td>\n",
       "    </tr>\n",
       "    <tr>\n",
       "      <th>tablet</th>\n",
       "      <td>5599</td>\n",
       "      <td>0.013320</td>\n",
       "    </tr>\n",
       "    <tr>\n",
       "      <th>telephone</th>\n",
       "      <td>3733</td>\n",
       "      <td>0.008880</td>\n",
       "    </tr>\n",
       "    <tr>\n",
       "      <th>camera</th>\n",
       "      <td>524</td>\n",
       "      <td>0.001247</td>\n",
       "    </tr>\n",
       "  </tbody>\n",
       "</table>\n",
       "</div>"
      ],
      "text/plain": [
       "                 0         1\n",
       "ctgr_lv2                    \n",
       "smartphone  337575  0.803060\n",
       "audio        34653  0.082436\n",
       "video        21630  0.051456\n",
       "clocks       16647  0.039602\n",
       "tablet        5599  0.013320\n",
       "telephone     3733  0.008880\n",
       "camera         524  0.001247"
      ]
     },
     "execution_count": 24,
     "metadata": {},
     "output_type": "execute_result"
    }
   ],
   "source": [
    "# 대카테고리 'electronics' 에 어떤 카테고리가 있을지 값 확인 \n",
    "pd.concat([df_na_treat.loc[df_na_treat.ctgr_lv1 ==\"electronics\",['ctgr_lv2']].value_counts(),\n",
    "          df_na_treat.loc[df_na_treat.ctgr_lv1 ==\"electronics\",['ctgr_lv2']].value_counts(normalize=True)], axis= 1)\n",
    "\n",
    "## 스마트 폰은 비율이 너무 크기 때문에 브랜드로 나눠서 분석이 가능할 것으로 판단됨.\n",
    "## 스마트 폰을 제외한 나머지를 하나의 카테고리로 묶어서 보기로 함."
   ]
  },
  {
   "cell_type": "code",
   "execution_count": 25,
   "metadata": {
    "colab": {
     "base_uri": "https://localhost:8080/",
     "height": 1000
    },
    "executionInfo": {
     "elapsed": 421,
     "status": "ok",
     "timestamp": 1660919580575,
     "user": {
      "displayName": "강현욱",
      "userId": "07194546442434465172"
     },
     "user_tz": -540
    },
    "id": "SbJHgsehDip2",
    "outputId": "3fbeacf4-505a-4280-b3ce-2ec6d3e850bc"
   },
   "outputs": [
    {
     "data": {
      "text/html": [
       "<div>\n",
       "<style scoped>\n",
       "    .dataframe tbody tr th:only-of-type {\n",
       "        vertical-align: middle;\n",
       "    }\n",
       "\n",
       "    .dataframe tbody tr th {\n",
       "        vertical-align: top;\n",
       "    }\n",
       "\n",
       "    .dataframe thead th {\n",
       "        text-align: right;\n",
       "    }\n",
       "</style>\n",
       "<table border=\"1\" class=\"dataframe\">\n",
       "  <thead>\n",
       "    <tr style=\"text-align: right;\">\n",
       "      <th></th>\n",
       "      <th>0</th>\n",
       "      <th>1</th>\n",
       "    </tr>\n",
       "    <tr>\n",
       "      <th>brand</th>\n",
       "      <th></th>\n",
       "      <th></th>\n",
       "    </tr>\n",
       "  </thead>\n",
       "  <tbody>\n",
       "    <tr>\n",
       "      <th>samsung</th>\n",
       "      <td>143123</td>\n",
       "      <td>0.423974</td>\n",
       "    </tr>\n",
       "    <tr>\n",
       "      <th>apple</th>\n",
       "      <td>115345</td>\n",
       "      <td>0.341687</td>\n",
       "    </tr>\n",
       "    <tr>\n",
       "      <th>xiaomi</th>\n",
       "      <td>38776</td>\n",
       "      <td>0.114866</td>\n",
       "    </tr>\n",
       "    <tr>\n",
       "      <th>huawei</th>\n",
       "      <td>21882</td>\n",
       "      <td>0.064821</td>\n",
       "    </tr>\n",
       "    <tr>\n",
       "      <th>oppo</th>\n",
       "      <td>10891</td>\n",
       "      <td>0.032262</td>\n",
       "    </tr>\n",
       "    <tr>\n",
       "      <th>vivo</th>\n",
       "      <td>2025</td>\n",
       "      <td>0.005999</td>\n",
       "    </tr>\n",
       "    <tr>\n",
       "      <th>meizu</th>\n",
       "      <td>1686</td>\n",
       "      <td>0.004994</td>\n",
       "    </tr>\n",
       "    <tr>\n",
       "      <th>honor</th>\n",
       "      <td>555</td>\n",
       "      <td>0.001644</td>\n",
       "    </tr>\n",
       "    <tr>\n",
       "      <th>nokia</th>\n",
       "      <td>512</td>\n",
       "      <td>0.001517</td>\n",
       "    </tr>\n",
       "    <tr>\n",
       "      <th>oneplus</th>\n",
       "      <td>509</td>\n",
       "      <td>0.001508</td>\n",
       "    </tr>\n",
       "    <tr>\n",
       "      <th>sony</th>\n",
       "      <td>494</td>\n",
       "      <td>0.001463</td>\n",
       "    </tr>\n",
       "    <tr>\n",
       "      <th>tp-link</th>\n",
       "      <td>375</td>\n",
       "      <td>0.001111</td>\n",
       "    </tr>\n",
       "    <tr>\n",
       "      <th>prestigio</th>\n",
       "      <td>287</td>\n",
       "      <td>0.000850</td>\n",
       "    </tr>\n",
       "    <tr>\n",
       "      <th>inoi</th>\n",
       "      <td>195</td>\n",
       "      <td>0.000578</td>\n",
       "    </tr>\n",
       "    <tr>\n",
       "      <th>zte</th>\n",
       "      <td>173</td>\n",
       "      <td>0.000512</td>\n",
       "    </tr>\n",
       "    <tr>\n",
       "      <th>lg</th>\n",
       "      <td>110</td>\n",
       "      <td>0.000326</td>\n",
       "    </tr>\n",
       "    <tr>\n",
       "      <th>tecno</th>\n",
       "      <td>95</td>\n",
       "      <td>0.000281</td>\n",
       "    </tr>\n",
       "    <tr>\n",
       "      <th>haier</th>\n",
       "      <td>92</td>\n",
       "      <td>0.000273</td>\n",
       "    </tr>\n",
       "    <tr>\n",
       "      <th>bq</th>\n",
       "      <td>92</td>\n",
       "      <td>0.000273</td>\n",
       "    </tr>\n",
       "    <tr>\n",
       "      <th>doogee</th>\n",
       "      <td>89</td>\n",
       "      <td>0.000264</td>\n",
       "    </tr>\n",
       "    <tr>\n",
       "      <th>fly</th>\n",
       "      <td>46</td>\n",
       "      <td>0.000136</td>\n",
       "    </tr>\n",
       "    <tr>\n",
       "      <th>jinga</th>\n",
       "      <td>43</td>\n",
       "      <td>0.000127</td>\n",
       "    </tr>\n",
       "    <tr>\n",
       "      <th>htc</th>\n",
       "      <td>43</td>\n",
       "      <td>0.000127</td>\n",
       "    </tr>\n",
       "    <tr>\n",
       "      <th>gionee</th>\n",
       "      <td>33</td>\n",
       "      <td>0.000098</td>\n",
       "    </tr>\n",
       "    <tr>\n",
       "      <th>umi</th>\n",
       "      <td>27</td>\n",
       "      <td>0.000080</td>\n",
       "    </tr>\n",
       "    <tr>\n",
       "      <th>google</th>\n",
       "      <td>27</td>\n",
       "      <td>0.000080</td>\n",
       "    </tr>\n",
       "    <tr>\n",
       "      <th>texet</th>\n",
       "      <td>16</td>\n",
       "      <td>0.000047</td>\n",
       "    </tr>\n",
       "    <tr>\n",
       "      <th>asus</th>\n",
       "      <td>12</td>\n",
       "      <td>0.000036</td>\n",
       "    </tr>\n",
       "    <tr>\n",
       "      <th>blackberry</th>\n",
       "      <td>8</td>\n",
       "      <td>0.000024</td>\n",
       "    </tr>\n",
       "    <tr>\n",
       "      <th>irbis</th>\n",
       "      <td>7</td>\n",
       "      <td>0.000021</td>\n",
       "    </tr>\n",
       "    <tr>\n",
       "      <th>nubia</th>\n",
       "      <td>5</td>\n",
       "      <td>0.000015</td>\n",
       "    </tr>\n",
       "    <tr>\n",
       "      <th>philips</th>\n",
       "      <td>1</td>\n",
       "      <td>0.000003</td>\n",
       "    </tr>\n",
       "    <tr>\n",
       "      <th>micromax</th>\n",
       "      <td>1</td>\n",
       "      <td>0.000003</td>\n",
       "    </tr>\n",
       "  </tbody>\n",
       "</table>\n",
       "</div>"
      ],
      "text/plain": [
       "                 0         1\n",
       "brand                       \n",
       "samsung     143123  0.423974\n",
       "apple       115345  0.341687\n",
       "xiaomi       38776  0.114866\n",
       "huawei       21882  0.064821\n",
       "oppo         10891  0.032262\n",
       "vivo          2025  0.005999\n",
       "meizu         1686  0.004994\n",
       "honor          555  0.001644\n",
       "nokia          512  0.001517\n",
       "oneplus        509  0.001508\n",
       "sony           494  0.001463\n",
       "tp-link        375  0.001111\n",
       "prestigio      287  0.000850\n",
       "inoi           195  0.000578\n",
       "zte            173  0.000512\n",
       "lg             110  0.000326\n",
       "tecno           95  0.000281\n",
       "haier           92  0.000273\n",
       "bq              92  0.000273\n",
       "doogee          89  0.000264\n",
       "fly             46  0.000136\n",
       "jinga           43  0.000127\n",
       "htc             43  0.000127\n",
       "gionee          33  0.000098\n",
       "umi             27  0.000080\n",
       "google          27  0.000080\n",
       "texet           16  0.000047\n",
       "asus            12  0.000036\n",
       "blackberry       8  0.000024\n",
       "irbis            7  0.000021\n",
       "nubia            5  0.000015\n",
       "philips          1  0.000003\n",
       "micromax         1  0.000003"
      ]
     },
     "execution_count": 25,
     "metadata": {},
     "output_type": "execute_result"
    }
   ],
   "source": [
    "# 대카테고리 'electronics.smartphone' 값 확인 \n",
    "pd.concat([df_na_treat.loc[(df_na_treat.ctgr_lv1 ==\"electronics\")&(df_na_treat.ctgr_lv2 ==\"smartphone\") ,['brand']].value_counts(), \n",
    "df_na_treat.loc[(df_na_treat.ctgr_lv1 ==\"electronics\")&(df_na_treat.ctgr_lv2 ==\"smartphone\") ,['brand']].value_counts(normalize=True)], axis = 1)\n",
    "\n",
    "## 전자제품의 스마트폰  카테고리는 비율이 크기 때문에 brand 단위로 봐도 일정 비율이 나올것 같음.\n",
    "## 스마트폰 브랜드를 본결과 삼성,애플,기타 안드로이드폰으로 분류 (4:3:2로 나눔)"
   ]
  },
  {
   "cell_type": "code",
   "execution_count": 26,
   "metadata": {
    "colab": {
     "base_uri": "https://localhost:8080/",
     "height": 269
    },
    "executionInfo": {
     "elapsed": 459,
     "status": "ok",
     "timestamp": 1660919581032,
     "user": {
      "displayName": "강현욱",
      "userId": "07194546442434465172"
     },
     "user_tz": -540
    },
    "id": "mGSbqM6FDDfc",
    "outputId": "9c5ce0d0-fb5e-41ce-f072-1e480dc4dfea"
   },
   "outputs": [
    {
     "data": {
      "text/html": [
       "<div>\n",
       "<style scoped>\n",
       "    .dataframe tbody tr th:only-of-type {\n",
       "        vertical-align: middle;\n",
       "    }\n",
       "\n",
       "    .dataframe tbody tr th {\n",
       "        vertical-align: top;\n",
       "    }\n",
       "\n",
       "    .dataframe thead th {\n",
       "        text-align: right;\n",
       "    }\n",
       "</style>\n",
       "<table border=\"1\" class=\"dataframe\">\n",
       "  <thead>\n",
       "    <tr style=\"text-align: right;\">\n",
       "      <th></th>\n",
       "      <th>0</th>\n",
       "      <th>1</th>\n",
       "    </tr>\n",
       "    <tr>\n",
       "      <th>ctgr_lv2</th>\n",
       "      <th></th>\n",
       "      <th></th>\n",
       "    </tr>\n",
       "  </thead>\n",
       "  <tbody>\n",
       "    <tr>\n",
       "      <th>kitchen</th>\n",
       "      <td>45057</td>\n",
       "      <td>0.632548</td>\n",
       "    </tr>\n",
       "    <tr>\n",
       "      <th>environment</th>\n",
       "      <td>17437</td>\n",
       "      <td>0.244795</td>\n",
       "    </tr>\n",
       "    <tr>\n",
       "      <th>iron</th>\n",
       "      <td>3647</td>\n",
       "      <td>0.051200</td>\n",
       "    </tr>\n",
       "    <tr>\n",
       "      <th>personal</th>\n",
       "      <td>2493</td>\n",
       "      <td>0.034999</td>\n",
       "    </tr>\n",
       "    <tr>\n",
       "      <th>sewing_machine</th>\n",
       "      <td>1939</td>\n",
       "      <td>0.027221</td>\n",
       "    </tr>\n",
       "    <tr>\n",
       "      <th>ironing_board</th>\n",
       "      <td>658</td>\n",
       "      <td>0.009238</td>\n",
       "    </tr>\n",
       "  </tbody>\n",
       "</table>\n",
       "</div>"
      ],
      "text/plain": [
       "                    0         1\n",
       "ctgr_lv2                       \n",
       "kitchen         45057  0.632548\n",
       "environment     17437  0.244795\n",
       "iron             3647  0.051200\n",
       "personal         2493  0.034999\n",
       "sewing_machine   1939  0.027221\n",
       "ironing_board     658  0.009238"
      ]
     },
     "execution_count": 26,
     "metadata": {},
     "output_type": "execute_result"
    }
   ],
   "source": [
    "# 대카테고리 'appliances' 값 확인 \n",
    "pd.concat([df_na_treat.loc[df_na_treat.ctgr_lv1 ==\"appliances\",['ctgr_lv2']].value_counts(),\n",
    "          df_na_treat.loc[df_na_treat.ctgr_lv1 ==\"appliances\",['ctgr_lv2']].value_counts(normalize=True)], axis= 1)\n",
    "## appliances 는 중카테고리의 수가 작아(12%) appliances 단일로 분석하는것이 좋을것으로 판단됨"
   ]
  },
  {
   "cell_type": "markdown",
   "metadata": {
    "id": "MsAzPIqZrG3c"
   },
   "source": [
    "### 4.3 트랜잭션 단위 데이터 -> 유저단위 데이터로  변경 (각 row 별 다른 유저 정보로 )"
   ]
  },
  {
   "cell_type": "code",
   "execution_count": 27,
   "metadata": {
    "id": "gDpOgrydGkgx"
   },
   "outputs": [
    {
     "data": {
      "text/html": [
       "<div>\n",
       "<style scoped>\n",
       "    .dataframe tbody tr th:only-of-type {\n",
       "        vertical-align: middle;\n",
       "    }\n",
       "\n",
       "    .dataframe tbody tr th {\n",
       "        vertical-align: top;\n",
       "    }\n",
       "\n",
       "    .dataframe thead th {\n",
       "        text-align: right;\n",
       "    }\n",
       "</style>\n",
       "<table border=\"1\" class=\"dataframe\">\n",
       "  <thead>\n",
       "    <tr style=\"text-align: right;\">\n",
       "      <th></th>\n",
       "      <th>pur_cnt</th>\n",
       "      <th>cash_sum</th>\n",
       "    </tr>\n",
       "    <tr>\n",
       "      <th>user_id</th>\n",
       "      <th></th>\n",
       "      <th></th>\n",
       "    </tr>\n",
       "  </thead>\n",
       "  <tbody>\n",
       "    <tr>\n",
       "      <th>303160429</th>\n",
       "      <td>1</td>\n",
       "      <td>340.59</td>\n",
       "    </tr>\n",
       "    <tr>\n",
       "      <th>340041246</th>\n",
       "      <td>1</td>\n",
       "      <td>339.70</td>\n",
       "    </tr>\n",
       "    <tr>\n",
       "      <th>384989212</th>\n",
       "      <td>1</td>\n",
       "      <td>41.44</td>\n",
       "    </tr>\n",
       "    <tr>\n",
       "      <th>401021311</th>\n",
       "      <td>1</td>\n",
       "      <td>231.64</td>\n",
       "    </tr>\n",
       "    <tr>\n",
       "      <th>403013066</th>\n",
       "      <td>2</td>\n",
       "      <td>807.16</td>\n",
       "    </tr>\n",
       "    <tr>\n",
       "      <th>...</th>\n",
       "      <td>...</td>\n",
       "      <td>...</td>\n",
       "    </tr>\n",
       "    <tr>\n",
       "      <th>566265448</th>\n",
       "      <td>1</td>\n",
       "      <td>592.01</td>\n",
       "    </tr>\n",
       "    <tr>\n",
       "      <th>566267483</th>\n",
       "      <td>2</td>\n",
       "      <td>30.74</td>\n",
       "    </tr>\n",
       "    <tr>\n",
       "      <th>566270060</th>\n",
       "      <td>2</td>\n",
       "      <td>147.42</td>\n",
       "    </tr>\n",
       "    <tr>\n",
       "      <th>566274637</th>\n",
       "      <td>1</td>\n",
       "      <td>2011.63</td>\n",
       "    </tr>\n",
       "    <tr>\n",
       "      <th>566278294</th>\n",
       "      <td>1</td>\n",
       "      <td>1661.09</td>\n",
       "    </tr>\n",
       "  </tbody>\n",
       "</table>\n",
       "<p>263445 rows × 2 columns</p>\n",
       "</div>"
      ],
      "text/plain": [
       "           pur_cnt  cash_sum\n",
       "user_id                     \n",
       "303160429        1    340.59\n",
       "340041246        1    339.70\n",
       "384989212        1     41.44\n",
       "401021311        1    231.64\n",
       "403013066        2    807.16\n",
       "...            ...       ...\n",
       "566265448        1    592.01\n",
       "566267483        2     30.74\n",
       "566270060        2    147.42\n",
       "566274637        1   2011.63\n",
       "566278294        1   1661.09\n",
       "\n",
       "[263445 rows x 2 columns]"
      ]
     },
     "execution_count": 27,
     "metadata": {},
     "output_type": "execute_result"
    }
   ],
   "source": [
    "# 유저별 구매 카운트 확인, 전략 카테고리 생성 \n",
    "user_by_ctgr_cnt = df_na_treat.groupby('user_id').agg(\n",
    "    pur_cnt = ('event_time', 'count')\n",
    "   , cash_sum = ('price', 'sum')\n",
    ")\n",
    "user_by_ctgr_cnt"
   ]
  },
  {
   "cell_type": "code",
   "execution_count": 28,
   "metadata": {
    "id": "4FbAzma-_0fL"
   },
   "outputs": [],
   "source": [
    "# 유저별 전략 카테고리 값 요약 \n",
    "# smartphone = (카테고리1 = electronics & 카테고리2 = smartphone & brand = 삼성, 애플, 기타 )\n",
    "# appliceancs = appliances \n",
    "# ect  = 카테고리가 electronics 도 아니고, appliances 도 아닌 나머지 \n",
    "smartphone_samsung =  df_na_treat[(df_na_treat.ctgr_lv1 == 'electronics') & (df_na_treat.ctgr_lv2 == 'smartphone') & (df_na_treat.brand == 'samsung')].groupby('user_id')['brand'].count()\n",
    "smartphone_apple =  df_na_treat[(df_na_treat.ctgr_lv1 == 'electronics') & (df_na_treat.ctgr_lv2 == 'smartphone') & (df_na_treat.brand == 'apple')].groupby('user_id')['brand'].count()\n",
    "smartphone_ect =  df_na_treat[(df_na_treat.ctgr_lv1 == 'electronics') & (df_na_treat.ctgr_lv2 == 'smartphone') & ~(df_na_treat.brand == 'samsung') & ~(df_na_treat.brand == 'apple')].groupby('user_id')['brand'].count()\n",
    "electronics = df_na_treat[(df_na_treat.ctgr_lv1 == 'electronics') & ~(df_na_treat.ctgr_lv2 == 'smartphone')].groupby('user_id')['brand'].count()\n",
    "appliances = df_na_treat[(df_na_treat.ctgr_lv1 == 'appliances')].groupby('user_id')['brand'].count()\n",
    "ect = df_na_treat[~((df_na_treat.ctgr_lv1 == 'electronics') | (df_na_treat.ctgr_lv1 == 'appliances'))].groupby('user_id')['brand'].count()"
   ]
  },
  {
   "cell_type": "code",
   "execution_count": 29,
   "metadata": {
    "colab": {
     "base_uri": "https://localhost:8080/"
    },
    "executionInfo": {
     "elapsed": 329,
     "status": "ok",
     "timestamp": 1660980816811,
     "user": {
      "displayName": "강현욱",
      "userId": "07194546442434465172"
     },
     "user_tz": -540
    },
    "id": "QhauW3u8K4Jy",
    "outputId": "345d1f4b-6fbd-4285-e288-800849f4dcae"
   },
   "outputs": [
    {
     "data": {
      "text/plain": [
       "user_id\n",
       "403013066    1\n",
       "410333972    1\n",
       "444316141    1\n",
       "451868425    1\n",
       "453908841    1\n",
       "Name: brand, dtype: int64"
      ]
     },
     "execution_count": 29,
     "metadata": {},
     "output_type": "execute_result"
    }
   ],
   "source": [
    "smartphone_apple.head() # 시리즈 형태"
   ]
  },
  {
   "cell_type": "code",
   "execution_count": 30,
   "metadata": {
    "id": "_uOPEFgoNf5K"
   },
   "outputs": [],
   "source": [
    "# series 를 data frame 변경 및 카테고리 명 변경 \n",
    "\n",
    "smartphone_samsung = smartphone_samsung.to_frame().reset_index().rename(columns = {'brand':'smartphone_samsung'})\n",
    "smartphone_apple = smartphone_apple.to_frame().reset_index().rename(columns = {'brand': 'smartphone_apple'})\n",
    "smartphone_ect = smartphone_ect.to_frame().reset_index().rename(columns = {'brand' : 'smartphone_ect'})\n",
    "electronics = electronics.to_frame().reset_index().rename(columns = {'brand': 'electronics'})\n",
    "appliances = appliances.to_frame().reset_index().rename(columns ={'brand' : 'appliances'})\n",
    "ect = ect.to_frame().reset_index().rename(columns = {'brand' :'etc'})\n"
   ]
  },
  {
   "cell_type": "code",
   "execution_count": 31,
   "metadata": {},
   "outputs": [
    {
     "data": {
      "text/html": [
       "<div>\n",
       "<style scoped>\n",
       "    .dataframe tbody tr th:only-of-type {\n",
       "        vertical-align: middle;\n",
       "    }\n",
       "\n",
       "    .dataframe tbody tr th {\n",
       "        vertical-align: top;\n",
       "    }\n",
       "\n",
       "    .dataframe thead th {\n",
       "        text-align: right;\n",
       "    }\n",
       "</style>\n",
       "<table border=\"1\" class=\"dataframe\">\n",
       "  <thead>\n",
       "    <tr style=\"text-align: right;\">\n",
       "      <th></th>\n",
       "      <th>user_id</th>\n",
       "      <th>smartphone_samsung</th>\n",
       "    </tr>\n",
       "  </thead>\n",
       "  <tbody>\n",
       "    <tr>\n",
       "      <th>0</th>\n",
       "      <td>403013066</td>\n",
       "      <td>1</td>\n",
       "    </tr>\n",
       "    <tr>\n",
       "      <th>1</th>\n",
       "      <td>415873351</td>\n",
       "      <td>2</td>\n",
       "    </tr>\n",
       "    <tr>\n",
       "      <th>2</th>\n",
       "      <td>424869855</td>\n",
       "      <td>1</td>\n",
       "    </tr>\n",
       "    <tr>\n",
       "      <th>3</th>\n",
       "      <td>427391662</td>\n",
       "      <td>1</td>\n",
       "    </tr>\n",
       "    <tr>\n",
       "      <th>4</th>\n",
       "      <td>430524990</td>\n",
       "      <td>1</td>\n",
       "    </tr>\n",
       "    <tr>\n",
       "      <th>...</th>\n",
       "      <td>...</td>\n",
       "      <td>...</td>\n",
       "    </tr>\n",
       "    <tr>\n",
       "      <th>76519</th>\n",
       "      <td>566254545</td>\n",
       "      <td>1</td>\n",
       "    </tr>\n",
       "    <tr>\n",
       "      <th>76520</th>\n",
       "      <td>566256165</td>\n",
       "      <td>1</td>\n",
       "    </tr>\n",
       "    <tr>\n",
       "      <th>76521</th>\n",
       "      <td>566258816</td>\n",
       "      <td>1</td>\n",
       "    </tr>\n",
       "    <tr>\n",
       "      <th>76522</th>\n",
       "      <td>566263549</td>\n",
       "      <td>1</td>\n",
       "    </tr>\n",
       "    <tr>\n",
       "      <th>76523</th>\n",
       "      <td>566270060</td>\n",
       "      <td>1</td>\n",
       "    </tr>\n",
       "  </tbody>\n",
       "</table>\n",
       "<p>76524 rows × 2 columns</p>\n",
       "</div>"
      ],
      "text/plain": [
       "         user_id  smartphone_samsung\n",
       "0      403013066                   1\n",
       "1      415873351                   2\n",
       "2      424869855                   1\n",
       "3      427391662                   1\n",
       "4      430524990                   1\n",
       "...          ...                 ...\n",
       "76519  566254545                   1\n",
       "76520  566256165                   1\n",
       "76521  566258816                   1\n",
       "76522  566263549                   1\n",
       "76523  566270060                   1\n",
       "\n",
       "[76524 rows x 2 columns]"
      ]
     },
     "execution_count": 31,
     "metadata": {},
     "output_type": "execute_result"
    }
   ],
   "source": [
    "smartphone_samsung #예시"
   ]
  },
  {
   "cell_type": "code",
   "execution_count": 32,
   "metadata": {
    "colab": {
     "base_uri": "https://localhost:8080/",
     "height": 206
    },
    "executionInfo": {
     "elapsed": 783,
     "status": "ok",
     "timestamp": 1660980865877,
     "user": {
      "displayName": "강현욱",
      "userId": "07194546442434465172"
     },
     "user_tz": -540
    },
    "id": "Y0dbsLhfFyJA",
    "outputId": "76d85501-8fab-473c-9a13-b33ba2ad3879"
   },
   "outputs": [
    {
     "data": {
      "text/html": [
       "<div>\n",
       "<style scoped>\n",
       "    .dataframe tbody tr th:only-of-type {\n",
       "        vertical-align: middle;\n",
       "    }\n",
       "\n",
       "    .dataframe tbody tr th {\n",
       "        vertical-align: top;\n",
       "    }\n",
       "\n",
       "    .dataframe thead th {\n",
       "        text-align: right;\n",
       "    }\n",
       "</style>\n",
       "<table border=\"1\" class=\"dataframe\">\n",
       "  <thead>\n",
       "    <tr style=\"text-align: right;\">\n",
       "      <th></th>\n",
       "      <th>user_id</th>\n",
       "      <th>pur_cnt</th>\n",
       "      <th>cash_sum</th>\n",
       "      <th>smartphone_samsung</th>\n",
       "      <th>smartphone_apple</th>\n",
       "      <th>smartphone_ect</th>\n",
       "      <th>electronics</th>\n",
       "      <th>appliances</th>\n",
       "      <th>etc</th>\n",
       "    </tr>\n",
       "  </thead>\n",
       "  <tbody>\n",
       "    <tr>\n",
       "      <th>0</th>\n",
       "      <td>303160429</td>\n",
       "      <td>1</td>\n",
       "      <td>340.59</td>\n",
       "      <td>0.0</td>\n",
       "      <td>0.0</td>\n",
       "      <td>0.0</td>\n",
       "      <td>1.0</td>\n",
       "      <td>0.0</td>\n",
       "      <td>0.0</td>\n",
       "    </tr>\n",
       "    <tr>\n",
       "      <th>1</th>\n",
       "      <td>340041246</td>\n",
       "      <td>1</td>\n",
       "      <td>339.70</td>\n",
       "      <td>0.0</td>\n",
       "      <td>0.0</td>\n",
       "      <td>0.0</td>\n",
       "      <td>1.0</td>\n",
       "      <td>0.0</td>\n",
       "      <td>0.0</td>\n",
       "    </tr>\n",
       "    <tr>\n",
       "      <th>2</th>\n",
       "      <td>384989212</td>\n",
       "      <td>1</td>\n",
       "      <td>41.44</td>\n",
       "      <td>0.0</td>\n",
       "      <td>0.0</td>\n",
       "      <td>0.0</td>\n",
       "      <td>0.0</td>\n",
       "      <td>1.0</td>\n",
       "      <td>0.0</td>\n",
       "    </tr>\n",
       "    <tr>\n",
       "      <th>3</th>\n",
       "      <td>401021311</td>\n",
       "      <td>1</td>\n",
       "      <td>231.64</td>\n",
       "      <td>0.0</td>\n",
       "      <td>0.0</td>\n",
       "      <td>0.0</td>\n",
       "      <td>1.0</td>\n",
       "      <td>0.0</td>\n",
       "      <td>0.0</td>\n",
       "    </tr>\n",
       "    <tr>\n",
       "      <th>4</th>\n",
       "      <td>403013066</td>\n",
       "      <td>2</td>\n",
       "      <td>807.16</td>\n",
       "      <td>1.0</td>\n",
       "      <td>1.0</td>\n",
       "      <td>0.0</td>\n",
       "      <td>0.0</td>\n",
       "      <td>0.0</td>\n",
       "      <td>0.0</td>\n",
       "    </tr>\n",
       "  </tbody>\n",
       "</table>\n",
       "</div>"
      ],
      "text/plain": [
       "     user_id  pur_cnt  cash_sum  smartphone_samsung  smartphone_apple  \\\n",
       "0  303160429        1    340.59                 0.0               0.0   \n",
       "1  340041246        1    339.70                 0.0               0.0   \n",
       "2  384989212        1     41.44                 0.0               0.0   \n",
       "3  401021311        1    231.64                 0.0               0.0   \n",
       "4  403013066        2    807.16                 1.0               1.0   \n",
       "\n",
       "   smartphone_ect  electronics  appliances  etc  \n",
       "0             0.0          1.0         0.0  0.0  \n",
       "1             0.0          1.0         0.0  0.0  \n",
       "2             0.0          0.0         1.0  0.0  \n",
       "3             0.0          1.0         0.0  0.0  \n",
       "4             0.0          0.0         0.0  0.0  "
      ]
     },
     "execution_count": 32,
     "metadata": {},
     "output_type": "execute_result"
    }
   ],
   "source": [
    "# 데이터 통합 \n",
    "user_by_ctgr_cnt = pd.merge(user_by_ctgr_cnt,smartphone_samsung, how ='left', on = 'user_id' )\n",
    "user_by_ctgr_cnt = pd.merge(user_by_ctgr_cnt,smartphone_apple, how ='left', on = 'user_id' )\n",
    "user_by_ctgr_cnt = pd.merge(user_by_ctgr_cnt,smartphone_ect, how ='left', on = 'user_id' )\n",
    "user_by_ctgr_cnt = pd.merge(user_by_ctgr_cnt,electronics, how ='left', on = 'user_id' )\n",
    "user_by_ctgr_cnt = pd.merge(user_by_ctgr_cnt,appliances, how ='left', on = 'user_id' )\n",
    "user_by_ctgr_cnt = pd.merge(user_by_ctgr_cnt,ect, how ='left', on = 'user_id' )\n",
    "user_by_ctgr_cnt.fillna(0,inplace= True)\n",
    "user_by_ctgr_cnt.head()"
   ]
  },
  {
   "cell_type": "markdown",
   "metadata": {
    "id": "cNshO9Vu7FlD"
   },
   "source": []
  },
  {
   "cell_type": "markdown",
   "metadata": {
    "id": "9yBZ0T4ZRAL3"
   },
   "source": [
    "### 4.4 이상치 확인 "
   ]
  },
  {
   "cell_type": "code",
   "execution_count": 33,
   "metadata": {
    "colab": {
     "base_uri": "https://localhost:8080/",
     "height": 300
    },
    "executionInfo": {
     "elapsed": 681,
     "status": "ok",
     "timestamp": 1660919583374,
     "user": {
      "displayName": "강현욱",
      "userId": "07194546442434465172"
     },
     "user_tz": -540
    },
    "id": "z3hTQkGVU-FZ",
    "outputId": "5a9362a3-06c8-4297-a224-66f9ccb8a5d9"
   },
   "outputs": [
    {
     "data": {
      "text/html": [
       "<div>\n",
       "<style scoped>\n",
       "    .dataframe tbody tr th:only-of-type {\n",
       "        vertical-align: middle;\n",
       "    }\n",
       "\n",
       "    .dataframe tbody tr th {\n",
       "        vertical-align: top;\n",
       "    }\n",
       "\n",
       "    .dataframe thead th {\n",
       "        text-align: right;\n",
       "    }\n",
       "</style>\n",
       "<table border=\"1\" class=\"dataframe\">\n",
       "  <thead>\n",
       "    <tr style=\"text-align: right;\">\n",
       "      <th></th>\n",
       "      <th>user_id</th>\n",
       "      <th>pur_cnt</th>\n",
       "      <th>cash_sum</th>\n",
       "      <th>smartphone_samsung</th>\n",
       "      <th>smartphone_apple</th>\n",
       "      <th>smartphone_ect</th>\n",
       "      <th>electronics</th>\n",
       "      <th>appliances</th>\n",
       "      <th>etc</th>\n",
       "    </tr>\n",
       "  </thead>\n",
       "  <tbody>\n",
       "    <tr>\n",
       "      <th>count</th>\n",
       "      <td>2.634450e+05</td>\n",
       "      <td>263445.000000</td>\n",
       "      <td>263445.000000</td>\n",
       "      <td>263445.000000</td>\n",
       "      <td>263445.000000</td>\n",
       "      <td>263445.000000</td>\n",
       "      <td>263445.000000</td>\n",
       "      <td>263445.000000</td>\n",
       "      <td>263445.000000</td>\n",
       "    </tr>\n",
       "    <tr>\n",
       "      <th>mean</th>\n",
       "      <td>5.366641e+08</td>\n",
       "      <td>2.085851</td>\n",
       "      <td>773.853133</td>\n",
       "      <td>0.543275</td>\n",
       "      <td>0.437833</td>\n",
       "      <td>0.300279</td>\n",
       "      <td>0.314244</td>\n",
       "      <td>0.270383</td>\n",
       "      <td>0.219837</td>\n",
       "    </tr>\n",
       "    <tr>\n",
       "      <th>std</th>\n",
       "      <td>1.855121e+07</td>\n",
       "      <td>3.618213</td>\n",
       "      <td>2291.897206</td>\n",
       "      <td>1.889915</td>\n",
       "      <td>1.894715</td>\n",
       "      <td>1.178621</td>\n",
       "      <td>1.298420</td>\n",
       "      <td>0.914654</td>\n",
       "      <td>0.914932</td>\n",
       "    </tr>\n",
       "    <tr>\n",
       "      <th>min</th>\n",
       "      <td>3.031604e+08</td>\n",
       "      <td>1.000000</td>\n",
       "      <td>0.880000</td>\n",
       "      <td>0.000000</td>\n",
       "      <td>0.000000</td>\n",
       "      <td>0.000000</td>\n",
       "      <td>0.000000</td>\n",
       "      <td>0.000000</td>\n",
       "      <td>0.000000</td>\n",
       "    </tr>\n",
       "    <tr>\n",
       "      <th>25%</th>\n",
       "      <td>5.175192e+08</td>\n",
       "      <td>1.000000</td>\n",
       "      <td>145.430000</td>\n",
       "      <td>0.000000</td>\n",
       "      <td>0.000000</td>\n",
       "      <td>0.000000</td>\n",
       "      <td>0.000000</td>\n",
       "      <td>0.000000</td>\n",
       "      <td>0.000000</td>\n",
       "    </tr>\n",
       "    <tr>\n",
       "      <th>50%</th>\n",
       "      <td>5.365856e+08</td>\n",
       "      <td>1.000000</td>\n",
       "      <td>287.970000</td>\n",
       "      <td>0.000000</td>\n",
       "      <td>0.000000</td>\n",
       "      <td>0.000000</td>\n",
       "      <td>0.000000</td>\n",
       "      <td>0.000000</td>\n",
       "      <td>0.000000</td>\n",
       "    </tr>\n",
       "    <tr>\n",
       "      <th>75%</th>\n",
       "      <td>5.555559e+08</td>\n",
       "      <td>2.000000</td>\n",
       "      <td>738.740000</td>\n",
       "      <td>1.000000</td>\n",
       "      <td>0.000000</td>\n",
       "      <td>0.000000</td>\n",
       "      <td>0.000000</td>\n",
       "      <td>0.000000</td>\n",
       "      <td>0.000000</td>\n",
       "    </tr>\n",
       "    <tr>\n",
       "      <th>max</th>\n",
       "      <td>5.662783e+08</td>\n",
       "      <td>322.000000</td>\n",
       "      <td>265569.520000</td>\n",
       "      <td>192.000000</td>\n",
       "      <td>183.000000</td>\n",
       "      <td>154.000000</td>\n",
       "      <td>272.000000</td>\n",
       "      <td>71.000000</td>\n",
       "      <td>65.000000</td>\n",
       "    </tr>\n",
       "  </tbody>\n",
       "</table>\n",
       "</div>"
      ],
      "text/plain": [
       "            user_id        pur_cnt       cash_sum  smartphone_samsung  \\\n",
       "count  2.634450e+05  263445.000000  263445.000000       263445.000000   \n",
       "mean   5.366641e+08       2.085851     773.853133            0.543275   \n",
       "std    1.855121e+07       3.618213    2291.897206            1.889915   \n",
       "min    3.031604e+08       1.000000       0.880000            0.000000   \n",
       "25%    5.175192e+08       1.000000     145.430000            0.000000   \n",
       "50%    5.365856e+08       1.000000     287.970000            0.000000   \n",
       "75%    5.555559e+08       2.000000     738.740000            1.000000   \n",
       "max    5.662783e+08     322.000000  265569.520000          192.000000   \n",
       "\n",
       "       smartphone_apple  smartphone_ect    electronics     appliances  \\\n",
       "count     263445.000000   263445.000000  263445.000000  263445.000000   \n",
       "mean           0.437833        0.300279       0.314244       0.270383   \n",
       "std            1.894715        1.178621       1.298420       0.914654   \n",
       "min            0.000000        0.000000       0.000000       0.000000   \n",
       "25%            0.000000        0.000000       0.000000       0.000000   \n",
       "50%            0.000000        0.000000       0.000000       0.000000   \n",
       "75%            0.000000        0.000000       0.000000       0.000000   \n",
       "max          183.000000      154.000000     272.000000      71.000000   \n",
       "\n",
       "                 etc  \n",
       "count  263445.000000  \n",
       "mean        0.219837  \n",
       "std         0.914932  \n",
       "min         0.000000  \n",
       "25%         0.000000  \n",
       "50%         0.000000  \n",
       "75%         0.000000  \n",
       "max        65.000000  "
      ]
     },
     "execution_count": 33,
     "metadata": {},
     "output_type": "execute_result"
    }
   ],
   "source": [
    "# 연속형 변수 분포 확인 \n",
    "user_by_ctgr_cnt.describe()\n",
    "\n",
    "## max 값에 극단값이 있는것이 보임"
   ]
  },
  {
   "cell_type": "code",
   "execution_count": 34,
   "metadata": {
    "colab": {
     "base_uri": "https://localhost:8080/",
     "height": 1000
    },
    "executionInfo": {
     "elapsed": 21,
     "status": "ok",
     "timestamp": 1660919583374,
     "user": {
      "displayName": "강현욱",
      "userId": "07194546442434465172"
     },
     "user_tz": -540
    },
    "id": "BHQgnlKscK5f",
    "outputId": "5e7ce6ed-f672-48ca-b769-70e9d01103c4"
   },
   "outputs": [
    {
     "data": {
      "text/html": [
       "<div>\n",
       "<style scoped>\n",
       "    .dataframe tbody tr th:only-of-type {\n",
       "        vertical-align: middle;\n",
       "    }\n",
       "\n",
       "    .dataframe tbody tr th {\n",
       "        vertical-align: top;\n",
       "    }\n",
       "\n",
       "    .dataframe thead th {\n",
       "        text-align: right;\n",
       "    }\n",
       "</style>\n",
       "<table border=\"1\" class=\"dataframe\">\n",
       "  <thead>\n",
       "    <tr style=\"text-align: right;\">\n",
       "      <th></th>\n",
       "      <th>user_id</th>\n",
       "      <th>pur_cnt</th>\n",
       "      <th>cash_sum</th>\n",
       "      <th>smartphone_samsung</th>\n",
       "      <th>smartphone_apple</th>\n",
       "      <th>smartphone_ect</th>\n",
       "      <th>electronics</th>\n",
       "      <th>appliances</th>\n",
       "      <th>etc</th>\n",
       "    </tr>\n",
       "  </thead>\n",
       "  <tbody>\n",
       "    <tr>\n",
       "      <th>893</th>\n",
       "      <td>512386086</td>\n",
       "      <td>322</td>\n",
       "      <td>182470.80</td>\n",
       "      <td>105.0</td>\n",
       "      <td>67.0</td>\n",
       "      <td>1.0</td>\n",
       "      <td>87.0</td>\n",
       "      <td>61.0</td>\n",
       "      <td>1.0</td>\n",
       "    </tr>\n",
       "    <tr>\n",
       "      <th>3896</th>\n",
       "      <td>512511358</td>\n",
       "      <td>110</td>\n",
       "      <td>91994.91</td>\n",
       "      <td>0.0</td>\n",
       "      <td>106.0</td>\n",
       "      <td>0.0</td>\n",
       "      <td>0.0</td>\n",
       "      <td>2.0</td>\n",
       "      <td>2.0</td>\n",
       "    </tr>\n",
       "    <tr>\n",
       "      <th>15991</th>\n",
       "      <td>513117637</td>\n",
       "      <td>183</td>\n",
       "      <td>244282.74</td>\n",
       "      <td>0.0</td>\n",
       "      <td>183.0</td>\n",
       "      <td>0.0</td>\n",
       "      <td>0.0</td>\n",
       "      <td>0.0</td>\n",
       "      <td>0.0</td>\n",
       "    </tr>\n",
       "    <tr>\n",
       "      <th>19608</th>\n",
       "      <td>513320236</td>\n",
       "      <td>242</td>\n",
       "      <td>94568.05</td>\n",
       "      <td>135.0</td>\n",
       "      <td>36.0</td>\n",
       "      <td>0.0</td>\n",
       "      <td>68.0</td>\n",
       "      <td>3.0</td>\n",
       "      <td>0.0</td>\n",
       "    </tr>\n",
       "    <tr>\n",
       "      <th>19654</th>\n",
       "      <td>513322839</td>\n",
       "      <td>146</td>\n",
       "      <td>40752.12</td>\n",
       "      <td>101.0</td>\n",
       "      <td>0.0</td>\n",
       "      <td>4.0</td>\n",
       "      <td>6.0</td>\n",
       "      <td>13.0</td>\n",
       "      <td>22.0</td>\n",
       "    </tr>\n",
       "    <tr>\n",
       "      <th>26706</th>\n",
       "      <td>513784794</td>\n",
       "      <td>126</td>\n",
       "      <td>143821.03</td>\n",
       "      <td>0.0</td>\n",
       "      <td>4.0</td>\n",
       "      <td>0.0</td>\n",
       "      <td>118.0</td>\n",
       "      <td>0.0</td>\n",
       "      <td>4.0</td>\n",
       "    </tr>\n",
       "    <tr>\n",
       "      <th>46995</th>\n",
       "      <td>515384420</td>\n",
       "      <td>122</td>\n",
       "      <td>210749.77</td>\n",
       "      <td>0.0</td>\n",
       "      <td>122.0</td>\n",
       "      <td>0.0</td>\n",
       "      <td>0.0</td>\n",
       "      <td>0.0</td>\n",
       "      <td>0.0</td>\n",
       "    </tr>\n",
       "    <tr>\n",
       "      <th>55778</th>\n",
       "      <td>516214275</td>\n",
       "      <td>113</td>\n",
       "      <td>11263.07</td>\n",
       "      <td>101.0</td>\n",
       "      <td>0.0</td>\n",
       "      <td>12.0</td>\n",
       "      <td>0.0</td>\n",
       "      <td>0.0</td>\n",
       "      <td>0.0</td>\n",
       "    </tr>\n",
       "    <tr>\n",
       "      <th>67388</th>\n",
       "      <td>517728689</td>\n",
       "      <td>178</td>\n",
       "      <td>42201.92</td>\n",
       "      <td>171.0</td>\n",
       "      <td>0.0</td>\n",
       "      <td>7.0</td>\n",
       "      <td>0.0</td>\n",
       "      <td>0.0</td>\n",
       "      <td>0.0</td>\n",
       "    </tr>\n",
       "    <tr>\n",
       "      <th>76875</th>\n",
       "      <td>518957516</td>\n",
       "      <td>110</td>\n",
       "      <td>42968.98</td>\n",
       "      <td>0.0</td>\n",
       "      <td>1.0</td>\n",
       "      <td>0.0</td>\n",
       "      <td>78.0</td>\n",
       "      <td>31.0</td>\n",
       "      <td>0.0</td>\n",
       "    </tr>\n",
       "    <tr>\n",
       "      <th>79695</th>\n",
       "      <td>519250600</td>\n",
       "      <td>116</td>\n",
       "      <td>171932.26</td>\n",
       "      <td>13.0</td>\n",
       "      <td>101.0</td>\n",
       "      <td>0.0</td>\n",
       "      <td>2.0</td>\n",
       "      <td>0.0</td>\n",
       "      <td>0.0</td>\n",
       "    </tr>\n",
       "    <tr>\n",
       "      <th>79933</th>\n",
       "      <td>519267944</td>\n",
       "      <td>183</td>\n",
       "      <td>265569.52</td>\n",
       "      <td>0.0</td>\n",
       "      <td>182.0</td>\n",
       "      <td>0.0</td>\n",
       "      <td>1.0</td>\n",
       "      <td>0.0</td>\n",
       "      <td>0.0</td>\n",
       "    </tr>\n",
       "    <tr>\n",
       "      <th>98720</th>\n",
       "      <td>523974502</td>\n",
       "      <td>288</td>\n",
       "      <td>83031.34</td>\n",
       "      <td>0.0</td>\n",
       "      <td>13.0</td>\n",
       "      <td>2.0</td>\n",
       "      <td>272.0</td>\n",
       "      <td>0.0</td>\n",
       "      <td>1.0</td>\n",
       "    </tr>\n",
       "    <tr>\n",
       "      <th>100408</th>\n",
       "      <td>524442767</td>\n",
       "      <td>103</td>\n",
       "      <td>22552.05</td>\n",
       "      <td>58.0</td>\n",
       "      <td>9.0</td>\n",
       "      <td>34.0</td>\n",
       "      <td>2.0</td>\n",
       "      <td>0.0</td>\n",
       "      <td>0.0</td>\n",
       "    </tr>\n",
       "    <tr>\n",
       "      <th>103125</th>\n",
       "      <td>525351013</td>\n",
       "      <td>121</td>\n",
       "      <td>22204.72</td>\n",
       "      <td>27.0</td>\n",
       "      <td>2.0</td>\n",
       "      <td>34.0</td>\n",
       "      <td>44.0</td>\n",
       "      <td>14.0</td>\n",
       "      <td>0.0</td>\n",
       "    </tr>\n",
       "    <tr>\n",
       "      <th>117121</th>\n",
       "      <td>530834332</td>\n",
       "      <td>170</td>\n",
       "      <td>187128.93</td>\n",
       "      <td>129.0</td>\n",
       "      <td>15.0</td>\n",
       "      <td>0.0</td>\n",
       "      <td>0.0</td>\n",
       "      <td>0.0</td>\n",
       "      <td>26.0</td>\n",
       "    </tr>\n",
       "    <tr>\n",
       "      <th>128968</th>\n",
       "      <td>535658024</td>\n",
       "      <td>121</td>\n",
       "      <td>66617.36</td>\n",
       "      <td>0.0</td>\n",
       "      <td>110.0</td>\n",
       "      <td>0.0</td>\n",
       "      <td>9.0</td>\n",
       "      <td>2.0</td>\n",
       "      <td>0.0</td>\n",
       "    </tr>\n",
       "    <tr>\n",
       "      <th>136237</th>\n",
       "      <td>538216048</td>\n",
       "      <td>119</td>\n",
       "      <td>130720.63</td>\n",
       "      <td>1.0</td>\n",
       "      <td>118.0</td>\n",
       "      <td>0.0</td>\n",
       "      <td>0.0</td>\n",
       "      <td>0.0</td>\n",
       "      <td>0.0</td>\n",
       "    </tr>\n",
       "    <tr>\n",
       "      <th>136527</th>\n",
       "      <td>538340540</td>\n",
       "      <td>126</td>\n",
       "      <td>35307.43</td>\n",
       "      <td>86.0</td>\n",
       "      <td>21.0</td>\n",
       "      <td>19.0</td>\n",
       "      <td>0.0</td>\n",
       "      <td>0.0</td>\n",
       "      <td>0.0</td>\n",
       "    </tr>\n",
       "    <tr>\n",
       "      <th>137003</th>\n",
       "      <td>538473314</td>\n",
       "      <td>105</td>\n",
       "      <td>28770.30</td>\n",
       "      <td>69.0</td>\n",
       "      <td>16.0</td>\n",
       "      <td>19.0</td>\n",
       "      <td>1.0</td>\n",
       "      <td>0.0</td>\n",
       "      <td>0.0</td>\n",
       "    </tr>\n",
       "    <tr>\n",
       "      <th>145839</th>\n",
       "      <td>541510103</td>\n",
       "      <td>165</td>\n",
       "      <td>26320.63</td>\n",
       "      <td>165.0</td>\n",
       "      <td>0.0</td>\n",
       "      <td>0.0</td>\n",
       "      <td>0.0</td>\n",
       "      <td>0.0</td>\n",
       "      <td>0.0</td>\n",
       "    </tr>\n",
       "    <tr>\n",
       "      <th>152004</th>\n",
       "      <td>543312954</td>\n",
       "      <td>193</td>\n",
       "      <td>36077.94</td>\n",
       "      <td>192.0</td>\n",
       "      <td>0.0</td>\n",
       "      <td>0.0</td>\n",
       "      <td>0.0</td>\n",
       "      <td>1.0</td>\n",
       "      <td>0.0</td>\n",
       "    </tr>\n",
       "    <tr>\n",
       "      <th>159213</th>\n",
       "      <td>545376441</td>\n",
       "      <td>114</td>\n",
       "      <td>26539.39</td>\n",
       "      <td>94.0</td>\n",
       "      <td>6.0</td>\n",
       "      <td>4.0</td>\n",
       "      <td>10.0</td>\n",
       "      <td>0.0</td>\n",
       "      <td>0.0</td>\n",
       "    </tr>\n",
       "    <tr>\n",
       "      <th>161064</th>\n",
       "      <td>545925192</td>\n",
       "      <td>112</td>\n",
       "      <td>105560.95</td>\n",
       "      <td>74.0</td>\n",
       "      <td>32.0</td>\n",
       "      <td>1.0</td>\n",
       "      <td>0.0</td>\n",
       "      <td>1.0</td>\n",
       "      <td>4.0</td>\n",
       "    </tr>\n",
       "    <tr>\n",
       "      <th>164467</th>\n",
       "      <td>546967331</td>\n",
       "      <td>135</td>\n",
       "      <td>30783.94</td>\n",
       "      <td>46.0</td>\n",
       "      <td>39.0</td>\n",
       "      <td>45.0</td>\n",
       "      <td>0.0</td>\n",
       "      <td>5.0</td>\n",
       "      <td>0.0</td>\n",
       "    </tr>\n",
       "    <tr>\n",
       "      <th>165100</th>\n",
       "      <td>547101738</td>\n",
       "      <td>123</td>\n",
       "      <td>26244.94</td>\n",
       "      <td>102.0</td>\n",
       "      <td>0.0</td>\n",
       "      <td>4.0</td>\n",
       "      <td>0.0</td>\n",
       "      <td>8.0</td>\n",
       "      <td>9.0</td>\n",
       "    </tr>\n",
       "    <tr>\n",
       "      <th>165957</th>\n",
       "      <td>547330965</td>\n",
       "      <td>130</td>\n",
       "      <td>80191.76</td>\n",
       "      <td>0.0</td>\n",
       "      <td>10.0</td>\n",
       "      <td>0.0</td>\n",
       "      <td>112.0</td>\n",
       "      <td>0.0</td>\n",
       "      <td>8.0</td>\n",
       "    </tr>\n",
       "    <tr>\n",
       "      <th>172787</th>\n",
       "      <td>549109608</td>\n",
       "      <td>154</td>\n",
       "      <td>77702.50</td>\n",
       "      <td>69.0</td>\n",
       "      <td>69.0</td>\n",
       "      <td>0.0</td>\n",
       "      <td>16.0</td>\n",
       "      <td>0.0</td>\n",
       "      <td>0.0</td>\n",
       "    </tr>\n",
       "    <tr>\n",
       "      <th>180439</th>\n",
       "      <td>551361102</td>\n",
       "      <td>127</td>\n",
       "      <td>60580.28</td>\n",
       "      <td>3.0</td>\n",
       "      <td>96.0</td>\n",
       "      <td>21.0</td>\n",
       "      <td>1.0</td>\n",
       "      <td>0.0</td>\n",
       "      <td>6.0</td>\n",
       "    </tr>\n",
       "    <tr>\n",
       "      <th>181138</th>\n",
       "      <td>551557821</td>\n",
       "      <td>154</td>\n",
       "      <td>18985.17</td>\n",
       "      <td>0.0</td>\n",
       "      <td>0.0</td>\n",
       "      <td>154.0</td>\n",
       "      <td>0.0</td>\n",
       "      <td>0.0</td>\n",
       "      <td>0.0</td>\n",
       "    </tr>\n",
       "    <tr>\n",
       "      <th>188775</th>\n",
       "      <td>553431815</td>\n",
       "      <td>124</td>\n",
       "      <td>118762.24</td>\n",
       "      <td>0.0</td>\n",
       "      <td>118.0</td>\n",
       "      <td>0.0</td>\n",
       "      <td>6.0</td>\n",
       "      <td>0.0</td>\n",
       "      <td>0.0</td>\n",
       "    </tr>\n",
       "    <tr>\n",
       "      <th>205085</th>\n",
       "      <td>556680161</td>\n",
       "      <td>111</td>\n",
       "      <td>26414.88</td>\n",
       "      <td>83.0</td>\n",
       "      <td>20.0</td>\n",
       "      <td>1.0</td>\n",
       "      <td>7.0</td>\n",
       "      <td>0.0</td>\n",
       "      <td>0.0</td>\n",
       "    </tr>\n",
       "    <tr>\n",
       "      <th>217574</th>\n",
       "      <td>558420737</td>\n",
       "      <td>132</td>\n",
       "      <td>36213.84</td>\n",
       "      <td>95.0</td>\n",
       "      <td>17.0</td>\n",
       "      <td>19.0</td>\n",
       "      <td>1.0</td>\n",
       "      <td>0.0</td>\n",
       "      <td>0.0</td>\n",
       "    </tr>\n",
       "    <tr>\n",
       "      <th>253988</th>\n",
       "      <td>564068124</td>\n",
       "      <td>121</td>\n",
       "      <td>31444.37</td>\n",
       "      <td>109.0</td>\n",
       "      <td>9.0</td>\n",
       "      <td>2.0</td>\n",
       "      <td>0.0</td>\n",
       "      <td>0.0</td>\n",
       "      <td>1.0</td>\n",
       "    </tr>\n",
       "  </tbody>\n",
       "</table>\n",
       "</div>"
      ],
      "text/plain": [
       "          user_id  pur_cnt   cash_sum  smartphone_samsung  smartphone_apple  \\\n",
       "893     512386086      322  182470.80               105.0              67.0   \n",
       "3896    512511358      110   91994.91                 0.0             106.0   \n",
       "15991   513117637      183  244282.74                 0.0             183.0   \n",
       "19608   513320236      242   94568.05               135.0              36.0   \n",
       "19654   513322839      146   40752.12               101.0               0.0   \n",
       "26706   513784794      126  143821.03                 0.0               4.0   \n",
       "46995   515384420      122  210749.77                 0.0             122.0   \n",
       "55778   516214275      113   11263.07               101.0               0.0   \n",
       "67388   517728689      178   42201.92               171.0               0.0   \n",
       "76875   518957516      110   42968.98                 0.0               1.0   \n",
       "79695   519250600      116  171932.26                13.0             101.0   \n",
       "79933   519267944      183  265569.52                 0.0             182.0   \n",
       "98720   523974502      288   83031.34                 0.0              13.0   \n",
       "100408  524442767      103   22552.05                58.0               9.0   \n",
       "103125  525351013      121   22204.72                27.0               2.0   \n",
       "117121  530834332      170  187128.93               129.0              15.0   \n",
       "128968  535658024      121   66617.36                 0.0             110.0   \n",
       "136237  538216048      119  130720.63                 1.0             118.0   \n",
       "136527  538340540      126   35307.43                86.0              21.0   \n",
       "137003  538473314      105   28770.30                69.0              16.0   \n",
       "145839  541510103      165   26320.63               165.0               0.0   \n",
       "152004  543312954      193   36077.94               192.0               0.0   \n",
       "159213  545376441      114   26539.39                94.0               6.0   \n",
       "161064  545925192      112  105560.95                74.0              32.0   \n",
       "164467  546967331      135   30783.94                46.0              39.0   \n",
       "165100  547101738      123   26244.94               102.0               0.0   \n",
       "165957  547330965      130   80191.76                 0.0              10.0   \n",
       "172787  549109608      154   77702.50                69.0              69.0   \n",
       "180439  551361102      127   60580.28                 3.0              96.0   \n",
       "181138  551557821      154   18985.17                 0.0               0.0   \n",
       "188775  553431815      124  118762.24                 0.0             118.0   \n",
       "205085  556680161      111   26414.88                83.0              20.0   \n",
       "217574  558420737      132   36213.84                95.0              17.0   \n",
       "253988  564068124      121   31444.37               109.0               9.0   \n",
       "\n",
       "        smartphone_ect  electronics  appliances   etc  \n",
       "893                1.0         87.0        61.0   1.0  \n",
       "3896               0.0          0.0         2.0   2.0  \n",
       "15991              0.0          0.0         0.0   0.0  \n",
       "19608              0.0         68.0         3.0   0.0  \n",
       "19654              4.0          6.0        13.0  22.0  \n",
       "26706              0.0        118.0         0.0   4.0  \n",
       "46995              0.0          0.0         0.0   0.0  \n",
       "55778             12.0          0.0         0.0   0.0  \n",
       "67388              7.0          0.0         0.0   0.0  \n",
       "76875              0.0         78.0        31.0   0.0  \n",
       "79695              0.0          2.0         0.0   0.0  \n",
       "79933              0.0          1.0         0.0   0.0  \n",
       "98720              2.0        272.0         0.0   1.0  \n",
       "100408            34.0          2.0         0.0   0.0  \n",
       "103125            34.0         44.0        14.0   0.0  \n",
       "117121             0.0          0.0         0.0  26.0  \n",
       "128968             0.0          9.0         2.0   0.0  \n",
       "136237             0.0          0.0         0.0   0.0  \n",
       "136527            19.0          0.0         0.0   0.0  \n",
       "137003            19.0          1.0         0.0   0.0  \n",
       "145839             0.0          0.0         0.0   0.0  \n",
       "152004             0.0          0.0         1.0   0.0  \n",
       "159213             4.0         10.0         0.0   0.0  \n",
       "161064             1.0          0.0         1.0   4.0  \n",
       "164467            45.0          0.0         5.0   0.0  \n",
       "165100             4.0          0.0         8.0   9.0  \n",
       "165957             0.0        112.0         0.0   8.0  \n",
       "172787             0.0         16.0         0.0   0.0  \n",
       "180439            21.0          1.0         0.0   6.0  \n",
       "181138           154.0          0.0         0.0   0.0  \n",
       "188775             0.0          6.0         0.0   0.0  \n",
       "205085             1.0          7.0         0.0   0.0  \n",
       "217574            19.0          1.0         0.0   0.0  \n",
       "253988             2.0          0.0         0.0   1.0  "
      ]
     },
     "execution_count": 34,
     "metadata": {},
     "output_type": "execute_result"
    }
   ],
   "source": [
    "# 이상치 케이스 확인\n",
    "\n",
    "user_by_ctgr_cnt[user_by_ctgr_cnt['pur_cnt']>= 100]\n",
    "## 이상치의 경우 포함 or 미포함에 대한 장/단점 확인해서 생각해보기\n",
    "## 만약 개인 취향 분석이 목적이라면 미포함을 하는게 맞음\n",
    "## 몇개 이상을 이상치로 할 것인지 생각해보기 "
   ]
  },
  {
   "cell_type": "code",
   "execution_count": 35,
   "metadata": {
    "colab": {
     "base_uri": "https://localhost:8080/",
     "height": 302
    },
    "executionInfo": {
     "elapsed": 19,
     "status": "ok",
     "timestamp": 1660919583375,
     "user": {
      "displayName": "강현욱",
      "userId": "07194546442434465172"
     },
     "user_tz": -540
    },
    "id": "DGsqb8QFRFAu",
    "outputId": "f2dfa225-394e-4d7b-b240-beff381a2011"
   },
   "outputs": [
    {
     "data": {
      "text/plain": [
       "Text(0.5, 0, 'pur_cnt')"
      ]
     },
     "execution_count": 35,
     "metadata": {},
     "output_type": "execute_result"
    },
    {
     "data": {
      "image/png": "[encoded data removed]",
      "text/plain": [
       "<Figure size 432x288 with 1 Axes>"
      ]
     },
     "metadata": {
      "needs_background": "light"
     },
     "output_type": "display_data"
    }
   ],
   "source": [
    "# box plot 으로 시각화 \n",
    "fig, ax = plt.subplots()\n",
    "ax.boxplot(user_by_ctgr_cnt['pur_cnt'])\n",
    "ax.set_ylim (0,20) # y 축 limit \n",
    "ax.set_xlabel('pur_cnt')"
   ]
  },
  {
   "cell_type": "markdown",
   "metadata": {
    "id": "jXkPLWjvCzy7"
   },
   "source": [
    "### 4.5 이상치 기준 정의 "
   ]
  },
  {
   "cell_type": "code",
   "execution_count": 36,
   "metadata": {
    "colab": {
     "base_uri": "https://localhost:8080/"
    },
    "executionInfo": {
     "elapsed": 598,
     "status": "ok",
     "timestamp": 1660919583961,
     "user": {
      "displayName": "강현욱",
      "userId": "07194546442434465172"
     },
     "user_tz": -540
    },
    "id": "kzNxM1QdMmj3",
    "outputId": "581f7cd4-1be4-4a53-8ede-862d5cf335a3"
   },
   "outputs": [
    {
     "name": "stdout",
     "output_type": "stream",
     "text": [
      "표준편차 : 3.618212644021231\n",
      "99분위수 : 14.0 , 대상자수 :  3013\n",
      "3시그마 : 12.940488868691833 , 대상자수 :  3478\n",
      "6시그마 : 23.795126800755526 , 대상자수 :  1115\n"
     ]
    }
   ],
   "source": [
    "# 이상치 판단 기준 \n",
    "\n",
    "user_by_ctgr_cnt[user_by_ctgr_cnt['pur_cnt']>= 50]['user_id'].count()\n",
    "\n",
    "print(\"표준편차 :\", user_by_ctgr_cnt['pur_cnt'].std())\n",
    "print(\"99분위수 :\", user_by_ctgr_cnt['pur_cnt'].quantile(q =0.99), \", 대상자수 : \",user_by_ctgr_cnt[user_by_ctgr_cnt['pur_cnt']>= 14]['user_id'].count()) # 상위 1%\n",
    "print(\"3시그마 :\", (user_by_ctgr_cnt['pur_cnt'].mean()) + (user_by_ctgr_cnt['pur_cnt'].std()*3), \", 대상자수 : \",user_by_ctgr_cnt[user_by_ctgr_cnt['pur_cnt']>= 13]['user_id'].count())# 0.05% 정도에 해당되는 값\n",
    "print(\"6시그마 :\", (user_by_ctgr_cnt['pur_cnt'].mean()) + (user_by_ctgr_cnt['pur_cnt'].std()*6), \", 대상자수 : \",user_by_ctgr_cnt[user_by_ctgr_cnt['pur_cnt']>= 23]['user_id'].count())# 0.001% 정도에 해당되는 값\n",
    "# 99분위수 확인  14  (14개 이상은 주문은 이상치로 간주하기로함)\n",
    "## 혹은 1개, 2개 , 3개 등등 구매한 사람들 각 count 해서 갑자기 뚝떨어지는 지점으로 해도 괜찮음 "
   ]
  },
  {
   "cell_type": "code",
   "execution_count": 38,
   "metadata": {
    "colab": {
     "base_uri": "https://localhost:8080/",
     "height": 269
    },
    "executionInfo": {
     "elapsed": 4,
     "status": "ok",
     "timestamp": 1660919583961,
     "user": {
      "displayName": "강현욱",
      "userId": "07194546442434465172"
     },
     "user_tz": -540
    },
    "id": "RNXoSQjhN4Tz",
    "outputId": "1cb18eee-fbe1-413b-b499-d8490a73e123"
   },
   "outputs": [
    {
     "data": {
      "image/png": "[encoded data removed]",
      "text/plain": [
       "<Figure size 432x288 with 1 Axes>"
      ]
     },
     "metadata": {
      "needs_background": "light"
     },
     "output_type": "display_data"
    }
   ],
   "source": [
    "fig, ax = plt.subplots()\n",
    "ax.boxplot([user_by_ctgr_cnt['smartphone_samsung'], user_by_ctgr_cnt['smartphone_apple'], user_by_ctgr_cnt['smartphone_ect'], user_by_ctgr_cnt['electronics'], user_by_ctgr_cnt['appliances'],user_by_ctgr_cnt['etc']])\n",
    "ax.set_ylim (-1,20)\n",
    "plt.show()"
   ]
  },
  {
   "cell_type": "code",
   "execution_count": 39,
   "metadata": {
    "colab": {
     "base_uri": "https://localhost:8080/",
     "height": 587
    },
    "executionInfo": {
     "elapsed": 644,
     "status": "ok",
     "timestamp": 1660919584602,
     "user": {
      "displayName": "강현욱",
      "userId": "07194546442434465172"
     },
     "user_tz": -540
    },
    "id": "LtwamEjnYKAH",
    "outputId": "aad01d35-e63e-4d44-a36a-d4ece52f8e7a"
   },
   "outputs": [
    {
     "data": {
      "image/png": "[encoded data removed]",
      "text/plain": [
       "<Figure size 576x576 with 2 Axes>"
      ]
     },
     "metadata": {
      "needs_background": "light"
     },
     "output_type": "display_data"
    }
   ],
   "source": [
    "# 각 변수별 상관관계 확인 \n",
    "plt.figure(figsize =(8,8))\n",
    "sns.heatmap(data = user_by_ctgr_cnt[['pur_cnt','smartphone_samsung','smartphone_apple','smartphone_ect','electronics','appliances','etc']].corr(),annot= True,\n",
    "            fmt ='.1%', linewidths =.5, cmap='Blues')\n",
    "plt.show()\n",
    "\n",
    "# 구매건수와 다른 변수간 연관성이 가장 큼. 그외는 거의 독립적임"
   ]
  },
  {
   "cell_type": "code",
   "execution_count": 44,
   "metadata": {
    "colab": {
     "base_uri": "https://localhost:8080/",
     "height": 269
    },
    "executionInfo": {
     "elapsed": 3446,
     "status": "ok",
     "timestamp": 1660919588045,
     "user": {
      "displayName": "강현욱",
      "userId": "07194546442434465172"
     },
     "user_tz": -540
    },
    "id": "zlz1zcuuYISn",
    "outputId": "fd0a2f8a-c293-49d1-f7a0-920f23fe1978"
   },
   "outputs": [
    {
     "data": {
      "image/png": "[encoded data removed]",
      "text/plain": [
       "<Figure size 432x288 with 1 Axes>"
      ]
     },
     "metadata": {
      "needs_background": "light"
     },
     "output_type": "display_data"
    }
   ],
   "source": [
    "# 각 전략 카테고리별 구매건수 확인 \n",
    "fig, ax = plt.subplots()\n",
    "ax.boxplot([user_by_ctgr_cnt['smartphone_samsung'], user_by_ctgr_cnt['smartphone_apple'], user_by_ctgr_cnt['smartphone_ect'], user_by_ctgr_cnt['electronics'], user_by_ctgr_cnt['appliances'],user_by_ctgr_cnt['etc']])\n",
    "ax.set_ylim (-1,20)\n",
    "plt.show()"
   ]
  },
  {
   "cell_type": "code",
   "execution_count": 45,
   "metadata": {
    "colab": {
     "base_uri": "https://localhost:8080/",
     "height": 319
    },
    "executionInfo": {
     "elapsed": 23,
     "status": "ok",
     "timestamp": 1660919588045,
     "user": {
      "displayName": "강현욱",
      "userId": "07194546442434465172"
     },
     "user_tz": -540
    },
    "id": "kZgAcdjNY2Ma",
    "outputId": "104f8e08-3266-4199-c84c-c20ac5536473"
   },
   "outputs": [
    {
     "name": "stdout",
     "output_type": "stream",
     "text": [
      "(260432, 9)\n"
     ]
    },
    {
     "data": {
      "text/html": [
       "<div>\n",
       "<style scoped>\n",
       "    .dataframe tbody tr th:only-of-type {\n",
       "        vertical-align: middle;\n",
       "    }\n",
       "\n",
       "    .dataframe tbody tr th {\n",
       "        vertical-align: top;\n",
       "    }\n",
       "\n",
       "    .dataframe thead th {\n",
       "        text-align: right;\n",
       "    }\n",
       "</style>\n",
       "<table border=\"1\" class=\"dataframe\">\n",
       "  <thead>\n",
       "    <tr style=\"text-align: right;\">\n",
       "      <th></th>\n",
       "      <th>user_id</th>\n",
       "      <th>pur_cnt</th>\n",
       "      <th>cash_sum</th>\n",
       "      <th>smartphone_samsung</th>\n",
       "      <th>smartphone_apple</th>\n",
       "      <th>smartphone_ect</th>\n",
       "      <th>electronics</th>\n",
       "      <th>appliances</th>\n",
       "      <th>etc</th>\n",
       "    </tr>\n",
       "  </thead>\n",
       "  <tbody>\n",
       "    <tr>\n",
       "      <th>count</th>\n",
       "      <td>2.604320e+05</td>\n",
       "      <td>260432.000000</td>\n",
       "      <td>260432.000000</td>\n",
       "      <td>260432.000000</td>\n",
       "      <td>260432.000000</td>\n",
       "      <td>260432.000000</td>\n",
       "      <td>260432.000000</td>\n",
       "      <td>260432.000000</td>\n",
       "      <td>260432.000000</td>\n",
       "    </tr>\n",
       "    <tr>\n",
       "      <th>mean</th>\n",
       "      <td>5.366739e+08</td>\n",
       "      <td>1.817841</td>\n",
       "      <td>648.340886</td>\n",
       "      <td>0.464601</td>\n",
       "      <td>0.356784</td>\n",
       "      <td>0.266023</td>\n",
       "      <td>0.277366</td>\n",
       "      <td>0.253828</td>\n",
       "      <td>0.199238</td>\n",
       "    </tr>\n",
       "    <tr>\n",
       "      <th>std</th>\n",
       "      <td>1.855710e+07</td>\n",
       "      <td>1.659568</td>\n",
       "      <td>1082.946279</td>\n",
       "      <td>1.022210</td>\n",
       "      <td>1.002537</td>\n",
       "      <td>0.768920</td>\n",
       "      <td>0.781203</td>\n",
       "      <td>0.697226</td>\n",
       "      <td>0.653681</td>\n",
       "    </tr>\n",
       "    <tr>\n",
       "      <th>min</th>\n",
       "      <td>3.031604e+08</td>\n",
       "      <td>1.000000</td>\n",
       "      <td>0.880000</td>\n",
       "      <td>0.000000</td>\n",
       "      <td>0.000000</td>\n",
       "      <td>0.000000</td>\n",
       "      <td>0.000000</td>\n",
       "      <td>0.000000</td>\n",
       "      <td>0.000000</td>\n",
       "    </tr>\n",
       "    <tr>\n",
       "      <th>25%</th>\n",
       "      <td>5.175314e+08</td>\n",
       "      <td>1.000000</td>\n",
       "      <td>143.580000</td>\n",
       "      <td>0.000000</td>\n",
       "      <td>0.000000</td>\n",
       "      <td>0.000000</td>\n",
       "      <td>0.000000</td>\n",
       "      <td>0.000000</td>\n",
       "      <td>0.000000</td>\n",
       "    </tr>\n",
       "    <tr>\n",
       "      <th>50%</th>\n",
       "      <td>5.365809e+08</td>\n",
       "      <td>1.000000</td>\n",
       "      <td>285.440000</td>\n",
       "      <td>0.000000</td>\n",
       "      <td>0.000000</td>\n",
       "      <td>0.000000</td>\n",
       "      <td>0.000000</td>\n",
       "      <td>0.000000</td>\n",
       "      <td>0.000000</td>\n",
       "    </tr>\n",
       "    <tr>\n",
       "      <th>75%</th>\n",
       "      <td>5.555716e+08</td>\n",
       "      <td>2.000000</td>\n",
       "      <td>725.120000</td>\n",
       "      <td>1.000000</td>\n",
       "      <td>0.000000</td>\n",
       "      <td>0.000000</td>\n",
       "      <td>0.000000</td>\n",
       "      <td>0.000000</td>\n",
       "      <td>0.000000</td>\n",
       "    </tr>\n",
       "    <tr>\n",
       "      <th>max</th>\n",
       "      <td>5.662783e+08</td>\n",
       "      <td>13.000000</td>\n",
       "      <td>28723.760000</td>\n",
       "      <td>13.000000</td>\n",
       "      <td>13.000000</td>\n",
       "      <td>13.000000</td>\n",
       "      <td>13.000000</td>\n",
       "      <td>13.000000</td>\n",
       "      <td>13.000000</td>\n",
       "    </tr>\n",
       "  </tbody>\n",
       "</table>\n",
       "</div>"
      ],
      "text/plain": [
       "            user_id        pur_cnt       cash_sum  smartphone_samsung  \\\n",
       "count  2.604320e+05  260432.000000  260432.000000       260432.000000   \n",
       "mean   5.366739e+08       1.817841     648.340886            0.464601   \n",
       "std    1.855710e+07       1.659568    1082.946279            1.022210   \n",
       "min    3.031604e+08       1.000000       0.880000            0.000000   \n",
       "25%    5.175314e+08       1.000000     143.580000            0.000000   \n",
       "50%    5.365809e+08       1.000000     285.440000            0.000000   \n",
       "75%    5.555716e+08       2.000000     725.120000            1.000000   \n",
       "max    5.662783e+08      13.000000   28723.760000           13.000000   \n",
       "\n",
       "       smartphone_apple  smartphone_ect    electronics     appliances  \\\n",
       "count     260432.000000   260432.000000  260432.000000  260432.000000   \n",
       "mean           0.356784        0.266023       0.277366       0.253828   \n",
       "std            1.002537        0.768920       0.781203       0.697226   \n",
       "min            0.000000        0.000000       0.000000       0.000000   \n",
       "25%            0.000000        0.000000       0.000000       0.000000   \n",
       "50%            0.000000        0.000000       0.000000       0.000000   \n",
       "75%            0.000000        0.000000       0.000000       0.000000   \n",
       "max           13.000000       13.000000      13.000000      13.000000   \n",
       "\n",
       "                 etc  \n",
       "count  260432.000000  \n",
       "mean        0.199238  \n",
       "std         0.653681  \n",
       "min         0.000000  \n",
       "25%         0.000000  \n",
       "50%         0.000000  \n",
       "75%         0.000000  \n",
       "max        13.000000  "
      ]
     },
     "execution_count": 45,
     "metadata": {},
     "output_type": "execute_result"
    }
   ],
   "source": [
    "# 이상치 제거 \n",
    "##pur_cnt max = 13 로 설정 !\n",
    "df_train_data = user_by_ctgr_cnt[(user_by_ctgr_cnt.pur_cnt < 14)]\n",
    "print(df_train_data.shape)\n",
    "df_train_data.describe()"
   ]
  },
  {
   "cell_type": "markdown",
   "metadata": {
    "id": "k2UBd8_tDNcH"
   },
   "source": [
    "## **5. 군집화**"
   ]
  },
  {
   "cell_type": "markdown",
   "metadata": {
    "id": "tRHjv26JDRUx"
   },
   "source": [
    "### 5.1 변수의 표준화"
   ]
  },
  {
   "cell_type": "code",
   "execution_count": 46,
   "metadata": {
    "id": "dX0IglTMzIjw"
   },
   "outputs": [],
   "source": [
    "df_train_data = df_train_data.reset_index()"
   ]
  },
  {
   "cell_type": "code",
   "execution_count": 47,
   "metadata": {
    "colab": {
     "base_uri": "https://localhost:8080/"
    },
    "executionInfo": {
     "elapsed": 15,
     "status": "ok",
     "timestamp": 1660919588046,
     "user": {
      "displayName": "강현욱",
      "userId": "07194546442434465172"
     },
     "user_tz": -540
    },
    "id": "lqXAOCdSoYf2",
    "outputId": "527ef27b-64fe-4c50-fcaa-42edb5ad93e4"
   },
   "outputs": [
    {
     "data": {
      "text/plain": [
       "array([[-0.4928045 , -0.28417982, -0.45450754, ...,  0.92502851,\n",
       "        -0.36405533, -0.30479472],\n",
       "       [-0.4928045 , -0.28500165, -0.45450754, ...,  0.92502851,\n",
       "        -0.36405533, -0.30479472],\n",
       "       [-0.4928045 , -0.5604175 , -0.45450754, ..., -0.35505048,\n",
       "         1.07020317, -0.30479472],\n",
       "       ...,\n",
       "       [ 0.10976302, -0.46255466,  0.52376719, ..., -0.35505048,\n",
       "         1.07020317, -0.30479472],\n",
       "       [-0.4928045 ,  1.25887291, -0.45450754, ..., -0.35505048,\n",
       "        -0.36405533, -0.30479472],\n",
       "       [-0.4928045 ,  0.93518125, -0.45450754, ..., -0.35505048,\n",
       "        -0.36405533, -0.30479472]])"
      ]
     },
     "execution_count": 47,
     "metadata": {},
     "output_type": "execute_result"
    }
   ],
   "source": [
    "# 변수 표준화 \n",
    "from sklearn.preprocessing import StandardScaler\n",
    "\n",
    "scaler = StandardScaler()\n",
    "scaler.fit(df_train_data.iloc[:,2:])\n",
    "np_train_scaled = scaler.transform(df_train_data.iloc[:,2:])\n",
    "np_train_scaled"
   ]
  },
  {
   "cell_type": "markdown",
   "metadata": {
    "id": "N9NAj8HYDX24"
   },
   "source": [
    "### 5.2 군집화 알고리즘 적용 (k-means clustering)"
   ]
  },
  {
   "cell_type": "code",
   "execution_count": 48,
   "metadata": {
    "colab": {
     "base_uri": "https://localhost:8080/"
    },
    "executionInfo": {
     "elapsed": 709,
     "status": "ok",
     "timestamp": 1660919588744,
     "user": {
      "displayName": "강현욱",
      "userId": "07194546442434465172"
     },
     "user_tz": -540
    },
    "id": "qumaBtlVmI1y",
    "outputId": "cd1e2f82-e897-4b8f-938d-17dd6a9922e0"
   },
   "outputs": [
    {
     "data": {
      "text/plain": [
       "array([[ 0.98996381,  0.2438928 , -0.33261649, -0.28566077, -0.24775352,\n",
       "        -0.13120819, -0.19252519,  4.12515819],\n",
       "       [-0.29225492, -0.16453876, -0.04599687, -0.09081838, -0.01794409,\n",
       "        -0.00936022, -0.36405533, -0.11016251],\n",
       "       [ 2.27781953,  3.78577965, -0.11400773,  4.2995144 , -0.21423739,\n",
       "         0.01030376, -0.22018817, -0.15831042],\n",
       "       [-0.09951529, -0.30260577, -0.39248525, -0.32412601, -0.29436381,\n",
       "        -0.26903266,  1.66579145, -0.25076901],\n",
       "       [ 2.61796802,  0.91879073,  2.39393545, -0.10084797,  1.62779907,\n",
       "         1.1808994 , -0.1263073 , -0.13371731]])"
      ]
     },
     "execution_count": 48,
     "metadata": {},
     "output_type": "execute_result"
    }
   ],
   "source": [
    "kmeans = KMeans(n_clusters=5)\n",
    "y_pred = kmeans.fit_predict(np_train_scaled)\n",
    "kmeans.cluster_centers_"
   ]
  },
  {
   "cell_type": "code",
   "execution_count": 49,
   "metadata": {
    "id": "aDZ2Db-WmqCi"
   },
   "outputs": [],
   "source": [
    "# 최적의 cluster 개수 찾기\n",
    "\n",
    "kmeans_per_k = [KMeans(n_clusters=k).fit(np_train_scaled) for k in range(1, 11)]\n",
    "inertias = [model.inertia_ for model in kmeans_per_k]\n",
    "\n"
   ]
  },
  {
   "cell_type": "code",
   "execution_count": 50,
   "metadata": {
    "colab": {
     "base_uri": "https://localhost:8080/",
     "height": 249
    },
    "executionInfo": {
     "elapsed": 49,
     "status": "ok",
     "timestamp": 1660919618539,
     "user": {
      "displayName": "강현욱",
      "userId": "07194546442434465172"
     },
     "user_tz": -540
    },
    "id": "jAryQOflV8Hd",
    "outputId": "9ad5798f-03ae-47e5-cb7f-99e34c2856aa"
   },
   "outputs": [
    {
     "data": {
      "image/png": "[encoded data removed]",
      "text/plain": [
       "<Figure size 576x252 with 1 Axes>"
      ]
     },
     "metadata": {
      "needs_background": "light"
     },
     "output_type": "display_data"
    }
   ],
   "source": [
    "plt.figure(figsize=(8, 3.5))\n",
    "plt.plot(range(1, 11), inertias, \"bo-\")\n",
    "#plt.axis([1, 8.5, 0, 1300])\n",
    "plt.show()"
   ]
  },
  {
   "cell_type": "code",
   "execution_count": null,
   "metadata": {
    "id": "p45KSXrzaYgw"
   },
   "outputs": [],
   "source": [
    "# silhouette_score (가능하면 pass, 오래걸림)\n",
    "\n",
    "# from sklearn.metrics import silhouette_score\n",
    "# silhouette_score(np_train_scaled, kmeans.labels_)"
   ]
  },
  {
   "cell_type": "markdown",
   "metadata": {
    "id": "e3FrnBpTDhJs"
   },
   "source": [
    "### 5.3 8개 군집생성 및 군집별 특성확인"
   ]
  },
  {
   "cell_type": "code",
   "execution_count": 51,
   "metadata": {
    "colab": {
     "base_uri": "https://localhost:8080/",
     "height": 245
    },
    "executionInfo": {
     "elapsed": 357,
     "status": "error",
     "timestamp": 1660981989823,
     "user": {
      "displayName": "강현욱",
      "userId": "07194546442434465172"
     },
     "user_tz": -540
    },
    "id": "5iaiP5twueux",
    "outputId": "37adfa98-1f07-42c9-c48e-94cdf2b022c9"
   },
   "outputs": [
    {
     "data": {
      "text/plain": [
       "array([3, 3, 2, ..., 2, 0, 0])"
      ]
     },
     "execution_count": 51,
     "metadata": {},
     "output_type": "execute_result"
    }
   ],
   "source": [
    "# 8개 군집\n",
    "kmeans = KMeans(n_clusters=8, random_state = 1111) # random_state 지정 해야 결과를 고정시켜주는 시드값 (재연성을 위함)(숫자는 랜덤으로 지정하면됨)\n",
    "y_pred = kmeans.fit_predict(np_train_scaled)\n",
    "kmeans.cluster_centers_\n",
    "y_pred"
   ]
  },
  {
   "cell_type": "code",
   "execution_count": 52,
   "metadata": {
    "colab": {
     "base_uri": "https://localhost:8080/",
     "height": 206
    },
    "executionInfo": {
     "elapsed": 25,
     "status": "ok",
     "timestamp": 1660919622535,
     "user": {
      "displayName": "강현욱",
      "userId": "07194546442434465172"
     },
     "user_tz": -540
    },
    "id": "wjyfR2U2aYd3",
    "outputId": "9990d270-4938-4501-9feb-7f1eacbef276"
   },
   "outputs": [
    {
     "data": {
      "text/html": [
       "<div>\n",
       "<style scoped>\n",
       "    .dataframe tbody tr th:only-of-type {\n",
       "        vertical-align: middle;\n",
       "    }\n",
       "\n",
       "    .dataframe tbody tr th {\n",
       "        vertical-align: top;\n",
       "    }\n",
       "\n",
       "    .dataframe thead th {\n",
       "        text-align: right;\n",
       "    }\n",
       "</style>\n",
       "<table border=\"1\" class=\"dataframe\">\n",
       "  <thead>\n",
       "    <tr style=\"text-align: right;\">\n",
       "      <th></th>\n",
       "      <th>index</th>\n",
       "      <th>user_id</th>\n",
       "      <th>pur_cnt</th>\n",
       "      <th>cash_sum</th>\n",
       "      <th>smartphone_samsung</th>\n",
       "      <th>smartphone_apple</th>\n",
       "      <th>smartphone_ect</th>\n",
       "      <th>electronics</th>\n",
       "      <th>appliances</th>\n",
       "      <th>etc</th>\n",
       "      <th>clst_k8</th>\n",
       "    </tr>\n",
       "  </thead>\n",
       "  <tbody>\n",
       "    <tr>\n",
       "      <th>0</th>\n",
       "      <td>0</td>\n",
       "      <td>303160429</td>\n",
       "      <td>1</td>\n",
       "      <td>340.59</td>\n",
       "      <td>0.0</td>\n",
       "      <td>0.0</td>\n",
       "      <td>0.0</td>\n",
       "      <td>1.0</td>\n",
       "      <td>0.0</td>\n",
       "      <td>0.0</td>\n",
       "      <td>3</td>\n",
       "    </tr>\n",
       "    <tr>\n",
       "      <th>1</th>\n",
       "      <td>1</td>\n",
       "      <td>340041246</td>\n",
       "      <td>1</td>\n",
       "      <td>339.70</td>\n",
       "      <td>0.0</td>\n",
       "      <td>0.0</td>\n",
       "      <td>0.0</td>\n",
       "      <td>1.0</td>\n",
       "      <td>0.0</td>\n",
       "      <td>0.0</td>\n",
       "      <td>3</td>\n",
       "    </tr>\n",
       "    <tr>\n",
       "      <th>2</th>\n",
       "      <td>2</td>\n",
       "      <td>384989212</td>\n",
       "      <td>1</td>\n",
       "      <td>41.44</td>\n",
       "      <td>0.0</td>\n",
       "      <td>0.0</td>\n",
       "      <td>0.0</td>\n",
       "      <td>0.0</td>\n",
       "      <td>1.0</td>\n",
       "      <td>0.0</td>\n",
       "      <td>2</td>\n",
       "    </tr>\n",
       "    <tr>\n",
       "      <th>3</th>\n",
       "      <td>3</td>\n",
       "      <td>401021311</td>\n",
       "      <td>1</td>\n",
       "      <td>231.64</td>\n",
       "      <td>0.0</td>\n",
       "      <td>0.0</td>\n",
       "      <td>0.0</td>\n",
       "      <td>1.0</td>\n",
       "      <td>0.0</td>\n",
       "      <td>0.0</td>\n",
       "      <td>3</td>\n",
       "    </tr>\n",
       "    <tr>\n",
       "      <th>4</th>\n",
       "      <td>4</td>\n",
       "      <td>403013066</td>\n",
       "      <td>2</td>\n",
       "      <td>807.16</td>\n",
       "      <td>1.0</td>\n",
       "      <td>1.0</td>\n",
       "      <td>0.0</td>\n",
       "      <td>0.0</td>\n",
       "      <td>0.0</td>\n",
       "      <td>0.0</td>\n",
       "      <td>0</td>\n",
       "    </tr>\n",
       "  </tbody>\n",
       "</table>\n",
       "</div>"
      ],
      "text/plain": [
       "   index    user_id  pur_cnt  cash_sum  smartphone_samsung  smartphone_apple  \\\n",
       "0      0  303160429        1    340.59                 0.0               0.0   \n",
       "1      1  340041246        1    339.70                 0.0               0.0   \n",
       "2      2  384989212        1     41.44                 0.0               0.0   \n",
       "3      3  401021311        1    231.64                 0.0               0.0   \n",
       "4      4  403013066        2    807.16                 1.0               1.0   \n",
       "\n",
       "   smartphone_ect  electronics  appliances  etc  clst_k8  \n",
       "0             0.0          1.0         0.0  0.0        3  \n",
       "1             0.0          1.0         0.0  0.0        3  \n",
       "2             0.0          0.0         1.0  0.0        2  \n",
       "3             0.0          1.0         0.0  0.0        3  \n",
       "4             0.0          0.0         0.0  0.0        0  "
      ]
     },
     "execution_count": 52,
     "metadata": {},
     "output_type": "execute_result"
    }
   ],
   "source": [
    "pd.DataFrame(y_pred)\n",
    "#pd.concat(df_train_data, pd.DataFrame(y_pred))\n",
    "df_train_data['clst_k8'] = pd.Series(y_pred)\n",
    "df_train_data.head()\n"
   ]
  },
  {
   "cell_type": "code",
   "execution_count": 53,
   "metadata": {
    "colab": {
     "base_uri": "https://localhost:8080/"
    },
    "executionInfo": {
     "elapsed": 24,
     "status": "ok",
     "timestamp": 1660919622536,
     "user": {
      "displayName": "강현욱",
      "userId": "07194546442434465172"
     },
     "user_tz": -540
    },
    "id": "1D8WVkh5zgNx",
    "outputId": "13330466-8eee-42a8-8c23-311049e1efec"
   },
   "outputs": [
    {
     "data": {
      "text/plain": [
       "clst_k8\n",
       "0    0.163\n",
       "1    0.036\n",
       "2    0.162\n",
       "3    0.434\n",
       "4    0.018\n",
       "5    0.044\n",
       "6    0.019\n",
       "7    0.124\n",
       "Name: user_id, dtype: float64"
      ]
     },
     "execution_count": 53,
     "metadata": {},
     "output_type": "execute_result"
    }
   ],
   "source": [
    "# 각 군집별 비율 확인하기\n",
    "round(df_train_data.groupby('clst_k8').user_id.count()/df_train_data.shape[0],3)"
   ]
  },
  {
   "cell_type": "code",
   "execution_count": 54,
   "metadata": {
    "colab": {
     "base_uri": "https://localhost:8080/",
     "height": 331
    },
    "executionInfo": {
     "elapsed": 370,
     "status": "ok",
     "timestamp": 1660877777769,
     "user": {
      "displayName": "강현욱",
      "userId": "07194546442434465172"
     },
     "user_tz": -540
    },
    "id": "9_dqMGAP0Etd",
    "outputId": "f60ceae5-4f7b-4794-f207-82c2d9450289"
   },
   "outputs": [
    {
     "data": {
      "text/html": [
       "<div>\n",
       "<style scoped>\n",
       "    .dataframe tbody tr th:only-of-type {\n",
       "        vertical-align: middle;\n",
       "    }\n",
       "\n",
       "    .dataframe tbody tr th {\n",
       "        vertical-align: top;\n",
       "    }\n",
       "\n",
       "    .dataframe thead th {\n",
       "        text-align: right;\n",
       "    }\n",
       "</style>\n",
       "<table border=\"1\" class=\"dataframe\">\n",
       "  <thead>\n",
       "    <tr style=\"text-align: right;\">\n",
       "      <th></th>\n",
       "      <th>uu</th>\n",
       "      <th>avg_pur_cnt</th>\n",
       "      <th>smartphone_samsung_avg</th>\n",
       "      <th>smartphone_apple_avg</th>\n",
       "      <th>smartphone_ect_avg</th>\n",
       "      <th>electronics_avg</th>\n",
       "      <th>appliances_avg</th>\n",
       "      <th>etc_avg</th>\n",
       "    </tr>\n",
       "    <tr>\n",
       "      <th>clst_k8</th>\n",
       "      <th></th>\n",
       "      <th></th>\n",
       "      <th></th>\n",
       "      <th></th>\n",
       "      <th></th>\n",
       "      <th></th>\n",
       "      <th></th>\n",
       "      <th></th>\n",
       "    </tr>\n",
       "  </thead>\n",
       "  <tbody>\n",
       "    <tr>\n",
       "      <th>0</th>\n",
       "      <td>42522</td>\n",
       "      <td>1.600560</td>\n",
       "      <td>0.105428</td>\n",
       "      <td>1.390527</td>\n",
       "      <td>0.033089</td>\n",
       "      <td>0.048634</td>\n",
       "      <td>0.011500</td>\n",
       "      <td>0.011382</td>\n",
       "    </tr>\n",
       "    <tr>\n",
       "      <th>1</th>\n",
       "      <td>9504</td>\n",
       "      <td>5.138889</td>\n",
       "      <td>4.361953</td>\n",
       "      <td>0.223906</td>\n",
       "      <td>0.200337</td>\n",
       "      <td>0.132050</td>\n",
       "      <td>0.126157</td>\n",
       "      <td>0.094487</td>\n",
       "    </tr>\n",
       "    <tr>\n",
       "      <th>2</th>\n",
       "      <td>42160</td>\n",
       "      <td>1.606499</td>\n",
       "      <td>0.060176</td>\n",
       "      <td>0.019877</td>\n",
       "      <td>0.035816</td>\n",
       "      <td>0.044355</td>\n",
       "      <td>1.431333</td>\n",
       "      <td>0.014943</td>\n",
       "    </tr>\n",
       "    <tr>\n",
       "      <th>3</th>\n",
       "      <td>112923</td>\n",
       "      <td>1.190882</td>\n",
       "      <td>0.573453</td>\n",
       "      <td>0.001151</td>\n",
       "      <td>0.362247</td>\n",
       "      <td>0.253854</td>\n",
       "      <td>0.000177</td>\n",
       "      <td>0.000000</td>\n",
       "    </tr>\n",
       "    <tr>\n",
       "      <th>4</th>\n",
       "      <td>4791</td>\n",
       "      <td>6.900230</td>\n",
       "      <td>0.436026</td>\n",
       "      <td>5.718430</td>\n",
       "      <td>0.109372</td>\n",
       "      <td>0.308704</td>\n",
       "      <td>0.132540</td>\n",
       "      <td>0.195158</td>\n",
       "    </tr>\n",
       "    <tr>\n",
       "      <th>5</th>\n",
       "      <td>11462</td>\n",
       "      <td>3.549032</td>\n",
       "      <td>0.143430</td>\n",
       "      <td>0.148578</td>\n",
       "      <td>0.065172</td>\n",
       "      <td>2.988571</td>\n",
       "      <td>0.099983</td>\n",
       "      <td>0.103298</td>\n",
       "    </tr>\n",
       "    <tr>\n",
       "      <th>6</th>\n",
       "      <td>4878</td>\n",
       "      <td>5.185732</td>\n",
       "      <td>0.396269</td>\n",
       "      <td>0.133456</td>\n",
       "      <td>4.313448</td>\n",
       "      <td>0.144731</td>\n",
       "      <td>0.098811</td>\n",
       "      <td>0.099016</td>\n",
       "    </tr>\n",
       "    <tr>\n",
       "      <th>7</th>\n",
       "      <td>32192</td>\n",
       "      <td>1.717290</td>\n",
       "      <td>0.065203</td>\n",
       "      <td>0.029293</td>\n",
       "      <td>0.038581</td>\n",
       "      <td>0.060139</td>\n",
       "      <td>0.055573</td>\n",
       "      <td>1.468501</td>\n",
       "    </tr>\n",
       "  </tbody>\n",
       "</table>\n",
       "</div>"
      ],
      "text/plain": [
       "             uu  avg_pur_cnt  smartphone_samsung_avg  smartphone_apple_avg  \\\n",
       "clst_k8                                                                      \n",
       "0         42522     1.600560                0.105428              1.390527   \n",
       "1          9504     5.138889                4.361953              0.223906   \n",
       "2         42160     1.606499                0.060176              0.019877   \n",
       "3        112923     1.190882                0.573453              0.001151   \n",
       "4          4791     6.900230                0.436026              5.718430   \n",
       "5         11462     3.549032                0.143430              0.148578   \n",
       "6          4878     5.185732                0.396269              0.133456   \n",
       "7         32192     1.717290                0.065203              0.029293   \n",
       "\n",
       "         smartphone_ect_avg  electronics_avg  appliances_avg   etc_avg  \n",
       "clst_k8                                                                 \n",
       "0                  0.033089         0.048634        0.011500  0.011382  \n",
       "1                  0.200337         0.132050        0.126157  0.094487  \n",
       "2                  0.035816         0.044355        1.431333  0.014943  \n",
       "3                  0.362247         0.253854        0.000177  0.000000  \n",
       "4                  0.109372         0.308704        0.132540  0.195158  \n",
       "5                  0.065172         2.988571        0.099983  0.103298  \n",
       "6                  4.313448         0.144731        0.098811  0.099016  \n",
       "7                  0.038581         0.060139        0.055573  1.468501  "
      ]
     },
     "execution_count": 54,
     "metadata": {},
     "output_type": "execute_result"
    }
   ],
   "source": [
    "# 8개 클러스터 EDA\n",
    "df_train_data.groupby('clst_k8').agg(\n",
    "    uu = ('user_id','count'),\n",
    "    avg_pur_cnt = ('pur_cnt','mean'),\n",
    "    smartphone_samsung_avg = ('smartphone_samsung','mean'),\n",
    "    smartphone_apple_avg = ('smartphone_apple','mean'),\n",
    "    smartphone_ect_avg = ('smartphone_ect','mean'),\n",
    "    electronics_avg = ('electronics','mean'),\n",
    "    appliances_avg = ('appliances','mean'),\n",
    "    etc_avg = ('etc','mean')\n",
    ")\n",
    "# + 군집비율 붙이기 "
   ]
  },
  {
   "cell_type": "markdown",
   "metadata": {
    "id": "TTMw5LFI4LBa"
   },
   "source": [
    "- 0 군집 - 생활가전을 소량 구매 유저(16.0%)\n",
    "- 1 군집 - 애플폰 다회(충성) 구매 유저 (3.2%)\n",
    "- 2 군집 - 전자제품 (핸드폰 및 소형 가전제품) 단건 구매 유저(60.2%) \n",
    "- 3 군집 - 기타 상품 소회 구매 유저 (12.3%)\n",
    "- 4 군집 - 스마트폰을 제외한 소형 가전제품 다회 구매 유저 (1.9%)\n",
    "- 5 군집 - 생활가전 다회 구매하며 삼성폰을 간간히 구매 유저 (0.8%)\n",
    "- 6 군집 - 기타 스마트폰 다회 구매 유저 (1.9%)\n",
    "- 7 군집 - 삼성폰을 다회(충성) 구매 유저 (3.6%)"
   ]
  },
  {
   "cell_type": "markdown",
   "metadata": {
    "id": "cjI7PiD5wZum"
   },
   "source": [
    "### 5.4 4개 군집생성 및 군집별 특성확인"
   ]
  },
  {
   "cell_type": "code",
   "execution_count": 55,
   "metadata": {
    "id": "XdYQOFFw27De"
   },
   "outputs": [],
   "source": [
    "# 4개 군집\n",
    "kmeans = KMeans(n_clusters=4, random_state= 1111)\n",
    "y_pred = kmeans.fit_predict(np_train_scaled)\n",
    "kmeans.cluster_centers_\n",
    "y_pred\n",
    "df_train_data['clst_k4'] = pd.Series(y_pred)"
   ]
  },
  {
   "cell_type": "code",
   "execution_count": 56,
   "metadata": {
    "colab": {
     "base_uri": "https://localhost:8080/"
    },
    "executionInfo": {
     "elapsed": 471,
     "status": "ok",
     "timestamp": 1660920228775,
     "user": {
      "displayName": "강현욱",
      "userId": "07194546442434465172"
     },
     "user_tz": -540
    },
    "id": "ilqwvEa_3Hwc",
    "outputId": "66e9a74c-e54a-4d22-e95e-700cae111071"
   },
   "outputs": [
    {
     "data": {
      "text/plain": [
       "clst_k4\n",
       "0    0.041619\n",
       "1    0.868127\n",
       "2    0.058937\n",
       "3    0.031317\n",
       "Name: user_id, dtype: float64"
      ]
     },
     "execution_count": 56,
     "metadata": {},
     "output_type": "execute_result"
    }
   ],
   "source": [
    "# 각 군집별 비율 확인하기\n",
    "df_train_data.groupby('clst_k4').user_id.count()/df_train_data.shape[0]"
   ]
  },
  {
   "cell_type": "code",
   "execution_count": 57,
   "metadata": {
    "colab": {
     "base_uri": "https://localhost:8080/",
     "height": 206
    },
    "executionInfo": {
     "elapsed": 368,
     "status": "ok",
     "timestamp": 1660920230965,
     "user": {
      "displayName": "강현욱",
      "userId": "07194546442434465172"
     },
     "user_tz": -540
    },
    "id": "8LweRuF83M26",
    "outputId": "c3e2babc-8cc8-4880-c23c-b2163aa6ca19"
   },
   "outputs": [
    {
     "data": {
      "text/html": [
       "<div>\n",
       "<style scoped>\n",
       "    .dataframe tbody tr th:only-of-type {\n",
       "        vertical-align: middle;\n",
       "    }\n",
       "\n",
       "    .dataframe tbody tr th {\n",
       "        vertical-align: top;\n",
       "    }\n",
       "\n",
       "    .dataframe thead th {\n",
       "        text-align: right;\n",
       "    }\n",
       "</style>\n",
       "<table border=\"1\" class=\"dataframe\">\n",
       "  <thead>\n",
       "    <tr style=\"text-align: right;\">\n",
       "      <th></th>\n",
       "      <th>uu</th>\n",
       "      <th>avg_pur_cnt</th>\n",
       "      <th>smartphone_samsung_avg</th>\n",
       "      <th>smartphone_apple_avg</th>\n",
       "      <th>smartphone_ect_avg</th>\n",
       "      <th>electronics_avg</th>\n",
       "      <th>appliances_avg</th>\n",
       "      <th>etc_avg</th>\n",
       "    </tr>\n",
       "    <tr>\n",
       "      <th>clst_k4</th>\n",
       "      <th></th>\n",
       "      <th></th>\n",
       "      <th></th>\n",
       "      <th></th>\n",
       "      <th></th>\n",
       "      <th></th>\n",
       "      <th></th>\n",
       "      <th></th>\n",
       "    </tr>\n",
       "  </thead>\n",
       "  <tbody>\n",
       "    <tr>\n",
       "      <th>0</th>\n",
       "      <td>10839</td>\n",
       "      <td>3.213581</td>\n",
       "      <td>0.118000</td>\n",
       "      <td>0.053695</td>\n",
       "      <td>0.063105</td>\n",
       "      <td>0.118738</td>\n",
       "      <td>2.762801</td>\n",
       "      <td>0.097241</td>\n",
       "    </tr>\n",
       "    <tr>\n",
       "      <th>1</th>\n",
       "      <td>226088</td>\n",
       "      <td>1.332163</td>\n",
       "      <td>0.352849</td>\n",
       "      <td>0.223612</td>\n",
       "      <td>0.213567</td>\n",
       "      <td>0.220065</td>\n",
       "      <td>0.149035</td>\n",
       "      <td>0.173034</td>\n",
       "    </tr>\n",
       "    <tr>\n",
       "      <th>2</th>\n",
       "      <td>15349</td>\n",
       "      <td>5.975568</td>\n",
       "      <td>2.409277</td>\n",
       "      <td>0.247834</td>\n",
       "      <td>1.268747</td>\n",
       "      <td>1.236823</td>\n",
       "      <td>0.119291</td>\n",
       "      <td>0.693596</td>\n",
       "    </tr>\n",
       "    <tr>\n",
       "      <th>3</th>\n",
       "      <td>8156</td>\n",
       "      <td>5.601643</td>\n",
       "      <td>0.363291</td>\n",
       "      <td>4.656204</td>\n",
       "      <td>0.102746</td>\n",
       "      <td>0.270966</td>\n",
       "      <td>0.077612</td>\n",
       "      <td>0.130824</td>\n",
       "    </tr>\n",
       "  </tbody>\n",
       "</table>\n",
       "</div>"
      ],
      "text/plain": [
       "             uu  avg_pur_cnt  smartphone_samsung_avg  smartphone_apple_avg  \\\n",
       "clst_k4                                                                      \n",
       "0         10839     3.213581                0.118000              0.053695   \n",
       "1        226088     1.332163                0.352849              0.223612   \n",
       "2         15349     5.975568                2.409277              0.247834   \n",
       "3          8156     5.601643                0.363291              4.656204   \n",
       "\n",
       "         smartphone_ect_avg  electronics_avg  appliances_avg   etc_avg  \n",
       "clst_k4                                                                 \n",
       "0                  0.063105         0.118738        2.762801  0.097241  \n",
       "1                  0.213567         0.220065        0.149035  0.173034  \n",
       "2                  1.268747         1.236823        0.119291  0.693596  \n",
       "3                  0.102746         0.270966        0.077612  0.130824  "
      ]
     },
     "execution_count": 57,
     "metadata": {},
     "output_type": "execute_result"
    }
   ],
   "source": [
    "# 8개 클러스터 EDA\n",
    "df_train_data.groupby('clst_k4').agg(\n",
    "    uu = ('user_id','count'),\n",
    "    avg_pur_cnt = ('pur_cnt','mean'),\n",
    "    smartphone_samsung_avg = ('smartphone_samsung','mean'),\n",
    "    smartphone_apple_avg = ('smartphone_apple','mean'),\n",
    "    smartphone_ect_avg = ('smartphone_ect','mean'),\n",
    "    electronics_avg = ('electronics','mean'),\n",
    "    appliances_avg = ('appliances','mean'),\n",
    "    etc_avg = ('etc','mean')\n",
    ")"
   ]
  },
  {
   "cell_type": "markdown",
   "metadata": {
    "id": "oBAsXTdb3gdu"
   },
   "source": [
    "- 0 군집 - 생활 가전 단건 구매 유저 (16.6%)\n",
    "- 1 군집 - 스마트폰 다회 구매 유저 (애플과 삼성 스마트폰 중심) 5.9%\n",
    "- 2 군집 - 전자제품이 아닌 기타 제품 단건 구매 유저 (12.8%)\n",
    "- 3 군집 - 휴대폰 및 소형가전만 단건 구매 유저 (64.6%)\n",
    "\n"
   ]
  },
  {
   "cell_type": "markdown",
   "metadata": {
    "id": "1LjUuVN30u16"
   },
   "source": [
    "\n",
    "\n",
    "---\n",
    "\n"
   ]
  },
  {
   "cell_type": "markdown",
   "metadata": {
    "id": "pg6LDpA5xuoE"
   },
   "source": [
    "### 5.5 5개 군집생성 및 군집별 특성확인"
   ]
  },
  {
   "cell_type": "markdown",
   "metadata": {
    "id": "Px9UXRMKzvXn"
   },
   "source": []
  },
  {
   "cell_type": "markdown",
   "metadata": {},
   "source": [
    "군집이 커지면 각 카테고리별 구매한유저가 보임\n",
    "군집이 작아지면 다중 카테고리 구매한 유저가 보임"
   ]
  },
  {
   "cell_type": "markdown",
   "metadata": {},
   "source": [
    "전략적으로 카테고리 세분화 or 묶어주기\n",
    "군집 수 늘여보기 or 줄여보기\n",
    "계속적인 반복 후에 군집 명명하고 의미 부여하기 !"
   ]
  }
 ],
 "metadata": {
  "colab": {
   "provenance": []
  },
  "kernelspec": {
   "display_name": "Python 3 (ipykernel)",
   "language": "python",
   "name": "python3"
  },
  "language_info": {
   "codemirror_mode": {
    "name": "ipython",
    "version": 3
   },
   "file_extension": ".py",
   "mimetype": "text/x-python",
   "name": "python",
   "nbconvert_exporter": "python",
   "pygments_lexer": "ipython3",
   "version": "3.9.12"
  }
 },
 "nbformat": 4,
 "nbformat_minor": 1
}
