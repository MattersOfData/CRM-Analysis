{
 "cells": [
  {
   "cell_type": "markdown",
   "metadata": {
    "id": "thih42bBWeXt"
   },
   "source": [
    "# DM 반응 예측모형\n"
   ]
  },
  {
   "cell_type": "markdown",
   "metadata": {
    "id": "Jnys5j04LT4s"
   },
   "source": [
    "## *1*. 환경 설정 "
   ]
  },
  {
   "cell_type": "markdown",
   "metadata": {
    "id": "AiG2H6MnLX0_"
   },
   "source": [
    "### 1.1 분석에 필요한 library 호출 및 google drive 연결\n"
   ]
  },
  {
   "cell_type": "code",
   "execution_count": 1,
   "metadata": {
    "executionInfo": {
     "elapsed": 1993,
     "status": "ok",
     "timestamp": 1669432471818,
     "user": {
      "displayName": "강현욱",
      "userId": "07194546442434465172"
     },
     "user_tz": -540
    },
    "id": "JYflBhS1WHge"
   },
   "outputs": [],
   "source": [
    "# 분석에 사용할 패키지 로딩\n",
    "import numpy as np\n",
    "import pandas as pd\n",
    "\n",
    "import matplotlib.pyplot as plt\n",
    "import seaborn as sns\n",
    "\n",
    "import datetime as dt\n",
    "\n",
    "from sklearn.model_selection import train_test_split # 데이터 세트 분할 \n",
    "from sklearn.ensemble import RandomForestClassifier # 모델링 \n",
    "from sklearn.metrics import accuracy_score # 정확도 평가 \n",
    "from sklearn.model_selection  import GridSearchCV # 하이퍼 파라메터 튜닝용  (훈련데이터 세트에서 valdiation set 생성)\n",
    "\n",
    "import warnings\n",
    "warnings.filterwarnings('ignore')"
   ]
  },
  {
   "cell_type": "code",
   "execution_count": 2,
   "metadata": {
    "executionInfo": {
     "elapsed": 6,
     "status": "ok",
     "timestamp": 1669432918511,
     "user": {
      "displayName": "강현욱",
      "userId": "07194546442434465172"
     },
     "user_tz": -540
    },
    "id": "u0xiEA2SZXiM"
   },
   "outputs": [],
   "source": [
    "#[옵션]\n",
    "## pandas 옵션 모든 컬럼 표시(...없이 표시)\n",
    "pd.set_option('display.max_columns', None)\n",
    "pd.set_option('display.max_seq_items', None)\n",
    "pd.set_option('display.max_rows', None)\n",
    "\n",
    "## 그래프 스타일 선택 \n",
    "plt.style.use('ggplot')  "
   ]
  },
  {
   "cell_type": "markdown",
   "metadata": {
    "colab": {
     "base_uri": "https://localhost:8080/"
    },
    "executionInfo": {
     "elapsed": 25789,
     "status": "ok",
     "timestamp": 1669432513756,
     "user": {
      "displayName": "강현욱",
      "userId": "07194546442434465172"
     },
     "user_tz": -540
    },
    "id": "VMo8pgjPWkMW",
    "outputId": "f49b3152-ce48-415a-fc84-707883b20481"
   },
   "source": [
    "구글드라이브에 있는 데이터셋 연결을 위한 구글드라이브 세팅\n",
    "from google.colab import drive\n",
    "drive.mount('/content/drive')"
   ]
  },
  {
   "cell_type": "markdown",
   "metadata": {
    "id": "7hpZoq_-Yuo-"
   },
   "source": [
    "## *2*. 데이터 불러오기 및 확인"
   ]
  },
  {
   "cell_type": "markdown",
   "metadata": {
    "id": "bs-Wu4qcLr77"
   },
   "source": [
    "### 2.1 데이터 불러오기 및 확인"
   ]
  },
  {
   "cell_type": "code",
   "execution_count": 2,
   "metadata": {
    "colab": {
     "base_uri": "https://localhost:8080/",
     "height": 287
    },
    "executionInfo": {
     "elapsed": 2299,
     "status": "ok",
     "timestamp": 1669432954085,
     "user": {
      "displayName": "강현욱",
      "userId": "07194546442434465172"
     },
     "user_tz": -540
    },
    "id": "ocyCY_yTWHgk",
    "outputId": "67266627-505d-468e-8e59-26dc6d9e7bfc"
   },
   "outputs": [
    {
     "data": {
      "text/html": [
       "<div>\n",
       "<style scoped>\n",
       "    .dataframe tbody tr th:only-of-type {\n",
       "        vertical-align: middle;\n",
       "    }\n",
       "\n",
       "    .dataframe tbody tr th {\n",
       "        vertical-align: top;\n",
       "    }\n",
       "\n",
       "    .dataframe thead th {\n",
       "        text-align: right;\n",
       "    }\n",
       "</style>\n",
       "<table border=\"1\" class=\"dataframe\">\n",
       "  <thead>\n",
       "    <tr style=\"text-align: right;\">\n",
       "      <th></th>\n",
       "      <th>customer_id</th>\n",
       "      <th>campaign</th>\n",
       "      <th>response</th>\n",
       "      <th>response_date</th>\n",
       "      <th>purchase</th>\n",
       "      <th>purchase_date</th>\n",
       "      <th>product_id</th>\n",
       "      <th>Rowid</th>\n",
       "      <th>age</th>\n",
       "      <th>age_youngest_child</th>\n",
       "      <th>...</th>\n",
       "      <th>months_current_account</th>\n",
       "      <th>months_customer</th>\n",
       "      <th>call_center_contacts</th>\n",
       "      <th>loan_accounts</th>\n",
       "      <th>number_products</th>\n",
       "      <th>number_transactions</th>\n",
       "      <th>non_worker_percentage</th>\n",
       "      <th>white_collar_percentage</th>\n",
       "      <th>rfm_score</th>\n",
       "      <th>X_random</th>\n",
       "    </tr>\n",
       "  </thead>\n",
       "  <tbody>\n",
       "    <tr>\n",
       "      <th>0</th>\n",
       "      <td>7</td>\n",
       "      <td>2</td>\n",
       "      <td>0</td>\n",
       "      <td>NaN</td>\n",
       "      <td>0</td>\n",
       "      <td>NaN</td>\n",
       "      <td>NaN</td>\n",
       "      <td>1</td>\n",
       "      <td>19</td>\n",
       "      <td>0</td>\n",
       "      <td>...</td>\n",
       "      <td>-4</td>\n",
       "      <td>0</td>\n",
       "      <td>1</td>\n",
       "      <td>1</td>\n",
       "      <td>1</td>\n",
       "      <td>0</td>\n",
       "      <td>9</td>\n",
       "      <td>26</td>\n",
       "      <td>0.00000</td>\n",
       "      <td>3</td>\n",
       "    </tr>\n",
       "    <tr>\n",
       "      <th>1</th>\n",
       "      <td>13</td>\n",
       "      <td>2</td>\n",
       "      <td>0</td>\n",
       "      <td>NaN</td>\n",
       "      <td>0</td>\n",
       "      <td>NaN</td>\n",
       "      <td>NaN</td>\n",
       "      <td>2</td>\n",
       "      <td>44</td>\n",
       "      <td>12</td>\n",
       "      <td>...</td>\n",
       "      <td>17</td>\n",
       "      <td>24</td>\n",
       "      <td>0</td>\n",
       "      <td>0</td>\n",
       "      <td>0</td>\n",
       "      <td>0</td>\n",
       "      <td>14</td>\n",
       "      <td>19</td>\n",
       "      <td>0.00000</td>\n",
       "      <td>1</td>\n",
       "    </tr>\n",
       "    <tr>\n",
       "      <th>2</th>\n",
       "      <td>15</td>\n",
       "      <td>2</td>\n",
       "      <td>0</td>\n",
       "      <td>NaN</td>\n",
       "      <td>0</td>\n",
       "      <td>NaN</td>\n",
       "      <td>NaN</td>\n",
       "      <td>3</td>\n",
       "      <td>45</td>\n",
       "      <td>12</td>\n",
       "      <td>...</td>\n",
       "      <td>33</td>\n",
       "      <td>36</td>\n",
       "      <td>0</td>\n",
       "      <td>4</td>\n",
       "      <td>2</td>\n",
       "      <td>1</td>\n",
       "      <td>14</td>\n",
       "      <td>19</td>\n",
       "      <td>7.60233</td>\n",
       "      <td>1</td>\n",
       "    </tr>\n",
       "    <tr>\n",
       "      <th>3</th>\n",
       "      <td>16</td>\n",
       "      <td>2</td>\n",
       "      <td>1</td>\n",
       "      <td>2006-07-05 00:00:00</td>\n",
       "      <td>0</td>\n",
       "      <td>NaN</td>\n",
       "      <td>183.0</td>\n",
       "      <td>761</td>\n",
       "      <td>43</td>\n",
       "      <td>12</td>\n",
       "      <td>...</td>\n",
       "      <td>34</td>\n",
       "      <td>36</td>\n",
       "      <td>0</td>\n",
       "      <td>0</td>\n",
       "      <td>3</td>\n",
       "      <td>2</td>\n",
       "      <td>14</td>\n",
       "      <td>19</td>\n",
       "      <td>10.14300</td>\n",
       "      <td>1</td>\n",
       "    </tr>\n",
       "    <tr>\n",
       "      <th>4</th>\n",
       "      <td>23</td>\n",
       "      <td>2</td>\n",
       "      <td>0</td>\n",
       "      <td>NaN</td>\n",
       "      <td>0</td>\n",
       "      <td>NaN</td>\n",
       "      <td>NaN</td>\n",
       "      <td>4</td>\n",
       "      <td>42</td>\n",
       "      <td>11</td>\n",
       "      <td>...</td>\n",
       "      <td>22</td>\n",
       "      <td>24</td>\n",
       "      <td>0</td>\n",
       "      <td>0</td>\n",
       "      <td>0</td>\n",
       "      <td>0</td>\n",
       "      <td>14</td>\n",
       "      <td>19</td>\n",
       "      <td>0.00000</td>\n",
       "      <td>3</td>\n",
       "    </tr>\n",
       "  </tbody>\n",
       "</table>\n",
       "<p>5 rows × 31 columns</p>\n",
       "</div>"
      ],
      "text/plain": [
       "   customer_id  campaign  response        response_date  purchase  \\\n",
       "0            7         2         0                  NaN         0   \n",
       "1           13         2         0                  NaN         0   \n",
       "2           15         2         0                  NaN         0   \n",
       "3           16         2         1  2006-07-05 00:00:00         0   \n",
       "4           23         2         0                  NaN         0   \n",
       "\n",
       "  purchase_date  product_id  Rowid  age  age_youngest_child  ...  \\\n",
       "0           NaN         NaN      1   19                   0  ...   \n",
       "1           NaN         NaN      2   44                  12  ...   \n",
       "2           NaN         NaN      3   45                  12  ...   \n",
       "3           NaN       183.0    761   43                  12  ...   \n",
       "4           NaN         NaN      4   42                  11  ...   \n",
       "\n",
       "   months_current_account months_customer  call_center_contacts loan_accounts  \\\n",
       "0                      -4               0                     1             1   \n",
       "1                      17              24                     0             0   \n",
       "2                      33              36                     0             4   \n",
       "3                      34              36                     0             0   \n",
       "4                      22              24                     0             0   \n",
       "\n",
       "   number_products  number_transactions  non_worker_percentage  \\\n",
       "0                1                    0                      9   \n",
       "1                0                    0                     14   \n",
       "2                2                    1                     14   \n",
       "3                3                    2                     14   \n",
       "4                0                    0                     14   \n",
       "\n",
       "   white_collar_percentage  rfm_score X_random  \n",
       "0                       26    0.00000        3  \n",
       "1                       19    0.00000        1  \n",
       "2                       19    7.60233        1  \n",
       "3                       19   10.14300        1  \n",
       "4                       19    0.00000        3  \n",
       "\n",
       "[5 rows x 31 columns]"
      ]
     },
     "execution_count": 2,
     "metadata": {},
     "output_type": "execute_result"
    }
   ],
   "source": [
    "## 파일의 위치는 내 구글드라이브 연결후 실습 파일을 선택하고 \"...\" 클릭하여 \"경로복사\"를 하여 붙여 넣으시면 됩니다. \n",
    "data = pd.read_csv('pm_customer_train1.csv')\n",
    "\n",
    "data.head() # 처음 5개 데이터 확인 "
   ]
  },
  {
   "cell_type": "code",
   "execution_count": 3,
   "metadata": {
    "colab": {
     "base_uri": "https://localhost:8080/",
     "height": 270
    },
    "executionInfo": {
     "elapsed": 331,
     "status": "ok",
     "timestamp": 1669432991914,
     "user": {
      "displayName": "강현욱",
      "userId": "07194546442434465172"
     },
     "user_tz": -540
    },
    "id": "8zpu055QWHgn",
    "outputId": "a479a6d3-7129-4c8e-94a2-790306b90a51"
   },
   "outputs": [
    {
     "data": {
      "text/html": [
       "<div>\n",
       "<style scoped>\n",
       "    .dataframe tbody tr th:only-of-type {\n",
       "        vertical-align: middle;\n",
       "    }\n",
       "\n",
       "    .dataframe tbody tr th {\n",
       "        vertical-align: top;\n",
       "    }\n",
       "\n",
       "    .dataframe thead th {\n",
       "        text-align: right;\n",
       "    }\n",
       "</style>\n",
       "<table border=\"1\" class=\"dataframe\">\n",
       "  <thead>\n",
       "    <tr style=\"text-align: right;\">\n",
       "      <th></th>\n",
       "      <th>customer_id</th>\n",
       "      <th>campaign</th>\n",
       "      <th>response</th>\n",
       "      <th>response_date</th>\n",
       "      <th>purchase</th>\n",
       "      <th>purchase_date</th>\n",
       "      <th>product_id</th>\n",
       "      <th>Rowid</th>\n",
       "      <th>age</th>\n",
       "      <th>age_youngest_child</th>\n",
       "      <th>...</th>\n",
       "      <th>months_current_account</th>\n",
       "      <th>months_customer</th>\n",
       "      <th>call_center_contacts</th>\n",
       "      <th>loan_accounts</th>\n",
       "      <th>number_products</th>\n",
       "      <th>number_transactions</th>\n",
       "      <th>non_worker_percentage</th>\n",
       "      <th>white_collar_percentage</th>\n",
       "      <th>rfm_score</th>\n",
       "      <th>X_random</th>\n",
       "    </tr>\n",
       "  </thead>\n",
       "  <tbody>\n",
       "    <tr>\n",
       "      <th>21922</th>\n",
       "      <td>53188</td>\n",
       "      <td>3</td>\n",
       "      <td>0</td>\n",
       "      <td>NaN</td>\n",
       "      <td>0</td>\n",
       "      <td>NaN</td>\n",
       "      <td>NaN</td>\n",
       "      <td>16583</td>\n",
       "      <td>44</td>\n",
       "      <td>17</td>\n",
       "      <td>...</td>\n",
       "      <td>21</td>\n",
       "      <td>24</td>\n",
       "      <td>2</td>\n",
       "      <td>0</td>\n",
       "      <td>3</td>\n",
       "      <td>1</td>\n",
       "      <td>14</td>\n",
       "      <td>30</td>\n",
       "      <td>12.0323</td>\n",
       "      <td>3</td>\n",
       "    </tr>\n",
       "    <tr>\n",
       "      <th>21923</th>\n",
       "      <td>53188</td>\n",
       "      <td>2</td>\n",
       "      <td>0</td>\n",
       "      <td>NaN</td>\n",
       "      <td>0</td>\n",
       "      <td>NaN</td>\n",
       "      <td>NaN</td>\n",
       "      <td>16584</td>\n",
       "      <td>44</td>\n",
       "      <td>17</td>\n",
       "      <td>...</td>\n",
       "      <td>21</td>\n",
       "      <td>24</td>\n",
       "      <td>2</td>\n",
       "      <td>0</td>\n",
       "      <td>3</td>\n",
       "      <td>1</td>\n",
       "      <td>14</td>\n",
       "      <td>30</td>\n",
       "      <td>12.0323</td>\n",
       "      <td>3</td>\n",
       "    </tr>\n",
       "    <tr>\n",
       "      <th>21924</th>\n",
       "      <td>53191</td>\n",
       "      <td>2</td>\n",
       "      <td>0</td>\n",
       "      <td>NaN</td>\n",
       "      <td>0</td>\n",
       "      <td>NaN</td>\n",
       "      <td>NaN</td>\n",
       "      <td>16585</td>\n",
       "      <td>40</td>\n",
       "      <td>9</td>\n",
       "      <td>...</td>\n",
       "      <td>10</td>\n",
       "      <td>12</td>\n",
       "      <td>3</td>\n",
       "      <td>0</td>\n",
       "      <td>0</td>\n",
       "      <td>0</td>\n",
       "      <td>11</td>\n",
       "      <td>39</td>\n",
       "      <td>0.0000</td>\n",
       "      <td>1</td>\n",
       "    </tr>\n",
       "    <tr>\n",
       "      <th>21925</th>\n",
       "      <td>53195</td>\n",
       "      <td>2</td>\n",
       "      <td>0</td>\n",
       "      <td>NaN</td>\n",
       "      <td>0</td>\n",
       "      <td>NaN</td>\n",
       "      <td>NaN</td>\n",
       "      <td>16586</td>\n",
       "      <td>29</td>\n",
       "      <td>0</td>\n",
       "      <td>...</td>\n",
       "      <td>40</td>\n",
       "      <td>48</td>\n",
       "      <td>5</td>\n",
       "      <td>0</td>\n",
       "      <td>0</td>\n",
       "      <td>0</td>\n",
       "      <td>15</td>\n",
       "      <td>44</td>\n",
       "      <td>0.0000</td>\n",
       "      <td>3</td>\n",
       "    </tr>\n",
       "    <tr>\n",
       "      <th>21926</th>\n",
       "      <td>53197</td>\n",
       "      <td>2</td>\n",
       "      <td>0</td>\n",
       "      <td>NaN</td>\n",
       "      <td>0</td>\n",
       "      <td>NaN</td>\n",
       "      <td>NaN</td>\n",
       "      <td>16587</td>\n",
       "      <td>42</td>\n",
       "      <td>15</td>\n",
       "      <td>...</td>\n",
       "      <td>15</td>\n",
       "      <td>24</td>\n",
       "      <td>5</td>\n",
       "      <td>2</td>\n",
       "      <td>3</td>\n",
       "      <td>3</td>\n",
       "      <td>15</td>\n",
       "      <td>44</td>\n",
       "      <td>11.6806</td>\n",
       "      <td>3</td>\n",
       "    </tr>\n",
       "  </tbody>\n",
       "</table>\n",
       "<p>5 rows × 31 columns</p>\n",
       "</div>"
      ],
      "text/plain": [
       "       customer_id  campaign  response response_date  purchase purchase_date  \\\n",
       "21922        53188         3         0           NaN         0           NaN   \n",
       "21923        53188         2         0           NaN         0           NaN   \n",
       "21924        53191         2         0           NaN         0           NaN   \n",
       "21925        53195         2         0           NaN         0           NaN   \n",
       "21926        53197         2         0           NaN         0           NaN   \n",
       "\n",
       "       product_id  Rowid  age  age_youngest_child  ...  \\\n",
       "21922         NaN  16583   44                  17  ...   \n",
       "21923         NaN  16584   44                  17  ...   \n",
       "21924         NaN  16585   40                   9  ...   \n",
       "21925         NaN  16586   29                   0  ...   \n",
       "21926         NaN  16587   42                  15  ...   \n",
       "\n",
       "       months_current_account months_customer  call_center_contacts  \\\n",
       "21922                      21              24                     2   \n",
       "21923                      21              24                     2   \n",
       "21924                      10              12                     3   \n",
       "21925                      40              48                     5   \n",
       "21926                      15              24                     5   \n",
       "\n",
       "      loan_accounts  number_products  number_transactions  \\\n",
       "21922             0                3                    1   \n",
       "21923             0                3                    1   \n",
       "21924             0                0                    0   \n",
       "21925             0                0                    0   \n",
       "21926             2                3                    3   \n",
       "\n",
       "       non_worker_percentage  white_collar_percentage  rfm_score X_random  \n",
       "21922                     14                       30    12.0323        3  \n",
       "21923                     14                       30    12.0323        3  \n",
       "21924                     11                       39     0.0000        1  \n",
       "21925                     15                       44     0.0000        3  \n",
       "21926                     15                       44    11.6806        3  \n",
       "\n",
       "[5 rows x 31 columns]"
      ]
     },
     "execution_count": 3,
     "metadata": {},
     "output_type": "execute_result"
    }
   ],
   "source": [
    "data.tail() # 마지막 5개 데이터 확인 "
   ]
  },
  {
   "cell_type": "code",
   "execution_count": 4,
   "metadata": {
    "colab": {
     "base_uri": "https://localhost:8080/"
    },
    "executionInfo": {
     "elapsed": 285,
     "status": "ok",
     "timestamp": 1669433010067,
     "user": {
      "displayName": "강현욱",
      "userId": "07194546442434465172"
     },
     "user_tz": -540
    },
    "id": "bH6qL6sbWHgo",
    "outputId": "526cf20e-450d-4180-bf99-e2adc5252007"
   },
   "outputs": [
    {
     "name": "stdout",
     "output_type": "stream",
     "text": [
      "<class 'pandas.core.frame.DataFrame'>\n",
      "RangeIndex: 21927 entries, 0 to 21926\n",
      "Data columns (total 31 columns):\n",
      " #   Column                          Non-Null Count  Dtype  \n",
      "---  ------                          --------------  -----  \n",
      " 0   customer_id                     21927 non-null  int64  \n",
      " 1   campaign                        21927 non-null  int64  \n",
      " 2   response                        21927 non-null  int64  \n",
      " 3   response_date                   2328 non-null   object \n",
      " 4   purchase                        21927 non-null  int64  \n",
      " 5   purchase_date                   376 non-null    object \n",
      " 6   product_id                      1952 non-null   float64\n",
      " 7   Rowid                           21927 non-null  int64  \n",
      " 8   age                             21927 non-null  int64  \n",
      " 9   age_youngest_child              21927 non-null  int64  \n",
      " 10  average#balance#feed#index      21927 non-null  int64  \n",
      " 11  branch                          21927 non-null  object \n",
      " 12  debt_equity                     21927 non-null  int64  \n",
      " 13  gender                          21927 non-null  object \n",
      " 14  bad_payment                     21927 non-null  int64  \n",
      " 15  gold_card                       21927 non-null  int64  \n",
      " 16  pension_plan                    21927 non-null  int64  \n",
      " 17  household_debt_to_equity_ratio  21927 non-null  int64  \n",
      " 18  income                          21927 non-null  float64\n",
      " 19  marital                         21927 non-null  object \n",
      " 20  members_in_household            21927 non-null  int64  \n",
      " 21  months_current_account          21927 non-null  int64  \n",
      " 22  months_customer                 21927 non-null  int64  \n",
      " 23  call_center_contacts            21927 non-null  int64  \n",
      " 24  loan_accounts                   21927 non-null  int64  \n",
      " 25  number_products                 21927 non-null  int64  \n",
      " 26  number_transactions             21927 non-null  int64  \n",
      " 27  non_worker_percentage           21927 non-null  int64  \n",
      " 28  white_collar_percentage         21927 non-null  int64  \n",
      " 29  rfm_score                       21927 non-null  float64\n",
      " 30  X_random                        21927 non-null  int64  \n",
      "dtypes: float64(3), int64(23), object(5)\n",
      "memory usage: 5.2+ MB\n"
     ]
    }
   ],
   "source": [
    "# 각 컬럼(변수)의 유형 확인\n",
    "data.info()\n",
    "\n",
    "## 변수명이 특이하게 '#'이들어간 경우가 있음 - 10번행 average#balance#feed#index -> #을 _로 변환\n",
    "## 날짜 값이 문자형으로 되어있음 - 3번행 response_date, 5번행 purchase_date\n",
    "## 1강때 만들었던 rfm_score 가보임 \n",
    "## X_random 이라는 값의 의미는 무엇일까? "
   ]
  },
  {
   "cell_type": "code",
   "execution_count": 5,
   "metadata": {
    "colab": {
     "base_uri": "https://localhost:8080/",
     "height": 364
    },
    "executionInfo": {
     "elapsed": 86,
     "status": "ok",
     "timestamp": 1663382047035,
     "user": {
      "displayName": "강현욱",
      "userId": "07194546442434465172"
     },
     "user_tz": -540
    },
    "id": "TDNajLSHWHgp",
    "outputId": "ae619d67-48e9-446d-fd12-d196e438b419"
   },
   "outputs": [
    {
     "data": {
      "text/html": [
       "<div>\n",
       "<style scoped>\n",
       "    .dataframe tbody tr th:only-of-type {\n",
       "        vertical-align: middle;\n",
       "    }\n",
       "\n",
       "    .dataframe tbody tr th {\n",
       "        vertical-align: top;\n",
       "    }\n",
       "\n",
       "    .dataframe thead th {\n",
       "        text-align: right;\n",
       "    }\n",
       "</style>\n",
       "<table border=\"1\" class=\"dataframe\">\n",
       "  <thead>\n",
       "    <tr style=\"text-align: right;\">\n",
       "      <th></th>\n",
       "      <th>customer_id</th>\n",
       "      <th>campaign</th>\n",
       "      <th>response</th>\n",
       "      <th>purchase</th>\n",
       "      <th>product_id</th>\n",
       "      <th>Rowid</th>\n",
       "      <th>age</th>\n",
       "      <th>age_youngest_child</th>\n",
       "      <th>average#balance#feed#index</th>\n",
       "      <th>debt_equity</th>\n",
       "      <th>...</th>\n",
       "      <th>months_current_account</th>\n",
       "      <th>months_customer</th>\n",
       "      <th>call_center_contacts</th>\n",
       "      <th>loan_accounts</th>\n",
       "      <th>number_products</th>\n",
       "      <th>number_transactions</th>\n",
       "      <th>non_worker_percentage</th>\n",
       "      <th>white_collar_percentage</th>\n",
       "      <th>rfm_score</th>\n",
       "      <th>X_random</th>\n",
       "    </tr>\n",
       "  </thead>\n",
       "  <tbody>\n",
       "    <tr>\n",
       "      <th>count</th>\n",
       "      <td>21927.000000</td>\n",
       "      <td>21927.000000</td>\n",
       "      <td>21927.000000</td>\n",
       "      <td>21927.000000</td>\n",
       "      <td>1952.000000</td>\n",
       "      <td>21927.000000</td>\n",
       "      <td>21927.000000</td>\n",
       "      <td>21927.000000</td>\n",
       "      <td>21927.000000</td>\n",
       "      <td>21927.000000</td>\n",
       "      <td>...</td>\n",
       "      <td>21927.000000</td>\n",
       "      <td>21927.000000</td>\n",
       "      <td>21927.000000</td>\n",
       "      <td>21927.000000</td>\n",
       "      <td>21927.000000</td>\n",
       "      <td>21927.000000</td>\n",
       "      <td>21927.000000</td>\n",
       "      <td>21927.000000</td>\n",
       "      <td>21927.000000</td>\n",
       "      <td>21927.000000</td>\n",
       "    </tr>\n",
       "    <tr>\n",
       "      <th>mean</th>\n",
       "      <td>34478.207279</td>\n",
       "      <td>2.288229</td>\n",
       "      <td>0.106170</td>\n",
       "      <td>0.073061</td>\n",
       "      <td>313.339139</td>\n",
       "      <td>8910.780636</td>\n",
       "      <td>39.502668</td>\n",
       "      <td>11.171661</td>\n",
       "      <td>133.679801</td>\n",
       "      <td>39.502668</td>\n",
       "      <td>...</td>\n",
       "      <td>20.696539</td>\n",
       "      <td>27.457655</td>\n",
       "      <td>2.241939</td>\n",
       "      <td>1.095636</td>\n",
       "      <td>1.608610</td>\n",
       "      <td>1.950335</td>\n",
       "      <td>10.960368</td>\n",
       "      <td>33.005701</td>\n",
       "      <td>6.204481</td>\n",
       "      <td>2.006658</td>\n",
       "    </tr>\n",
       "    <tr>\n",
       "      <th>std</th>\n",
       "      <td>22071.694286</td>\n",
       "      <td>0.700998</td>\n",
       "      <td>0.308063</td>\n",
       "      <td>0.260242</td>\n",
       "      <td>118.488887</td>\n",
       "      <td>5944.909794</td>\n",
       "      <td>11.609933</td>\n",
       "      <td>10.260312</td>\n",
       "      <td>198.281111</td>\n",
       "      <td>11.609933</td>\n",
       "      <td>...</td>\n",
       "      <td>13.361594</td>\n",
       "      <td>14.519929</td>\n",
       "      <td>1.571947</td>\n",
       "      <td>1.381232</td>\n",
       "      <td>1.778061</td>\n",
       "      <td>4.632794</td>\n",
       "      <td>3.841024</td>\n",
       "      <td>8.852615</td>\n",
       "      <td>7.204046</td>\n",
       "      <td>0.814195</td>\n",
       "    </tr>\n",
       "    <tr>\n",
       "      <th>min</th>\n",
       "      <td>7.000000</td>\n",
       "      <td>1.000000</td>\n",
       "      <td>0.000000</td>\n",
       "      <td>0.000000</td>\n",
       "      <td>183.000000</td>\n",
       "      <td>1.000000</td>\n",
       "      <td>10.000000</td>\n",
       "      <td>0.000000</td>\n",
       "      <td>0.000000</td>\n",
       "      <td>10.000000</td>\n",
       "      <td>...</td>\n",
       "      <td>-7.000000</td>\n",
       "      <td>0.000000</td>\n",
       "      <td>0.000000</td>\n",
       "      <td>0.000000</td>\n",
       "      <td>0.000000</td>\n",
       "      <td>0.000000</td>\n",
       "      <td>0.000000</td>\n",
       "      <td>5.000000</td>\n",
       "      <td>0.000000</td>\n",
       "      <td>1.000000</td>\n",
       "    </tr>\n",
       "    <tr>\n",
       "      <th>25%</th>\n",
       "      <td>17013.500000</td>\n",
       "      <td>2.000000</td>\n",
       "      <td>0.000000</td>\n",
       "      <td>0.000000</td>\n",
       "      <td>183.000000</td>\n",
       "      <td>3154.500000</td>\n",
       "      <td>32.000000</td>\n",
       "      <td>2.000000</td>\n",
       "      <td>0.000000</td>\n",
       "      <td>32.000000</td>\n",
       "      <td>...</td>\n",
       "      <td>11.000000</td>\n",
       "      <td>24.000000</td>\n",
       "      <td>1.000000</td>\n",
       "      <td>0.000000</td>\n",
       "      <td>0.000000</td>\n",
       "      <td>0.000000</td>\n",
       "      <td>8.000000</td>\n",
       "      <td>27.000000</td>\n",
       "      <td>0.000000</td>\n",
       "      <td>1.000000</td>\n",
       "    </tr>\n",
       "    <tr>\n",
       "      <th>50%</th>\n",
       "      <td>33264.000000</td>\n",
       "      <td>2.000000</td>\n",
       "      <td>0.000000</td>\n",
       "      <td>0.000000</td>\n",
       "      <td>421.000000</td>\n",
       "      <td>8636.000000</td>\n",
       "      <td>39.000000</td>\n",
       "      <td>9.000000</td>\n",
       "      <td>45.000000</td>\n",
       "      <td>39.000000</td>\n",
       "      <td>...</td>\n",
       "      <td>22.000000</td>\n",
       "      <td>24.000000</td>\n",
       "      <td>2.000000</td>\n",
       "      <td>1.000000</td>\n",
       "      <td>1.000000</td>\n",
       "      <td>1.000000</td>\n",
       "      <td>11.000000</td>\n",
       "      <td>33.000000</td>\n",
       "      <td>7.572330</td>\n",
       "      <td>2.000000</td>\n",
       "    </tr>\n",
       "    <tr>\n",
       "      <th>75%</th>\n",
       "      <td>49520.500000</td>\n",
       "      <td>3.000000</td>\n",
       "      <td>0.000000</td>\n",
       "      <td>0.000000</td>\n",
       "      <td>421.000000</td>\n",
       "      <td>14117.500000</td>\n",
       "      <td>46.000000</td>\n",
       "      <td>17.000000</td>\n",
       "      <td>199.000000</td>\n",
       "      <td>46.000000</td>\n",
       "      <td>...</td>\n",
       "      <td>32.000000</td>\n",
       "      <td>36.000000</td>\n",
       "      <td>3.000000</td>\n",
       "      <td>2.000000</td>\n",
       "      <td>3.000000</td>\n",
       "      <td>2.000000</td>\n",
       "      <td>13.000000</td>\n",
       "      <td>39.000000</td>\n",
       "      <td>10.383300</td>\n",
       "      <td>3.000000</td>\n",
       "    </tr>\n",
       "    <tr>\n",
       "      <th>max</th>\n",
       "      <td>116993.000000</td>\n",
       "      <td>4.000000</td>\n",
       "      <td>1.000000</td>\n",
       "      <td>1.000000</td>\n",
       "      <td>421.000000</td>\n",
       "      <td>19599.000000</td>\n",
       "      <td>96.000000</td>\n",
       "      <td>66.000000</td>\n",
       "      <td>2386.000000</td>\n",
       "      <td>96.000000</td>\n",
       "      <td>...</td>\n",
       "      <td>41.000000</td>\n",
       "      <td>48.000000</td>\n",
       "      <td>10.000000</td>\n",
       "      <td>7.000000</td>\n",
       "      <td>6.000000</td>\n",
       "      <td>38.000000</td>\n",
       "      <td>37.000000</td>\n",
       "      <td>73.000000</td>\n",
       "      <td>45.267799</td>\n",
       "      <td>3.000000</td>\n",
       "    </tr>\n",
       "  </tbody>\n",
       "</table>\n",
       "<p>8 rows × 26 columns</p>\n",
       "</div>"
      ],
      "text/plain": [
       "         customer_id      campaign      response      purchase   product_id  \\\n",
       "count   21927.000000  21927.000000  21927.000000  21927.000000  1952.000000   \n",
       "mean    34478.207279      2.288229      0.106170      0.073061   313.339139   \n",
       "std     22071.694286      0.700998      0.308063      0.260242   118.488887   \n",
       "min         7.000000      1.000000      0.000000      0.000000   183.000000   \n",
       "25%     17013.500000      2.000000      0.000000      0.000000   183.000000   \n",
       "50%     33264.000000      2.000000      0.000000      0.000000   421.000000   \n",
       "75%     49520.500000      3.000000      0.000000      0.000000   421.000000   \n",
       "max    116993.000000      4.000000      1.000000      1.000000   421.000000   \n",
       "\n",
       "              Rowid           age  age_youngest_child  \\\n",
       "count  21927.000000  21927.000000        21927.000000   \n",
       "mean    8910.780636     39.502668           11.171661   \n",
       "std     5944.909794     11.609933           10.260312   \n",
       "min        1.000000     10.000000            0.000000   \n",
       "25%     3154.500000     32.000000            2.000000   \n",
       "50%     8636.000000     39.000000            9.000000   \n",
       "75%    14117.500000     46.000000           17.000000   \n",
       "max    19599.000000     96.000000           66.000000   \n",
       "\n",
       "       average#balance#feed#index   debt_equity  ...  months_current_account  \\\n",
       "count                21927.000000  21927.000000  ...            21927.000000   \n",
       "mean                   133.679801     39.502668  ...               20.696539   \n",
       "std                    198.281111     11.609933  ...               13.361594   \n",
       "min                      0.000000     10.000000  ...               -7.000000   \n",
       "25%                      0.000000     32.000000  ...               11.000000   \n",
       "50%                     45.000000     39.000000  ...               22.000000   \n",
       "75%                    199.000000     46.000000  ...               32.000000   \n",
       "max                   2386.000000     96.000000  ...               41.000000   \n",
       "\n",
       "       months_customer  call_center_contacts  loan_accounts  number_products  \\\n",
       "count     21927.000000          21927.000000   21927.000000     21927.000000   \n",
       "mean         27.457655              2.241939       1.095636         1.608610   \n",
       "std          14.519929              1.571947       1.381232         1.778061   \n",
       "min           0.000000              0.000000       0.000000         0.000000   \n",
       "25%          24.000000              1.000000       0.000000         0.000000   \n",
       "50%          24.000000              2.000000       1.000000         1.000000   \n",
       "75%          36.000000              3.000000       2.000000         3.000000   \n",
       "max          48.000000             10.000000       7.000000         6.000000   \n",
       "\n",
       "       number_transactions  non_worker_percentage  white_collar_percentage  \\\n",
       "count         21927.000000           21927.000000             21927.000000   \n",
       "mean              1.950335              10.960368                33.005701   \n",
       "std               4.632794               3.841024                 8.852615   \n",
       "min               0.000000               0.000000                 5.000000   \n",
       "25%               0.000000               8.000000                27.000000   \n",
       "50%               1.000000              11.000000                33.000000   \n",
       "75%               2.000000              13.000000                39.000000   \n",
       "max              38.000000              37.000000                73.000000   \n",
       "\n",
       "          rfm_score      X_random  \n",
       "count  21927.000000  21927.000000  \n",
       "mean       6.204481      2.006658  \n",
       "std        7.204046      0.814195  \n",
       "min        0.000000      1.000000  \n",
       "25%        0.000000      1.000000  \n",
       "50%        7.572330      2.000000  \n",
       "75%       10.383300      3.000000  \n",
       "max       45.267799      3.000000  \n",
       "\n",
       "[8 rows x 26 columns]"
      ]
     },
     "execution_count": 5,
     "metadata": {},
     "output_type": "execute_result"
    }
   ],
   "source": [
    "# 연속형 분포의 변수 확인 \n",
    "data.describe()"
   ]
  },
  {
   "cell_type": "markdown",
   "metadata": {
    "id": "YFbKyeTb7alz"
   },
   "source": [
    "### 2.2 데이터형변환\n"
   ]
  },
  {
   "cell_type": "code",
   "execution_count": 10,
   "metadata": {
    "colab": {
     "base_uri": "https://localhost:8080/"
    },
    "executionInfo": {
     "elapsed": 284,
     "status": "ok",
     "timestamp": 1669433122888,
     "user": {
      "displayName": "강현욱",
      "userId": "07194546442434465172"
     },
     "user_tz": -540
    },
    "id": "fdyARswy7ffi",
    "outputId": "8ce3eb58-83df-4db2-a5f7-cf10c9ae1565"
   },
   "outputs": [
    {
     "name": "stdout",
     "output_type": "stream",
     "text": [
      "<class 'pandas.core.frame.DataFrame'>\n",
      "RangeIndex: 21927 entries, 0 to 21926\n",
      "Data columns (total 31 columns):\n",
      " #   Column                          Non-Null Count  Dtype         \n",
      "---  ------                          --------------  -----         \n",
      " 0   customer_id                     21927 non-null  int64         \n",
      " 1   campaign                        21927 non-null  int64         \n",
      " 2   response                        21927 non-null  int64         \n",
      " 3   response_date                   2328 non-null   datetime64[ns]\n",
      " 4   purchase                        21927 non-null  int64         \n",
      " 5   purchase_date                   376 non-null    datetime64[ns]\n",
      " 6   product_id                      1952 non-null   float64       \n",
      " 7   Rowid                           21927 non-null  int64         \n",
      " 8   age                             21927 non-null  int64         \n",
      " 9   age_youngest_child              21927 non-null  int64         \n",
      " 10  average_balance_feed_index      21927 non-null  int64         \n",
      " 11  branch                          21927 non-null  object        \n",
      " 12  debt_equity                     21927 non-null  int64         \n",
      " 13  gender                          21927 non-null  object        \n",
      " 14  bad_payment                     21927 non-null  int64         \n",
      " 15  gold_card                       21927 non-null  int64         \n",
      " 16  pension_plan                    21927 non-null  int64         \n",
      " 17  household_debt_to_equity_ratio  21927 non-null  int64         \n",
      " 18  income                          21927 non-null  float64       \n",
      " 19  marital                         21927 non-null  object        \n",
      " 20  members_in_household            21927 non-null  int64         \n",
      " 21  months_current_account          21927 non-null  int64         \n",
      " 22  months_customer                 21927 non-null  int64         \n",
      " 23  call_center_contacts            21927 non-null  int64         \n",
      " 24  loan_accounts                   21927 non-null  int64         \n",
      " 25  number_products                 21927 non-null  int64         \n",
      " 26  number_transactions             21927 non-null  int64         \n",
      " 27  non_worker_percentage           21927 non-null  int64         \n",
      " 28  white_collar_percentage         21927 non-null  int64         \n",
      " 29  rfm_score                       21927 non-null  float64       \n",
      " 30  X_random                        21927 non-null  int64         \n",
      "dtypes: datetime64[ns](2), float64(3), int64(23), object(3)\n",
      "memory usage: 5.2+ MB\n"
     ]
    }
   ],
   "source": [
    "## 데이터형변환 : 날짜 계산을 위해 InvoiceDate의 Data type을 object type -> datetime64 로 변환 \n",
    "data['response_date'] = pd.to_datetime(data['response_date'])\n",
    "data['purchase_date'] = pd.to_datetime(data['purchase_date'])\n",
    "\n",
    "data.info() "
   ]
  },
  {
   "cell_type": "markdown",
   "metadata": {
    "id": "QQyTPqvd75FX"
   },
   "source": [
    "### 2.3 변수명 수정"
   ]
  },
  {
   "cell_type": "code",
   "execution_count": 11,
   "metadata": {
    "colab": {
     "base_uri": "https://localhost:8080/"
    },
    "executionInfo": {
     "elapsed": 258,
     "status": "ok",
     "timestamp": 1663399565245,
     "user": {
      "displayName": "강현욱",
      "userId": "07194546442434465172"
     },
     "user_tz": -540
    },
    "id": "nZ6UjwB_ez0E",
    "outputId": "1195ee2f-4435-4b81-ce9c-ea703d3077c9"
   },
   "outputs": [
    {
     "name": "stdout",
     "output_type": "stream",
     "text": [
      "<class 'pandas.core.frame.DataFrame'>\n",
      "RangeIndex: 21927 entries, 0 to 21926\n",
      "Data columns (total 31 columns):\n",
      " #   Column                          Non-Null Count  Dtype         \n",
      "---  ------                          --------------  -----         \n",
      " 0   customer_id                     21927 non-null  int64         \n",
      " 1   campaign                        21927 non-null  int64         \n",
      " 2   response                        21927 non-null  int64         \n",
      " 3   response_date                   2328 non-null   datetime64[ns]\n",
      " 4   purchase                        21927 non-null  int64         \n",
      " 5   purchase_date                   376 non-null    datetime64[ns]\n",
      " 6   product_id                      1952 non-null   float64       \n",
      " 7   Rowid                           21927 non-null  int64         \n",
      " 8   age                             21927 non-null  int64         \n",
      " 9   age_youngest_child              21927 non-null  int64         \n",
      " 10  average_balance_feed_index      21927 non-null  int64         \n",
      " 11  branch                          21927 non-null  object        \n",
      " 12  debt_equity                     21927 non-null  int64         \n",
      " 13  gender                          21927 non-null  object        \n",
      " 14  bad_payment                     21927 non-null  int64         \n",
      " 15  gold_card                       21927 non-null  int64         \n",
      " 16  pension_plan                    21927 non-null  int64         \n",
      " 17  household_debt_to_equity_ratio  21927 non-null  int64         \n",
      " 18  income                          21927 non-null  float64       \n",
      " 19  marital                         21927 non-null  object        \n",
      " 20  members_in_household            21927 non-null  int64         \n",
      " 21  months_current_account          21927 non-null  int64         \n",
      " 22  months_customer                 21927 non-null  int64         \n",
      " 23  call_center_contacts            21927 non-null  int64         \n",
      " 24  loan_accounts                   21927 non-null  int64         \n",
      " 25  number_products                 21927 non-null  int64         \n",
      " 26  number_transactions             21927 non-null  int64         \n",
      " 27  non_worker_percentage           21927 non-null  int64         \n",
      " 28  white_collar_percentage         21927 non-null  int64         \n",
      " 29  rfm_score                       21927 non-null  float64       \n",
      " 30  X_random                        21927 non-null  int64         \n",
      "dtypes: datetime64[ns](2), float64(3), int64(23), object(3)\n",
      "memory usage: 5.2+ MB\n"
     ]
    }
   ],
   "source": [
    "# 변수명이 특이한 column 확인 'average#balance#feed#index' '#'을 '_'로 수정 \n",
    "# 파이썬에서는 # 는 에러 표시됨\n",
    "data.rename(columns = {'average#balance#feed#index' : 'average_balance_feed_index'},inplace= True)\n",
    "\n",
    "data.info()\n",
    "\n",
    "## 한글은 꼭 미리 영문화하여 미리 에러방지!"
   ]
  },
  {
   "cell_type": "markdown",
   "metadata": {
    "id": "nT08E4jIc2GR"
   },
   "source": [
    "### 2.4 데이터 확인 및 선택 "
   ]
  },
  {
   "cell_type": "code",
   "execution_count": 12,
   "metadata": {
    "colab": {
     "base_uri": "https://localhost:8080/"
    },
    "executionInfo": {
     "elapsed": 305,
     "status": "ok",
     "timestamp": 1669433207651,
     "user": {
      "displayName": "강현욱",
      "userId": "07194546442434465172"
     },
     "user_tz": -540
    },
    "id": "j3vOcQbZWHgp",
    "outputId": "026291f8-7d6d-4749-d411-55a77d4fa58d"
   },
   "outputs": [
    {
     "data": {
      "text/plain": [
       "campaign  response\n",
       "1         0            1371\n",
       "          1             376\n",
       "2         0           11552\n",
       "          1            1952\n",
       "3         0            5285\n",
       "4         0            1391\n",
       "Name: customer_id, dtype: int64"
      ]
     },
     "execution_count": 12,
     "metadata": {},
     "output_type": "execute_result"
    }
   ],
   "source": [
    "# 캠페인 별 반응(target)비율 확인 \n",
    "data.groupby(['campaign','response']).customer_id.count()\n",
    "\n",
    "## 캠페인별 응답비율 확인결과 3,4번은 응답유저가 없음.\n",
    "## 지도학습을 사용할 수 있는 데이터는 1,2 번 캠패인이 가능하며\n",
    "## 이번 실습에서는 2번 캠페인만 사용하기로 함"
   ]
  },
  {
   "cell_type": "code",
   "execution_count": 13,
   "metadata": {
    "colab": {
     "base_uri": "https://localhost:8080/",
     "height": 270
    },
    "executionInfo": {
     "elapsed": 268,
     "status": "ok",
     "timestamp": 1663399681496,
     "user": {
      "displayName": "강현욱",
      "userId": "07194546442434465172"
     },
     "user_tz": -540
    },
    "id": "5zKFdyTlXxAA",
    "outputId": "fb2b50de-cb7c-4c8d-a14d-b37f3b24ed3c"
   },
   "outputs": [
    {
     "data": {
      "text/html": [
       "<div>\n",
       "<style scoped>\n",
       "    .dataframe tbody tr th:only-of-type {\n",
       "        vertical-align: middle;\n",
       "    }\n",
       "\n",
       "    .dataframe tbody tr th {\n",
       "        vertical-align: top;\n",
       "    }\n",
       "\n",
       "    .dataframe thead th {\n",
       "        text-align: right;\n",
       "    }\n",
       "</style>\n",
       "<table border=\"1\" class=\"dataframe\">\n",
       "  <thead>\n",
       "    <tr style=\"text-align: right;\">\n",
       "      <th></th>\n",
       "      <th>customer_id</th>\n",
       "      <th>campaign</th>\n",
       "      <th>response</th>\n",
       "      <th>response_date</th>\n",
       "      <th>purchase</th>\n",
       "      <th>purchase_date</th>\n",
       "      <th>product_id</th>\n",
       "      <th>Rowid</th>\n",
       "      <th>age</th>\n",
       "      <th>age_youngest_child</th>\n",
       "      <th>...</th>\n",
       "      <th>months_current_account</th>\n",
       "      <th>months_customer</th>\n",
       "      <th>call_center_contacts</th>\n",
       "      <th>loan_accounts</th>\n",
       "      <th>number_products</th>\n",
       "      <th>number_transactions</th>\n",
       "      <th>non_worker_percentage</th>\n",
       "      <th>white_collar_percentage</th>\n",
       "      <th>rfm_score</th>\n",
       "      <th>X_random</th>\n",
       "    </tr>\n",
       "  </thead>\n",
       "  <tbody>\n",
       "    <tr>\n",
       "      <th>0</th>\n",
       "      <td>7</td>\n",
       "      <td>2</td>\n",
       "      <td>0</td>\n",
       "      <td>NaT</td>\n",
       "      <td>0</td>\n",
       "      <td>NaT</td>\n",
       "      <td>NaN</td>\n",
       "      <td>1</td>\n",
       "      <td>19</td>\n",
       "      <td>0</td>\n",
       "      <td>...</td>\n",
       "      <td>-4</td>\n",
       "      <td>0</td>\n",
       "      <td>1</td>\n",
       "      <td>1</td>\n",
       "      <td>1</td>\n",
       "      <td>0</td>\n",
       "      <td>9</td>\n",
       "      <td>26</td>\n",
       "      <td>0.00000</td>\n",
       "      <td>3</td>\n",
       "    </tr>\n",
       "    <tr>\n",
       "      <th>1</th>\n",
       "      <td>13</td>\n",
       "      <td>2</td>\n",
       "      <td>0</td>\n",
       "      <td>NaT</td>\n",
       "      <td>0</td>\n",
       "      <td>NaT</td>\n",
       "      <td>NaN</td>\n",
       "      <td>2</td>\n",
       "      <td>44</td>\n",
       "      <td>12</td>\n",
       "      <td>...</td>\n",
       "      <td>17</td>\n",
       "      <td>24</td>\n",
       "      <td>0</td>\n",
       "      <td>0</td>\n",
       "      <td>0</td>\n",
       "      <td>0</td>\n",
       "      <td>14</td>\n",
       "      <td>19</td>\n",
       "      <td>0.00000</td>\n",
       "      <td>1</td>\n",
       "    </tr>\n",
       "    <tr>\n",
       "      <th>2</th>\n",
       "      <td>15</td>\n",
       "      <td>2</td>\n",
       "      <td>0</td>\n",
       "      <td>NaT</td>\n",
       "      <td>0</td>\n",
       "      <td>NaT</td>\n",
       "      <td>NaN</td>\n",
       "      <td>3</td>\n",
       "      <td>45</td>\n",
       "      <td>12</td>\n",
       "      <td>...</td>\n",
       "      <td>33</td>\n",
       "      <td>36</td>\n",
       "      <td>0</td>\n",
       "      <td>4</td>\n",
       "      <td>2</td>\n",
       "      <td>1</td>\n",
       "      <td>14</td>\n",
       "      <td>19</td>\n",
       "      <td>7.60233</td>\n",
       "      <td>1</td>\n",
       "    </tr>\n",
       "    <tr>\n",
       "      <th>3</th>\n",
       "      <td>16</td>\n",
       "      <td>2</td>\n",
       "      <td>1</td>\n",
       "      <td>2006-07-05</td>\n",
       "      <td>0</td>\n",
       "      <td>NaT</td>\n",
       "      <td>183.0</td>\n",
       "      <td>761</td>\n",
       "      <td>43</td>\n",
       "      <td>12</td>\n",
       "      <td>...</td>\n",
       "      <td>34</td>\n",
       "      <td>36</td>\n",
       "      <td>0</td>\n",
       "      <td>0</td>\n",
       "      <td>3</td>\n",
       "      <td>2</td>\n",
       "      <td>14</td>\n",
       "      <td>19</td>\n",
       "      <td>10.14300</td>\n",
       "      <td>1</td>\n",
       "    </tr>\n",
       "    <tr>\n",
       "      <th>4</th>\n",
       "      <td>23</td>\n",
       "      <td>2</td>\n",
       "      <td>0</td>\n",
       "      <td>NaT</td>\n",
       "      <td>0</td>\n",
       "      <td>NaT</td>\n",
       "      <td>NaN</td>\n",
       "      <td>4</td>\n",
       "      <td>42</td>\n",
       "      <td>11</td>\n",
       "      <td>...</td>\n",
       "      <td>22</td>\n",
       "      <td>24</td>\n",
       "      <td>0</td>\n",
       "      <td>0</td>\n",
       "      <td>0</td>\n",
       "      <td>0</td>\n",
       "      <td>14</td>\n",
       "      <td>19</td>\n",
       "      <td>0.00000</td>\n",
       "      <td>3</td>\n",
       "    </tr>\n",
       "  </tbody>\n",
       "</table>\n",
       "<p>5 rows × 31 columns</p>\n",
       "</div>"
      ],
      "text/plain": [
       "   customer_id  campaign  response response_date  purchase purchase_date  \\\n",
       "0            7         2         0           NaT         0           NaT   \n",
       "1           13         2         0           NaT         0           NaT   \n",
       "2           15         2         0           NaT         0           NaT   \n",
       "3           16         2         1    2006-07-05         0           NaT   \n",
       "4           23         2         0           NaT         0           NaT   \n",
       "\n",
       "   product_id  Rowid  age  age_youngest_child  ...  months_current_account  \\\n",
       "0         NaN      1   19                   0  ...                      -4   \n",
       "1         NaN      2   44                  12  ...                      17   \n",
       "2         NaN      3   45                  12  ...                      33   \n",
       "3       183.0    761   43                  12  ...                      34   \n",
       "4         NaN      4   42                  11  ...                      22   \n",
       "\n",
       "  months_customer  call_center_contacts loan_accounts  number_products  \\\n",
       "0               0                     1             1                1   \n",
       "1              24                     0             0                0   \n",
       "2              36                     0             4                2   \n",
       "3              36                     0             0                3   \n",
       "4              24                     0             0                0   \n",
       "\n",
       "   number_transactions  non_worker_percentage  white_collar_percentage  \\\n",
       "0                    0                      9                       26   \n",
       "1                    0                     14                       19   \n",
       "2                    1                     14                       19   \n",
       "3                    2                     14                       19   \n",
       "4                    0                     14                       19   \n",
       "\n",
       "   rfm_score X_random  \n",
       "0    0.00000        3  \n",
       "1    0.00000        1  \n",
       "2    7.60233        1  \n",
       "3   10.14300        1  \n",
       "4    0.00000        3  \n",
       "\n",
       "[5 rows x 31 columns]"
      ]
     },
     "execution_count": 13,
     "metadata": {},
     "output_type": "execute_result"
    }
   ],
   "source": [
    "# 캠페인 2번 데이터만 선택\n",
    "dataset = data[data['campaign'] == 2]\n",
    "# campaign 2만 뽑아서 dataset에 저장\n",
    "\n",
    "# campaign 2만 있는지 확인 \n",
    "dataset.head()"
   ]
  },
  {
   "cell_type": "markdown",
   "metadata": {
    "id": "RSlj84N6-Ccz"
   },
   "source": [
    "### 2.5 데이터에서 target 및 contol 의비율 확인 및 반응 유저의 구매율 확인 "
   ]
  },
  {
   "cell_type": "code",
   "execution_count": 14,
   "metadata": {
    "colab": {
     "base_uri": "https://localhost:8080/"
    },
    "executionInfo": {
     "elapsed": 269,
     "status": "ok",
     "timestamp": 1663399751047,
     "user": {
      "displayName": "강현욱",
      "userId": "07194546442434465172"
     },
     "user_tz": -540
    },
    "id": "rZfnJGKCZ_Wv",
    "outputId": "7bfda2ec-4c8d-4895-b41a-b88b79b4507a"
   },
   "outputs": [
    {
     "name": "stdout",
     "output_type": "stream",
     "text": [
      "response  purchase\n",
      "0         0           11552\n",
      "1         0             726\n",
      "          1            1226\n",
      "Name: customer_id, dtype: int64\n",
      "response  purchase\n",
      "0         0           0.855450\n",
      "1         0           0.053762\n",
      "          1           0.090788\n",
      "Name: customer_id, dtype: float64\n",
      "response  purchase\n",
      "1         0           0.371926\n",
      "          1           0.628074\n",
      "Name: customer_id, dtype: float64\n"
     ]
    }
   ],
   "source": [
    "# 반응 이후 구매 비율 확인 \n",
    "print(dataset.groupby(['response','purchase']).customer_id.count())\n",
    "print(dataset.groupby(['response','purchase']).customer_id.count() / dataset.shape[0])\n",
    "print(dataset[dataset['response']==1].groupby(['response','purchase']).customer_id.count() / dataset[dataset['response']==1].shape[0])\n",
    "\n",
    "## 캠페인 데이터에 응답 및 구매여부 구매 상품 등의 정보가 포함됨 \n",
    "## 캠페인 반응률은 14.3% 이며 반응한 고객의 62.8% 구매를 함 "
   ]
  },
  {
   "cell_type": "code",
   "execution_count": 15,
   "metadata": {
    "colab": {
     "base_uri": "https://localhost:8080/"
    },
    "executionInfo": {
     "elapsed": 295,
     "status": "ok",
     "timestamp": 1663399810133,
     "user": {
      "displayName": "강현욱",
      "userId": "07194546442434465172"
     },
     "user_tz": -540
    },
    "id": "y4g3PGQ9cGUQ",
    "outputId": "0265ff52-f92f-41fa-8555-46e7a150ac45"
   },
   "outputs": [
    {
     "data": {
      "text/plain": [
       "0"
      ]
     },
     "execution_count": 15,
     "metadata": {},
     "output_type": "execute_result"
    }
   ],
   "source": [
    "# 하나의 행이 한명의 정보로 이루어 져있나? (중복되어있는지는 않은지 확인!)\n",
    "# duplicated -> 중복됬으면 1 ,중복안됬으면 e 으로 표기됨\n",
    "## 한명당 하나의 캠페인만 참여가능한것 확인\n",
    "\n",
    "dataset['customer_id'].duplicated().sum()\n",
    "\n",
    "## Yes"
   ]
  },
  {
   "cell_type": "code",
   "execution_count": 16,
   "metadata": {
    "colab": {
     "base_uri": "https://localhost:8080/"
    },
    "executionInfo": {
     "elapsed": 99,
     "status": "ok",
     "timestamp": 1663382047580,
     "user": {
      "displayName": "강현욱",
      "userId": "07194546442434465172"
     },
     "user_tz": -540
    },
    "id": "L3AIf1wxehxi",
    "outputId": "186f3486-bd79-4269-bd1f-7075b70eef18"
   },
   "outputs": [
    {
     "name": "stdout",
     "output_type": "stream",
     "text": [
      "<class 'pandas.core.frame.DataFrame'>\n",
      "Int64Index: 13504 entries, 0 to 21926\n",
      "Data columns (total 31 columns):\n",
      " #   Column                          Non-Null Count  Dtype         \n",
      "---  ------                          --------------  -----         \n",
      " 0   customer_id                     13504 non-null  int64         \n",
      " 1   campaign                        13504 non-null  int64         \n",
      " 2   response                        13504 non-null  int64         \n",
      " 3   response_date                   1952 non-null   datetime64[ns]\n",
      " 4   purchase                        13504 non-null  int64         \n",
      " 5   purchase_date                   0 non-null      datetime64[ns]\n",
      " 6   product_id                      1952 non-null   float64       \n",
      " 7   Rowid                           13504 non-null  int64         \n",
      " 8   age                             13504 non-null  int64         \n",
      " 9   age_youngest_child              13504 non-null  int64         \n",
      " 10  average_balance_feed_index      13504 non-null  int64         \n",
      " 11  branch                          13504 non-null  object        \n",
      " 12  debt_equity                     13504 non-null  int64         \n",
      " 13  gender                          13504 non-null  object        \n",
      " 14  bad_payment                     13504 non-null  int64         \n",
      " 15  gold_card                       13504 non-null  int64         \n",
      " 16  pension_plan                    13504 non-null  int64         \n",
      " 17  household_debt_to_equity_ratio  13504 non-null  int64         \n",
      " 18  income                          13504 non-null  float64       \n",
      " 19  marital                         13504 non-null  object        \n",
      " 20  members_in_household            13504 non-null  int64         \n",
      " 21  months_current_account          13504 non-null  int64         \n",
      " 22  months_customer                 13504 non-null  int64         \n",
      " 23  call_center_contacts            13504 non-null  int64         \n",
      " 24  loan_accounts                   13504 non-null  int64         \n",
      " 25  number_products                 13504 non-null  int64         \n",
      " 26  number_transactions             13504 non-null  int64         \n",
      " 27  non_worker_percentage           13504 non-null  int64         \n",
      " 28  white_collar_percentage         13504 non-null  int64         \n",
      " 29  rfm_score                       13504 non-null  float64       \n",
      " 30  X_random                        13504 non-null  int64         \n",
      "dtypes: datetime64[ns](2), float64(3), int64(23), object(3)\n",
      "memory usage: 3.3+ MB\n"
     ]
    }
   ],
   "source": [
    "dataset.info()"
   ]
  },
  {
   "cell_type": "markdown",
   "metadata": {
    "id": "ye7rMsNp_K0p"
   },
   "source": [
    "### 2.6 의미없는 변수 삭제"
   ]
  },
  {
   "cell_type": "markdown",
   "metadata": {
    "id": "u-UFcg2KcoA7"
   },
   "source": [
    "> 목적이 응답 여부이기 때문에 응답이후 구매 정보 등은 모델 학습에 사용하지 않음"
   ]
  },
  {
   "cell_type": "code",
   "execution_count": 17,
   "metadata": {
    "colab": {
     "base_uri": "https://localhost:8080/",
     "height": 270
    },
    "executionInfo": {
     "elapsed": 90,
     "status": "ok",
     "timestamp": 1663382047581,
     "user": {
      "displayName": "강현욱",
      "userId": "07194546442434465172"
     },
     "user_tz": -540
    },
    "id": "OB1iE_PMcnPR",
    "outputId": "13ef8f8a-1537-48dd-e365-b011e2d8e9cd"
   },
   "outputs": [
    {
     "data": {
      "text/html": [
       "<div>\n",
       "<style scoped>\n",
       "    .dataframe tbody tr th:only-of-type {\n",
       "        vertical-align: middle;\n",
       "    }\n",
       "\n",
       "    .dataframe tbody tr th {\n",
       "        vertical-align: top;\n",
       "    }\n",
       "\n",
       "    .dataframe thead th {\n",
       "        text-align: right;\n",
       "    }\n",
       "</style>\n",
       "<table border=\"1\" class=\"dataframe\">\n",
       "  <thead>\n",
       "    <tr style=\"text-align: right;\">\n",
       "      <th></th>\n",
       "      <th>customer_id</th>\n",
       "      <th>campaign</th>\n",
       "      <th>response</th>\n",
       "      <th>age</th>\n",
       "      <th>age_youngest_child</th>\n",
       "      <th>average_balance_feed_index</th>\n",
       "      <th>branch</th>\n",
       "      <th>debt_equity</th>\n",
       "      <th>gender</th>\n",
       "      <th>bad_payment</th>\n",
       "      <th>...</th>\n",
       "      <th>months_current_account</th>\n",
       "      <th>months_customer</th>\n",
       "      <th>call_center_contacts</th>\n",
       "      <th>loan_accounts</th>\n",
       "      <th>number_products</th>\n",
       "      <th>number_transactions</th>\n",
       "      <th>non_worker_percentage</th>\n",
       "      <th>white_collar_percentage</th>\n",
       "      <th>rfm_score</th>\n",
       "      <th>X_random</th>\n",
       "    </tr>\n",
       "  </thead>\n",
       "  <tbody>\n",
       "    <tr>\n",
       "      <th>0</th>\n",
       "      <td>7</td>\n",
       "      <td>2</td>\n",
       "      <td>0</td>\n",
       "      <td>19</td>\n",
       "      <td>0</td>\n",
       "      <td>0</td>\n",
       "      <td>Ravensville</td>\n",
       "      <td>19</td>\n",
       "      <td>M</td>\n",
       "      <td>0</td>\n",
       "      <td>...</td>\n",
       "      <td>-4</td>\n",
       "      <td>0</td>\n",
       "      <td>1</td>\n",
       "      <td>1</td>\n",
       "      <td>1</td>\n",
       "      <td>0</td>\n",
       "      <td>9</td>\n",
       "      <td>26</td>\n",
       "      <td>0.00000</td>\n",
       "      <td>3</td>\n",
       "    </tr>\n",
       "    <tr>\n",
       "      <th>1</th>\n",
       "      <td>13</td>\n",
       "      <td>2</td>\n",
       "      <td>0</td>\n",
       "      <td>44</td>\n",
       "      <td>12</td>\n",
       "      <td>0</td>\n",
       "      <td>Catburg</td>\n",
       "      <td>44</td>\n",
       "      <td>M</td>\n",
       "      <td>0</td>\n",
       "      <td>...</td>\n",
       "      <td>17</td>\n",
       "      <td>24</td>\n",
       "      <td>0</td>\n",
       "      <td>0</td>\n",
       "      <td>0</td>\n",
       "      <td>0</td>\n",
       "      <td>14</td>\n",
       "      <td>19</td>\n",
       "      <td>0.00000</td>\n",
       "      <td>1</td>\n",
       "    </tr>\n",
       "    <tr>\n",
       "      <th>2</th>\n",
       "      <td>15</td>\n",
       "      <td>2</td>\n",
       "      <td>0</td>\n",
       "      <td>45</td>\n",
       "      <td>12</td>\n",
       "      <td>75</td>\n",
       "      <td>Ravensville</td>\n",
       "      <td>45</td>\n",
       "      <td>F</td>\n",
       "      <td>0</td>\n",
       "      <td>...</td>\n",
       "      <td>33</td>\n",
       "      <td>36</td>\n",
       "      <td>0</td>\n",
       "      <td>4</td>\n",
       "      <td>2</td>\n",
       "      <td>1</td>\n",
       "      <td>14</td>\n",
       "      <td>19</td>\n",
       "      <td>7.60233</td>\n",
       "      <td>1</td>\n",
       "    </tr>\n",
       "    <tr>\n",
       "      <th>3</th>\n",
       "      <td>16</td>\n",
       "      <td>2</td>\n",
       "      <td>1</td>\n",
       "      <td>43</td>\n",
       "      <td>12</td>\n",
       "      <td>161</td>\n",
       "      <td>Catburg</td>\n",
       "      <td>43</td>\n",
       "      <td>F</td>\n",
       "      <td>0</td>\n",
       "      <td>...</td>\n",
       "      <td>34</td>\n",
       "      <td>36</td>\n",
       "      <td>0</td>\n",
       "      <td>0</td>\n",
       "      <td>3</td>\n",
       "      <td>2</td>\n",
       "      <td>14</td>\n",
       "      <td>19</td>\n",
       "      <td>10.14300</td>\n",
       "      <td>1</td>\n",
       "    </tr>\n",
       "    <tr>\n",
       "      <th>4</th>\n",
       "      <td>23</td>\n",
       "      <td>2</td>\n",
       "      <td>0</td>\n",
       "      <td>42</td>\n",
       "      <td>11</td>\n",
       "      <td>0</td>\n",
       "      <td>Kingsville</td>\n",
       "      <td>42</td>\n",
       "      <td>F</td>\n",
       "      <td>0</td>\n",
       "      <td>...</td>\n",
       "      <td>22</td>\n",
       "      <td>24</td>\n",
       "      <td>0</td>\n",
       "      <td>0</td>\n",
       "      <td>0</td>\n",
       "      <td>0</td>\n",
       "      <td>14</td>\n",
       "      <td>19</td>\n",
       "      <td>0.00000</td>\n",
       "      <td>3</td>\n",
       "    </tr>\n",
       "  </tbody>\n",
       "</table>\n",
       "<p>5 rows × 26 columns</p>\n",
       "</div>"
      ],
      "text/plain": [
       "   customer_id  campaign  response  age  age_youngest_child  \\\n",
       "0            7         2         0   19                   0   \n",
       "1           13         2         0   44                  12   \n",
       "2           15         2         0   45                  12   \n",
       "3           16         2         1   43                  12   \n",
       "4           23         2         0   42                  11   \n",
       "\n",
       "   average_balance_feed_index       branch  debt_equity gender  bad_payment  \\\n",
       "0                           0  Ravensville           19      M            0   \n",
       "1                           0      Catburg           44      M            0   \n",
       "2                          75  Ravensville           45      F            0   \n",
       "3                         161      Catburg           43      F            0   \n",
       "4                           0   Kingsville           42      F            0   \n",
       "\n",
       "   ...  months_current_account  months_customer  call_center_contacts  \\\n",
       "0  ...                      -4                0                     1   \n",
       "1  ...                      17               24                     0   \n",
       "2  ...                      33               36                     0   \n",
       "3  ...                      34               36                     0   \n",
       "4  ...                      22               24                     0   \n",
       "\n",
       "   loan_accounts number_products  number_transactions  non_worker_percentage  \\\n",
       "0              1               1                    0                      9   \n",
       "1              0               0                    0                     14   \n",
       "2              4               2                    1                     14   \n",
       "3              0               3                    2                     14   \n",
       "4              0               0                    0                     14   \n",
       "\n",
       "   white_collar_percentage  rfm_score  X_random  \n",
       "0                       26    0.00000         3  \n",
       "1                       19    0.00000         1  \n",
       "2                       19    7.60233         1  \n",
       "3                       19   10.14300         1  \n",
       "4                       19    0.00000         3  \n",
       "\n",
       "[5 rows x 26 columns]"
      ]
     },
     "execution_count": 17,
     "metadata": {},
     "output_type": "execute_result"
    }
   ],
   "source": [
    "# 필요 없는 response_date, purchase, purchase_date, product_id, Rowid 제거\n",
    "dataset = dataset.drop(['response_date', 'purchase', 'purchase_date', 'product_id', 'Rowid'], axis = 1)\n",
    "## 컬럼별로 삭제 (axis =1)\n",
    "\n",
    "dataset.head()"
   ]
  },
  {
   "cell_type": "code",
   "execution_count": 18,
   "metadata": {
    "colab": {
     "base_uri": "https://localhost:8080/"
    },
    "executionInfo": {
     "elapsed": 86,
     "status": "ok",
     "timestamp": 1663382047582,
     "user": {
      "displayName": "강현욱",
      "userId": "07194546442434465172"
     },
     "user_tz": -540
    },
    "id": "JsPtal4yfu4r",
    "outputId": "e97a396e-3b35-4bae-8c83-2d3ab92680d5"
   },
   "outputs": [
    {
     "data": {
      "text/plain": [
       "response  X_random\n",
       "0         2           3879\n",
       "          3           3879\n",
       "          1           3794\n",
       "1         3            672\n",
       "          2            663\n",
       "          1            617\n",
       "dtype: int64"
      ]
     },
     "execution_count": 18,
     "metadata": {},
     "output_type": "execute_result"
    }
   ],
   "source": [
    "# X_random 데이터가 뭔지 확인 \n",
    "dataset[['response','X_random']].value_counts()\n",
    "\n",
    "\n",
    "## X_randomd의 비율이 응답과 미응답에 동일한 비율로 있음\n",
    "## data를 3등분으로 나눈것으로 확인\n",
    "## 학습 및 확인 데이터 셋으로 이용할 수 있음\n",
    "## 1,2 는 학습 , 3 은 테스트 세트로"
   ]
  },
  {
   "cell_type": "markdown",
   "metadata": {
    "id": "3d-6HhjOZaj7"
   },
   "source": [
    "## *3*. Null값 확인 및 처리"
   ]
  },
  {
   "cell_type": "markdown",
   "metadata": {
    "id": "TBR83LGAAbZq"
   },
   "source": [
    "\n",
    "### 3.1 Null 값 확인"
   ]
  },
  {
   "cell_type": "code",
   "execution_count": 19,
   "metadata": {
    "colab": {
     "base_uri": "https://localhost:8080/"
    },
    "executionInfo": {
     "elapsed": 80,
     "status": "ok",
     "timestamp": 1663382047585,
     "user": {
      "displayName": "강현욱",
      "userId": "07194546442434465172"
     },
     "user_tz": -540
    },
    "id": "mlc1DAcNWHgq",
    "outputId": "4d5bd6ea-c0f0-42d3-9ad6-c412ff26402b"
   },
   "outputs": [
    {
     "data": {
      "text/plain": [
       "0"
      ]
     },
     "execution_count": 19,
     "metadata": {},
     "output_type": "execute_result"
    }
   ],
   "source": [
    "# 3.1 Null 값이 있는 전체 case 수 확인\n",
    "dataset.isnull().sum().sum()"
   ]
  },
  {
   "cell_type": "markdown",
   "metadata": {
    "id": "KSGV0OuQeNYz"
   },
   "source": [
    "## *4*. 데이터 탐색 및 이상치 제거\n"
   ]
  },
  {
   "cell_type": "markdown",
   "metadata": {
    "id": "tIcmfqpYBx1t"
   },
   "source": [
    "### 4.1 이상치 확인 "
   ]
  },
  {
   "cell_type": "code",
   "execution_count": 20,
   "metadata": {
    "colab": {
     "base_uri": "https://localhost:8080/",
     "height": 364
    },
    "executionInfo": {
     "elapsed": 73,
     "status": "ok",
     "timestamp": 1663382047586,
     "user": {
      "displayName": "강현욱",
      "userId": "07194546442434465172"
     },
     "user_tz": -540
    },
    "id": "vA5tcIU7WHgu",
    "outputId": "74461206-1db4-4cda-90ba-bf6f829153d8"
   },
   "outputs": [
    {
     "data": {
      "text/html": [
       "<div>\n",
       "<style scoped>\n",
       "    .dataframe tbody tr th:only-of-type {\n",
       "        vertical-align: middle;\n",
       "    }\n",
       "\n",
       "    .dataframe tbody tr th {\n",
       "        vertical-align: top;\n",
       "    }\n",
       "\n",
       "    .dataframe thead th {\n",
       "        text-align: right;\n",
       "    }\n",
       "</style>\n",
       "<table border=\"1\" class=\"dataframe\">\n",
       "  <thead>\n",
       "    <tr style=\"text-align: right;\">\n",
       "      <th></th>\n",
       "      <th>customer_id</th>\n",
       "      <th>campaign</th>\n",
       "      <th>response</th>\n",
       "      <th>age</th>\n",
       "      <th>age_youngest_child</th>\n",
       "      <th>average_balance_feed_index</th>\n",
       "      <th>debt_equity</th>\n",
       "      <th>bad_payment</th>\n",
       "      <th>gold_card</th>\n",
       "      <th>pension_plan</th>\n",
       "      <th>...</th>\n",
       "      <th>months_current_account</th>\n",
       "      <th>months_customer</th>\n",
       "      <th>call_center_contacts</th>\n",
       "      <th>loan_accounts</th>\n",
       "      <th>number_products</th>\n",
       "      <th>number_transactions</th>\n",
       "      <th>non_worker_percentage</th>\n",
       "      <th>white_collar_percentage</th>\n",
       "      <th>rfm_score</th>\n",
       "      <th>X_random</th>\n",
       "    </tr>\n",
       "  </thead>\n",
       "  <tbody>\n",
       "    <tr>\n",
       "      <th>count</th>\n",
       "      <td>13504.000000</td>\n",
       "      <td>13504.0</td>\n",
       "      <td>13504.000000</td>\n",
       "      <td>13504.000000</td>\n",
       "      <td>13504.000000</td>\n",
       "      <td>13504.000000</td>\n",
       "      <td>13504.000000</td>\n",
       "      <td>13504.000000</td>\n",
       "      <td>13504.000000</td>\n",
       "      <td>13504.000000</td>\n",
       "      <td>...</td>\n",
       "      <td>13504.000000</td>\n",
       "      <td>13504.000000</td>\n",
       "      <td>13504.000000</td>\n",
       "      <td>13504.000000</td>\n",
       "      <td>13504.000000</td>\n",
       "      <td>13504.000000</td>\n",
       "      <td>13504.000000</td>\n",
       "      <td>13504.000000</td>\n",
       "      <td>13504.000000</td>\n",
       "      <td>13504.000000</td>\n",
       "    </tr>\n",
       "    <tr>\n",
       "      <th>mean</th>\n",
       "      <td>35318.874037</td>\n",
       "      <td>2.0</td>\n",
       "      <td>0.144550</td>\n",
       "      <td>39.558057</td>\n",
       "      <td>11.210012</td>\n",
       "      <td>109.665951</td>\n",
       "      <td>39.558057</td>\n",
       "      <td>0.002740</td>\n",
       "      <td>0.040655</td>\n",
       "      <td>0.003629</td>\n",
       "      <td>...</td>\n",
       "      <td>19.205421</td>\n",
       "      <td>25.918543</td>\n",
       "      <td>2.247556</td>\n",
       "      <td>1.110338</td>\n",
       "      <td>1.330273</td>\n",
       "      <td>1.709345</td>\n",
       "      <td>10.938241</td>\n",
       "      <td>33.067165</td>\n",
       "      <td>5.179403</td>\n",
       "      <td>2.010367</td>\n",
       "    </tr>\n",
       "    <tr>\n",
       "      <th>std</th>\n",
       "      <td>23336.757965</td>\n",
       "      <td>0.0</td>\n",
       "      <td>0.351659</td>\n",
       "      <td>11.713762</td>\n",
       "      <td>10.372662</td>\n",
       "      <td>187.053346</td>\n",
       "      <td>11.713762</td>\n",
       "      <td>0.052275</td>\n",
       "      <td>0.197496</td>\n",
       "      <td>0.060130</td>\n",
       "      <td>...</td>\n",
       "      <td>13.354364</td>\n",
       "      <td>14.699595</td>\n",
       "      <td>1.585954</td>\n",
       "      <td>1.390065</td>\n",
       "      <td>1.722833</td>\n",
       "      <td>4.530919</td>\n",
       "      <td>3.861872</td>\n",
       "      <td>8.879029</td>\n",
       "      <td>7.168660</td>\n",
       "      <td>0.814615</td>\n",
       "    </tr>\n",
       "    <tr>\n",
       "      <th>min</th>\n",
       "      <td>7.000000</td>\n",
       "      <td>2.0</td>\n",
       "      <td>0.000000</td>\n",
       "      <td>10.000000</td>\n",
       "      <td>0.000000</td>\n",
       "      <td>0.000000</td>\n",
       "      <td>10.000000</td>\n",
       "      <td>0.000000</td>\n",
       "      <td>0.000000</td>\n",
       "      <td>0.000000</td>\n",
       "      <td>...</td>\n",
       "      <td>-7.000000</td>\n",
       "      <td>0.000000</td>\n",
       "      <td>0.000000</td>\n",
       "      <td>0.000000</td>\n",
       "      <td>0.000000</td>\n",
       "      <td>0.000000</td>\n",
       "      <td>0.000000</td>\n",
       "      <td>5.000000</td>\n",
       "      <td>0.000000</td>\n",
       "      <td>1.000000</td>\n",
       "    </tr>\n",
       "    <tr>\n",
       "      <th>25%</th>\n",
       "      <td>17032.500000</td>\n",
       "      <td>2.0</td>\n",
       "      <td>0.000000</td>\n",
       "      <td>32.000000</td>\n",
       "      <td>2.000000</td>\n",
       "      <td>0.000000</td>\n",
       "      <td>32.000000</td>\n",
       "      <td>0.000000</td>\n",
       "      <td>0.000000</td>\n",
       "      <td>0.000000</td>\n",
       "      <td>...</td>\n",
       "      <td>9.000000</td>\n",
       "      <td>12.000000</td>\n",
       "      <td>1.000000</td>\n",
       "      <td>0.000000</td>\n",
       "      <td>0.000000</td>\n",
       "      <td>0.000000</td>\n",
       "      <td>8.000000</td>\n",
       "      <td>27.000000</td>\n",
       "      <td>0.000000</td>\n",
       "      <td>1.000000</td>\n",
       "    </tr>\n",
       "    <tr>\n",
       "      <th>50%</th>\n",
       "      <td>33674.500000</td>\n",
       "      <td>2.0</td>\n",
       "      <td>0.000000</td>\n",
       "      <td>39.000000</td>\n",
       "      <td>9.000000</td>\n",
       "      <td>0.000000</td>\n",
       "      <td>39.000000</td>\n",
       "      <td>0.000000</td>\n",
       "      <td>0.000000</td>\n",
       "      <td>0.000000</td>\n",
       "      <td>...</td>\n",
       "      <td>20.000000</td>\n",
       "      <td>24.000000</td>\n",
       "      <td>2.000000</td>\n",
       "      <td>1.000000</td>\n",
       "      <td>0.000000</td>\n",
       "      <td>0.000000</td>\n",
       "      <td>11.000000</td>\n",
       "      <td>33.000000</td>\n",
       "      <td>0.000000</td>\n",
       "      <td>2.000000</td>\n",
       "    </tr>\n",
       "    <tr>\n",
       "      <th>75%</th>\n",
       "      <td>50210.250000</td>\n",
       "      <td>2.0</td>\n",
       "      <td>0.000000</td>\n",
       "      <td>46.000000</td>\n",
       "      <td>17.000000</td>\n",
       "      <td>160.250000</td>\n",
       "      <td>46.000000</td>\n",
       "      <td>0.000000</td>\n",
       "      <td>0.000000</td>\n",
       "      <td>0.000000</td>\n",
       "      <td>...</td>\n",
       "      <td>31.000000</td>\n",
       "      <td>36.000000</td>\n",
       "      <td>3.000000</td>\n",
       "      <td>2.000000</td>\n",
       "      <td>3.000000</td>\n",
       "      <td>1.000000</td>\n",
       "      <td>13.000000</td>\n",
       "      <td>39.000000</td>\n",
       "      <td>9.846815</td>\n",
       "      <td>3.000000</td>\n",
       "    </tr>\n",
       "    <tr>\n",
       "      <th>max</th>\n",
       "      <td>116993.000000</td>\n",
       "      <td>2.0</td>\n",
       "      <td>1.000000</td>\n",
       "      <td>96.000000</td>\n",
       "      <td>66.000000</td>\n",
       "      <td>2386.000000</td>\n",
       "      <td>96.000000</td>\n",
       "      <td>1.000000</td>\n",
       "      <td>1.000000</td>\n",
       "      <td>1.000000</td>\n",
       "      <td>...</td>\n",
       "      <td>41.000000</td>\n",
       "      <td>48.000000</td>\n",
       "      <td>10.000000</td>\n",
       "      <td>7.000000</td>\n",
       "      <td>6.000000</td>\n",
       "      <td>38.000000</td>\n",
       "      <td>37.000000</td>\n",
       "      <td>73.000000</td>\n",
       "      <td>45.267799</td>\n",
       "      <td>3.000000</td>\n",
       "    </tr>\n",
       "  </tbody>\n",
       "</table>\n",
       "<p>8 rows × 23 columns</p>\n",
       "</div>"
      ],
      "text/plain": [
       "         customer_id  campaign      response           age  \\\n",
       "count   13504.000000   13504.0  13504.000000  13504.000000   \n",
       "mean    35318.874037       2.0      0.144550     39.558057   \n",
       "std     23336.757965       0.0      0.351659     11.713762   \n",
       "min         7.000000       2.0      0.000000     10.000000   \n",
       "25%     17032.500000       2.0      0.000000     32.000000   \n",
       "50%     33674.500000       2.0      0.000000     39.000000   \n",
       "75%     50210.250000       2.0      0.000000     46.000000   \n",
       "max    116993.000000       2.0      1.000000     96.000000   \n",
       "\n",
       "       age_youngest_child  average_balance_feed_index   debt_equity  \\\n",
       "count        13504.000000                13504.000000  13504.000000   \n",
       "mean            11.210012                  109.665951     39.558057   \n",
       "std             10.372662                  187.053346     11.713762   \n",
       "min              0.000000                    0.000000     10.000000   \n",
       "25%              2.000000                    0.000000     32.000000   \n",
       "50%              9.000000                    0.000000     39.000000   \n",
       "75%             17.000000                  160.250000     46.000000   \n",
       "max             66.000000                 2386.000000     96.000000   \n",
       "\n",
       "        bad_payment     gold_card  pension_plan  ...  months_current_account  \\\n",
       "count  13504.000000  13504.000000  13504.000000  ...            13504.000000   \n",
       "mean       0.002740      0.040655      0.003629  ...               19.205421   \n",
       "std        0.052275      0.197496      0.060130  ...               13.354364   \n",
       "min        0.000000      0.000000      0.000000  ...               -7.000000   \n",
       "25%        0.000000      0.000000      0.000000  ...                9.000000   \n",
       "50%        0.000000      0.000000      0.000000  ...               20.000000   \n",
       "75%        0.000000      0.000000      0.000000  ...               31.000000   \n",
       "max        1.000000      1.000000      1.000000  ...               41.000000   \n",
       "\n",
       "       months_customer  call_center_contacts  loan_accounts  number_products  \\\n",
       "count     13504.000000          13504.000000   13504.000000     13504.000000   \n",
       "mean         25.918543              2.247556       1.110338         1.330273   \n",
       "std          14.699595              1.585954       1.390065         1.722833   \n",
       "min           0.000000              0.000000       0.000000         0.000000   \n",
       "25%          12.000000              1.000000       0.000000         0.000000   \n",
       "50%          24.000000              2.000000       1.000000         0.000000   \n",
       "75%          36.000000              3.000000       2.000000         3.000000   \n",
       "max          48.000000             10.000000       7.000000         6.000000   \n",
       "\n",
       "       number_transactions  non_worker_percentage  white_collar_percentage  \\\n",
       "count         13504.000000           13504.000000             13504.000000   \n",
       "mean              1.709345              10.938241                33.067165   \n",
       "std               4.530919               3.861872                 8.879029   \n",
       "min               0.000000               0.000000                 5.000000   \n",
       "25%               0.000000               8.000000                27.000000   \n",
       "50%               0.000000              11.000000                33.000000   \n",
       "75%               1.000000              13.000000                39.000000   \n",
       "max              38.000000              37.000000                73.000000   \n",
       "\n",
       "          rfm_score      X_random  \n",
       "count  13504.000000  13504.000000  \n",
       "mean       5.179403      2.010367  \n",
       "std        7.168660      0.814615  \n",
       "min        0.000000      1.000000  \n",
       "25%        0.000000      1.000000  \n",
       "50%        0.000000      2.000000  \n",
       "75%        9.846815      3.000000  \n",
       "max       45.267799      3.000000  \n",
       "\n",
       "[8 rows x 23 columns]"
      ]
     },
     "execution_count": 20,
     "metadata": {},
     "output_type": "execute_result"
    }
   ],
   "source": [
    "# Quantity 이상치 case 확인\n",
    "dataset.describe()"
   ]
  },
  {
   "cell_type": "code",
   "execution_count": 21,
   "metadata": {
    "colab": {
     "base_uri": "https://localhost:8080/"
    },
    "executionInfo": {
     "elapsed": 69,
     "status": "ok",
     "timestamp": 1663382047587,
     "user": {
      "displayName": "강현욱",
      "userId": "07194546442434465172"
     },
     "user_tz": -540
    },
    "id": "D_CR5-i1rIL6",
    "outputId": "b87f0290-92fd-444e-8739-d5013df1f15b"
   },
   "outputs": [
    {
     "data": {
      "text/plain": [
       "1747"
      ]
     },
     "execution_count": 21,
     "metadata": {},
     "output_type": "execute_result"
    }
   ],
   "source": [
    "# 거래기간 음수인지 몇건인지 확인\n",
    "len(dataset[dataset['months_current_account']< 0])"
   ]
  },
  {
   "cell_type": "code",
   "execution_count": 22,
   "metadata": {
    "colab": {
     "base_uri": "https://localhost:8080/",
     "height": 488
    },
    "executionInfo": {
     "elapsed": 64,
     "status": "ok",
     "timestamp": 1663382047589,
     "user": {
      "displayName": "강현욱",
      "userId": "07194546442434465172"
     },
     "user_tz": -540
    },
    "id": "cbDP8cb5sR_o",
    "outputId": "cd503fc1-7e17-4498-83d5-8f1d655bd811"
   },
   "outputs": [
    {
     "data": {
      "text/html": [
       "<div>\n",
       "<style scoped>\n",
       "    .dataframe tbody tr th:only-of-type {\n",
       "        vertical-align: middle;\n",
       "    }\n",
       "\n",
       "    .dataframe tbody tr th {\n",
       "        vertical-align: top;\n",
       "    }\n",
       "\n",
       "    .dataframe thead th {\n",
       "        text-align: right;\n",
       "    }\n",
       "</style>\n",
       "<table border=\"1\" class=\"dataframe\">\n",
       "  <thead>\n",
       "    <tr style=\"text-align: right;\">\n",
       "      <th></th>\n",
       "      <th>customer_id</th>\n",
       "      <th>campaign</th>\n",
       "      <th>response</th>\n",
       "      <th>age</th>\n",
       "      <th>age_youngest_child</th>\n",
       "      <th>average_balance_feed_index</th>\n",
       "      <th>branch</th>\n",
       "      <th>debt_equity</th>\n",
       "      <th>gender</th>\n",
       "      <th>bad_payment</th>\n",
       "      <th>...</th>\n",
       "      <th>months_current_account</th>\n",
       "      <th>months_customer</th>\n",
       "      <th>call_center_contacts</th>\n",
       "      <th>loan_accounts</th>\n",
       "      <th>number_products</th>\n",
       "      <th>number_transactions</th>\n",
       "      <th>non_worker_percentage</th>\n",
       "      <th>white_collar_percentage</th>\n",
       "      <th>rfm_score</th>\n",
       "      <th>X_random</th>\n",
       "    </tr>\n",
       "  </thead>\n",
       "  <tbody>\n",
       "    <tr>\n",
       "      <th>0</th>\n",
       "      <td>7</td>\n",
       "      <td>2</td>\n",
       "      <td>0</td>\n",
       "      <td>19</td>\n",
       "      <td>0</td>\n",
       "      <td>0</td>\n",
       "      <td>Ravensville</td>\n",
       "      <td>19</td>\n",
       "      <td>M</td>\n",
       "      <td>0</td>\n",
       "      <td>...</td>\n",
       "      <td>-4</td>\n",
       "      <td>0</td>\n",
       "      <td>1</td>\n",
       "      <td>1</td>\n",
       "      <td>1</td>\n",
       "      <td>0</td>\n",
       "      <td>9</td>\n",
       "      <td>26</td>\n",
       "      <td>0.0</td>\n",
       "      <td>3</td>\n",
       "    </tr>\n",
       "    <tr>\n",
       "      <th>8</th>\n",
       "      <td>33</td>\n",
       "      <td>2</td>\n",
       "      <td>0</td>\n",
       "      <td>24</td>\n",
       "      <td>0</td>\n",
       "      <td>0</td>\n",
       "      <td>Foxton</td>\n",
       "      <td>24</td>\n",
       "      <td>M</td>\n",
       "      <td>0</td>\n",
       "      <td>...</td>\n",
       "      <td>-2</td>\n",
       "      <td>0</td>\n",
       "      <td>0</td>\n",
       "      <td>0</td>\n",
       "      <td>0</td>\n",
       "      <td>0</td>\n",
       "      <td>14</td>\n",
       "      <td>19</td>\n",
       "      <td>0.0</td>\n",
       "      <td>1</td>\n",
       "    </tr>\n",
       "    <tr>\n",
       "      <th>24</th>\n",
       "      <td>96</td>\n",
       "      <td>2</td>\n",
       "      <td>0</td>\n",
       "      <td>38</td>\n",
       "      <td>7</td>\n",
       "      <td>0</td>\n",
       "      <td>Kingsville</td>\n",
       "      <td>38</td>\n",
       "      <td>M</td>\n",
       "      <td>0</td>\n",
       "      <td>...</td>\n",
       "      <td>-6</td>\n",
       "      <td>0</td>\n",
       "      <td>6</td>\n",
       "      <td>1</td>\n",
       "      <td>0</td>\n",
       "      <td>0</td>\n",
       "      <td>25</td>\n",
       "      <td>42</td>\n",
       "      <td>0.0</td>\n",
       "      <td>2</td>\n",
       "    </tr>\n",
       "    <tr>\n",
       "      <th>25</th>\n",
       "      <td>101</td>\n",
       "      <td>2</td>\n",
       "      <td>0</td>\n",
       "      <td>32</td>\n",
       "      <td>1</td>\n",
       "      <td>0</td>\n",
       "      <td>Kingsville</td>\n",
       "      <td>32</td>\n",
       "      <td>F</td>\n",
       "      <td>0</td>\n",
       "      <td>...</td>\n",
       "      <td>-6</td>\n",
       "      <td>0</td>\n",
       "      <td>6</td>\n",
       "      <td>0</td>\n",
       "      <td>0</td>\n",
       "      <td>0</td>\n",
       "      <td>25</td>\n",
       "      <td>42</td>\n",
       "      <td>0.0</td>\n",
       "      <td>2</td>\n",
       "    </tr>\n",
       "    <tr>\n",
       "      <th>27</th>\n",
       "      <td>106</td>\n",
       "      <td>2</td>\n",
       "      <td>0</td>\n",
       "      <td>36</td>\n",
       "      <td>7</td>\n",
       "      <td>0</td>\n",
       "      <td>Kingsville</td>\n",
       "      <td>36</td>\n",
       "      <td>F</td>\n",
       "      <td>0</td>\n",
       "      <td>...</td>\n",
       "      <td>-1</td>\n",
       "      <td>0</td>\n",
       "      <td>6</td>\n",
       "      <td>1</td>\n",
       "      <td>0</td>\n",
       "      <td>0</td>\n",
       "      <td>25</td>\n",
       "      <td>42</td>\n",
       "      <td>0.0</td>\n",
       "      <td>2</td>\n",
       "    </tr>\n",
       "    <tr>\n",
       "      <th>...</th>\n",
       "      <td>...</td>\n",
       "      <td>...</td>\n",
       "      <td>...</td>\n",
       "      <td>...</td>\n",
       "      <td>...</td>\n",
       "      <td>...</td>\n",
       "      <td>...</td>\n",
       "      <td>...</td>\n",
       "      <td>...</td>\n",
       "      <td>...</td>\n",
       "      <td>...</td>\n",
       "      <td>...</td>\n",
       "      <td>...</td>\n",
       "      <td>...</td>\n",
       "      <td>...</td>\n",
       "      <td>...</td>\n",
       "      <td>...</td>\n",
       "      <td>...</td>\n",
       "      <td>...</td>\n",
       "      <td>...</td>\n",
       "      <td>...</td>\n",
       "    </tr>\n",
       "    <tr>\n",
       "      <th>21871</th>\n",
       "      <td>53019</td>\n",
       "      <td>2</td>\n",
       "      <td>0</td>\n",
       "      <td>32</td>\n",
       "      <td>1</td>\n",
       "      <td>0</td>\n",
       "      <td>Ravensville</td>\n",
       "      <td>32</td>\n",
       "      <td>M</td>\n",
       "      <td>0</td>\n",
       "      <td>...</td>\n",
       "      <td>-7</td>\n",
       "      <td>0</td>\n",
       "      <td>2</td>\n",
       "      <td>0</td>\n",
       "      <td>0</td>\n",
       "      <td>0</td>\n",
       "      <td>9</td>\n",
       "      <td>34</td>\n",
       "      <td>0.0</td>\n",
       "      <td>1</td>\n",
       "    </tr>\n",
       "    <tr>\n",
       "      <th>21877</th>\n",
       "      <td>53043</td>\n",
       "      <td>2</td>\n",
       "      <td>0</td>\n",
       "      <td>33</td>\n",
       "      <td>0</td>\n",
       "      <td>0</td>\n",
       "      <td>Princeton</td>\n",
       "      <td>33</td>\n",
       "      <td>M</td>\n",
       "      <td>0</td>\n",
       "      <td>...</td>\n",
       "      <td>-4</td>\n",
       "      <td>0</td>\n",
       "      <td>6</td>\n",
       "      <td>3</td>\n",
       "      <td>0</td>\n",
       "      <td>0</td>\n",
       "      <td>7</td>\n",
       "      <td>60</td>\n",
       "      <td>0.0</td>\n",
       "      <td>1</td>\n",
       "    </tr>\n",
       "    <tr>\n",
       "      <th>21884</th>\n",
       "      <td>53068</td>\n",
       "      <td>2</td>\n",
       "      <td>0</td>\n",
       "      <td>43</td>\n",
       "      <td>16</td>\n",
       "      <td>0</td>\n",
       "      <td>Foxton</td>\n",
       "      <td>43</td>\n",
       "      <td>M</td>\n",
       "      <td>0</td>\n",
       "      <td>...</td>\n",
       "      <td>-5</td>\n",
       "      <td>0</td>\n",
       "      <td>3</td>\n",
       "      <td>0</td>\n",
       "      <td>0</td>\n",
       "      <td>0</td>\n",
       "      <td>11</td>\n",
       "      <td>37</td>\n",
       "      <td>0.0</td>\n",
       "      <td>1</td>\n",
       "    </tr>\n",
       "    <tr>\n",
       "      <th>21896</th>\n",
       "      <td>53108</td>\n",
       "      <td>2</td>\n",
       "      <td>0</td>\n",
       "      <td>40</td>\n",
       "      <td>10</td>\n",
       "      <td>0</td>\n",
       "      <td>Catburg</td>\n",
       "      <td>40</td>\n",
       "      <td>F</td>\n",
       "      <td>0</td>\n",
       "      <td>...</td>\n",
       "      <td>-4</td>\n",
       "      <td>0</td>\n",
       "      <td>1</td>\n",
       "      <td>3</td>\n",
       "      <td>0</td>\n",
       "      <td>0</td>\n",
       "      <td>13</td>\n",
       "      <td>26</td>\n",
       "      <td>0.0</td>\n",
       "      <td>3</td>\n",
       "    </tr>\n",
       "    <tr>\n",
       "      <th>21918</th>\n",
       "      <td>53173</td>\n",
       "      <td>2</td>\n",
       "      <td>0</td>\n",
       "      <td>42</td>\n",
       "      <td>9</td>\n",
       "      <td>0</td>\n",
       "      <td>Princeton</td>\n",
       "      <td>42</td>\n",
       "      <td>F</td>\n",
       "      <td>0</td>\n",
       "      <td>...</td>\n",
       "      <td>-5</td>\n",
       "      <td>0</td>\n",
       "      <td>2</td>\n",
       "      <td>3</td>\n",
       "      <td>0</td>\n",
       "      <td>0</td>\n",
       "      <td>11</td>\n",
       "      <td>32</td>\n",
       "      <td>0.0</td>\n",
       "      <td>2</td>\n",
       "    </tr>\n",
       "  </tbody>\n",
       "</table>\n",
       "<p>1747 rows × 26 columns</p>\n",
       "</div>"
      ],
      "text/plain": [
       "       customer_id  campaign  response  age  age_youngest_child  \\\n",
       "0                7         2         0   19                   0   \n",
       "8               33         2         0   24                   0   \n",
       "24              96         2         0   38                   7   \n",
       "25             101         2         0   32                   1   \n",
       "27             106         2         0   36                   7   \n",
       "...            ...       ...       ...  ...                 ...   \n",
       "21871        53019         2         0   32                   1   \n",
       "21877        53043         2         0   33                   0   \n",
       "21884        53068         2         0   43                  16   \n",
       "21896        53108         2         0   40                  10   \n",
       "21918        53173         2         0   42                   9   \n",
       "\n",
       "       average_balance_feed_index       branch  debt_equity gender  \\\n",
       "0                               0  Ravensville           19      M   \n",
       "8                               0       Foxton           24      M   \n",
       "24                              0   Kingsville           38      M   \n",
       "25                              0   Kingsville           32      F   \n",
       "27                              0   Kingsville           36      F   \n",
       "...                           ...          ...          ...    ...   \n",
       "21871                           0  Ravensville           32      M   \n",
       "21877                           0    Princeton           33      M   \n",
       "21884                           0       Foxton           43      M   \n",
       "21896                           0      Catburg           40      F   \n",
       "21918                           0    Princeton           42      F   \n",
       "\n",
       "       bad_payment  ...  months_current_account  months_customer  \\\n",
       "0                0  ...                      -4                0   \n",
       "8                0  ...                      -2                0   \n",
       "24               0  ...                      -6                0   \n",
       "25               0  ...                      -6                0   \n",
       "27               0  ...                      -1                0   \n",
       "...            ...  ...                     ...              ...   \n",
       "21871            0  ...                      -7                0   \n",
       "21877            0  ...                      -4                0   \n",
       "21884            0  ...                      -5                0   \n",
       "21896            0  ...                      -4                0   \n",
       "21918            0  ...                      -5                0   \n",
       "\n",
       "       call_center_contacts  loan_accounts number_products  \\\n",
       "0                         1              1               1   \n",
       "8                         0              0               0   \n",
       "24                        6              1               0   \n",
       "25                        6              0               0   \n",
       "27                        6              1               0   \n",
       "...                     ...            ...             ...   \n",
       "21871                     2              0               0   \n",
       "21877                     6              3               0   \n",
       "21884                     3              0               0   \n",
       "21896                     1              3               0   \n",
       "21918                     2              3               0   \n",
       "\n",
       "       number_transactions  non_worker_percentage  white_collar_percentage  \\\n",
       "0                        0                      9                       26   \n",
       "8                        0                     14                       19   \n",
       "24                       0                     25                       42   \n",
       "25                       0                     25                       42   \n",
       "27                       0                     25                       42   \n",
       "...                    ...                    ...                      ...   \n",
       "21871                    0                      9                       34   \n",
       "21877                    0                      7                       60   \n",
       "21884                    0                     11                       37   \n",
       "21896                    0                     13                       26   \n",
       "21918                    0                     11                       32   \n",
       "\n",
       "       rfm_score  X_random  \n",
       "0            0.0         3  \n",
       "8            0.0         1  \n",
       "24           0.0         2  \n",
       "25           0.0         2  \n",
       "27           0.0         2  \n",
       "...          ...       ...  \n",
       "21871        0.0         1  \n",
       "21877        0.0         1  \n",
       "21884        0.0         1  \n",
       "21896        0.0         3  \n",
       "21918        0.0         2  \n",
       "\n",
       "[1747 rows x 26 columns]"
      ]
     },
     "execution_count": 22,
     "metadata": {},
     "output_type": "execute_result"
    }
   ],
   "source": [
    "# 거래기간 음수인 건 데이터 확인(떼이터 탐색)\n",
    "dataset[dataset['months_current_account']< 0]"
   ]
  },
  {
   "cell_type": "code",
   "execution_count": 24,
   "metadata": {
    "id": "W3QNRZxtscSA"
   },
   "outputs": [],
   "source": [
    "# 음수인값 제거 \n",
    "## 제거할때 왜 제거했는지 이유 설명가능해야함 \n",
    "\n",
    "dataset = dataset[dataset['months_current_account']>= 0]"
   ]
  },
  {
   "cell_type": "code",
   "execution_count": 25,
   "metadata": {
    "colab": {
     "base_uri": "https://localhost:8080/"
    },
    "executionInfo": {
     "elapsed": 61,
     "status": "ok",
     "timestamp": 1663382047592,
     "user": {
      "displayName": "강현욱",
      "userId": "07194546442434465172"
     },
     "user_tz": -540
    },
    "id": "JaYiqJOasjXS",
    "outputId": "5d7547ca-6507-49b4-ce05-2e5c1ee88ee6"
   },
   "outputs": [
    {
     "data": {
      "text/plain": [
       "(11757, 26)"
      ]
     },
     "execution_count": 25,
     "metadata": {},
     "output_type": "execute_result"
    }
   ],
   "source": [
    "# 데이터 개수, 변수\n",
    "dataset.shape"
   ]
  },
  {
   "cell_type": "markdown",
   "metadata": {
    "id": "LRpBI810__Oh"
   },
   "source": [
    "### 4.2 EDA 형식 \n"
   ]
  },
  {
   "cell_type": "markdown",
   "metadata": {
    "id": "VYx0RLZqNOPg"
   },
   "source": [
    "### 데이터 탐색을 위한 시각화"
   ]
  },
  {
   "cell_type": "code",
   "execution_count": 26,
   "metadata": {
    "colab": {
     "base_uri": "https://localhost:8080/",
     "height": 286
    },
    "executionInfo": {
     "elapsed": 858,
     "status": "ok",
     "timestamp": 1663400149859,
     "user": {
      "displayName": "강현욱",
      "userId": "07194546442434465172"
     },
     "user_tz": -540
    },
    "id": "H566UoITWHg4",
    "outputId": "190e78d9-59db-4807-ad57-18bfceca07f0"
   },
   "outputs": [
    {
     "data": {
      "text/plain": [
       "<matplotlib.legend.Legend at 0x22ad39d4670>"
      ]
     },
     "execution_count": 26,
     "metadata": {},
     "output_type": "execute_result"
    },
    {
     "data": {
      "image/png": "[encoded data removed]",
      "text/plain": [
       "<Figure size 432x288 with 1 Axes>"
      ]
     },
     "metadata": {
      "needs_background": "light"
     },
     "output_type": "display_data"
    }
   ],
   "source": [
    "# 기본적인 히스토그램 그려보기 (추천)(중요!!)\n",
    "bin = 10\n",
    "dataset[dataset['response'] == 0 ].age.plot.hist(bins = bin) # 응답안한사람의 연령\n",
    "dataset[dataset['response'] == 1 ].age.plot.hist(bins = bin) # 응답한 사람의 연령\n",
    "plt.legend([0,1])"
   ]
  },
  {
   "cell_type": "markdown",
   "metadata": {
    "id": "DgoPc8WbNkpd"
   },
   "source": [
    "히스토그램의 장단점\n",
    "*   전체 분포를 직관적으로 확인할 수 있다\n",
    "*   집단간 차이를 볼수 있다. (30-40대에 몰려있음을 알수있음)\n",
    "*   min값과 max 값을 잘 볼 수 있다. (0 ~100세 사이)\n",
    "*   빈도가 너무 작은 구간은 비율을 보기 힘들다\n",
    "*   분포의 크기 구간을 쉽게 늘리거나 줄일 수 있다 (bin으로 조절)\n",
    "*   bin은 10 개 or 20개로 하는 경우 많음"
   ]
  },
  {
   "cell_type": "markdown",
   "metadata": {
    "id": "hnskAMhLbGki"
   },
   "source": [
    "### 구간별 상대비율 히스토그램"
   ]
  },
  {
   "cell_type": "code",
   "execution_count": 33,
   "metadata": {
    "colab": {
     "base_uri": "https://localhost:8080/",
     "height": 355
    },
    "executionInfo": {
     "elapsed": 29,
     "status": "ok",
     "timestamp": 1663382047982,
     "user": {
      "displayName": "강현욱",
      "userId": "07194546442434465172"
     },
     "user_tz": -540
    },
    "id": "OW56T7094Ezk",
    "outputId": "1f1f7b3f-e310-4525-b245-401896530414"
   },
   "outputs": [],
   "source": [
    "# 각 구간별 상대 비율 히스토 그램 \n",
    "# dataset['age_bin'] = pd.cut(dataset['age'],bins = 10)\n",
    "\n",
    "# temp_1 = pd.DataFrame(dataset.groupby(['response','age_bin']).customer_id.count()).reset_index()\n",
    "# temp_1_pivot = temp_1.pivot(index = 'age_bin',\n",
    "#                             columns= 'response',\n",
    "#                             values = 'customer_id')\n",
    "# temp_1_pivot['row_sum'] = temp_1_pivot.sum(axis=1)\n",
    "# temp_1_pivot[0] = temp_1_pivot[0]/temp_1_pivot['row_sum']\n",
    "# temp_1_pivot[1] = temp_1_pivot[1]/temp_1_pivot['row_sum']\n",
    "# temp_1_pivot[[1,0]].plot.bar(stacked = True )"
   ]
  },
  {
   "cell_type": "markdown",
   "metadata": {},
   "source": [
    "* 기본적인 히스토그램과 각 구간별 상대 비율 히스토그램과 함께 보기 !"
   ]
  },
  {
   "cell_type": "code",
   "execution_count": 34,
   "metadata": {
    "colab": {
     "base_uri": "https://localhost:8080/"
    },
    "executionInfo": {
     "elapsed": 476,
     "status": "ok",
     "timestamp": 1663382048440,
     "user": {
      "displayName": "강현욱",
      "userId": "07194546442434465172"
     },
     "user_tz": -540
    },
    "id": "_GMh2pU3bpPD",
    "outputId": "e8bf8245-c2d2-47b6-d8fc-bb5bb87d7052"
   },
   "outputs": [
    {
     "name": "stdout",
     "output_type": "stream",
     "text": [
      "marital  response\n",
      "M        0           2597\n",
      "         1            502\n",
      "S        0           4649\n",
      "         1            901\n",
      "U        0           2559\n",
      "         1            549\n",
      "Name: customer_id, dtype: int64\n",
      "marital  response\n",
      "M        0           0.220890\n",
      "         1           0.042698\n",
      "S        0           0.395424\n",
      "         1           0.076635\n",
      "U        0           0.217658\n",
      "         1           0.046696\n",
      "Name: customer_id, dtype: float64\n"
     ]
    }
   ],
   "source": [
    "#  문자형 변수 \n",
    "print(dataset.groupby(['marital','response']).customer_id.count())\n",
    "print(dataset.groupby(['marital','response']).customer_id.count()/dataset.shape[0])"
   ]
  },
  {
   "cell_type": "code",
   "execution_count": 35,
   "metadata": {
    "colab": {
     "base_uri": "https://localhost:8080/",
     "height": 269
    },
    "executionInfo": {
     "elapsed": 56,
     "status": "ok",
     "timestamp": 1663382048443,
     "user": {
      "displayName": "강현욱",
      "userId": "07194546442434465172"
     },
     "user_tz": -540
    },
    "id": "dCq99L1XbqTy",
    "outputId": "ea8a1a43-07c5-446c-9792-278938732322"
   },
   "outputs": [
    {
     "data": {
      "text/html": [
       "<div>\n",
       "<style scoped>\n",
       "    .dataframe tbody tr th:only-of-type {\n",
       "        vertical-align: middle;\n",
       "    }\n",
       "\n",
       "    .dataframe tbody tr th {\n",
       "        vertical-align: top;\n",
       "    }\n",
       "\n",
       "    .dataframe thead th {\n",
       "        text-align: right;\n",
       "    }\n",
       "</style>\n",
       "<table border=\"1\" class=\"dataframe\">\n",
       "  <thead>\n",
       "    <tr style=\"text-align: right;\">\n",
       "      <th></th>\n",
       "      <th></th>\n",
       "      <th>customer_id</th>\n",
       "      <th>customer_id</th>\n",
       "    </tr>\n",
       "    <tr>\n",
       "      <th>marital</th>\n",
       "      <th>response</th>\n",
       "      <th></th>\n",
       "      <th></th>\n",
       "    </tr>\n",
       "  </thead>\n",
       "  <tbody>\n",
       "    <tr>\n",
       "      <th rowspan=\"2\" valign=\"top\">M</th>\n",
       "      <th>0</th>\n",
       "      <td>2597</td>\n",
       "      <td>0.220890</td>\n",
       "    </tr>\n",
       "    <tr>\n",
       "      <th>1</th>\n",
       "      <td>502</td>\n",
       "      <td>0.042698</td>\n",
       "    </tr>\n",
       "    <tr>\n",
       "      <th rowspan=\"2\" valign=\"top\">S</th>\n",
       "      <th>0</th>\n",
       "      <td>4649</td>\n",
       "      <td>0.395424</td>\n",
       "    </tr>\n",
       "    <tr>\n",
       "      <th>1</th>\n",
       "      <td>901</td>\n",
       "      <td>0.076635</td>\n",
       "    </tr>\n",
       "    <tr>\n",
       "      <th rowspan=\"2\" valign=\"top\">U</th>\n",
       "      <th>0</th>\n",
       "      <td>2559</td>\n",
       "      <td>0.217658</td>\n",
       "    </tr>\n",
       "    <tr>\n",
       "      <th>1</th>\n",
       "      <td>549</td>\n",
       "      <td>0.046696</td>\n",
       "    </tr>\n",
       "  </tbody>\n",
       "</table>\n",
       "</div>"
      ],
      "text/plain": [
       "                  customer_id  customer_id\n",
       "marital response                          \n",
       "M       0                2597     0.220890\n",
       "        1                 502     0.042698\n",
       "S       0                4649     0.395424\n",
       "        1                 901     0.076635\n",
       "U       0                2559     0.217658\n",
       "        1                 549     0.046696"
      ]
     },
     "execution_count": 35,
     "metadata": {},
     "output_type": "execute_result"
    }
   ],
   "source": [
    "pd.concat([dataset.groupby(['marital','response']).customer_id.count(), dataset.groupby(['marital','response']).customer_id.count()/dataset.shape[0]], axis =1)"
   ]
  },
  {
   "cell_type": "code",
   "execution_count": 36,
   "metadata": {
    "colab": {
     "base_uri": "https://localhost:8080/"
    },
    "executionInfo": {
     "elapsed": 53,
     "status": "ok",
     "timestamp": 1663382048446,
     "user": {
      "displayName": "강현욱",
      "userId": "07194546442434465172"
     },
     "user_tz": -540
    },
    "id": "_R0CsBfvnQm0",
    "outputId": "48607469-d5ad-435b-d3f0-724787a702ff"
   },
   "outputs": [
    {
     "data": {
      "text/plain": [
       "M    0.263588\n",
       "S    0.472059\n",
       "U    0.264353\n",
       "Name: marital, dtype: float64"
      ]
     },
     "execution_count": 36,
     "metadata": {},
     "output_type": "execute_result"
    }
   ],
   "source": [
    " dataset['marital'].value_counts(normalize=True).sort_index()"
   ]
  },
  {
   "cell_type": "code",
   "execution_count": null,
   "metadata": {},
   "outputs": [],
   "source": [
    "# 최종적으로 하기 표를 보면, 큰 차이가 없는 것 확인 가능 "
   ]
  },
  {
   "cell_type": "code",
   "execution_count": 37,
   "metadata": {
    "colab": {
     "base_uri": "https://localhost:8080/",
     "height": 206
    },
    "executionInfo": {
     "elapsed": 259,
     "status": "ok",
     "timestamp": 1663400512623,
     "user": {
      "displayName": "강현욱",
      "userId": "07194546442434465172"
     },
     "user_tz": -540
    },
    "id": "igjO-_V5hNpC",
    "outputId": "b6fac559-3c58-4737-f751-10d86f64bea0"
   },
   "outputs": [
    {
     "data": {
      "text/html": [
       "<style type=\"text/css\">\n",
       "</style>\n",
       "<table id=\"T_2571f\">\n",
       "  <thead>\n",
       "    <tr>\n",
       "      <th class=\"index_name level0\" >response</th>\n",
       "      <th id=\"T_2571f_level0_col0\" class=\"col_heading level0 col0\" >0</th>\n",
       "      <th id=\"T_2571f_level0_col1\" class=\"col_heading level0 col1\" >1</th>\n",
       "    </tr>\n",
       "    <tr>\n",
       "      <th class=\"index_name level0\" >marital</th>\n",
       "      <th class=\"blank col0\" >&nbsp;</th>\n",
       "      <th class=\"blank col1\" >&nbsp;</th>\n",
       "    </tr>\n",
       "  </thead>\n",
       "  <tbody>\n",
       "    <tr>\n",
       "      <th id=\"T_2571f_level0_row0\" class=\"row_heading level0 row0\" >M</th>\n",
       "      <td id=\"T_2571f_row0_col0\" class=\"data row0 col0\" >83.80%</td>\n",
       "      <td id=\"T_2571f_row0_col1\" class=\"data row0 col1\" >16.20%</td>\n",
       "    </tr>\n",
       "    <tr>\n",
       "      <th id=\"T_2571f_level0_row1\" class=\"row_heading level0 row1\" >S</th>\n",
       "      <td id=\"T_2571f_row1_col0\" class=\"data row1 col0\" >83.77%</td>\n",
       "      <td id=\"T_2571f_row1_col1\" class=\"data row1 col1\" >16.23%</td>\n",
       "    </tr>\n",
       "    <tr>\n",
       "      <th id=\"T_2571f_level0_row2\" class=\"row_heading level0 row2\" >U</th>\n",
       "      <td id=\"T_2571f_row2_col0\" class=\"data row2 col0\" >82.34%</td>\n",
       "      <td id=\"T_2571f_row2_col1\" class=\"data row2 col1\" >17.66%</td>\n",
       "    </tr>\n",
       "    <tr>\n",
       "      <th id=\"T_2571f_level0_row3\" class=\"row_heading level0 row3\" >total</th>\n",
       "      <td id=\"T_2571f_row3_col0\" class=\"data row3 col0\" >83.40%</td>\n",
       "      <td id=\"T_2571f_row3_col1\" class=\"data row3 col1\" >16.60%</td>\n",
       "    </tr>\n",
       "  </tbody>\n",
       "</table>\n"
      ],
      "text/plain": [
       "<pandas.io.formats.style.Styler at 0x22ad4114760>"
      ]
     },
     "execution_count": 37,
     "metadata": {},
     "output_type": "execute_result"
    }
   ],
   "source": [
    "pd.crosstab(index = dataset['marital'], columns = dataset['response'],margins = True, margins_name =\"total\",normalize = 'index').style.format('{:.2%}')"
   ]
  },
  {
   "cell_type": "markdown",
   "metadata": {
    "id": "-QbkEwqYYlgn"
   },
   "source": [
    "### 함수화 (연속형 및 명목형) "
   ]
  },
  {
   "cell_type": "markdown",
   "metadata": {},
   "source": [
    "- 2번 이상 사용할 경우 함수화 하기!\n",
    "- 변수들을 이해하기 위한 plot 들 많이 생성해보기 !(이해하는 토대가 됨)\n",
    "- 내가 이해할건 python , 자주 보거나 함께 보는건 태블로 많이 사용"
   ]
  },
  {
   "cell_type": "code",
   "execution_count": 38,
   "metadata": {
    "id": "_bRD_o3uYm2b"
   },
   "outputs": [],
   "source": [
    "## 연속형 변수 그래프 생성 함수 \n",
    "def hist_plot (colname, taget_colname, n_bin = 10) : # colname : 그래프 그릴 컬럼명 , taget_colname: n_bin : 구간갯수 \n",
    "\n",
    "  n_bins = int(n_bin) \n",
    "  data['bin'] = pd.cut(data[colname],bins = n_bins)\n",
    "\n",
    "  temp = data.reset_index().groupby([taget_colname,'bin']).index.count().reset_index() # 구간화\n",
    "  temp = temp.pivot(index = 'bin',columns = taget_colname, values = 'index')\n",
    "  temp['row_sum'] = temp.sum(axis = 1) # 각각의 비율을 만들기 위해 구간 합계 생성\n",
    "  temp['0_rate'] = temp[0]/temp['row_sum'] #각 row의 0의 비율 \n",
    "  temp['1_rate'] = temp[1]/temp['row_sum'] #각 row의 1의 비율 \n",
    "\n",
    "  ## 그래프\n",
    "  fig = plt.figure()\n",
    "  aig, ax = plt.subplots(ncols = 2 , figsize =(12,5))\n",
    "  \n",
    "  ## 첫번째  히스토그램 \n",
    "  sns.histplot(data = data, x= colname, hue= taget_colname, bins = n_bins, color=['orange','blue'], alpha  = 0.5, hue_order= (0,1), ax= ax[0])\n",
    "\n",
    "  ## 구간별 타겟비율 그래프\n",
    "  temp[['0_rate','1_rate']].plot.bar(stacked = True ,ax= ax[1])\n",
    "  ax[1].legend(labels=[0,1],title =taget_colname) # 범례 순서 바꾸기 \n",
    "  plt.xlabel(colname)\n",
    "  plt.show()"
   ]
  },
  {
   "cell_type": "code",
   "execution_count": 39,
   "metadata": {
    "colab": {
     "base_uri": "https://localhost:8080/",
     "height": 416
    },
    "executionInfo": {
     "elapsed": 1948,
     "status": "ok",
     "timestamp": 1663400629537,
     "user": {
      "displayName": "강현욱",
      "userId": "07194546442434465172"
     },
     "user_tz": -540
    },
    "id": "7W46qkLVY-3S",
    "outputId": "e1cafb21-95fe-4707-b0ed-270964dd1801"
   },
   "outputs": [
    {
     "data": {
      "text/plain": [
       "<Figure size 432x288 with 0 Axes>"
      ]
     },
     "metadata": {},
     "output_type": "display_data"
    },
    {
     "data": {
      "image/png": "[encoded data removed]",
      "text/plain": [
       "<Figure size 864x360 with 2 Axes>"
      ]
     },
     "metadata": {
      "needs_background": "light"
     },
     "output_type": "display_data"
    }
   ],
   "source": [
    "hist_plot('age','response',25 )"
   ]
  },
  {
   "cell_type": "code",
   "execution_count": 41,
   "metadata": {
    "id": "ZYC0RgCPZ_Xc"
   },
   "outputs": [],
   "source": [
    "# 명속형 변수 그래프 생성 함수 \n",
    "def bar_plot (colname, taget_colname): # colname : 그래프 그릴 컬럼명 , taget_colname: target 컬럼명\n",
    "\n",
    "## 그래프용 데이터 생성 \n",
    "  temp = data.reset_index().groupby([colname,taget_colname]).index.count()\n",
    "  temp = temp.reset_index()\n",
    "  temp = temp.pivot(index = colname, columns = taget_colname, values ='index')\n",
    "  temp['row_sum'] = temp.sum(axis=1)\n",
    "  temp['0_rate'] = temp[0]/temp['row_sum']\n",
    "  temp['1_rate'] = temp[1]/temp['row_sum']\n",
    " \n",
    "## 그래프\n",
    "  fig = plt.figure()\n",
    "  aig, ax = plt.subplots(ncols = 2 , figsize =(12,5))\n",
    "## 빈도 막대 그래프 \n",
    "  temp[[0,1]].plot.bar(stacked = True ,ax= ax[0])\n",
    "  ax[0].legend(labels=[0,1],title =taget_colname) # 범례 순서 바꾸기 \n",
    "  plt.xlabel(colname)\n",
    "## 구간별 타겟 비율 막대 그래프 \n",
    "  temp[['0_rate','1_rate']].plot.bar(stacked = True ,ax= ax[1])\n",
    "  ax[1].legend(labels=[0,1],title =taget_colname) # 범례 순서 바꾸기 \n",
    "  plt.xlabel(colname)\n",
    "  plt.show()\n",
    "  \n",
    "  print(dataset[colname].value_counts(normalize=True).sort_index())\n",
    "  print(\" \")\n",
    "  print(pd.crosstab(index = dataset[taget_colname], columns = dataset[colname],margins = True, margins_name =\"total\",normalize = 'columns'))"
   ]
  },
  {
   "cell_type": "code",
   "execution_count": 42,
   "metadata": {
    "colab": {
     "base_uri": "https://localhost:8080/",
     "height": 517
    },
    "executionInfo": {
     "elapsed": 420,
     "status": "ok",
     "timestamp": 1663382049298,
     "user": {
      "displayName": "강현욱",
      "userId": "07194546442434465172"
     },
     "user_tz": -540
    },
    "id": "wIUAQeQEaR8S",
    "outputId": "e627d32c-9047-47fb-bd6f-77f474f8135f"
   },
   "outputs": [
    {
     "data": {
      "text/plain": [
       "<Figure size 432x288 with 0 Axes>"
      ]
     },
     "metadata": {},
     "output_type": "display_data"
    },
    {
     "data": {
      "image/png": "[encoded data removed]",
      "text/plain": [
       "<Figure size 864x360 with 2 Axes>"
      ]
     },
     "metadata": {
      "needs_background": "light"
     },
     "output_type": "display_data"
    },
    {
     "name": "stdout",
     "output_type": "stream",
     "text": [
      "M    0.263588\n",
      "S    0.472059\n",
      "U    0.264353\n",
      "Name: marital, dtype: float64\n",
      " \n",
      "marital          M         S         U     total\n",
      "response                                        \n",
      "0         0.838012  0.837658  0.823359  0.833971\n",
      "1         0.161988  0.162342  0.176641  0.166029\n"
     ]
    }
   ],
   "source": [
    "bar_plot('marital','response')"
   ]
  },
  {
   "cell_type": "markdown",
   "metadata": {
    "id": "F9JBZzUEbp7B"
   },
   "source": [
    "### 4.3 EDA\n",
    "- 변수별로 그래프 생성 & 비교 & 코멘트 남기면서 데이터에 대한 인사이트 도출 !"
   ]
  },
  {
   "cell_type": "code",
   "execution_count": 43,
   "metadata": {
    "colab": {
     "base_uri": "https://localhost:8080/",
     "height": 416
    },
    "executionInfo": {
     "elapsed": 1318,
     "status": "ok",
     "timestamp": 1663400825180,
     "user": {
      "displayName": "강현욱",
      "userId": "07194546442434465172"
     },
     "user_tz": -540
    },
    "id": "uQyB6ihGeEgm",
    "outputId": "1f8d4d14-5067-4c09-b3bd-4bc993df6066"
   },
   "outputs": [
    {
     "data": {
      "text/plain": [
       "<Figure size 432x288 with 0 Axes>"
      ]
     },
     "metadata": {},
     "output_type": "display_data"
    },
    {
     "data": {
      "image/png": "[encoded data removed]",
      "text/plain": [
       "<Figure size 864x360 with 2 Axes>"
      ]
     },
     "metadata": {
      "needs_background": "light"
     },
     "output_type": "display_data"
    }
   ],
   "source": [
    "# age_youngest_child\n",
    "hist_plot('age_youngest_child','response', 25)\n",
    "\n",
    "## 가장 어린 자녀의 나이가 5세 미만이 가장 많음 - 정말 그럴까? 확인을 하려면?  \n",
    "## 구간별 큰 target의 비율 차이는 크게 없는것으로 보임 "
   ]
  },
  {
   "cell_type": "code",
   "execution_count": 44,
   "metadata": {
    "colab": {
     "base_uri": "https://localhost:8080/",
     "height": 429
    },
    "executionInfo": {
     "elapsed": 676,
     "status": "ok",
     "timestamp": 1663400866321,
     "user": {
      "displayName": "강현욱",
      "userId": "07194546442434465172"
     },
     "user_tz": -540
    },
    "id": "qeJpdUMwKphk",
    "outputId": "29c63e35-4a98-478f-db47-4217cb6acc8f"
   },
   "outputs": [
    {
     "data": {
      "text/plain": [
       "<Figure size 432x288 with 0 Axes>"
      ]
     },
     "metadata": {},
     "output_type": "display_data"
    },
    {
     "data": {
      "image/png": "[encoded data removed]",
      "text/plain": [
       "<Figure size 864x360 with 2 Axes>"
      ]
     },
     "metadata": {
      "needs_background": "light"
     },
     "output_type": "display_data"
    }
   ],
   "source": [
    "# average_balance_feed_index\n",
    "hist_plot('average_balance_feed_index','response')\n",
    "\n",
    "## 평잔이 없는 유저의 비중이 높음 \n",
    "## 평잔이 낮은 유저가 가장 반응율이 좋음 "
   ]
  },
  {
   "cell_type": "code",
   "execution_count": 45,
   "metadata": {
    "colab": {
     "base_uri": "https://localhost:8080/",
     "height": 410
    },
    "executionInfo": {
     "elapsed": 811,
     "status": "ok",
     "timestamp": 1663382051167,
     "user": {
      "displayName": "강현욱",
      "userId": "07194546442434465172"
     },
     "user_tz": -540
    },
    "id": "04_qVlrPK8A7",
    "outputId": "2279697a-65e2-4cd0-8802-fc3eb0968c8c"
   },
   "outputs": [
    {
     "data": {
      "text/plain": [
       "<Figure size 432x288 with 0 Axes>"
      ]
     },
     "metadata": {},
     "output_type": "display_data"
    },
    {
     "data": {
      "image/png": "[encoded data removed]",
      "text/plain": [
       "<Figure size 864x360 with 2 Axes>"
      ]
     },
     "metadata": {
      "needs_background": "light"
     },
     "output_type": "display_data"
    }
   ],
   "source": [
    "# debt_equity\n",
    "\n",
    "hist_plot('debt_equity','response')\n",
    "\n",
    "## 자본대비 부채비율은 40% 대가 가장 많은 유저의 비중을 차지함. (정규 분포 모양)\n",
    "## 부채 비율이 구간에 따른 응답율은 차이가 없음"
   ]
  },
  {
   "cell_type": "code",
   "execution_count": 46,
   "metadata": {
    "colab": {
     "base_uri": "https://localhost:8080/",
     "height": 496
    },
    "executionInfo": {
     "elapsed": 845,
     "status": "ok",
     "timestamp": 1663400969297,
     "user": {
      "displayName": "강현욱",
      "userId": "07194546442434465172"
     },
     "user_tz": -540
    },
    "id": "e5Q1My-_K70m",
    "outputId": "08665b0b-ec07-48a8-b784-7368f8f5d738"
   },
   "outputs": [
    {
     "data": {
      "text/plain": [
       "<Figure size 432x288 with 0 Axes>"
      ]
     },
     "metadata": {},
     "output_type": "display_data"
    },
    {
     "data": {
      "image/png": "[encoded data removed]",
      "text/plain": [
       "<Figure size 864x360 with 2 Axes>"
      ]
     },
     "metadata": {
      "needs_background": "light"
     },
     "output_type": "display_data"
    },
    {
     "name": "stdout",
     "output_type": "stream",
     "text": [
      "0    0.997193\n",
      "1    0.002807\n",
      "Name: bad_payment, dtype: float64\n",
      " \n",
      "bad_payment         0         1     total\n",
      "response                                 \n",
      "0            0.833845  0.878788  0.833971\n",
      "1            0.166155  0.121212  0.166029\n"
     ]
    }
   ],
   "source": [
    "# bad_payment \n",
    "\n",
    "#hist_plot('bad_payment','response')\n",
    "bar_plot('bad_payment','response')\n",
    "\n",
    "## 연체를 안한 유저가 거의 대부임 \n",
    "## 연채를 안한 유저가 아주 적은 차이로 반응율이 높음"
   ]
  },
  {
   "cell_type": "code",
   "execution_count": 47,
   "metadata": {
    "colab": {
     "base_uri": "https://localhost:8080/",
     "height": 496
    },
    "executionInfo": {
     "elapsed": 24,
     "status": "ok",
     "timestamp": 1663382051535,
     "user": {
      "displayName": "강현욱",
      "userId": "07194546442434465172"
     },
     "user_tz": -540
    },
    "id": "qSyupBLALhRi",
    "outputId": "cb52ece7-2dc3-49ea-dc22-e598c36d5163"
   },
   "outputs": [
    {
     "data": {
      "text/plain": [
       "<Figure size 432x288 with 0 Axes>"
      ]
     },
     "metadata": {},
     "output_type": "display_data"
    },
    {
     "data": {
      "image/png": "[encoded data removed]",
      "text/plain": [
       "<Figure size 864x360 with 2 Axes>"
      ]
     },
     "metadata": {
      "needs_background": "light"
     },
     "output_type": "display_data"
    },
    {
     "name": "stdout",
     "output_type": "stream",
     "text": [
      "0    0.957387\n",
      "1    0.042613\n",
      "Name: gold_card, dtype: float64\n",
      " \n",
      "gold_card         0         1     total\n",
      "response                               \n",
      "0          0.833333  0.848303  0.833971\n",
      "1          0.166667  0.151697  0.166029\n"
     ]
    }
   ],
   "source": [
    "# gold_card \n",
    "\n",
    "bar_plot('gold_card','response')\n",
    "\n",
    "## 대부분의 유저가 골드카드를 소지하지 않음 \n",
    "## 골드 카드 유저가 적은 차이로 반응율이 높음"
   ]
  },
  {
   "cell_type": "code",
   "execution_count": 48,
   "metadata": {
    "colab": {
     "base_uri": "https://localhost:8080/",
     "height": 496
    },
    "executionInfo": {
     "elapsed": 365,
     "status": "ok",
     "timestamp": 1663382051881,
     "user": {
      "displayName": "강현욱",
      "userId": "07194546442434465172"
     },
     "user_tz": -540
    },
    "id": "aWajNfQhLrr3",
    "outputId": "84b014b3-26bb-4120-d7f7-4f5f8271732c"
   },
   "outputs": [
    {
     "data": {
      "text/plain": [
       "<Figure size 432x288 with 0 Axes>"
      ]
     },
     "metadata": {},
     "output_type": "display_data"
    },
    {
     "data": {
      "image/png": "[encoded data removed]",
      "text/plain": [
       "<Figure size 864x360 with 2 Axes>"
      ]
     },
     "metadata": {
      "needs_background": "light"
     },
     "output_type": "display_data"
    },
    {
     "name": "stdout",
     "output_type": "stream",
     "text": [
      "0    0.995832\n",
      "1    0.004168\n",
      "Name: pension_plan, dtype: float64\n",
      " \n",
      "pension_plan         0         1     total\n",
      "response                                  \n",
      "0             0.835497  0.469388  0.833971\n",
      "1             0.164503  0.530612  0.166029\n"
     ]
    }
   ],
   "source": [
    "# pension_plan\n",
    "\n",
    "bar_plot('pension_plan','response')\n",
    "\n",
    "## 대부분의 유저가 골드카드를 소지하지 않음 \n",
    "## 골드 카드 유저가 적은 차이로 반응율이 높음"
   ]
  },
  {
   "cell_type": "code",
   "execution_count": 49,
   "metadata": {
    "colab": {
     "base_uri": "https://localhost:8080/",
     "height": 410
    },
    "executionInfo": {
     "elapsed": 666,
     "status": "ok",
     "timestamp": 1663382052540,
     "user": {
      "displayName": "강현욱",
      "userId": "07194546442434465172"
     },
     "user_tz": -540
    },
    "id": "0OIr-Eu-L4hW",
    "outputId": "2edce3f8-0e57-4ca2-d004-edd889a96041"
   },
   "outputs": [
    {
     "data": {
      "text/plain": [
       "<Figure size 432x288 with 0 Axes>"
      ]
     },
     "metadata": {},
     "output_type": "display_data"
    },
    {
     "data": {
      "image/png": "[encoded data removed]",
      "text/plain": [
       "<Figure size 864x360 with 2 Axes>"
      ]
     },
     "metadata": {
      "needs_background": "light"
     },
     "output_type": "display_data"
    }
   ],
   "source": [
    "# household_debt_to_equity_ratio\n",
    "\n",
    "hist_plot('household_debt_to_equity_ratio','response')\n",
    "\n",
    "## 가계부채 비율은 55~60% 가 가장 높음. (정규 분포 모양)\n",
    "## 가계부채 비율에 따른 차이는 크지 않은 것으로 보임"
   ]
  },
  {
   "cell_type": "code",
   "execution_count": 50,
   "metadata": {
    "colab": {
     "base_uri": "https://localhost:8080/",
     "height": 454
    },
    "executionInfo": {
     "elapsed": 920,
     "status": "ok",
     "timestamp": 1663401045517,
     "user": {
      "displayName": "강현욱",
      "userId": "07194546442434465172"
     },
     "user_tz": -540
    },
    "id": "GWhj-OBHMG3D",
    "outputId": "971b8ffa-4bf3-4374-d5dc-64604ef4c9a2"
   },
   "outputs": [
    {
     "data": {
      "text/plain": [
       "<Figure size 432x288 with 0 Axes>"
      ]
     },
     "metadata": {},
     "output_type": "display_data"
    },
    {
     "data": {
      "image/png": "[encoded data removed]",
      "text/plain": [
       "<Figure size 864x360 with 2 Axes>"
      ]
     },
     "metadata": {
      "needs_background": "light"
     },
     "output_type": "display_data"
    }
   ],
   "source": [
    "# income\n",
    "\n",
    "hist_plot('income','response')\n",
    "\n",
    "## 해당 변수는 데이터가 많이 없어서 빼야 될 것 같은데, 의미있는 변수가 되는지 안되는지 판단\n",
    "## 빈도 \n",
    "## target 비율"
   ]
  },
  {
   "cell_type": "code",
   "execution_count": 51,
   "metadata": {
    "colab": {
     "base_uri": "https://localhost:8080/",
     "height": 678
    },
    "executionInfo": {
     "elapsed": 773,
     "status": "ok",
     "timestamp": 1663382054082,
     "user": {
      "displayName": "강현욱",
      "userId": "07194546442434465172"
     },
     "user_tz": -540
    },
    "id": "sPHLKyapOkbu",
    "outputId": "aaef1ec3-5853-4e10-8631-8f7b700ba13a"
   },
   "outputs": [
    {
     "data": {
      "text/plain": [
       "<Figure size 432x288 with 0 Axes>"
      ]
     },
     "metadata": {},
     "output_type": "display_data"
    },
    {
     "data": {
      "image/png": "[encoded data removed]",
      "text/plain": [
       "<Figure size 864x360 with 2 Axes>"
      ]
     },
     "metadata": {
      "needs_background": "light"
     },
     "output_type": "display_data"
    },
    {
     "name": "stdout",
     "output_type": "stream",
     "text": [
      "1    0.034788\n",
      "2    0.167220\n",
      "3    0.163647\n",
      "4    0.171217\n",
      "5    0.166794\n",
      "6    0.164498\n",
      "7    0.131836\n",
      "Name: members_in_household, dtype: float64\n",
      " \n",
      "members_in_household         1         2         3         4         5  \\\n",
      "response                                                                 \n",
      "0                     0.819071  0.837233  0.835239  0.831595  0.826109   \n",
      "1                     0.180929  0.162767  0.164761  0.168405  0.173891   \n",
      "\n",
      "members_in_household         6         7     total  \n",
      "response                                            \n",
      "0                     0.840745  0.836774  0.833971  \n",
      "1                     0.159255  0.163226  0.166029  \n"
     ]
    }
   ],
   "source": [
    "# members_in_household\n",
    "\n",
    "# hist_plot('members_in_household','response')\n",
    "bar_plot('members_in_household','response')\n",
    "\n",
    "## 빈도 \n",
    "## target 비율"
   ]
  },
  {
   "cell_type": "code",
   "execution_count": 52,
   "metadata": {
    "colab": {
     "base_uri": "https://localhost:8080/",
     "height": 410
    },
    "executionInfo": {
     "elapsed": 52,
     "status": "ok",
     "timestamp": 1663382054084,
     "user": {
      "displayName": "강현욱",
      "userId": "07194546442434465172"
     },
     "user_tz": -540
    },
    "id": "5HmZpxXdOvHT",
    "outputId": "21bc3b8a-5ee6-4846-c482-09511bb6a751"
   },
   "outputs": [
    {
     "data": {
      "text/plain": [
       "<Figure size 432x288 with 0 Axes>"
      ]
     },
     "metadata": {},
     "output_type": "display_data"
    },
    {
     "data": {
      "image/png": "[encoded data removed]",
      "text/plain": [
       "<Figure size 864x360 with 2 Axes>"
      ]
     },
     "metadata": {
      "needs_background": "light"
     },
     "output_type": "display_data"
    }
   ],
   "source": [
    "# months_current_account\n",
    "\n",
    "hist_plot('months_current_account','response')\n",
    "\n",
    "## 빈도 \n",
    "## target 비율"
   ]
  },
  {
   "cell_type": "code",
   "execution_count": 53,
   "metadata": {
    "colab": {
     "base_uri": "https://localhost:8080/",
     "height": 539
    },
    "executionInfo": {
     "elapsed": 539,
     "status": "ok",
     "timestamp": 1663382054581,
     "user": {
      "displayName": "강현욱",
      "userId": "07194546442434465172"
     },
     "user_tz": -540
    },
    "id": "LUaDmbjXO4c_",
    "outputId": "aac8b461-2244-4472-afef-2cc06dc2d37b"
   },
   "outputs": [
    {
     "data": {
      "text/plain": [
       "<Figure size 432x288 with 0 Axes>"
      ]
     },
     "metadata": {},
     "output_type": "display_data"
    },
    {
     "data": {
      "image/png": "[encoded data removed]",
      "text/plain": [
       "<Figure size 864x360 with 2 Axes>"
      ]
     },
     "metadata": {
      "needs_background": "light"
     },
     "output_type": "display_data"
    },
    {
     "name": "stdout",
     "output_type": "stream",
     "text": [
      "12    0.175300\n",
      "24    0.332057\n",
      "36    0.329166\n",
      "48    0.163477\n",
      "Name: months_customer, dtype: float64\n",
      " \n",
      "months_customer        12        24        36        48     total\n",
      "response                                                         \n",
      "0                0.836487  0.838627  0.834625  0.820499  0.833971\n",
      "1                0.163513  0.161373  0.165375  0.179501  0.166029\n"
     ]
    }
   ],
   "source": [
    "# months_customer\n",
    "\n",
    "# hist_plot('months_customer','response')\n",
    "bar_plot('months_customer','response')\n",
    "\n",
    "## 빈도 \n",
    "## target 비율"
   ]
  },
  {
   "cell_type": "code",
   "execution_count": 54,
   "metadata": {
    "colab": {
     "base_uri": "https://localhost:8080/",
     "height": 400
    },
    "executionInfo": {
     "elapsed": 723,
     "status": "ok",
     "timestamp": 1663382055279,
     "user": {
      "displayName": "강현욱",
      "userId": "07194546442434465172"
     },
     "user_tz": -540
    },
    "id": "j74KIpDzPH-f",
    "outputId": "7dbe102c-2b9b-407f-f1a6-9609a6641f00"
   },
   "outputs": [
    {
     "data": {
      "text/plain": [
       "<Figure size 432x288 with 0 Axes>"
      ]
     },
     "metadata": {},
     "output_type": "display_data"
    },
    {
     "data": {
      "image/png": "[encoded data removed]",
      "text/plain": [
       "<Figure size 864x360 with 2 Axes>"
      ]
     },
     "metadata": {
      "needs_background": "light"
     },
     "output_type": "display_data"
    }
   ],
   "source": [
    "# call_center_contacts\n",
    "\n",
    "hist_plot('call_center_contacts','response')\n",
    "\n",
    "## 빈도 \n",
    "## target 비율"
   ]
  },
  {
   "cell_type": "code",
   "execution_count": 55,
   "metadata": {
    "colab": {
     "base_uri": "https://localhost:8080/",
     "height": 696
    },
    "executionInfo": {
     "elapsed": 604,
     "status": "ok",
     "timestamp": 1663382055864,
     "user": {
      "displayName": "강현욱",
      "userId": "07194546442434465172"
     },
     "user_tz": -540
    },
    "id": "jSZoRS8dPRgE",
    "outputId": "b5e5f3ae-aa44-4583-d35c-7a3a2134cd77"
   },
   "outputs": [
    {
     "data": {
      "text/plain": [
       "<Figure size 432x288 with 0 Axes>"
      ]
     },
     "metadata": {},
     "output_type": "display_data"
    },
    {
     "data": {
      "image/png": "[encoded data removed]",
      "text/plain": [
       "<Figure size 864x360 with 2 Axes>"
      ]
     },
     "metadata": {
      "needs_background": "light"
     },
     "output_type": "display_data"
    },
    {
     "name": "stdout",
     "output_type": "stream",
     "text": [
      "0    0.435060\n",
      "1    0.291741\n",
      "2    0.124692\n",
      "3    0.076125\n",
      "4    0.045080\n",
      "5    0.013949\n",
      "6    0.003232\n",
      "7    0.010122\n",
      "Name: loan_accounts, dtype: float64\n",
      " \n",
      "loan_accounts         0        1         2         3        4         5  \\\n",
      "response                                                                  \n",
      "0              0.835386  0.84344  0.819918  0.830168  0.79434  0.865854   \n",
      "1              0.164614  0.15656  0.180082  0.169832  0.20566  0.134146   \n",
      "\n",
      "loan_accounts         6         7     total  \n",
      "response                                     \n",
      "0              0.763158  0.857143  0.833971  \n",
      "1              0.236842  0.142857  0.166029  \n"
     ]
    }
   ],
   "source": [
    "# loan_accounts\n",
    "\n",
    "# hist_plot('loan_accounts','response')\n",
    "bar_plot('loan_accounts','response')\n",
    "\n",
    "## 빈도 \n",
    "## target 비율"
   ]
  },
  {
   "cell_type": "code",
   "execution_count": 56,
   "metadata": {
    "colab": {
     "base_uri": "https://localhost:8080/",
     "height": 678
    },
    "executionInfo": {
     "elapsed": 43,
     "status": "ok",
     "timestamp": 1663382055867,
     "user": {
      "displayName": "강현욱",
      "userId": "07194546442434465172"
     },
     "user_tz": -540
    },
    "id": "6fjd-UcKPazA",
    "outputId": "8aa2b73d-5cc6-4e50-a670-f91ff4e60867"
   },
   "outputs": [
    {
     "data": {
      "text/plain": [
       "<Figure size 432x288 with 0 Axes>"
      ]
     },
     "metadata": {},
     "output_type": "display_data"
    },
    {
     "data": {
      "image/png": "[encoded data removed]",
      "text/plain": [
       "<Figure size 864x360 with 2 Axes>"
      ]
     },
     "metadata": {
      "needs_background": "light"
     },
     "output_type": "display_data"
    },
    {
     "name": "stdout",
     "output_type": "stream",
     "text": [
      "0    0.521051\n",
      "1    0.053670\n",
      "2    0.121885\n",
      "3    0.133708\n",
      "4    0.101897\n",
      "5    0.046270\n",
      "6    0.021519\n",
      "Name: number_products, dtype: float64\n",
      " \n",
      "number_products         0         1         2         3         4         5  \\\n",
      "response                                                                      \n",
      "0                0.983023  0.670365  0.666434  0.685751  0.688648  0.658088   \n",
      "1                0.016977  0.329635  0.333566  0.314249  0.311352  0.341912   \n",
      "\n",
      "number_products        6     total  \n",
      "response                            \n",
      "0                0.56917  0.833971  \n",
      "1                0.43083  0.166029  \n"
     ]
    }
   ],
   "source": [
    "# number_products\n",
    "\n",
    "# hist_plot('number_products','response')\n",
    "bar_plot('number_products','response')\n",
    "\n",
    "## 빈도 \n",
    "## target 비율"
   ]
  },
  {
   "cell_type": "code",
   "execution_count": 57,
   "metadata": {
    "colab": {
     "base_uri": "https://localhost:8080/",
     "height": 1000
    },
    "executionInfo": {
     "elapsed": 894,
     "status": "ok",
     "timestamp": 1663382056724,
     "user": {
      "displayName": "강현욱",
      "userId": "07194546442434465172"
     },
     "user_tz": -540
    },
    "id": "QlwKj16EPimJ",
    "outputId": "f822f531-6665-4319-cf12-4f75f67575ee"
   },
   "outputs": [
    {
     "data": {
      "text/plain": [
       "<Figure size 432x288 with 0 Axes>"
      ]
     },
     "metadata": {},
     "output_type": "display_data"
    },
    {
     "data": {
      "image/png": "[encoded data removed]",
      "text/plain": [
       "<Figure size 864x360 with 2 Axes>"
      ]
     },
     "metadata": {
      "needs_background": "light"
     },
     "output_type": "display_data"
    },
    {
     "name": "stdout",
     "output_type": "stream",
     "text": [
      "0     0.509994\n",
      "1     0.205665\n",
      "2     0.132006\n",
      "3     0.070341\n",
      "4     0.008591\n",
      "5     0.004593\n",
      "6     0.002722\n",
      "7     0.003742\n",
      "8     0.003147\n",
      "9     0.002892\n",
      "10    0.002211\n",
      "11    0.001871\n",
      "12    0.002637\n",
      "13    0.002807\n",
      "14    0.001871\n",
      "15    0.002552\n",
      "16    0.002892\n",
      "17    0.003487\n",
      "18    0.002892\n",
      "19    0.003147\n",
      "20    0.002637\n",
      "21    0.003232\n",
      "22    0.003317\n",
      "23    0.002977\n",
      "24    0.003062\n",
      "25    0.002041\n",
      "26    0.003062\n",
      "27    0.002977\n",
      "28    0.002637\n",
      "29    0.003232\n",
      "30    0.000510\n",
      "36    0.000085\n",
      "37    0.000085\n",
      "38    0.000085\n",
      "Name: number_transactions, dtype: float64\n",
      " \n",
      "number_transactions    0        1         2         3         4         5  \\\n",
      "response                                                                    \n",
      "0                    1.0  0.72043  0.700387  0.711004  0.742574  0.666667   \n",
      "1                    0.0  0.27957  0.299613  0.288996  0.257426  0.333333   \n",
      "\n",
      "number_transactions      6         7         8         9  ...    25        26  \\\n",
      "response                                                  ...                   \n",
      "0                    0.625  0.363636  0.405405  0.529412  ...  0.25  0.222222   \n",
      "1                    0.375  0.636364  0.594595  0.470588  ...  0.75  0.777778   \n",
      "\n",
      "number_transactions   27        28        29        30   36   37   38  \\\n",
      "response                                                                \n",
      "0                    0.2  0.258065  0.210526  0.166667  0.0  0.0  0.0   \n",
      "1                    0.8  0.741935  0.789474  0.833333  1.0  1.0  1.0   \n",
      "\n",
      "number_transactions     total  \n",
      "response                       \n",
      "0                    0.833971  \n",
      "1                    0.166029  \n",
      "\n",
      "[2 rows x 35 columns]\n"
     ]
    }
   ],
   "source": [
    "# number_transactions\n",
    "\n",
    "# hist_plot('number_transactions','response')\n",
    "bar_plot('number_transactions','response')\n",
    "\n",
    "## 빈도 \n",
    "## target 비율"
   ]
  },
  {
   "cell_type": "code",
   "execution_count": 58,
   "metadata": {
    "colab": {
     "base_uri": "https://localhost:8080/",
     "height": 407
    },
    "executionInfo": {
     "elapsed": 686,
     "status": "ok",
     "timestamp": 1663382057389,
     "user": {
      "displayName": "강현욱",
      "userId": "07194546442434465172"
     },
     "user_tz": -540
    },
    "id": "d3i085HWPq4J",
    "outputId": "45c118b8-93e0-4d62-e548-aa55d632731a"
   },
   "outputs": [
    {
     "data": {
      "text/plain": [
       "<Figure size 432x288 with 0 Axes>"
      ]
     },
     "metadata": {},
     "output_type": "display_data"
    },
    {
     "data": {
      "image/png": "[encoded data removed]",
      "text/plain": [
       "<Figure size 864x360 with 2 Axes>"
      ]
     },
     "metadata": {
      "needs_background": "light"
     },
     "output_type": "display_data"
    }
   ],
   "source": [
    "#  non_worker_percentage\n",
    "\n",
    "hist_plot('non_worker_percentage','response')\n",
    "\n",
    "## 빈도 \n",
    "## target 비율"
   ]
  },
  {
   "cell_type": "code",
   "execution_count": 59,
   "metadata": {
    "colab": {
     "base_uri": "https://localhost:8080/",
     "height": 409
    },
    "executionInfo": {
     "elapsed": 489,
     "status": "ok",
     "timestamp": 1663382057859,
     "user": {
      "displayName": "강현욱",
      "userId": "07194546442434465172"
     },
     "user_tz": -540
    },
    "id": "Hp-IDn5oQDjm",
    "outputId": "cf3eea0d-20e2-425b-af49-ee2fe96cf7a2"
   },
   "outputs": [
    {
     "data": {
      "text/plain": [
       "<Figure size 432x288 with 0 Axes>"
      ]
     },
     "metadata": {},
     "output_type": "display_data"
    },
    {
     "data": {
      "image/png": "[encoded data removed]",
      "text/plain": [
       "<Figure size 864x360 with 2 Axes>"
      ]
     },
     "metadata": {
      "needs_background": "light"
     },
     "output_type": "display_data"
    }
   ],
   "source": [
    "#  white_collar_percentage\n",
    "\n",
    "hist_plot('white_collar_percentage','response')\n",
    "\n",
    "## 빈도 \n",
    "## target 비율"
   ]
  },
  {
   "cell_type": "code",
   "execution_count": 51,
   "metadata": {
    "colab": {
     "base_uri": "https://localhost:8080/",
     "height": 429
    },
    "executionInfo": {
     "elapsed": 521,
     "status": "ok",
     "timestamp": 1663382058366,
     "user": {
      "displayName": "강현욱",
      "userId": "07194546442434465172"
     },
     "user_tz": -540
    },
    "id": "wd5NRXHWQLoW",
    "outputId": "b4d49dec-ddda-4838-8597-dcdb68421bab"
   },
   "outputs": [
    {
     "data": {
      "text/plain": [
       "<Figure size 432x288 with 0 Axes>"
      ]
     },
     "metadata": {},
     "output_type": "display_data"
    },
    {
     "data": {
      "image/png": "[encoded data removed]",
      "text/plain": [
       "<Figure size 864x360 with 2 Axes>"
      ]
     },
     "metadata": {},
     "output_type": "display_data"
    }
   ],
   "source": [
    "#  rfm_score\n",
    "\n",
    "hist_plot('rfm_score','response')\n",
    "# bar_plot('rfm_score','response')\n",
    "\n",
    "## 빈도 \n",
    "## target 비율"
   ]
  },
  {
   "cell_type": "code",
   "execution_count": 52,
   "metadata": {
    "colab": {
     "base_uri": "https://localhost:8080/",
     "height": 517
    },
    "executionInfo": {
     "elapsed": 17,
     "status": "ok",
     "timestamp": 1663382058368,
     "user": {
      "displayName": "강현욱",
      "userId": "07194546442434465172"
     },
     "user_tz": -540
    },
    "id": "0edCZ-vtQboe",
    "outputId": "836721db-ffb1-43b0-fcd5-652f4890c078"
   },
   "outputs": [
    {
     "data": {
      "text/plain": [
       "<Figure size 432x288 with 0 Axes>"
      ]
     },
     "metadata": {},
     "output_type": "display_data"
    },
    {
     "data": {
      "image/png": "[encoded data removed]",
      "text/plain": [
       "<Figure size 864x360 with 2 Axes>"
      ]
     },
     "metadata": {},
     "output_type": "display_data"
    },
    {
     "name": "stdout",
     "output_type": "stream",
     "text": [
      "M    0.263588\n",
      "S    0.472059\n",
      "U    0.264353\n",
      "Name: marital, dtype: float64\n",
      " \n",
      "marital          M         S         U     total\n",
      "response                                        \n",
      "0         0.838012  0.837658  0.823359  0.833971\n",
      "1         0.161988  0.162342  0.176641  0.166029\n"
     ]
    }
   ],
   "source": [
    "# marital\n",
    "\n",
    "# hist_plot('rfm_score','response')\n",
    "bar_plot('marital','response')\n",
    "\n",
    "## 빈도 \n",
    "## target 비율"
   ]
  },
  {
   "cell_type": "markdown",
   "metadata": {
    "id": "1w7chdtDkbJ_"
   },
   "source": [
    "## 5.정리 #####\n",
    "#### 1) 데이터를 tidy 한 형태로 구성  (의미있는 변수 파악, 추가적인 변수 생성등 (의미없는것들의 조합이 의미 있을수있을까? 등) 의 고민연속)\n",
    "#### 2) campaign 2 번 데이터 사용 \n",
    "#### 3) 이상치를 제외후 사용할 수 있으나 데이터수가 적고 의미를 파악하기 어려워 변수를 제외       "
   ]
  },
  {
   "cell_type": "markdown",
   "metadata": {
    "id": "4fm2M6FOC4Z8"
   },
   "source": [
    "## *6*. 모델링 \n"
   ]
  },
  {
   "cell_type": "markdown",
   "metadata": {
    "id": "iFoIouZbvPgR"
   },
   "source": [
    "### 6.1 모델링을 의한 데이터 선택"
   ]
  },
  {
   "cell_type": "code",
   "execution_count": 60,
   "metadata": {
    "id": "VWfDydL7lXE0"
   },
   "outputs": [],
   "source": [
    "# 모델에 사용할 데이터 선택 \n",
    "dataset.reset_index(inplace =True)\n",
    "dataset_for_ml =dataset[['response','age','age_youngest_child','average_balance_feed_index','debt_equity','gender','bad_payment',\n",
    "                         'gold_card','pension_plan','household_debt_to_equity_ratio','income','marital','members_in_household',\n",
    "                         'months_current_account','months_current_account','months_customer','call_center_contacts','loan_accounts',\n",
    "                         'number_products','number_transactions','non_worker_percentage','white_collar_percentage','X_random']]"
   ]
  },
  {
   "cell_type": "code",
   "execution_count": null,
   "metadata": {
    "id": "oBHxpuQ3vmaX"
   },
   "outputs": [],
   "source": []
  },
  {
   "cell_type": "markdown",
   "metadata": {
    "id": "dE48C1fGvdTz"
   },
   "source": [
    "### 6.2 문자형 변수 더미변수로 변환 "
   ]
  },
  {
   "cell_type": "code",
   "execution_count": 61,
   "metadata": {
    "colab": {
     "base_uri": "https://localhost:8080/"
    },
    "executionInfo": {
     "elapsed": 40,
     "status": "ok",
     "timestamp": 1663382058922,
     "user": {
      "displayName": "강현욱",
      "userId": "07194546442434465172"
     },
     "user_tz": -540
    },
    "id": "S-iOdV0TvZul",
    "outputId": "7ffef0c5-43e8-4eff-ebd9-db07100a6696"
   },
   "outputs": [
    {
     "name": "stdout",
     "output_type": "stream",
     "text": [
      "<class 'pandas.core.frame.DataFrame'>\n",
      "RangeIndex: 11757 entries, 0 to 11756\n",
      "Data columns (total 26 columns):\n",
      " #   Column                          Non-Null Count  Dtype  \n",
      "---  ------                          --------------  -----  \n",
      " 0   response                        11757 non-null  int64  \n",
      " 1   age                             11757 non-null  int64  \n",
      " 2   age_youngest_child              11757 non-null  int64  \n",
      " 3   average_balance_feed_index      11757 non-null  int64  \n",
      " 4   debt_equity                     11757 non-null  int64  \n",
      " 5   bad_payment                     11757 non-null  int64  \n",
      " 6   gold_card                       11757 non-null  int64  \n",
      " 7   pension_plan                    11757 non-null  int64  \n",
      " 8   household_debt_to_equity_ratio  11757 non-null  int64  \n",
      " 9   income                          11757 non-null  float64\n",
      " 10  members_in_household            11757 non-null  int64  \n",
      " 11  months_current_account          11757 non-null  int64  \n",
      " 12  months_current_account          11757 non-null  int64  \n",
      " 13  months_customer                 11757 non-null  int64  \n",
      " 14  call_center_contacts            11757 non-null  int64  \n",
      " 15  loan_accounts                   11757 non-null  int64  \n",
      " 16  number_products                 11757 non-null  int64  \n",
      " 17  number_transactions             11757 non-null  int64  \n",
      " 18  non_worker_percentage           11757 non-null  int64  \n",
      " 19  white_collar_percentage         11757 non-null  int64  \n",
      " 20  X_random                        11757 non-null  int64  \n",
      " 21  gender_F                        11757 non-null  uint8  \n",
      " 22  gender_M                        11757 non-null  uint8  \n",
      " 23  marital_M                       11757 non-null  uint8  \n",
      " 24  marital_S                       11757 non-null  uint8  \n",
      " 25  marital_U                       11757 non-null  uint8  \n",
      "dtypes: float64(1), int64(20), uint8(5)\n",
      "memory usage: 1.9 MB\n"
     ]
    }
   ],
   "source": [
    "#one hot encoding\n",
    "\n",
    "dataset_for_ml_dm = pd.get_dummies(dataset_for_ml)\n",
    "## 명목형변수(카테고리형 변수) 더미변수화하여 사용\n",
    "## dataset_for_ml 안에 있는 명목형 변수는 모두 더미변수로 \n",
    "dataset_for_ml_dm.info()\n"
   ]
  },
  {
   "cell_type": "markdown",
   "metadata": {
    "id": "qkvkQ8D8C_yq"
   },
   "source": [
    "### 6.3 학습 확인 데이터 셋 분리"
   ]
  },
  {
   "cell_type": "code",
   "execution_count": 62,
   "metadata": {
    "colab": {
     "base_uri": "https://localhost:8080/"
    },
    "executionInfo": {
     "elapsed": 37,
     "status": "ok",
     "timestamp": 1663382058923,
     "user": {
      "displayName": "강현욱",
      "userId": "07194546442434465172"
     },
     "user_tz": -540
    },
    "id": "SdKJgbpgWHg6",
    "outputId": "31b338cd-6fb6-48ab-fdd2-83118045b7ae"
   },
   "outputs": [
    {
     "name": "stdout",
     "output_type": "stream",
     "text": [
      "X_train shape:  (7792, 24)\n",
      "X_test shape:  (3965, 24)\n",
      "y_train shape:  (7792,)\n",
      "y_test shape:  (3965,)\n"
     ]
    }
   ],
   "source": [
    "## 새로운 데이터로 했을떄 얼마나 잘 맞는지 확인하고 싶기때문에 \n",
    "## 학습데이터, 실습데이터 나누고,\n",
    "## 학습에 사용되지 않은 데이터로 공정하게 검증함\n",
    "## 실무에서는 데이터가 많지 않기때문에 7:3 or 8:2 (최대한 학습 많이 하게 됨)\n",
    "\n",
    "# 전체를 랜덤하게 나눈법 \n",
    "# x_train,x_test,y_train,y_test = train_test_split(X,y,test_size=0.3,random_state=0) \n",
    "\n",
    "# 변수로 들어있는 X_random 사용\n",
    "X_train = dataset_for_ml_dm[dataset_for_ml_dm['X_random'] <= 2].drop(['X_random','response'], axis =1 )\n",
    "X_test = dataset_for_ml_dm[dataset_for_ml_dm['X_random'] > 2].drop(['X_random','response'], axis =1 )\n",
    "y_train = dataset_for_ml_dm[dataset_for_ml_dm['X_random']<= 2].response\n",
    "y_test = dataset_for_ml_dm[dataset_for_ml_dm['X_random']> 2].response\n",
    "\n",
    "print(\"X_train shape: \", X_train.shape)\n",
    "print(\"X_test shape: \", X_test.shape)\n",
    "print(\"y_train shape: \", y_train.shape)\n",
    "print(\"y_test shape: \", y_test.shape)"
   ]
  },
  {
   "cell_type": "markdown",
   "metadata": {
    "id": "rtLrPeo1OSWc"
   },
   "source": [
    "### 6.4 모델 학습 및 평가"
   ]
  },
  {
   "cell_type": "code",
   "execution_count": 63,
   "metadata": {
    "colab": {
     "base_uri": "https://localhost:8080/",
     "height": 363
    },
    "executionInfo": {
     "elapsed": 760,
     "status": "ok",
     "timestamp": 1663382059657,
     "user": {
      "displayName": "강현욱",
      "userId": "07194546442434465172"
     },
     "user_tz": -540
    },
    "id": "u3PgtY6HvLBB",
    "outputId": "583dc2bc-c1da-407f-be4c-b78270615b31"
   },
   "outputs": [
    {
     "data": {
      "text/html": [
       "<div>\n",
       "<style scoped>\n",
       "    .dataframe tbody tr th:only-of-type {\n",
       "        vertical-align: middle;\n",
       "    }\n",
       "\n",
       "    .dataframe tbody tr th {\n",
       "        vertical-align: top;\n",
       "    }\n",
       "\n",
       "    .dataframe thead th {\n",
       "        text-align: right;\n",
       "    }\n",
       "</style>\n",
       "<table border=\"1\" class=\"dataframe\">\n",
       "  <thead>\n",
       "    <tr style=\"text-align: right;\">\n",
       "      <th></th>\n",
       "      <th>pred</th>\n",
       "      <th>real</th>\n",
       "    </tr>\n",
       "  </thead>\n",
       "  <tbody>\n",
       "    <tr>\n",
       "      <th>3</th>\n",
       "      <td>0</td>\n",
       "      <td>0</td>\n",
       "    </tr>\n",
       "    <tr>\n",
       "      <th>6</th>\n",
       "      <td>0</td>\n",
       "      <td>0</td>\n",
       "    </tr>\n",
       "    <tr>\n",
       "      <th>11</th>\n",
       "      <td>0</td>\n",
       "      <td>0</td>\n",
       "    </tr>\n",
       "    <tr>\n",
       "      <th>12</th>\n",
       "      <td>0</td>\n",
       "      <td>0</td>\n",
       "    </tr>\n",
       "    <tr>\n",
       "      <th>16</th>\n",
       "      <td>0</td>\n",
       "      <td>1</td>\n",
       "    </tr>\n",
       "    <tr>\n",
       "      <th>17</th>\n",
       "      <td>0</td>\n",
       "      <td>0</td>\n",
       "    </tr>\n",
       "    <tr>\n",
       "      <th>21</th>\n",
       "      <td>0</td>\n",
       "      <td>0</td>\n",
       "    </tr>\n",
       "    <tr>\n",
       "      <th>22</th>\n",
       "      <td>0</td>\n",
       "      <td>0</td>\n",
       "    </tr>\n",
       "    <tr>\n",
       "      <th>29</th>\n",
       "      <td>0</td>\n",
       "      <td>0</td>\n",
       "    </tr>\n",
       "    <tr>\n",
       "      <th>35</th>\n",
       "      <td>0</td>\n",
       "      <td>0</td>\n",
       "    </tr>\n",
       "  </tbody>\n",
       "</table>\n",
       "</div>"
      ],
      "text/plain": [
       "    pred  real\n",
       "3      0     0\n",
       "6      0     0\n",
       "11     0     0\n",
       "12     0     0\n",
       "16     0     1\n",
       "17     0     0\n",
       "21     0     0\n",
       "22     0     0\n",
       "29     0     0\n",
       "35     0     0"
      ]
     },
     "execution_count": 63,
     "metadata": {},
     "output_type": "execute_result"
    }
   ],
   "source": [
    "# RandomForest\n",
    "\n",
    "model = RandomForestClassifier(n_estimators = 100, random_state=0) # 100번 반복, 초기값 고정(random_state)\n",
    "model.fit(X_train, y_train) # 학습 with X_train, y_train\n",
    "\n",
    "\n",
    "y_pred = model.predict(X_test) # X_test 로 y 예측값 만들기\n",
    "\n",
    "result = pd.DataFrame({'pred' : y_pred, 'real' : y_test}) # 예측값 vs 실제값 비교\n",
    "\n",
    "result.head(10)"
   ]
  },
  {
   "cell_type": "code",
   "execution_count": 64,
   "metadata": {
    "colab": {
     "base_uri": "https://localhost:8080/"
    },
    "executionInfo": {
     "elapsed": 46,
     "status": "ok",
     "timestamp": 1663382059662,
     "user": {
      "displayName": "강현욱",
      "userId": "07194546442434465172"
     },
     "user_tz": -540
    },
    "id": "Zd4tvE_6WHg-",
    "outputId": "f039f091-d4fa-4339-97d6-1c5597c33805"
   },
   "outputs": [
    {
     "name": "stdout",
     "output_type": "stream",
     "text": [
      "Model accuracy : 0.9102\n"
     ]
    }
   ],
   "source": [
    "# 정확도 확인(얼마나 잘 맞췄는지 확인)\n",
    "print('Model accuracy : {0:0.4f}'. format(accuracy_score(y_test, y_pred)))"
   ]
  },
  {
   "cell_type": "markdown",
   "metadata": {
    "id": "j3uPf4FCOk2x"
   },
   "source": [
    "### 6.5 하이퍼 마라메터 튜닝 "
   ]
  },
  {
   "cell_type": "code",
   "execution_count": 65,
   "metadata": {
    "colab": {
     "base_uri": "https://localhost:8080/"
    },
    "executionInfo": {
     "elapsed": 34576,
     "status": "ok",
     "timestamp": 1663382094200,
     "user": {
      "displayName": "강현욱",
      "userId": "07194546442434465172"
     },
     "user_tz": -540
    },
    "id": "sPmfUmgA4Lub",
    "outputId": "0e4130a8-441a-49db-efef-3ed673baa9a3"
   },
   "outputs": [
    {
     "name": "stdout",
     "output_type": "stream",
     "text": [
      "Fitting 3 folds for each of 8 candidates, totalling 24 fits\n",
      "best parameters :  {'max_features': 'log2', 'n_estimators': 100}\n",
      "best score :  0.7831158986173522\n"
     ]
    }
   ],
   "source": [
    "# GridSearchCV의 param_grid 설정\n",
    "# 찾고자 하는 parameter 정의 \n",
    "\n",
    "params = {\n",
    "    'n_estimators': [100, 150, 200, 250], # 반복 횟수 100번, 150번, 200번, 250번 으로 돌려봐\n",
    "    #'max_depth': [6, 9] # 트리 깊이 설정\n",
    "    #'min_samples_split': [0.01, 0.05, 0.1], \n",
    "    'max_features': ['auto', 'log2'], #변수를 몇개 자동으로 뽑을래? log2로 뽑아서 샘플링 할래?\n",
    "         }\n",
    "\n",
    "### 4번(100,150,200,250) * 2번(auto, log2) = 총 8번 돌려짐\n",
    "\n",
    "\n",
    "# 사용하고자 하는 모델 정의\n",
    "rtc = RandomForestClassifier()\n",
    "\n",
    "# n_jobs=-1 -> 모든 코어 사용 (속도빨라짐) \n",
    "# verbose로 log 출력의 level을 조정 (숫자가 클 수록 많은 log 출력) \n",
    "grid_tree = GridSearchCV(rtc, param_grid=params, cv=3,\n",
    "                           n_jobs=-1,verbose=2) \n",
    "grid_tree.fit(X_train, y_train)\n",
    "\n",
    "grid_tree.best_params_\n",
    "\n",
    "print('best parameters : ', grid_tree.best_params_)\n",
    "print('best score : ', grid_tree.best_score_)\n",
    "\n",
    "\n",
    "\n",
    "# RandomForest : 파라미터 튜닝에 잘 안해도 민감하지 않음 (변수, 파라미터 등을 랜덤으로 잘 뽑음)\n",
    "# XGboost 도 정확도(파라미터튜닝 많이할경우), 랜덤포레스트: 안정적 \n",
    "# --> 시간 있으면 XGboost 도 괜찮지만, 거의 랜덤포레스트로 돌리면 잘 나옴(평타 이상)"
   ]
  },
  {
   "cell_type": "markdown",
   "metadata": {
    "id": "vHyPx1YzOv8j"
   },
   "source": [
    "### 6.6 최종 모델 선택 "
   ]
  },
  {
   "cell_type": "code",
   "execution_count": 66,
   "metadata": {
    "id": "Yppq4RoK5UFE"
   },
   "outputs": [
    {
     "name": "stdout",
     "output_type": "stream",
     "text": [
      "       pred  real\n",
      "3         0     0\n",
      "6         0     0\n",
      "11        0     0\n",
      "12        0     0\n",
      "16        0     1\n",
      "...     ...   ...\n",
      "11748     0     0\n",
      "11749     0     0\n",
      "11753     0     0\n",
      "11755     0     0\n",
      "11756     0     0\n",
      "\n",
      "[3965 rows x 2 columns]\n"
     ]
    }
   ],
   "source": [
    "model = RandomForestClassifier(n_estimators = 100,max_features= 'log2', random_state=0)\n",
    "model.fit(X_train, y_train)\n",
    "\n",
    "y_pred = model.predict(X_test)\n",
    "\n",
    "result = pd.DataFrame({'pred' : y_pred, 'real' : y_test})\n",
    "print(result)"
   ]
  },
  {
   "cell_type": "markdown",
   "metadata": {
    "id": "mJ2py39gO6a5"
   },
   "source": [
    "### 6.7 최종 지표 확인 "
   ]
  },
  {
   "cell_type": "code",
   "execution_count": 61,
   "metadata": {
    "colab": {
     "base_uri": "https://localhost:8080/"
    },
    "executionInfo": {
     "elapsed": 31,
     "status": "ok",
     "timestamp": 1663382096024,
     "user": {
      "displayName": "강현욱",
      "userId": "07194546442434465172"
     },
     "user_tz": -540
    },
    "id": "C7O3_ggEyC-8",
    "outputId": "29895dff-db7c-49b5-d29c-c998b3aeb32a"
   },
   "outputs": [
    {
     "name": "stdout",
     "output_type": "stream",
     "text": [
      "              precision    recall  f1-score   support\n",
      "\n",
      "           0       0.91      0.99      0.95      3293\n",
      "           1       0.93      0.51      0.66       672\n",
      "\n",
      "    accuracy                           0.91      3965\n",
      "   macro avg       0.92      0.75      0.80      3965\n",
      "weighted avg       0.91      0.91      0.90      3965\n",
      "\n"
     ]
    }
   ],
   "source": [
    "# confusion matrix 확인 \n",
    "from sklearn.metrics import classification_report\n",
    "\n",
    "print(classification_report(y_test, y_pred))\n",
    "\n",
    "## 대부분 weighted_avg 의 precision, recall, f1-score, support 값으로 모델 평가"
   ]
  },
  {
   "cell_type": "markdown",
   "metadata": {},
   "source": [
    "- precision: 반응 x -> 진짜 반응 x : 91%\n",
    "- 전체 반응 x -> 얼마나 예측? : 99%\n",
    "- support : 예측한 반응 X 사람들\n",
    "- accuracy : 91% 맞춤\n",
    "- weighted avg : 전체중에서 맞춘 비율(91%), 얼마나예측(91%), "
   ]
  },
  {
   "cell_type": "code",
   "execution_count": null,
   "metadata": {},
   "outputs": [],
   "source": [
    "# 각 모델 평가할때 roc curve 확인(평가지표)\n",
    "- 정확도 확인 & 초기스코어부터 정확도 확인"
   ]
  },
  {
   "cell_type": "code",
   "execution_count": 67,
   "metadata": {},
   "outputs": [],
   "source": [
    "import warnings\n",
    "warnings.filterwarnings('ignore')"
   ]
  },
  {
   "cell_type": "code",
   "execution_count": 69,
   "metadata": {
    "colab": {
     "base_uri": "https://localhost:8080/",
     "height": 547
    },
    "executionInfo": {
     "elapsed": 569,
     "status": "error",
     "timestamp": 1663382096583,
     "user": {
      "displayName": "강현욱",
      "userId": "07194546442434465172"
     },
     "user_tz": -540
    },
    "id": "GbkyoOkg0xRv",
    "outputId": "74fe67c0-be5a-4106-fc45-f1dfd0527003"
   },
   "outputs": [
    {
     "data": {
      "image/png": "[encoded data removed]",
      "text/plain": [
       "<Figure size 432x288 with 1 Axes>"
      ]
     },
     "metadata": {
      "needs_background": "light"
     },
     "output_type": "display_data"
    },
    {
     "name": "stdout",
     "output_type": "stream",
     "text": [
      "test_AUC :  0.9115112052260927\n"
     ]
    }
   ],
   "source": [
    "# roc cruve 확인\n",
    "from sklearn import metrics\n",
    "\n",
    "metrics.plot_roc_curve(model, X_test, y_test) \n",
    "plt.plot([0,1], [0,1], \"k--\", \"r+\")\n",
    "plt.xlabel('False Positive Rate')\n",
    "plt.ylabel('True Positive Rate')\n",
    "plt.title('RandomForest ROC curve')\n",
    "plt.show()\n",
    "print(\"test_AUC : \", metrics.roc_auc_score(y_test, model.predict_proba(X_test)[:,1]))"
   ]
  },
  {
   "cell_type": "code",
   "execution_count": 70,
   "metadata": {
    "colab": {
     "base_uri": "https://localhost:8080/"
    },
    "executionInfo": {
     "elapsed": 338,
     "status": "ok",
     "timestamp": 1663356431642,
     "user": {
      "displayName": "강현욱",
      "userId": "07194546442434465172"
     },
     "user_tz": -540
    },
    "id": "jtJQoloszaAA",
    "outputId": "4ca7f6cd-637d-429e-e417-aa70b529f71a"
   },
   "outputs": [
    {
     "data": {
      "text/plain": [
       "income                            0.338930\n",
       "number_transactions               0.106101\n",
       "average_balance_feed_index        0.104794\n",
       "number_products                   0.074997\n",
       "white_collar_percentage           0.038301\n",
       "household_debt_to_equity_ratio    0.036325\n",
       "months_current_account            0.034548\n",
       "debt_equity                       0.034164\n",
       "non_worker_percentage             0.033679\n",
       "age                               0.033585\n",
       "months_current_account            0.032488\n",
       "age_youngest_child                0.029853\n",
       "members_in_household              0.023571\n",
       "loan_accounts                     0.019473\n",
       "call_center_contacts              0.015869\n",
       "months_customer                   0.009431\n",
       "gender_M                          0.006459\n",
       "gender_F                          0.006322\n",
       "marital_U                         0.005672\n",
       "marital_S                         0.005433\n",
       "marital_M                         0.005153\n",
       "gold_card                         0.003916\n",
       "pension_plan                      0.000794\n",
       "bad_payment                       0.000144\n",
       "dtype: float64"
      ]
     },
     "execution_count": 70,
     "metadata": {},
     "output_type": "execute_result"
    }
   ],
   "source": [
    "# Feature별 importance 확인(참고만, 절대적이진 않음)\n",
    "feature_scores = pd.Series(model.feature_importances_, index=X_train.columns).sort_values(ascending=False)\n",
    "feature_scores"
   ]
  },
  {
   "cell_type": "markdown",
   "metadata": {
    "id": "aDr5lKBXSL2J"
   },
   "source": [
    "## 한번 해보기 \n",
    "\n",
    "*  구매를 target(label)을 기반으로 모델을 만들어 보기 "
   ]
  },
  {
   "cell_type": "markdown",
   "metadata": {
    "id": "2FXGQmyX_N7R"
   },
   "source": []
  }
 ],
 "metadata": {
  "colab": {
   "provenance": [],
   "toc_visible": true
  },
  "kernelspec": {
   "display_name": "Python 3 (ipykernel)",
   "language": "python",
   "name": "python3"
  },
  "language_info": {
   "codemirror_mode": {
    "name": "ipython",
    "version": 3
   },
   "file_extension": ".py",
   "mimetype": "text/x-python",
   "name": "python",
   "nbconvert_exporter": "python",
   "pygments_lexer": "ipython3",
   "version": "3.9.12"
  }
 },
 "nbformat": 4,
 "nbformat_minor": 1
}
